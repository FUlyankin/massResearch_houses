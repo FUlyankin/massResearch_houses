{
 "cells": [
  {
   "cell_type": "markdown",
   "metadata": {},
   "source": [
    "## Объединение сырых ссылок в один общий файл"
   ]
  },
  {
   "cell_type": "code",
   "execution_count": 1,
   "metadata": {},
   "outputs": [],
   "source": [
    "import pickle\n",
    "import collections"
   ]
  },
  {
   "cell_type": "code",
   "execution_count": 2,
   "metadata": {},
   "outputs": [
    {
     "data": {
      "text/plain": [
       "'/Users/fulyankin/Documents/massResearch_houses'"
      ]
     },
     "execution_count": 2,
     "metadata": {},
     "output_type": "execute_result"
    }
   ],
   "source": [
    "pwd"
   ]
  },
  {
   "cell_type": "code",
   "execution_count": 3,
   "metadata": {},
   "outputs": [
    {
     "data": {
      "text/plain": [
       "['CAO.pickle',\n",
       " 'CЗAO.pickle',\n",
       " 'data_1room.pickle',\n",
       " 'data_1room_first.pickle',\n",
       " 'data_2room.pickle',\n",
       " 'data_2room_first.pickle',\n",
       " 'data_3room.pickle',\n",
       " 'data_4room.pickle',\n",
       " 'data_5room.pickle',\n",
       " 'data_6room.pickle',\n",
       " 'data_7room.pickle',\n",
       " 'data_8.pickle',\n",
       " 'data_9room.pickle',\n",
       " 'data_D.pickle',\n",
       " 'data_N.pickle',\n",
       " 'data_zao.pickle',\n",
       " 'sao_5district.pickle',\n",
       " 'TAO.pickle',\n",
       " 'uao_9district.pickle',\n",
       " 'UZAO_10district.pickle']"
      ]
     },
     "execution_count": 3,
     "metadata": {},
     "output_type": "execute_result"
    }
   ],
   "source": [
    "import os\n",
    "\n",
    "path_to_directory = '/Users/fulyankin/Documents/massResearch_houses/href_data_raw'\n",
    "files =  os.listdir(path_to_directory)\n",
    "\n",
    "files = [item for item in files if '.pickle' in item]\n",
    "files"
   ]
  },
  {
   "cell_type": "code",
   "execution_count": 5,
   "metadata": {},
   "outputs": [
    {
     "name": "stdout",
     "output_type": "stream",
     "text": [
      "120444 73924\n"
     ]
    }
   ],
   "source": [
    "hrefs_real = [ ]\n",
    "\n",
    "for file in files:\n",
    "    with open('href_data_raw/' + file, 'rb') as f:\n",
    "        data_new = pickle.load(f)\n",
    "    \n",
    "    if str(type(data_new)) == \"<class 'collections.defaultdict'>\":\n",
    "        hrefs = []\n",
    "        for k,v in data_new.items():\n",
    "            hrefs.extend(v) \n",
    "        hrefs_real += list(set(hrefs))\n",
    "    else:\n",
    "        hrefs_real += data_new # Файлы Димы\n",
    "        \n",
    "print(len(hrefs_real), len(set(hrefs_real)))\n",
    "\n",
    "hrefs_real = list(set(hrefs_real))"
   ]
  },
  {
   "cell_type": "code",
   "execution_count": 7,
   "metadata": {},
   "outputs": [],
   "source": [
    "# осторожнее с именами файлов! случайно можно перезаписать готовый :( \n",
    "with open('hrefs_total.pickle', 'wb') as f:\n",
    "    pickle.dump(hrefs_real, f)"
   ]
  },
  {
   "cell_type": "code",
   "execution_count": null,
   "metadata": {},
   "outputs": [],
   "source": []
  },
  {
   "cell_type": "code",
   "execution_count": null,
   "metadata": {},
   "outputs": [],
   "source": []
  }
 ],
 "metadata": {
  "kernelspec": {
   "display_name": "Python 3",
   "language": "python",
   "name": "python3"
  },
  "language_info": {
   "codemirror_mode": {
    "name": "ipython",
    "version": 3
   },
   "file_extension": ".py",
   "mimetype": "text/x-python",
   "name": "python",
   "nbconvert_exporter": "python",
   "pygments_lexer": "ipython3",
   "version": "3.7.2"
  }
 },
 "nbformat": 4,
 "nbformat_minor": 2
}
