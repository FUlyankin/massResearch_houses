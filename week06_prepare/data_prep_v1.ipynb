{
 "cells": [
  {
   "cell_type": "markdown",
   "metadata": {},
   "source": [
    "# Подгрузка"
   ]
  },
  {
   "cell_type": "code",
   "execution_count": 9,
   "metadata": {},
   "outputs": [
    {
     "data": {
      "text/plain": [
       "['info_0_10000.pickle',\n",
       " 'info_10001_10096.pickle',\n",
       " 'info_10096_11657.pickle',\n",
       " 'info_11657_11900.pickle',\n",
       " 'info_11900_11959.pickle',\n",
       " 'info_11959_12645.pickle',\n",
       " 'info_12646_12796.pickle',\n",
       " 'info_12797_13564.pickle',\n",
       " 'info_13565_14017.pickle',\n",
       " 'info_14018_15071.pickle',\n",
       " 'info_15072_17924.pickle',\n",
       " 'info_17925_18898.pickle',\n",
       " 'info_18899_19416.pickle',\n",
       " 'info_19417_19755.pickle',\n",
       " 'info_19756_21105.pickle',\n",
       " 'info_25000_25664.pickle',\n",
       " 'info_25664_26397.pickle',\n",
       " 'info_26397_26496.pickle',\n",
       " 'info_26496_26556.pickle',\n",
       " 'info_26556_26624.pickle',\n",
       " 'info_26624_26768.pickle',\n",
       " 'info_26768_26836.pickle',\n",
       " 'info_26836_26916.pickle',\n",
       " 'info_26917_26961.pickle',\n",
       " 'info_26961_27020.pickle',\n",
       " 'info_27020_27183.pickle',\n",
       " 'info_27183_27714.pickle',\n",
       " 'info_27714_27894.pickle',\n",
       " 'info_27894_28019.pickle',\n",
       " 'info_28019_28269.pickle',\n",
       " 'info_28269_28361.pickle',\n",
       " 'info_28361_28587.pickle',\n",
       " 'info_28587_28640.pickle',\n",
       " 'info_28640_29001.pickle',\n",
       " 'info_29001_29129.pickle',\n",
       " 'info_29129_29188.pickle',\n",
       " 'info_29188_29291.pickle',\n",
       " 'info_29291_29713.pickle',\n",
       " 'info_29713_29848.pickle',\n",
       " 'info_29848_30000.pickle',\n",
       " 'info_30000_40000.pickle',\n",
       " 'info_40000_45000.pickle',\n",
       " 'info_45000_50000.pickle',\n",
       " 'info_50000_55000.pickle',\n",
       " 'info_60000_70000.pickle',\n",
       " 'info_70000.pickle']"
      ]
     },
     "execution_count": 9,
     "metadata": {},
     "output_type": "execute_result"
    }
   ],
   "source": [
    "import pickle\n",
    "import os\n",
    "\n",
    "path_to_directory = 'parser/data'\n",
    "files =  os.listdir(path_to_directory)\n",
    "\n",
    "files = [item for item in files if '.pickle' in item]\n",
    "files"
   ]
  },
  {
   "cell_type": "code",
   "execution_count": 11,
   "metadata": {},
   "outputs": [],
   "source": [
    "data_real = [ ]\n",
    "\n",
    "for file in files:\n",
    "    with open('parser/data/' + file, 'rb') as f:\n",
    "        data_new = pickle.load(f)\n",
    "        data_real.extend(data_new)"
   ]
  },
  {
   "cell_type": "markdown",
   "metadata": {},
   "source": [
    "# Предобработка данных"
   ]
  },
  {
   "cell_type": "code",
   "execution_count": 12,
   "metadata": {},
   "outputs": [
    {
     "data": {
      "text/plain": [
       "(35109, 40)"
      ]
     },
     "execution_count": 12,
     "metadata": {},
     "output_type": "execute_result"
    }
   ],
   "source": [
    "import pandas as pd\n",
    "df = pd.DataFrame(data_real)\n",
    "\n",
    "df = df.drop_duplicates(subset=['href'])\n",
    "df.shape"
   ]
  },
  {
   "cell_type": "code",
   "execution_count": 13,
   "metadata": {},
   "outputs": [
    {
     "data": {
      "text/html": [
       "<div>\n",
       "<style scoped>\n",
       "    .dataframe tbody tr th:only-of-type {\n",
       "        vertical-align: middle;\n",
       "    }\n",
       "\n",
       "    .dataframe tbody tr th {\n",
       "        vertical-align: top;\n",
       "    }\n",
       "\n",
       "    .dataframe thead th {\n",
       "        text-align: right;\n",
       "    }\n",
       "</style>\n",
       "<table border=\"1\" class=\"dataframe\">\n",
       "  <thead>\n",
       "    <tr style=\"text-align: right;\">\n",
       "      <th></th>\n",
       "      <th>Тип жилья</th>\n",
       "      <th>Площадь комнат</th>\n",
       "      <th>Санузел</th>\n",
       "      <th>Балкон/лоджия</th>\n",
       "      <th>Ремонт</th>\n",
       "      <th>Вид из окон</th>\n",
       "      <th>Год постройки</th>\n",
       "      <th>Тип дома</th>\n",
       "      <th>Тип перекрытий</th>\n",
       "      <th>Подъезды</th>\n",
       "      <th>...</th>\n",
       "      <th>Планировка</th>\n",
       "      <th>Газоснабжение</th>\n",
       "      <th>Строительная серия</th>\n",
       "      <th>Отделка</th>\n",
       "      <th>Срок сдачи</th>\n",
       "      <th>Комнат в продажу</th>\n",
       "      <th>Всего комнат в квартире</th>\n",
       "      <th>Площадь комнаты</th>\n",
       "      <th>Комната</th>\n",
       "      <th>Размер доли</th>\n",
       "    </tr>\n",
       "  </thead>\n",
       "  <tbody>\n",
       "    <tr>\n",
       "      <th>0</th>\n",
       "      <td>Вторичка</td>\n",
       "      <td>21-14-11 м²</td>\n",
       "      <td>1 раздельный</td>\n",
       "      <td>1 лоджия</td>\n",
       "      <td>Евроремонт</td>\n",
       "      <td>Во двор</td>\n",
       "      <td>2002</td>\n",
       "      <td>Монолитный</td>\n",
       "      <td>Железобетонные</td>\n",
       "      <td>5</td>\n",
       "      <td>...</td>\n",
       "      <td>NaN</td>\n",
       "      <td>NaN</td>\n",
       "      <td>NaN</td>\n",
       "      <td>NaN</td>\n",
       "      <td>NaN</td>\n",
       "      <td>NaN</td>\n",
       "      <td>NaN</td>\n",
       "      <td>NaN</td>\n",
       "      <td>NaN</td>\n",
       "      <td>NaN</td>\n",
       "    </tr>\n",
       "    <tr>\n",
       "      <th>1</th>\n",
       "      <td>Вторичка</td>\n",
       "      <td>NaN</td>\n",
       "      <td>2 совмещенных</td>\n",
       "      <td>1 балкон</td>\n",
       "      <td>Без ремонта</td>\n",
       "      <td>NaN</td>\n",
       "      <td>2017</td>\n",
       "      <td>Монолитный</td>\n",
       "      <td>Железобетонные</td>\n",
       "      <td>2</td>\n",
       "      <td>...</td>\n",
       "      <td>NaN</td>\n",
       "      <td>NaN</td>\n",
       "      <td>NaN</td>\n",
       "      <td>NaN</td>\n",
       "      <td>NaN</td>\n",
       "      <td>NaN</td>\n",
       "      <td>NaN</td>\n",
       "      <td>NaN</td>\n",
       "      <td>NaN</td>\n",
       "      <td>NaN</td>\n",
       "    </tr>\n",
       "  </tbody>\n",
       "</table>\n",
       "<p>2 rows × 40 columns</p>\n",
       "</div>"
      ],
      "text/plain": [
       "  Тип жилья Площадь комнат        Санузел Балкон/лоджия       Ремонт  \\\n",
       "0  Вторичка    21-14-11 м²   1 раздельный      1 лоджия   Евроремонт   \n",
       "1  Вторичка            NaN  2 совмещенных      1 балкон  Без ремонта   \n",
       "\n",
       "  Вид из окон Год постройки    Тип дома  Тип перекрытий Подъезды  ...  \\\n",
       "0     Во двор          2002  Монолитный  Железобетонные        5  ...   \n",
       "1         NaN          2017  Монолитный  Железобетонные        2  ...   \n",
       "\n",
       "  Планировка Газоснабжение Строительная серия Отделка Срок сдачи  \\\n",
       "0        NaN           NaN                NaN     NaN        NaN   \n",
       "1        NaN           NaN                NaN     NaN        NaN   \n",
       "\n",
       "   Комнат в продажу Всего комнат в квартире Площадь комнаты Комната  \\\n",
       "0               NaN                     NaN             NaN     NaN   \n",
       "1               NaN                     NaN             NaN     NaN   \n",
       "\n",
       "  Размер доли  \n",
       "0         NaN  \n",
       "1         NaN  \n",
       "\n",
       "[2 rows x 40 columns]"
      ]
     },
     "execution_count": 13,
     "metadata": {},
     "output_type": "execute_result"
    }
   ],
   "source": [
    "df.head(2) #.tail()"
   ]
  },
  {
   "cell_type": "code",
   "execution_count": 14,
   "metadata": {},
   "outputs": [
    {
     "name": "stdout",
     "output_type": "stream",
     "text": [
      "<class 'pandas.core.frame.DataFrame'>\n",
      "Int64Index: 35109 entries, 0 to 56075\n",
      "Data columns (total 40 columns):\n",
      "Тип жилья                  35109 non-null object\n",
      "Площадь комнат             22946 non-null object\n",
      "Санузел                    30941 non-null object\n",
      "Балкон/лоджия              20907 non-null object\n",
      "Ремонт                     25126 non-null object\n",
      "Вид из окон                25229 non-null object\n",
      "Год постройки              24376 non-null object\n",
      "Тип дома                   26045 non-null object\n",
      "Тип перекрытий             22140 non-null object\n",
      "Подъезды                   23503 non-null object\n",
      "Лифты                      34196 non-null object\n",
      "Отопление                  22521 non-null object\n",
      "Аварийность                24631 non-null object\n",
      "Парковка                   16778 non-null object\n",
      "Мусоропровод               15772 non-null object\n",
      "цена                       35109 non-null int64\n",
      "описание                   35109 non-null object\n",
      "Общая                      35108 non-null object\n",
      "Жилая                      28731 non-null object\n",
      "Кухня                      28285 non-null object\n",
      "Этаж                       35109 non-null object\n",
      "Построен                   18583 non-null object\n",
      "адрес                      35109 non-null object\n",
      "метро                      35109 non-null object\n",
      "тайтл                      35109 non-null object\n",
      "lat                        35109 non-null object\n",
      "long                       35109 non-null object\n",
      "комментарий                460 non-null object\n",
      "href                       35109 non-null object\n",
      "Высота потолков            18413 non-null object\n",
      "Планировка                 13363 non-null object\n",
      "Газоснабжение              7471 non-null object\n",
      "Строительная серия         8295 non-null object\n",
      "Отделка                    4283 non-null object\n",
      "Срок сдачи                 6488 non-null object\n",
      "Комнат в продажу           6 non-null object\n",
      "Всего комнат в квартире    1 non-null object\n",
      "Площадь комнаты            1 non-null object\n",
      "Комната                    1 non-null object\n",
      "Размер доли                1 non-null object\n",
      "dtypes: int64(1), object(39)\n",
      "memory usage: 11.0+ MB\n"
     ]
    }
   ],
   "source": [
    "df.info()"
   ]
  },
  {
   "cell_type": "code",
   "execution_count": 15,
   "metadata": {},
   "outputs": [
    {
     "data": {
      "text/plain": [
       "(35109, 40)"
      ]
     },
     "execution_count": 15,
     "metadata": {},
     "output_type": "execute_result"
    }
   ],
   "source": [
    "df.shape"
   ]
  },
  {
   "cell_type": "code",
   "execution_count": 16,
   "metadata": {},
   "outputs": [],
   "source": [
    "df['цена'].hist(bins=50);"
   ]
  },
  {
   "cell_type": "code",
   "execution_count": 17,
   "metadata": {},
   "outputs": [
    {
     "data": {
      "text/html": [
       "<div>\n",
       "<style scoped>\n",
       "    .dataframe tbody tr th:only-of-type {\n",
       "        vertical-align: middle;\n",
       "    }\n",
       "\n",
       "    .dataframe tbody tr th {\n",
       "        vertical-align: top;\n",
       "    }\n",
       "\n",
       "    .dataframe thead th {\n",
       "        text-align: right;\n",
       "    }\n",
       "</style>\n",
       "<table border=\"1\" class=\"dataframe\">\n",
       "  <thead>\n",
       "    <tr style=\"text-align: right;\">\n",
       "      <th></th>\n",
       "      <th>Тип жилья</th>\n",
       "      <th>Площадь комнат</th>\n",
       "      <th>Санузел</th>\n",
       "      <th>Балкон/лоджия</th>\n",
       "      <th>Ремонт</th>\n",
       "      <th>Вид из окон</th>\n",
       "      <th>Год постройки</th>\n",
       "      <th>Тип дома</th>\n",
       "      <th>Тип перекрытий</th>\n",
       "      <th>Подъезды</th>\n",
       "      <th>...</th>\n",
       "      <th>Планировка</th>\n",
       "      <th>Газоснабжение</th>\n",
       "      <th>Строительная серия</th>\n",
       "      <th>Отделка</th>\n",
       "      <th>Срок сдачи</th>\n",
       "      <th>Комнат в продажу</th>\n",
       "      <th>Всего комнат в квартире</th>\n",
       "      <th>Площадь комнаты</th>\n",
       "      <th>Комната</th>\n",
       "      <th>Размер доли</th>\n",
       "    </tr>\n",
       "  </thead>\n",
       "  <tbody>\n",
       "    <tr>\n",
       "      <th>718</th>\n",
       "      <td>Вторичка Пентхаус</td>\n",
       "      <td>NaN</td>\n",
       "      <td>NaN</td>\n",
       "      <td>4 балкона, 1 лоджия</td>\n",
       "      <td>Без ремонта</td>\n",
       "      <td>На улицу и двор</td>\n",
       "      <td>2009</td>\n",
       "      <td>Кирпичный</td>\n",
       "      <td>Смешанные</td>\n",
       "      <td>2</td>\n",
       "      <td>...</td>\n",
       "      <td>Смежно-изолированная</td>\n",
       "      <td>NaN</td>\n",
       "      <td>С-222</td>\n",
       "      <td>NaN</td>\n",
       "      <td>NaN</td>\n",
       "      <td>NaN</td>\n",
       "      <td>NaN</td>\n",
       "      <td>NaN</td>\n",
       "      <td>NaN</td>\n",
       "      <td>NaN</td>\n",
       "    </tr>\n",
       "    <tr>\n",
       "      <th>11134</th>\n",
       "      <td>Вторичка</td>\n",
       "      <td>NaN</td>\n",
       "      <td>4 совмещенных</td>\n",
       "      <td>1 лоджия</td>\n",
       "      <td>Без ремонта</td>\n",
       "      <td>На улицу и двор</td>\n",
       "      <td>2009</td>\n",
       "      <td>Кирпичный</td>\n",
       "      <td>Смешанные</td>\n",
       "      <td>2</td>\n",
       "      <td>...</td>\n",
       "      <td>NaN</td>\n",
       "      <td>NaN</td>\n",
       "      <td>С-222</td>\n",
       "      <td>NaN</td>\n",
       "      <td>NaN</td>\n",
       "      <td>NaN</td>\n",
       "      <td>NaN</td>\n",
       "      <td>NaN</td>\n",
       "      <td>NaN</td>\n",
       "      <td>NaN</td>\n",
       "    </tr>\n",
       "    <tr>\n",
       "      <th>30070</th>\n",
       "      <td>Вторичка</td>\n",
       "      <td>NaN</td>\n",
       "      <td>4 совмещенных, 4 раздельных</td>\n",
       "      <td>1 балкон, 1 лоджия</td>\n",
       "      <td>Без ремонта</td>\n",
       "      <td>На улицу и двор</td>\n",
       "      <td>2009</td>\n",
       "      <td>Кирпичный</td>\n",
       "      <td>Смешанные</td>\n",
       "      <td>2</td>\n",
       "      <td>...</td>\n",
       "      <td>NaN</td>\n",
       "      <td>NaN</td>\n",
       "      <td>С-222</td>\n",
       "      <td>NaN</td>\n",
       "      <td>NaN</td>\n",
       "      <td>NaN</td>\n",
       "      <td>NaN</td>\n",
       "      <td>NaN</td>\n",
       "      <td>NaN</td>\n",
       "      <td>NaN</td>\n",
       "    </tr>\n",
       "    <tr>\n",
       "      <th>39867</th>\n",
       "      <td>Вторичка</td>\n",
       "      <td>NaN</td>\n",
       "      <td>NaN</td>\n",
       "      <td>4 балкона</td>\n",
       "      <td>Косметический</td>\n",
       "      <td>На улицу и двор</td>\n",
       "      <td>NaN</td>\n",
       "      <td>Кирпичный</td>\n",
       "      <td>NaN</td>\n",
       "      <td>NaN</td>\n",
       "      <td>...</td>\n",
       "      <td>NaN</td>\n",
       "      <td>NaN</td>\n",
       "      <td>NaN</td>\n",
       "      <td>NaN</td>\n",
       "      <td>NaN</td>\n",
       "      <td>NaN</td>\n",
       "      <td>NaN</td>\n",
       "      <td>NaN</td>\n",
       "      <td>NaN</td>\n",
       "      <td>NaN</td>\n",
       "    </tr>\n",
       "    <tr>\n",
       "      <th>43886</th>\n",
       "      <td>Вторичка Апартаменты</td>\n",
       "      <td>NaN</td>\n",
       "      <td>4 совмещенных, 2 раздельных</td>\n",
       "      <td>NaN</td>\n",
       "      <td>Без ремонта</td>\n",
       "      <td>На улицу и двор</td>\n",
       "      <td>NaN</td>\n",
       "      <td>Монолитный</td>\n",
       "      <td>NaN</td>\n",
       "      <td>NaN</td>\n",
       "      <td>...</td>\n",
       "      <td>NaN</td>\n",
       "      <td>NaN</td>\n",
       "      <td>NaN</td>\n",
       "      <td>NaN</td>\n",
       "      <td>NaN</td>\n",
       "      <td>NaN</td>\n",
       "      <td>NaN</td>\n",
       "      <td>NaN</td>\n",
       "      <td>NaN</td>\n",
       "      <td>NaN</td>\n",
       "    </tr>\n",
       "    <tr>\n",
       "      <th>50216</th>\n",
       "      <td>Вторичка</td>\n",
       "      <td>NaN</td>\n",
       "      <td>4 раздельных</td>\n",
       "      <td>1 балкон, 1 лоджия</td>\n",
       "      <td>NaN</td>\n",
       "      <td>NaN</td>\n",
       "      <td>2009</td>\n",
       "      <td>Кирпичный</td>\n",
       "      <td>Смешанные</td>\n",
       "      <td>2</td>\n",
       "      <td>...</td>\n",
       "      <td>NaN</td>\n",
       "      <td>NaN</td>\n",
       "      <td>С-222</td>\n",
       "      <td>NaN</td>\n",
       "      <td>NaN</td>\n",
       "      <td>NaN</td>\n",
       "      <td>NaN</td>\n",
       "      <td>NaN</td>\n",
       "      <td>NaN</td>\n",
       "      <td>NaN</td>\n",
       "    </tr>\n",
       "    <tr>\n",
       "      <th>53524</th>\n",
       "      <td>Вторичка</td>\n",
       "      <td>NaN</td>\n",
       "      <td>NaN</td>\n",
       "      <td>NaN</td>\n",
       "      <td>Без ремонта</td>\n",
       "      <td>NaN</td>\n",
       "      <td>2009</td>\n",
       "      <td>Монолитный</td>\n",
       "      <td>NaN</td>\n",
       "      <td>1</td>\n",
       "      <td>...</td>\n",
       "      <td>Смежно-изолированная</td>\n",
       "      <td>NaN</td>\n",
       "      <td>NaN</td>\n",
       "      <td>NaN</td>\n",
       "      <td>NaN</td>\n",
       "      <td>NaN</td>\n",
       "      <td>NaN</td>\n",
       "      <td>NaN</td>\n",
       "      <td>NaN</td>\n",
       "      <td>NaN</td>\n",
       "    </tr>\n",
       "  </tbody>\n",
       "</table>\n",
       "<p>7 rows × 40 columns</p>\n",
       "</div>"
      ],
      "text/plain": [
       "                  Тип жилья Площадь комнат                      Санузел  \\\n",
       "718       Вторичка Пентхаус            NaN                          NaN   \n",
       "11134              Вторичка            NaN                4 совмещенных   \n",
       "30070              Вторичка            NaN  4 совмещенных, 4 раздельных   \n",
       "39867              Вторичка            NaN                          NaN   \n",
       "43886  Вторичка Апартаменты            NaN  4 совмещенных, 2 раздельных   \n",
       "50216              Вторичка            NaN                 4 раздельных   \n",
       "53524              Вторичка            NaN                          NaN   \n",
       "\n",
       "             Балкон/лоджия         Ремонт      Вид из окон Год постройки  \\\n",
       "718    4 балкона, 1 лоджия    Без ремонта  На улицу и двор          2009   \n",
       "11134             1 лоджия    Без ремонта  На улицу и двор          2009   \n",
       "30070   1 балкон, 1 лоджия    Без ремонта  На улицу и двор          2009   \n",
       "39867            4 балкона  Косметический  На улицу и двор           NaN   \n",
       "43886                  NaN    Без ремонта  На улицу и двор           NaN   \n",
       "50216   1 балкон, 1 лоджия            NaN              NaN          2009   \n",
       "53524                  NaN    Без ремонта              NaN          2009   \n",
       "\n",
       "         Тип дома Тип перекрытий Подъезды  ...            Планировка  \\\n",
       "718     Кирпичный      Смешанные        2  ...  Смежно-изолированная   \n",
       "11134   Кирпичный      Смешанные        2  ...                   NaN   \n",
       "30070   Кирпичный      Смешанные        2  ...                   NaN   \n",
       "39867   Кирпичный            NaN      NaN  ...                   NaN   \n",
       "43886  Монолитный            NaN      NaN  ...                   NaN   \n",
       "50216   Кирпичный      Смешанные        2  ...                   NaN   \n",
       "53524  Монолитный            NaN        1  ...  Смежно-изолированная   \n",
       "\n",
       "      Газоснабжение Строительная серия Отделка Срок сдачи  Комнат в продажу  \\\n",
       "718             NaN              С-222     NaN        NaN               NaN   \n",
       "11134           NaN              С-222     NaN        NaN               NaN   \n",
       "30070           NaN              С-222     NaN        NaN               NaN   \n",
       "39867           NaN                NaN     NaN        NaN               NaN   \n",
       "43886           NaN                NaN     NaN        NaN               NaN   \n",
       "50216           NaN              С-222     NaN        NaN               NaN   \n",
       "53524           NaN                NaN     NaN        NaN               NaN   \n",
       "\n",
       "      Всего комнат в квартире Площадь комнаты Комната Размер доли  \n",
       "718                       NaN             NaN     NaN         NaN  \n",
       "11134                     NaN             NaN     NaN         NaN  \n",
       "30070                     NaN             NaN     NaN         NaN  \n",
       "39867                     NaN             NaN     NaN         NaN  \n",
       "43886                     NaN             NaN     NaN         NaN  \n",
       "50216                     NaN             NaN     NaN         NaN  \n",
       "53524                     NaN             NaN     NaN         NaN  \n",
       "\n",
       "[7 rows x 40 columns]"
      ]
     },
     "execution_count": 17,
     "metadata": {},
     "output_type": "execute_result"
    }
   ],
   "source": [
    "df[df['цена'] > 2e+9]"
   ]
  },
  {
   "cell_type": "code",
   "execution_count": 18,
   "metadata": {},
   "outputs": [
    {
     "data": {
      "image/png": "[encoded data removed]",
      "text/plain": [
       "<Figure size 432x288 with 1 Axes>"
      ]
     },
     "metadata": {
      "needs_background": "light"
     },
     "output_type": "display_data"
    }
   ],
   "source": [
    "import numpy as np\n",
    "df['цена'].apply(lambda w: np.log(w)).hist(bins=100);"
   ]
  },
  {
   "cell_type": "markdown",
   "metadata": {},
   "source": [
    "# Предобработка данных"
   ]
  },
  {
   "cell_type": "code",
   "execution_count": 19,
   "metadata": {},
   "outputs": [],
   "source": [
    "import seaborn as sns\n",
    "import matplotlib.pyplot as plt\n",
    "\n",
    "plt.style.use('ggplot')\n",
    "%matplotlib inline"
   ]
  },
  {
   "cell_type": "code",
   "execution_count": 20,
   "metadata": {},
   "outputs": [
    {
     "data": {
      "text/plain": [
       "(35109, 40)"
      ]
     },
     "execution_count": 20,
     "metadata": {},
     "output_type": "execute_result"
    }
   ],
   "source": [
    "import pandas as pd\n",
    "df = pd.DataFrame(data_real)\n",
    "\n",
    "df = df.drop_duplicates(subset=['href'])\n",
    "df.reset_index(drop=True, inplace=True)\n",
    "\n",
    "df.shape"
   ]
  },
  {
   "cell_type": "code",
   "execution_count": 21,
   "metadata": {},
   "outputs": [],
   "source": [
    "dff = pd.DataFrame()  # тут хорошие данные"
   ]
  },
  {
   "cell_type": "code",
   "execution_count": 22,
   "metadata": {},
   "outputs": [
    {
     "data": {
      "image/png": "[encoded data removed]",
      "text/plain": [
       "<Figure size 1080x576 with 2 Axes>"
      ]
     },
     "metadata": {
      "needs_background": "light"
     },
     "output_type": "display_data"
    }
   ],
   "source": [
    "plt.figure(figsize=(15,8))\n",
    "sns.heatmap(df.isnull());"
   ]
  },
  {
   "cell_type": "code",
   "execution_count": 23,
   "metadata": {},
   "outputs": [
    {
     "name": "stderr",
     "output_type": "stream",
     "text": [
      "/usr/local/lib/python3.7/site-packages/ipykernel_launcher.py:2: FutureWarning: `Series.plot()` should not be called with positional arguments, only keyword arguments. The order of positional arguments will change in the future. Use `Series.plot(kind='bar')` instead of `Series.plot('bar',)`.\n",
      "  \n"
     ]
    },
    {
     "data": {
      "image/png": "[encoded data removed]",
      "text/plain": [
       "<Figure size 1080x360 with 1 Axes>"
      ]
     },
     "metadata": {
      "needs_background": "light"
     },
     "output_type": "display_data"
    }
   ],
   "source": [
    "plt.figure(figsize=(15,5))\n",
    "(100*df.isnull().sum()/df.shape[0]).sort_values(ascending=False).plot('bar');"
   ]
  },
  {
   "cell_type": "markdown",
   "metadata": {},
   "source": [
    "Выкидываем неинформативные признаки"
   ]
  },
  {
   "cell_type": "code",
   "execution_count": 24,
   "metadata": {},
   "outputs": [],
   "source": [
    "df.drop(['Аварийность', 'Комнат в продажу', 'Размер доли'], axis=1, inplace=True)\n",
    "\n",
    "# пока что выкинем их из рассмотрения, потом если чё вренём\n",
    "df.drop('Строительная серия', axis=1, inplace=True)"
   ]
  },
  {
   "cell_type": "markdown",
   "metadata": {},
   "source": [
    "1. Переменная попадает ли дом на реиновацию"
   ]
  },
  {
   "cell_type": "code",
   "execution_count": 25,
   "metadata": {},
   "outputs": [
    {
     "data": {
      "text/plain": [
       "array([None,\n",
       "       'Дом под сносПо результатам голосования жильцов дом включен в программу реновации и будет снесен'],\n",
       "      dtype=object)"
      ]
     },
     "execution_count": 25,
     "metadata": {},
     "output_type": "execute_result"
    }
   ],
   "source": [
    "df['комментарий'].unique()"
   ]
  },
  {
   "cell_type": "code",
   "execution_count": 26,
   "metadata": {},
   "outputs": [],
   "source": [
    "dff['is_reinovation'] = (1 - df['комментарий'].isnull())"
   ]
  },
  {
   "cell_type": "markdown",
   "metadata": {},
   "source": [
    "2. Категориальные переменные"
   ]
  },
  {
   "cell_type": "code",
   "execution_count": 27,
   "metadata": {},
   "outputs": [],
   "source": [
    "tradeoff = 0.02*df.shape[0]"
   ]
  },
  {
   "cell_type": "code",
   "execution_count": 28,
   "metadata": {},
   "outputs": [
    {
     "data": {
      "text/plain": [
       "'1'"
      ]
     },
     "execution_count": 28,
     "metadata": {},
     "output_type": "execute_result"
    }
   ],
   "source": [
    "import re\n",
    "\n",
    "def f_create(reg):\n",
    "    def f(w):\n",
    "        if w is np.nan:\n",
    "            return np.nan\n",
    "        else:\n",
    "            x = re.findall(reg, w)\n",
    "            if len(x) == 0:\n",
    "                return np.nan\n",
    "            else:\n",
    "                return str(x[0]) \n",
    "    return f\n",
    "\n",
    "# пример работы фабрики функций\n",
    "f = f_create('(\\d) л')\n",
    "f('1 балкон, 1 лоджия')"
   ]
  },
  {
   "cell_type": "code",
   "execution_count": 29,
   "metadata": {},
   "outputs": [],
   "source": [
    "df['балконы'] = df['Балкон/лоджия'].apply(f_create('(\\d) б'))\n",
    "df['лоджии'] = df['Балкон/лоджия'].apply(f_create('(\\d) л'))\n",
    "\n",
    "df['санузлы_раздельные'] = df['Санузел'].apply(f_create('(\\d) р'))\n",
    "df['санузлы_совместные'] = df['Санузел'].apply(f_create('(\\d) с'))\n",
    "\n",
    "df['лифты_пас'] = df['Лифты'].apply(f_create('(\\d) п'))\n",
    "df['лифты_гр'] = df['Лифты'].apply(f_create('(\\d) г'))\n",
    "\n",
    "# df[['Балкон/лоджия', 'балконы','лоджии']].sample(10)\n",
    "df.drop(['Балкон/лоджия', 'Санузел', 'Лифты'], axis=1, inplace=True)"
   ]
  },
  {
   "cell_type": "code",
   "execution_count": 30,
   "metadata": {},
   "outputs": [],
   "source": [
    "df['комнаты'] = df['тайтл'].apply(lambda w: w.split(' ')[0]).value_counts()"
   ]
  },
  {
   "cell_type": "markdown",
   "metadata": {},
   "source": [
    "Теперь считаем частоты!        "
   ]
  },
  {
   "cell_type": "code",
   "execution_count": 31,
   "metadata": {},
   "outputs": [],
   "source": [
    "var_cat = ['Отделка', 'Газоснабжение',\n",
    "'Планировка', 'Мусоропровод', 'Парковка',\n",
    "'Тип перекрытий', 'Отопление', 'Вид из окон',\n",
    "'Ремонт', 'Тип дома', 'Тип жилья',\n",
    "\n",
    "'балконы', 'лоджии',   'санузлы_раздельные',\n",
    "'санузлы_совместные', 'лифты_пас', 'лифты_гр',\n",
    "          \n",
    "'комнаты'] "
   ]
  },
  {
   "cell_type": "code",
   "execution_count": 32,
   "metadata": {},
   "outputs": [],
   "source": [
    "def freq_less_trade(x):\n",
    "    freq = df[x].value_counts()\n",
    "    bad_value = freq[freq < tradeoff].index\n",
    "    df[x] = df[x].apply(lambda w: 'другое' if w in bad_value else w)\n",
    "\n",
    "for x in var_cat:\n",
    "    freq_less_trade(x)"
   ]
  },
  {
   "cell_type": "code",
   "execution_count": 33,
   "metadata": {
    "scrolled": true
   },
   "outputs": [
    {
     "data": {
      "text/plain": [
       "1         12757\n",
       "2          2358\n",
       "другое      331\n",
       "Name: лифты_гр, dtype: int64"
      ]
     },
     "execution_count": 33,
     "metadata": {},
     "output_type": "execute_result"
    }
   ],
   "source": [
    "df['лифты_гр'].value_counts()"
   ]
  },
  {
   "cell_type": "markdown",
   "metadata": {},
   "source": [
    "3. Непрерывные переменные"
   ]
  },
  {
   "cell_type": "code",
   "execution_count": 34,
   "metadata": {},
   "outputs": [],
   "source": [
    "def ceil(w):\n",
    "    if w is np.nan:\n",
    "        return np.nan\n",
    "    else:\n",
    "        y = float(re.sub('[, ]', '.', w)[:-2])\n",
    "        if y > 10 and y < 100:\n",
    "            return y / 10\n",
    "        elif y >= 100:\n",
    "            return y/100\n",
    "        elif y < 2:\n",
    "            return np.nan\n",
    "        else:\n",
    "            return y\n",
    "    \n",
    "dff['Высота потолков'] = df['Высота потолков'].apply(ceil)"
   ]
  },
  {
   "cell_type": "code",
   "execution_count": 35,
   "metadata": {},
   "outputs": [],
   "source": [
    "dff['Подъезды'] = df['Подъезды'].apply(lambda w: w if w is np.nan else int(w))\n",
    "dff.loc[dff['Подъезды'] > 30, 'Подъезды'] = np.nan"
   ]
  },
  {
   "cell_type": "code",
   "execution_count": 36,
   "metadata": {},
   "outputs": [],
   "source": [
    "def sq(w):\n",
    "    if w is np.nan:\n",
    "        return np.nan\n",
    "    else:\n",
    "        y = re.sub(',', '.', w)[:-2]\n",
    "        y = re.sub(' ', '', y)\n",
    "        return float(y)\n",
    "    \n",
    "dff['Жилая'] = df['Жилая'].apply(sq)\n",
    "dff['Кухня'] = df['Кухня'].apply(sq)\n",
    "dff['Общая'] = df['Общая'].apply(sq)"
   ]
  },
  {
   "cell_type": "code",
   "execution_count": 28,
   "metadata": {},
   "outputs": [],
   "source": [
    "# Дз: фабрика функций, mean max median, len \n",
    " \n",
    "# def sq_rooms():\n",
    "#     def f(w):\n",
    "#         if w is np.nan:\n",
    "#             return np.nan\n",
    "#         else:\n",
    "#             y = re.sub(',', '.', w)[:-2]\n",
    "#             y = re.sub('[ \\(\\)]', '', y)\n",
    "#             y = [float(item) for item in re.split('[-+/]', y)]\n",
    "#             return np.mean(y)\n",
    "#     return f\n",
    "\n",
    "# f = sq_rooms()\n",
    "# df['Площадь комнат'].apply(f)"
   ]
  },
  {
   "cell_type": "code",
   "execution_count": 37,
   "metadata": {},
   "outputs": [],
   "source": [
    "dff['Этаж'] = df['Этаж'].apply(lambda w: int(w.split(' из ')[0]))\n",
    "dff['Этажность'] = df['Этаж'].apply(lambda w: int(w.split(' из ')[1]))\n",
    "dff['первый_этаж'] = df['Этаж'].apply(lambda w: 1*(w.split(' из ')[0] == '1'))\n",
    "dff['последний_этаж'] = df['Этаж'].apply(lambda w: 1*(w.split(' из ')[0] == w.split(' из ')[1]))"
   ]
  },
  {
   "cell_type": "code",
   "execution_count": null,
   "metadata": {},
   "outputs": [],
   "source": [
    "# Дз: распарсить переменную со станциями и временем (пешком/на машине) на мног переменных \n",
    "#\n",
    "# - минимально пешком/на машине\n",
    "# - максимално \n",
    "# - количество станций метро рядом\n",
    "# - название ближайшей станции если пешком \n",
    "# - название ближайшей станции если на машине \n",
    "# (если две с одинаковым берем любую) "
   ]
  },
  {
   "cell_type": "code",
   "execution_count": 50,
   "metadata": {},
   "outputs": [],
   "source": [
    "def min_walk_metro(l):\n",
    "    new = []\n",
    "    for j in l:\n",
    "        if 'пешком' in j:\n",
    "            new.append(int(re.findall('(\\d*) мин. пешком',j)[0]))\n",
    "    if len(new) != 0:\n",
    "        return min(new)  \n",
    "    else:\n",
    "        return np.nan\n",
    "    \n",
    "def min_transport_metro(l):\n",
    "    new = []\n",
    "    for j in l:\n",
    "        if 'транспорте' in j:\n",
    "            new.append(int(re.findall('(\\d*) мин. на транспорте',j)[0]))\n",
    "    if len(new) != 0:\n",
    "        return min(new)  \n",
    "    else:\n",
    "        return np.nan\n",
    "    \n",
    "dff['metro_walk_min'] = df['метро'].apply(lambda x: min_walk_metro(x))\n",
    "dff['metro_auto_min'] = df['метро'].apply(lambda x: min_transport_metro(x))\n"
   ]
  },
  {
   "cell_type": "code",
   "execution_count": 132,
   "metadata": {},
   "outputs": [],
   "source": [
    "def stations(mod):\n",
    "    def find_stations(l, mod=mod):\n",
    "        l = [re.findall(\"([ А-Яа-я0-9-.]*) ⋅[ А-Яа-я0-9.]* \" + mod, item) for item in l]\n",
    "        s = [ ]\n",
    "        for item in l:\n",
    "            if len(item) == 0:\n",
    "                continue\n",
    "            else:\n",
    "                s.append(item[0].split(\"откроется\")[0])\n",
    "        return ','.join(s)\n",
    "    return find_stations\n",
    "\n",
    "find_walk_st = stations(\"пешком\")\n",
    "find_auto_st = stations(\"на транспорте\")\n",
    "\n",
    "dff['stations_walk'] = df['метро'].apply(find_walk_st)\n",
    "dff['stations_auto'] = df['метро'].apply(find_auto_st)"
   ]
  },
  {
   "cell_type": "markdown",
   "metadata": {},
   "source": [
    "4. Время "
   ]
  },
  {
   "cell_type": "code",
   "execution_count": 136,
   "metadata": {},
   "outputs": [],
   "source": [
    "dff['возраст'] = df['Год постройки'].apply(lambda w: w if w is np.nan else int(w))\n",
    "dff.loc[dff['возраст'] < 1900, 'возраст'] = np.nan\n",
    "dff['возраст'] =  2020 - dff['возраст']"
   ]
  },
  {
   "cell_type": "code",
   "execution_count": 137,
   "metadata": {},
   "outputs": [],
   "source": [
    "df['год сдачи'] = df['Срок сдачи'].apply(lambda w: w if w is np.nan else w.split(' ')[-1])\n",
    "df['квартал'] = df['Срок сдачи'].apply(lambda w: w if w is np.nan else int(w.split(' ')[0]))\n",
    "\n",
    "df.loc[df['год сдачи'] < '2020', 'квартал'] = np.nan\n",
    "df.loc[df['год сдачи'] < '2020', 'год сдачи'] = np.nan\n",
    "df.loc[df['квартал'] >= 5, 'квартал'] = 1\n",
    "\n",
    "df['квартал'].replace({1:'01', 2: '04', 3: '07', 4: '10'}, inplace=True)\n",
    "df['срок сдачи'] = df['год сдачи'].astype(str) + '-' + df['квартал']"
   ]
  },
  {
   "cell_type": "code",
   "execution_count": 138,
   "metadata": {},
   "outputs": [
    {
     "data": {
      "text/plain": [
       "17       2021-10\n",
       "23       2021-07\n",
       "31       2022-04\n",
       "37       2020-10\n",
       "40       2022-04\n",
       "          ...   \n",
       "35071    2021-04\n",
       "35087    2021-04\n",
       "35091    2021-07\n",
       "35095    2021-10\n",
       "35099    2022-04\n",
       "Name: срок сдачи, Length: 5085, dtype: object"
      ]
     },
     "execution_count": 138,
     "metadata": {},
     "output_type": "execute_result"
    }
   ],
   "source": [
    "df['срок сдачи'].dropna()"
   ]
  },
  {
   "cell_type": "code",
   "execution_count": 139,
   "metadata": {},
   "outputs": [],
   "source": [
    "from datetime import datetime  # пакет для работы с датами"
   ]
  },
  {
   "cell_type": "code",
   "execution_count": 140,
   "metadata": {},
   "outputs": [
    {
     "data": {
      "text/plain": [
       "datetime.datetime(2021, 4, 1, 0, 0)"
      ]
     },
     "execution_count": 140,
     "metadata": {},
     "output_type": "execute_result"
    }
   ],
   "source": [
    "x = '2021-04'\n",
    "y = datetime.strptime(x, \"%Y-%m\")\n",
    "y"
   ]
  },
  {
   "cell_type": "code",
   "execution_count": 141,
   "metadata": {},
   "outputs": [
    {
     "data": {
      "text/plain": [
       "15"
      ]
     },
     "execution_count": 141,
     "metadata": {},
     "output_type": "execute_result"
    }
   ],
   "source": [
    "y1 = datetime.strptime('2020-01', \"%Y-%m\")\n",
    "(y - y1).days // 30"
   ]
  },
  {
   "cell_type": "code",
   "execution_count": 142,
   "metadata": {},
   "outputs": [],
   "source": [
    "def get_time_delta(x):\n",
    "    if x is np.nan:\n",
    "        return x\n",
    "    else:\n",
    "        y = datetime.strptime(x, \"%Y-%m\")\n",
    "        y1 = datetime.strptime('2020-01', \"%Y-%m\")\n",
    "        return (y - y1).days // 30\n",
    "    \n",
    "dff['срок сдачи'] = df['срок сдачи'].apply(get_time_delta)"
   ]
  },
  {
   "cell_type": "markdown",
   "metadata": {},
   "source": [
    "# Финалочка "
   ]
  },
  {
   "cell_type": "code",
   "execution_count": 143,
   "metadata": {
    "scrolled": true
   },
   "outputs": [
    {
     "data": {
      "text/html": [
       "<div>\n",
       "<style scoped>\n",
       "    .dataframe tbody tr th:only-of-type {\n",
       "        vertical-align: middle;\n",
       "    }\n",
       "\n",
       "    .dataframe tbody tr th {\n",
       "        vertical-align: top;\n",
       "    }\n",
       "\n",
       "    .dataframe thead th {\n",
       "        text-align: right;\n",
       "    }\n",
       "</style>\n",
       "<table border=\"1\" class=\"dataframe\">\n",
       "  <thead>\n",
       "    <tr style=\"text-align: right;\">\n",
       "      <th></th>\n",
       "      <th>is_reinovation</th>\n",
       "      <th>Высота потолков</th>\n",
       "      <th>Подъезды</th>\n",
       "      <th>Жилая</th>\n",
       "      <th>Кухня</th>\n",
       "      <th>Общая</th>\n",
       "      <th>Этаж</th>\n",
       "      <th>Этажность</th>\n",
       "      <th>первый_этаж</th>\n",
       "      <th>последний_этаж</th>\n",
       "      <th>...</th>\n",
       "      <th>Ремонт</th>\n",
       "      <th>Тип дома</th>\n",
       "      <th>Тип жилья</th>\n",
       "      <th>балконы</th>\n",
       "      <th>лоджии</th>\n",
       "      <th>санузлы_раздельные</th>\n",
       "      <th>санузлы_совместные</th>\n",
       "      <th>лифты_пас</th>\n",
       "      <th>лифты_гр</th>\n",
       "      <th>комнаты</th>\n",
       "    </tr>\n",
       "  </thead>\n",
       "  <tbody>\n",
       "    <tr>\n",
       "      <th>0</th>\n",
       "      <td>0</td>\n",
       "      <td>NaN</td>\n",
       "      <td>5.0</td>\n",
       "      <td>46.0</td>\n",
       "      <td>13.0</td>\n",
       "      <td>82.0</td>\n",
       "      <td>11</td>\n",
       "      <td>19</td>\n",
       "      <td>0</td>\n",
       "      <td>0</td>\n",
       "      <td>...</td>\n",
       "      <td>Евроремонт</td>\n",
       "      <td>Монолитный</td>\n",
       "      <td>Вторичка</td>\n",
       "      <td>NaN</td>\n",
       "      <td>1</td>\n",
       "      <td>1</td>\n",
       "      <td>NaN</td>\n",
       "      <td>2</td>\n",
       "      <td>1</td>\n",
       "      <td>NaN</td>\n",
       "    </tr>\n",
       "    <tr>\n",
       "      <th>1</th>\n",
       "      <td>0</td>\n",
       "      <td>2.64</td>\n",
       "      <td>2.0</td>\n",
       "      <td>NaN</td>\n",
       "      <td>NaN</td>\n",
       "      <td>103.3</td>\n",
       "      <td>20</td>\n",
       "      <td>39</td>\n",
       "      <td>0</td>\n",
       "      <td>0</td>\n",
       "      <td>...</td>\n",
       "      <td>Без ремонта</td>\n",
       "      <td>Монолитный</td>\n",
       "      <td>Вторичка</td>\n",
       "      <td>1</td>\n",
       "      <td>NaN</td>\n",
       "      <td>NaN</td>\n",
       "      <td>2</td>\n",
       "      <td>NaN</td>\n",
       "      <td>NaN</td>\n",
       "      <td>NaN</td>\n",
       "    </tr>\n",
       "    <tr>\n",
       "      <th>2</th>\n",
       "      <td>0</td>\n",
       "      <td>3.40</td>\n",
       "      <td>24.0</td>\n",
       "      <td>113.0</td>\n",
       "      <td>15.0</td>\n",
       "      <td>167.0</td>\n",
       "      <td>10</td>\n",
       "      <td>12</td>\n",
       "      <td>0</td>\n",
       "      <td>0</td>\n",
       "      <td>...</td>\n",
       "      <td>Дизайнерский</td>\n",
       "      <td>Кирпичный</td>\n",
       "      <td>Вторичка</td>\n",
       "      <td>1</td>\n",
       "      <td>1</td>\n",
       "      <td>1</td>\n",
       "      <td>NaN</td>\n",
       "      <td>1</td>\n",
       "      <td>NaN</td>\n",
       "      <td>NaN</td>\n",
       "    </tr>\n",
       "    <tr>\n",
       "      <th>3</th>\n",
       "      <td>0</td>\n",
       "      <td>2.70</td>\n",
       "      <td>6.0</td>\n",
       "      <td>50.6</td>\n",
       "      <td>7.7</td>\n",
       "      <td>76.4</td>\n",
       "      <td>5</td>\n",
       "      <td>5</td>\n",
       "      <td>0</td>\n",
       "      <td>1</td>\n",
       "      <td>...</td>\n",
       "      <td>Евроремонт</td>\n",
       "      <td>Кирпичный</td>\n",
       "      <td>Вторичка</td>\n",
       "      <td>1</td>\n",
       "      <td>NaN</td>\n",
       "      <td>NaN</td>\n",
       "      <td>1</td>\n",
       "      <td>NaN</td>\n",
       "      <td>NaN</td>\n",
       "      <td>NaN</td>\n",
       "    </tr>\n",
       "    <tr>\n",
       "      <th>4</th>\n",
       "      <td>0</td>\n",
       "      <td>NaN</td>\n",
       "      <td>NaN</td>\n",
       "      <td>41.0</td>\n",
       "      <td>25.0</td>\n",
       "      <td>119.0</td>\n",
       "      <td>4</td>\n",
       "      <td>6</td>\n",
       "      <td>0</td>\n",
       "      <td>0</td>\n",
       "      <td>...</td>\n",
       "      <td>Дизайнерский</td>\n",
       "      <td>Монолитный</td>\n",
       "      <td>Вторичка Апартаменты</td>\n",
       "      <td>1</td>\n",
       "      <td>NaN</td>\n",
       "      <td>2</td>\n",
       "      <td>NaN</td>\n",
       "      <td>1</td>\n",
       "      <td>NaN</td>\n",
       "      <td>NaN</td>\n",
       "    </tr>\n",
       "  </tbody>\n",
       "</table>\n",
       "<p>5 rows × 34 columns</p>\n",
       "</div>"
      ],
      "text/plain": [
       "   is_reinovation  Высота потолков  Подъезды  Жилая  Кухня  Общая  Этаж  \\\n",
       "0               0              NaN       5.0   46.0   13.0   82.0    11   \n",
       "1               0             2.64       2.0    NaN    NaN  103.3    20   \n",
       "2               0             3.40      24.0  113.0   15.0  167.0    10   \n",
       "3               0             2.70       6.0   50.6    7.7   76.4     5   \n",
       "4               0              NaN       NaN   41.0   25.0  119.0     4   \n",
       "\n",
       "   Этажность  первый_этаж  последний_этаж  ...        Ремонт    Тип дома  \\\n",
       "0         19            0               0  ...    Евроремонт  Монолитный   \n",
       "1         39            0               0  ...   Без ремонта  Монолитный   \n",
       "2         12            0               0  ...  Дизайнерский   Кирпичный   \n",
       "3          5            0               1  ...    Евроремонт   Кирпичный   \n",
       "4          6            0               0  ...  Дизайнерский  Монолитный   \n",
       "\n",
       "              Тип жилья балконы  лоджии  санузлы_раздельные  \\\n",
       "0              Вторичка     NaN       1                   1   \n",
       "1              Вторичка       1     NaN                 NaN   \n",
       "2              Вторичка       1       1                   1   \n",
       "3              Вторичка       1     NaN                 NaN   \n",
       "4  Вторичка Апартаменты       1     NaN                   2   \n",
       "\n",
       "  санузлы_совместные лифты_пас лифты_гр комнаты  \n",
       "0                NaN         2        1     NaN  \n",
       "1                  2       NaN      NaN     NaN  \n",
       "2                NaN         1      NaN     NaN  \n",
       "3                  1       NaN      NaN     NaN  \n",
       "4                NaN         1      NaN     NaN  \n",
       "\n",
       "[5 rows x 34 columns]"
      ]
     },
     "execution_count": 143,
     "metadata": {},
     "output_type": "execute_result"
    }
   ],
   "source": [
    "dff[var_cat] = df[var_cat]\n",
    "dff.head()"
   ]
  },
  {
   "cell_type": "code",
   "execution_count": 144,
   "metadata": {},
   "outputs": [],
   "source": [
    "var_cat = var_cat + ['is_reinovation', 'первый_этаж', 'последний_этаж']\n",
    "var_real = list(set(dff.columns) - set(var_cat))\n",
    "\n",
    "var_teh = ['адрес', 'описание', 'href', 'lat', 'long']\n",
    "target = 'цена'"
   ]
  },
  {
   "cell_type": "code",
   "execution_count": 145,
   "metadata": {},
   "outputs": [],
   "source": [
    "dff[var_teh] = df[var_teh]\n",
    "dff[target] =  df[target]"
   ]
  },
  {
   "cell_type": "code",
   "execution_count": 146,
   "metadata": {},
   "outputs": [
    {
     "data": {
      "text/plain": [
       "is_reinovation          int64\n",
       "Высота потолков       float64\n",
       "Подъезды              float64\n",
       "Жилая                 float64\n",
       "Кухня                 float64\n",
       "Общая                 float64\n",
       "Этаж                    int64\n",
       "Этажность               int64\n",
       "первый_этаж             int64\n",
       "последний_этаж          int64\n",
       "metro_walk_min        float64\n",
       "metro_auto_min        float64\n",
       "stations_walk          object\n",
       "stations_auto          object\n",
       "возраст               float64\n",
       "срок сдачи            float64\n",
       "Отделка                object\n",
       "Газоснабжение          object\n",
       "Планировка             object\n",
       "Мусоропровод           object\n",
       "Парковка               object\n",
       "Тип перекрытий         object\n",
       "Отопление              object\n",
       "Вид из окон            object\n",
       "Ремонт                 object\n",
       "Тип дома               object\n",
       "Тип жилья              object\n",
       "балконы                object\n",
       "лоджии                 object\n",
       "санузлы_раздельные     object\n",
       "санузлы_совместные     object\n",
       "лифты_пас              object\n",
       "лифты_гр               object\n",
       "комнаты               float64\n",
       "адрес                  object\n",
       "описание               object\n",
       "href                   object\n",
       "lat                    object\n",
       "long                   object\n",
       "цена                    int64\n",
       "dtype: object"
      ]
     },
     "execution_count": 146,
     "metadata": {},
     "output_type": "execute_result"
    }
   ],
   "source": [
    "dff.dtypes"
   ]
  },
  {
   "cell_type": "code",
   "execution_count": 147,
   "metadata": {},
   "outputs": [
    {
     "data": {
      "text/plain": [
       "(35109, 40)"
      ]
     },
     "execution_count": 147,
     "metadata": {},
     "output_type": "execute_result"
    }
   ],
   "source": [
    "dff.shape"
   ]
  },
  {
   "cell_type": "code",
   "execution_count": 148,
   "metadata": {},
   "outputs": [],
   "source": [
    "dff.to_csv('cian_data_v1.csv', sep='\\t', index=None)"
   ]
  },
  {
   "cell_type": "code",
   "execution_count": null,
   "metadata": {},
   "outputs": [],
   "source": [
    "var_cat = ['Отделка', 'Газоснабжение',\n",
    "'Планировка', 'Мусоропровод', 'Парковка',\n",
    "'Тип перекрытий', 'Отопление', 'Вид из окон',\n",
    "'Ремонт', 'Тип дома', 'Тип жилья',\n",
    "\n",
    "'балконы', 'лоджии',   'санузлы_раздельные',\n",
    "'санузлы_совместные', 'лифты_пас', 'лифты_гр',\n",
    "          \n",
    "'комнаты'] \n",
    "\n",
    "var_cat = var_cat + ['is_reinovation', 'первый_этаж', 'последний_этаж']\n",
    "var_real = list(set(dff.columns) - set(var_cat))\n",
    "\n",
    "var_teh = ['адрес', 'описание', 'href', 'lat', 'long']\n",
    "target = 'цена'\n",
    "\n",
    "\n",
    "# dff = pd.get_dummies(dff)#, dummy_na=True, drop_first=True)\n",
    "# dff.head()\n",
    "\n",
    "dff[var_real + [target]].hist(figsize=(15,12));\n",
    "\n",
    "plt.figure(figsize=(15,12))\n",
    "sns.pairplot(dff[var_real + [target]])"
   ]
  },
  {
   "cell_type": "code",
   "execution_count": null,
   "metadata": {},
   "outputs": [],
   "source": []
  },
  {
   "cell_type": "code",
   "execution_count": null,
   "metadata": {},
   "outputs": [],
   "source": []
  },
  {
   "cell_type": "code",
   "execution_count": null,
   "metadata": {},
   "outputs": [],
   "source": []
  },
  {
   "cell_type": "markdown",
   "metadata": {},
   "source": [
    " "
   ]
  }
 ],
 "metadata": {
  "kernelspec": {
   "display_name": "Python 3",
   "language": "python",
   "name": "python3"
  },
  "language_info": {
   "codemirror_mode": {
    "name": "ipython",
    "version": 3
   },
   "file_extension": ".py",
   "mimetype": "text/x-python",
   "name": "python",
   "nbconvert_exporter": "python",
   "pygments_lexer": "ipython3",
   "version": "3.7.2"
  }
 },
 "nbformat": 4,
 "nbformat_minor": 2
}
