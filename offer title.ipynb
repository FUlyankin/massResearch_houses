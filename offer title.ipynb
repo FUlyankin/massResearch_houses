{
 "cells": [
  {
   "cell_type": "code",
   "execution_count": 20,
   "metadata": {},
   "outputs": [],
   "source": [
    "import pickle\n",
    "import re\n",
    "from bs4 import BeautifulSoup\n",
    "import time"
   ]
  },
  {
   "cell_type": "code",
   "execution_count": 4,
   "metadata": {},
   "outputs": [
    {
     "data": {
      "text/plain": [
       "['CAO.pickle',\n",
       " 'data_D.pickle',\n",
       " 'data_N.pickle',\n",
       " 'sao_5district.pickle',\n",
       " 'strange_hrefs',\n",
       " 'uao_9district.pickle']"
      ]
     },
     "execution_count": 4,
     "metadata": {},
     "output_type": "execute_result"
    }
   ],
   "source": [
    "import os\n",
    "\n",
    "path_to_directory = 'C://Users//1311959//Desktop//python//massResearch_houses//data'\n",
    "os.listdir(path_to_directory)"
   ]
  },
  {
   "cell_type": "code",
   "execution_count": 8,
   "metadata": {},
   "outputs": [
    {
     "data": {
      "text/plain": [
       "['CAO.pickle',\n",
       " 'data_D.pickle',\n",
       " 'data_N.pickle',\n",
       " 'sao_5district.pickle',\n",
       " 'uao_9district.pickle']"
      ]
     },
     "execution_count": 8,
     "metadata": {},
     "output_type": "execute_result"
    }
   ],
   "source": [
    "files = os.listdir(path_to_directory)\n",
    "files = [item for item in files if '.pickle' in item]\n",
    "files"
   ]
  },
  {
   "cell_type": "code",
   "execution_count": 11,
   "metadata": {},
   "outputs": [
    {
     "name": "stdout",
     "output_type": "stream",
     "text": [
      "27036 26966\n"
     ]
    }
   ],
   "source": [
    "hrefs_real = [ ]\n",
    "\n",
    "for file in files:\n",
    "    with open('../data/' + file, 'rb') as f:\n",
    "        data_new = pickle.load(f)\n",
    "    \n",
    "    if str(type(data_new)) == \"<class 'collections.defaultdict'>\":\n",
    "        hrefs = []\n",
    "        for k,v in data_new.items():\n",
    "            hrefs.extend(v) \n",
    "        hrefs_real += list(set(hrefs))\n",
    "    else:\n",
    "        hrefs_real += data_new # Файлы Димы\n",
    "        \n",
    "print(len(hrefs_real), len(set(hrefs_real)))\n",
    "\n",
    "hrefs_real = list(set(hrefs_real))"
   ]
  },
  {
   "cell_type": "code",
   "execution_count": 12,
   "metadata": {},
   "outputs": [
    {
     "data": {
      "text/plain": [
       "'https://www.cian.ru/sale/flat/222513897/'"
      ]
     },
     "execution_count": 12,
     "metadata": {},
     "output_type": "execute_result"
    }
   ],
   "source": [
    "hrefs_real[0]"
   ]
  },
  {
   "cell_type": "code",
   "execution_count": 33,
   "metadata": {},
   "outputs": [],
   "source": [
    "import requests\n",
    "from bs4 import BeautifulSoup\n",
    "import re\n",
    "\n",
    "import cian_info as cian"
   ]
  },
  {
   "cell_type": "code",
   "execution_count": 34,
   "metadata": {},
   "outputs": [],
   "source": [
    "url = 'https://www.cian.ru/sale/flat/223309049/'\n",
    "\n",
    "r = requests.get(url)\n",
    "content = r.content\n",
    "soup = BeautifulSoup(content)"
   ]
  },
  {
   "cell_type": "code",
   "execution_count": 35,
   "metadata": {},
   "outputs": [],
   "source": [
    "def get_area(soup):\n",
    "    offer_title = soup.find('h1', {\"data-name\": \"OfferTitle\"}).text\n",
    "    return offer_title"
   ]
  },
  {
   "cell_type": "code",
   "execution_count": 37,
   "metadata": {},
   "outputs": [
    {
     "data": {
      "text/plain": [
       "'1-комн. квартира, 35,6 м²'"
      ]
     },
     "execution_count": 37,
     "metadata": {},
     "output_type": "execute_result"
    }
   ],
   "source": [
    "get_area(soup)"
   ]
  },
  {
   "cell_type": "code",
   "execution_count": null,
   "metadata": {},
   "outputs": [],
   "source": []
  }
 ],
 "metadata": {
  "kernelspec": {
   "display_name": "Python 3",
   "language": "python",
   "name": "python3"
  },
  "language_info": {
   "codemirror_mode": {
    "name": "ipython",
    "version": 3
   },
   "file_extension": ".py",
   "mimetype": "text/x-python",
   "name": "python",
   "nbconvert_exporter": "python",
   "pygments_lexer": "ipython3",
   "version": "3.7.2"
  }
 },
 "nbformat": 4,
 "nbformat_minor": 2
}
