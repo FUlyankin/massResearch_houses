{
 "cells": [
  {
   "cell_type": "code",
   "execution_count": 3,
   "metadata": {},
   "outputs": [],
   "source": [
    "url = 'https://www.cian.ru/sale/flat/223309049/'\n",
    "\n",
    "r = requests.get(url)\n",
    "content = r.content\n",
    "soup = BeautifulSoup(content)"
   ]
  },
  {
   "cell_type": "code",
   "execution_count": 4,
   "metadata": {},
   "outputs": [],
   "source": [
    "def get_price(soup):\n",
    "    price = soup.find_all('span', {'itemprop':'price'})[0]\n",
    "    return int(re.sub('\\D', '', price.text))"
   ]
  },
  {
   "cell_type": "code",
   "execution_count": 5,
   "metadata": {},
   "outputs": [],
   "source": [
    "def roomnum_square(soup):\n",
    "    '''\n",
    "    Достаём количество комнат и площадь\n",
    "    '''\n",
    "    room_number = soup.find_all('h1', {'class':'a10a3f92e9--title--2Widg'})[0]\n",
    "    a = room_number.text\n",
    "    l = re.findall(r'[1-9]', a)\n",
    "    return(l[0],l[1:])"
   ]
  },
  {
   "cell_type": "code",
   "execution_count": 6,
   "metadata": {},
   "outputs": [
    {
     "data": {
      "text/plain": [
       "('1', ['3', '5', '8'])"
      ]
     },
     "execution_count": 6,
     "metadata": {},
     "output_type": "execute_result"
    }
   ],
   "source": [
    "roomnum_square(soup)"
   ]
  },
  {
   "cell_type": "code",
   "execution_count": 7,
   "metadata": {},
   "outputs": [],
   "source": [
    "room_number = soup.find_all('h1', {'class':'a10a3f92e9--title--2Widg'})[0]\n",
    "a = room_number.text\n",
    "l = re.findall(r'[1-9]', a)"
   ]
  },
  {
   "cell_type": "code",
   "execution_count": 8,
   "metadata": {},
   "outputs": [
    {
     "data": {
      "text/plain": [
       "'1-комн. квартира, 35,8 м²'"
      ]
     },
     "execution_count": 8,
     "metadata": {},
     "output_type": "execute_result"
    }
   ],
   "source": [
    "a"
   ]
  },
  {
   "cell_type": "code",
   "execution_count": 12,
   "metadata": {},
   "outputs": [
    {
     "data": {
      "text/plain": [
       "['35,8']"
      ]
     },
     "execution_count": 12,
     "metadata": {},
     "output_type": "execute_result"
    }
   ],
   "source": [
    "re.findall(r'\\d+.\\d{1}', a)"
   ]
  },
  {
   "cell_type": "code",
   "execution_count": 24,
   "metadata": {},
   "outputs": [
    {
     "data": {
      "text/plain": [
       "['35,8']"
      ]
     },
     "execution_count": 24,
     "metadata": {},
     "output_type": "execute_result"
    }
   ],
   "source": [
    "re.findall(r'\\d{2}.\\d{1}', a)"
   ]
  },
  {
   "cell_type": "code",
   "execution_count": null,
   "metadata": {},
   "outputs": [],
   "source": []
  },
  {
   "cell_type": "code",
   "execution_count": 137,
   "metadata": {},
   "outputs": [
    {
     "data": {
      "text/plain": [
       "<ul class=\"a10a3f92e9--undergrounds--2pop3\"><li class=\"a10a3f92e9--underground--kONgx\" data-name=\"renderUnderground\"><svg data-name=\"UndergroundIcon\" height=\"17\" viewbox=\"0 0 16 16\" width=\"17\" xmlns=\"http://www.w3.org/2000/svg\"><path d=\"M11.154 4L8 9.53 4.845 4 1.1 13.466H0v1.428h5.657v-1.428H4.81l.824-2.36L8 15l2.365-3.893.824 2.36h-.85v1.427H16v-1.428h-1.1z\" data-name=\"UndergroundIcon\" fill=\"#DB0A5B\" fill-rule=\"evenodd\"></path></svg><a class=\"a10a3f92e9--underground_link--AzxRC\" href=\"https://www.cian.ru/kupit-1-komnatnuyu-kvartiru-moskva-metro-nekrasovka/\" target=\"_blank\">Некрасовка</a><span class=\"a10a3f92e9--underground_time--1fKft\"> <!-- -->⋅<!-- --> <!-- --> 15 мин. пешком</span></li><li class=\"a10a3f92e9--underground--kONgx\" data-name=\"renderUnderground\"><svg data-name=\"UndergroundIcon\" height=\"17\" viewbox=\"0 0 16 16\" width=\"17\" xmlns=\"http://www.w3.org/2000/svg\"><path d=\"M11.154 4L8 9.53 4.845 4 1.1 13.466H0v1.428h5.657v-1.428H4.81l.824-2.36L8 15l2.365-3.893.824 2.36h-.85v1.427H16v-1.428h-1.1z\" data-name=\"UndergroundIcon\" fill=\"#DB0A5B\" fill-rule=\"evenodd\"></path></svg><a class=\"a10a3f92e9--underground_link--AzxRC\" href=\"https://www.cian.ru/kupit-1-komnatnuyu-kvartiru-moskva-metro-luhmanovskaya/\" target=\"_blank\">Лухмановская</a><span class=\"a10a3f92e9--underground_time--1fKft\"> <!-- -->⋅<!-- --> <!-- --> 4 мин. на транспорте</span></li></ul>"
      ]
     },
     "execution_count": 137,
     "metadata": {},
     "output_type": "execute_result"
    }
   ],
   "source": [
    "metro = soup.find_all('ul', {'class':'a10a3f92e9--undergrounds--2pop3'})[0]\n",
    "metro"
   ]
  },
  {
   "cell_type": "code",
   "execution_count": 138,
   "metadata": {},
   "outputs": [],
   "source": [
    "metro = metro.find_all('li')"
   ]
  },
  {
   "cell_type": "code",
   "execution_count": 139,
   "metadata": {},
   "outputs": [],
   "source": [
    "metro_number = len(metro)"
   ]
  },
  {
   "cell_type": "code",
   "execution_count": 140,
   "metadata": {},
   "outputs": [
    {
     "data": {
      "text/plain": [
       "<li class=\"a10a3f92e9--underground--kONgx\" data-name=\"renderUnderground\"><svg data-name=\"UndergroundIcon\" height=\"17\" viewbox=\"0 0 16 16\" width=\"17\" xmlns=\"http://www.w3.org/2000/svg\"><path d=\"M11.154 4L8 9.53 4.845 4 1.1 13.466H0v1.428h5.657v-1.428H4.81l.824-2.36L8 15l2.365-3.893.824 2.36h-.85v1.427H16v-1.428h-1.1z\" data-name=\"UndergroundIcon\" fill=\"#DB0A5B\" fill-rule=\"evenodd\"></path></svg><a class=\"a10a3f92e9--underground_link--AzxRC\" href=\"https://www.cian.ru/kupit-1-komnatnuyu-kvartiru-moskva-metro-luhmanovskaya/\" target=\"_blank\">Лухмановская</a><span class=\"a10a3f92e9--underground_time--1fKft\"> <!-- -->⋅<!-- --> <!-- --> 4 мин. на транспорте</span></li>"
      ]
     },
     "execution_count": 140,
     "metadata": {},
     "output_type": "execute_result"
    }
   ],
   "source": [
    "metro[1]"
   ]
  },
  {
   "cell_type": "code",
   "execution_count": 141,
   "metadata": {},
   "outputs": [],
   "source": [
    "m = metro[1].find_all('a',{'class':'a10a3f92e9--underground_link--AzxRC'})\n",
    "dist = metro[1].find_all('span',{'class':'a10a3f92e9--underground_time--1fKft'})"
   ]
  },
  {
   "cell_type": "code",
   "execution_count": 142,
   "metadata": {},
   "outputs": [
    {
     "data": {
      "text/plain": [
       "' ⋅  4 мин. на транспорте'"
      ]
     },
     "execution_count": 142,
     "metadata": {},
     "output_type": "execute_result"
    }
   ],
   "source": [
    "dist[0].text"
   ]
  },
  {
   "cell_type": "code",
   "execution_count": 143,
   "metadata": {},
   "outputs": [
    {
     "data": {
      "text/plain": [
       "[]"
      ]
     },
     "execution_count": 143,
     "metadata": {},
     "output_type": "execute_result"
    }
   ],
   "source": [
    "re.findall('\\d{2}',dist[0].text)"
   ]
  },
  {
   "cell_type": "code",
   "execution_count": 144,
   "metadata": {},
   "outputs": [
    {
     "data": {
      "text/plain": [
       "'Лухмановская'"
      ]
     },
     "execution_count": 144,
     "metadata": {},
     "output_type": "execute_result"
    }
   ],
   "source": [
    "m[0].text"
   ]
  },
  {
   "cell_type": "code",
   "execution_count": 68,
   "metadata": {},
   "outputs": [
    {
     "data": {
      "text/plain": [
       "<li class=\"a10a3f92e9--underground--kONgx\" data-name=\"renderUnderground\"><svg data-name=\"UndergroundIcon\" height=\"17\" viewbox=\"0 0 16 16\" width=\"17\" xmlns=\"http://www.w3.org/2000/svg\"><path d=\"M11.154 4L8 9.53 4.845 4 1.1 13.466H0v1.428h5.657v-1.428H4.81l.824-2.36L8 15l2.365-3.893.824 2.36h-.85v1.427H16v-1.428h-1.1z\" data-name=\"UndergroundIcon\" fill=\"#DB0A5B\" fill-rule=\"evenodd\"></path></svg><a class=\"a10a3f92e9--underground_link--AzxRC\" href=\"https://www.cian.ru/kupit-1-komnatnuyu-kvartiru-moskva-metro-nekrasovka/\" target=\"_blank\">Некрасовка</a><span class=\"a10a3f92e9--underground_time--1fKft\"> <!-- -->⋅<!-- --> <!-- --> 15 мин. пешком</span></li>"
      ]
     },
     "execution_count": 68,
     "metadata": {},
     "output_type": "execute_result"
    }
   ],
   "source": [
    "metro[0]"
   ]
  },
  {
   "cell_type": "code",
   "execution_count": 130,
   "metadata": {},
   "outputs": [],
   "source": [
    "metro_dist = {}\n",
    "for i in range(metro_number):\n",
    "    m = metro[0].find_all('a',{'class':'a10a3f92e9--underground_link--AzxRC'})\n",
    "    dist = metro[0].find_all('span',{'class':'a10a3f92e9--underground_time--1fKft'})\n",
    "    metro_dist[m[0].text] = re.findall('\\d{2}',dist[0].text)"
   ]
  },
  {
   "cell_type": "code",
   "execution_count": 136,
   "metadata": {},
   "outputs": [
    {
     "data": {
      "text/plain": [
       "15"
      ]
     },
     "execution_count": 136,
     "metadata": {},
     "output_type": "execute_result"
    }
   ],
   "source": [
    "int((metro_dist['Некрасовка'][0]))"
   ]
  }
 ],
 "metadata": {
  "kernelspec": {
   "display_name": "Python 3",
   "language": "python",
   "name": "python3"
  },
  "language_info": {
   "codemirror_mode": {
    "name": "ipython",
    "version": 3
   },
   "file_extension": ".py",
   "mimetype": "text/x-python",
   "name": "python",
   "nbconvert_exporter": "python",
   "pygments_lexer": "ipython3",
   "version": "3.7.4"
  }
 },
 "nbformat": 4,
 "nbformat_minor": 2
}
