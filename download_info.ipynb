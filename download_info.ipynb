{
 "cells": [
  {
   "cell_type": "markdown",
   "metadata": {},
   "source": [
    "# 1. Вытаскиваем ссылки, которые накачали"
   ]
  },
  {
   "cell_type": "code",
   "execution_count": 3,
   "metadata": {},
   "outputs": [],
   "source": [
    "import pickle\n",
    "import collections"
   ]
  },
  {
   "cell_type": "code",
   "execution_count": 5,
   "metadata": {},
   "outputs": [
    {
     "data": {
      "text/plain": [
       "'/Users/fulyankin/Documents/massResearch_houses'"
      ]
     },
     "execution_count": 5,
     "metadata": {},
     "output_type": "execute_result"
    }
   ],
   "source": [
    "pwd"
   ]
  },
  {
   "cell_type": "code",
   "execution_count": 6,
   "metadata": {},
   "outputs": [
    {
     "data": {
      "text/plain": [
       "['CAO.pickle',\n",
       " 'data_D.pickle',\n",
       " 'data_N.pickle',\n",
       " 'data_zao.pickle',\n",
       " 'sao_5district.pickle',\n",
       " 'TAO.pickle',\n",
       " 'uao_9district.pickle',\n",
       " 'UZAO_10district.pickle']"
      ]
     },
     "execution_count": 6,
     "metadata": {},
     "output_type": "execute_result"
    }
   ],
   "source": [
    "import os\n",
    "\n",
    "path_to_directory = '/Users/fulyankin/Documents/massResearch_houses/data'\n",
    "files =  os.listdir(path_to_directory)\n",
    "\n",
    "files = [item for item in files if '.pickle' in item]\n",
    "files"
   ]
  },
  {
   "cell_type": "code",
   "execution_count": 7,
   "metadata": {},
   "outputs": [
    {
     "name": "stdout",
     "output_type": "stream",
     "text": [
      "35097 34907\n"
     ]
    }
   ],
   "source": [
    "hrefs_real = [ ]\n",
    "\n",
    "for file in files:\n",
    "    with open('data/' + file, 'rb') as f:\n",
    "        data_new = pickle.load(f)\n",
    "    \n",
    "    if str(type(data_new)) == \"<class 'collections.defaultdict'>\":\n",
    "        hrefs = []\n",
    "        for k,v in data_new.items():\n",
    "            hrefs.extend(v) \n",
    "        hrefs_real += list(set(hrefs))\n",
    "    else:\n",
    "        hrefs_real += data_new # Файлы Димы\n",
    "        \n",
    "print(len(hrefs_real), len(set(hrefs_real)))\n",
    "\n",
    "hrefs_real = list(set(hrefs_real))"
   ]
  },
  {
   "cell_type": "markdown",
   "metadata": {},
   "source": [
    "# 2. Качаем основную информацию по квартирам"
   ]
  },
  {
   "cell_type": "code",
   "execution_count": 9,
   "metadata": {},
   "outputs": [],
   "source": [
    "import requests\n",
    "from bs4 import BeautifulSoup\n",
    "import re\n",
    "\n",
    "# модуль с мелкими функциями для части информации\n",
    "import cian_info as cian"
   ]
  },
  {
   "cell_type": "code",
   "execution_count": 10,
   "metadata": {},
   "outputs": [
    {
     "data": {
      "text/plain": [
       "'https://www.cian.ru/sale/flat/225377435/'"
      ]
     },
     "execution_count": 10,
     "metadata": {},
     "output_type": "execute_result"
    }
   ],
   "source": [
    "url = hrefs_real[0]\n",
    "url"
   ]
  },
  {
   "cell_type": "markdown",
   "metadata": {},
   "source": [
    "Объединяем всё в одну функцию! "
   ]
  },
  {
   "cell_type": "code",
   "execution_count": 13,
   "metadata": {},
   "outputs": [],
   "source": [
    "def infa_download(soup):\n",
    "    infa_dict = {}\n",
    "    infa_dict.update(cian.get_general_information(soup))\n",
    "    infa_dict.update(cian.get_about(soup))\n",
    "    infa_dict.update(cian.get_price(soup))\n",
    "    infa_dict.update(cian.get_description(soup))\n",
    "    infa_dict.update(cian.get_square_info(soup))\n",
    "    infa_dict.update(cian.get_address(soup))\n",
    "    infa_dict.update(cian.get_metro(soup))\n",
    "    infa_dict.update(cian.get_title(soup))\n",
    "    infa_dict.update(cian.get_coord(soup))\n",
    "    return infa_dict"
   ]
  },
  {
   "cell_type": "code",
   "execution_count": 14,
   "metadata": {},
   "outputs": [
    {
     "name": "stdout",
     "output_type": "stream",
     "text": [
      "объявление снято\n",
      "объявление снято\n"
     ]
    }
   ],
   "source": [
    "import time\n",
    "from requests.exceptions import ConnectionError\n",
    "\n",
    "all_infa = [ ]\n",
    "\n",
    "for url in hrefs_real[:10]:  # качаю для первого десятка ссылок\n",
    "    try:\n",
    "        time.sleep(1)\n",
    "        soup = cian.get_soup(url)\n",
    "    except ConnectionError:\n",
    "        time.sleep(10)\n",
    "        soup = cian.get_soup(url)\n",
    "    \n",
    "    if soup.find(\"div\", {\"data-name\": \"OfferUnpublished\"}):\n",
    "        print('объявление снято')\n",
    "        continue\n",
    "        \n",
    "    cur_infa = infa_download(soup)\n",
    "    all_infa.append(cur_infa)"
   ]
  },
  {
   "cell_type": "code",
   "execution_count": 15,
   "metadata": {},
   "outputs": [
    {
     "data": {
      "text/plain": [
       "9"
      ]
     },
     "execution_count": 15,
     "metadata": {},
     "output_type": "execute_result"
    }
   ],
   "source": [
    "hrefs_real.index(url)"
   ]
  },
  {
   "cell_type": "code",
   "execution_count": 16,
   "metadata": {},
   "outputs": [
    {
     "data": {
      "text/plain": [
       "8"
      ]
     },
     "execution_count": 16,
     "metadata": {},
     "output_type": "execute_result"
    }
   ],
   "source": [
    "len(all_infa)"
   ]
  },
  {
   "cell_type": "markdown",
   "metadata": {},
   "source": [
    "Сохранялка. Сохраняем в формате `info_2000_5000.pickle`, где цифры означают с какого по какой файл скачали."
   ]
  },
  {
   "cell_type": "code",
   "execution_count": null,
   "metadata": {},
   "outputs": [],
   "source": [
    "# осторожнее с именами файлов! случайно можно перезаписать готовый :( \n",
    "with open('data/info_0_10.pickle', 'wb') as f:\n",
    "    pickle.dump(hrefs_dict, f)"
   ]
  },
  {
   "cell_type": "code",
   "execution_count": null,
   "metadata": {},
   "outputs": [],
   "source": [
    "# можно проверить всё ли ок сохранилось\n",
    "with open('data/info_0_10.pickle', 'rb') as f:\n",
    "    data_new = pickle.load(f)"
   ]
  },
  {
   "cell_type": "markdown",
   "metadata": {},
   "source": [
    "Поглазеть на данные: "
   ]
  },
  {
   "cell_type": "code",
   "execution_count": 17,
   "metadata": {},
   "outputs": [
    {
     "data": {
      "text/html": [
       "<div>\n",
       "<style scoped>\n",
       "    .dataframe tbody tr th:only-of-type {\n",
       "        vertical-align: middle;\n",
       "    }\n",
       "\n",
       "    .dataframe tbody tr th {\n",
       "        vertical-align: top;\n",
       "    }\n",
       "\n",
       "    .dataframe thead th {\n",
       "        text-align: right;\n",
       "    }\n",
       "</style>\n",
       "<table border=\"1\" class=\"dataframe\">\n",
       "  <thead>\n",
       "    <tr style=\"text-align: right;\">\n",
       "      <th></th>\n",
       "      <th>lat</th>\n",
       "      <th>long</th>\n",
       "      <th>Аварийность</th>\n",
       "      <th>Балкон/лоджия</th>\n",
       "      <th>Вид из окон</th>\n",
       "      <th>Высота потолков</th>\n",
       "      <th>Газоснабжение</th>\n",
       "      <th>Год постройки</th>\n",
       "      <th>Жилая</th>\n",
       "      <th>Кухня</th>\n",
       "      <th>...</th>\n",
       "      <th>Срок сдачи</th>\n",
       "      <th>Тип дома</th>\n",
       "      <th>Тип жилья</th>\n",
       "      <th>Тип перекрытий</th>\n",
       "      <th>Этаж</th>\n",
       "      <th>адрес</th>\n",
       "      <th>метро</th>\n",
       "      <th>описание</th>\n",
       "      <th>тайтл</th>\n",
       "      <th>цена</th>\n",
       "    </tr>\n",
       "  </thead>\n",
       "  <tbody>\n",
       "    <tr>\n",
       "      <th>0</th>\n",
       "      <td>55.574803</td>\n",
       "      <td>37.587847</td>\n",
       "      <td>Нет</td>\n",
       "      <td>NaN</td>\n",
       "      <td>Во двор</td>\n",
       "      <td>2,7 м</td>\n",
       "      <td>NaN</td>\n",
       "      <td>1992</td>\n",
       "      <td>20,8 м²</td>\n",
       "      <td>8,6 м²</td>\n",
       "      <td>...</td>\n",
       "      <td>NaN</td>\n",
       "      <td>Панельный</td>\n",
       "      <td>Вторичка</td>\n",
       "      <td>Железобетонные</td>\n",
       "      <td>1 из 14</td>\n",
       "      <td>Москва, ЮЗАО, р-н Северное Бутово, Старобитцев...</td>\n",
       "      <td>[Бульвар Дмитрия Донского ⋅  10 мин. пешком]</td>\n",
       "      <td>Недалеко от метро,после косметического ремонта...</td>\n",
       "      <td>1-комн. квартира, 39 м²</td>\n",
       "      <td>6290000</td>\n",
       "    </tr>\n",
       "    <tr>\n",
       "      <th>1</th>\n",
       "      <td>55.7612101689</td>\n",
       "      <td>37.5557740823</td>\n",
       "      <td>NaN</td>\n",
       "      <td>3 балкона</td>\n",
       "      <td>NaN</td>\n",
       "      <td>NaN</td>\n",
       "      <td>NaN</td>\n",
       "      <td>NaN</td>\n",
       "      <td>66,9 м²</td>\n",
       "      <td>53,1 м²</td>\n",
       "      <td>...</td>\n",
       "      <td>2 кв. 2022</td>\n",
       "      <td>Монолитный</td>\n",
       "      <td>Новостройка</td>\n",
       "      <td>NaN</td>\n",
       "      <td>16 из 21</td>\n",
       "      <td>Москва, ЦАО, р-н Пресненский, 2-я Звенигородск...</td>\n",
       "      <td>[Улица 1905 года ⋅  7 мин. пешком, Краснопресн...</td>\n",
       "      <td>Продается 4-комнатная квартира, в строящемся д...</td>\n",
       "      <td>4-комн. квартира, 189,18 м²</td>\n",
       "      <td>116156520</td>\n",
       "    </tr>\n",
       "    <tr>\n",
       "      <th>2</th>\n",
       "      <td>55.871056</td>\n",
       "      <td>37.531379</td>\n",
       "      <td>Нет</td>\n",
       "      <td>1 лоджия</td>\n",
       "      <td>Во двор</td>\n",
       "      <td>3 м</td>\n",
       "      <td>NaN</td>\n",
       "      <td>2006</td>\n",
       "      <td>25 м²</td>\n",
       "      <td>16 м²</td>\n",
       "      <td>...</td>\n",
       "      <td>NaN</td>\n",
       "      <td>Монолитный</td>\n",
       "      <td>Вторичка</td>\n",
       "      <td>Железобетонные</td>\n",
       "      <td>13 из 17</td>\n",
       "      <td>Москва, САО, р-н Западное Дегунино, Коровинско...</td>\n",
       "      <td>[Селигерская ⋅  10 мин. пешком]</td>\n",
       "      <td>Собственник. ЭКСКЛЮЗИВ. НЕ АППАРТАМЕНТЫ!\\nПрод...</td>\n",
       "      <td>2-комн. квартира, 55 м²</td>\n",
       "      <td>10200000</td>\n",
       "    </tr>\n",
       "    <tr>\n",
       "      <th>3</th>\n",
       "      <td>55.748579</td>\n",
       "      <td>37.598555</td>\n",
       "      <td>Нет</td>\n",
       "      <td>NaN</td>\n",
       "      <td>NaN</td>\n",
       "      <td>NaN</td>\n",
       "      <td>NaN</td>\n",
       "      <td>2002</td>\n",
       "      <td>NaN</td>\n",
       "      <td>NaN</td>\n",
       "      <td>...</td>\n",
       "      <td>NaN</td>\n",
       "      <td>Монолитный</td>\n",
       "      <td>Вторичка</td>\n",
       "      <td>Железобетонные</td>\n",
       "      <td>8 из 9</td>\n",
       "      <td>Москва, ЦАО, р-н Арбат, Филипповский пер., 8С1</td>\n",
       "      <td>[Арбатская, Кропоткинская]</td>\n",
       "      <td>Лот 64900; ЖК \"Филипповский\" - Видовая 5-комна...</td>\n",
       "      <td>5-комн. квартира, 256 м²</td>\n",
       "      <td>299000000</td>\n",
       "    </tr>\n",
       "    <tr>\n",
       "      <th>4</th>\n",
       "      <td>55.579811</td>\n",
       "      <td>37.67131</td>\n",
       "      <td>Нет</td>\n",
       "      <td>1 лоджия</td>\n",
       "      <td>На улицу и двор</td>\n",
       "      <td>NaN</td>\n",
       "      <td>Центральное</td>\n",
       "      <td>2013</td>\n",
       "      <td>19 м²</td>\n",
       "      <td>15 м²</td>\n",
       "      <td>...</td>\n",
       "      <td>NaN</td>\n",
       "      <td>Блочный</td>\n",
       "      <td>Вторичка</td>\n",
       "      <td>Железобетонные</td>\n",
       "      <td>6 из 17</td>\n",
       "      <td>Москва, ЮАО, р-н Бирюлево Восточное, Михневска...</td>\n",
       "      <td>[Царицыно ⋅  15 мин. на транспорте]</td>\n",
       "      <td>Продается квартира 1829 площадью 55,9 кв.м. в ...</td>\n",
       "      <td>1-комн. квартира, 55,9 м²</td>\n",
       "      <td>7747740</td>\n",
       "    </tr>\n",
       "  </tbody>\n",
       "</table>\n",
       "<p>5 rows × 31 columns</p>\n",
       "</div>"
      ],
      "text/plain": [
       "             lat           long Аварийность Балкон/лоджия      Вид из окон  \\\n",
       "0      55.574803      37.587847         Нет           NaN          Во двор   \n",
       "1  55.7612101689  37.5557740823         NaN     3 балкона              NaN   \n",
       "2      55.871056      37.531379         Нет      1 лоджия          Во двор   \n",
       "3      55.748579      37.598555         Нет           NaN              NaN   \n",
       "4      55.579811       37.67131         Нет      1 лоджия  На улицу и двор   \n",
       "\n",
       "  Высота потолков Газоснабжение Год постройки    Жилая    Кухня  ...  \\\n",
       "0           2,7 м           NaN          1992  20,8 м²   8,6 м²  ...   \n",
       "1             NaN           NaN           NaN  66,9 м²  53,1 м²  ...   \n",
       "2             3 м           NaN          2006    25 м²    16 м²  ...   \n",
       "3             NaN           NaN          2002      NaN      NaN  ...   \n",
       "4             NaN   Центральное          2013    19 м²    15 м²  ...   \n",
       "\n",
       "   Срок сдачи    Тип дома    Тип жилья  Тип перекрытий      Этаж  \\\n",
       "0         NaN   Панельный     Вторичка  Железобетонные   1 из 14   \n",
       "1  2 кв. 2022  Монолитный  Новостройка             NaN  16 из 21   \n",
       "2         NaN  Монолитный     Вторичка  Железобетонные  13 из 17   \n",
       "3         NaN  Монолитный     Вторичка  Железобетонные    8 из 9   \n",
       "4         NaN     Блочный     Вторичка  Железобетонные   6 из 17   \n",
       "\n",
       "                                               адрес  \\\n",
       "0  Москва, ЮЗАО, р-н Северное Бутово, Старобитцев...   \n",
       "1  Москва, ЦАО, р-н Пресненский, 2-я Звенигородск...   \n",
       "2  Москва, САО, р-н Западное Дегунино, Коровинско...   \n",
       "3     Москва, ЦАО, р-н Арбат, Филипповский пер., 8С1   \n",
       "4  Москва, ЮАО, р-н Бирюлево Восточное, Михневска...   \n",
       "\n",
       "                                               метро  \\\n",
       "0       [Бульвар Дмитрия Донского ⋅  10 мин. пешком]   \n",
       "1  [Улица 1905 года ⋅  7 мин. пешком, Краснопресн...   \n",
       "2                    [Селигерская ⋅  10 мин. пешком]   \n",
       "3                         [Арбатская, Кропоткинская]   \n",
       "4                [Царицыно ⋅  15 мин. на транспорте]   \n",
       "\n",
       "                                            описание  \\\n",
       "0  Недалеко от метро,после косметического ремонта...   \n",
       "1  Продается 4-комнатная квартира, в строящемся д...   \n",
       "2  Собственник. ЭКСКЛЮЗИВ. НЕ АППАРТАМЕНТЫ!\\nПрод...   \n",
       "3  Лот 64900; ЖК \"Филипповский\" - Видовая 5-комна...   \n",
       "4  Продается квартира 1829 площадью 55,9 кв.м. в ...   \n",
       "\n",
       "                         тайтл       цена  \n",
       "0      1-комн. квартира, 39 м²    6290000  \n",
       "1  4-комн. квартира, 189,18 м²  116156520  \n",
       "2      2-комн. квартира, 55 м²   10200000  \n",
       "3     5-комн. квартира, 256 м²  299000000  \n",
       "4    1-комн. квартира, 55,9 м²    7747740  \n",
       "\n",
       "[5 rows x 31 columns]"
      ]
     },
     "execution_count": 17,
     "metadata": {},
     "output_type": "execute_result"
    }
   ],
   "source": [
    "import pandas as pd\n",
    "df = pd.DataFrame(all_infa)\n",
    "df.head()"
   ]
  },
  {
   "cell_type": "code",
   "execution_count": 18,
   "metadata": {},
   "outputs": [
    {
     "data": {
      "text/plain": [
       "(8, 31)"
      ]
     },
     "execution_count": 18,
     "metadata": {},
     "output_type": "execute_result"
    }
   ],
   "source": [
    "df.shape"
   ]
  },
  {
   "cell_type": "code",
   "execution_count": 19,
   "metadata": {},
   "outputs": [
    {
     "data": {
      "text/plain": [
       "lat                0\n",
       "long               0\n",
       "Аварийность        4\n",
       "Балкон/лоджия      5\n",
       "Вид из окон        2\n",
       "Высота потолков    4\n",
       "Газоснабжение      7\n",
       "Год постройки      4\n",
       "Жилая              3\n",
       "Кухня              2\n",
       "Лифты              0\n",
       "Мусоропровод       6\n",
       "Общая              0\n",
       "Отделка            7\n",
       "Отопление          4\n",
       "Парковка           2\n",
       "Площадь комнат     4\n",
       "Подъезды           4\n",
       "Построен           3\n",
       "Ремонт             3\n",
       "Санузел            1\n",
       "Срок сдачи         6\n",
       "Тип дома           3\n",
       "Тип жилья          0\n",
       "Тип перекрытий     4\n",
       "Этаж               0\n",
       "адрес              0\n",
       "метро              0\n",
       "описание           0\n",
       "тайтл              0\n",
       "цена               0\n",
       "dtype: int64"
      ]
     },
     "execution_count": 19,
     "metadata": {},
     "output_type": "execute_result"
    }
   ],
   "source": [
    "df.isnull().sum()"
   ]
  },
  {
   "cell_type": "markdown",
   "metadata": {},
   "source": [
    " "
   ]
  }
 ],
 "metadata": {
  "kernelspec": {
   "display_name": "Python 3",
   "language": "python",
   "name": "python3"
  },
  "language_info": {
   "codemirror_mode": {
    "name": "ipython",
    "version": 3
   },
   "file_extension": ".py",
   "mimetype": "text/x-python",
   "name": "python",
   "nbconvert_exporter": "python",
   "pygments_lexer": "ipython3",
   "version": "3.7.2"
  }
 },
 "nbformat": 4,
 "nbformat_minor": 2
}
