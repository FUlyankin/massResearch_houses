{
 "cells": [
  {
   "cell_type": "code",
   "execution_count": 1,
   "metadata": {},
   "outputs": [],
   "source": [
    "import pandas as pd\n",
    "import numpy as np\n",
    "import matplotlib.pyplot as plt\n",
    "import seaborn as sns\n",
    "plt.style.use('ggplot')"
   ]
  },
  {
   "cell_type": "code",
   "execution_count": 2,
   "metadata": {},
   "outputs": [],
   "source": [
    "data = pd.read_csv(r'C:\\Users\\Admin\\Desktop\\Учеба\\Семинары Фили\\week11_googleMaps\\cian_data_v2.csv')"
   ]
  },
  {
   "cell_type": "code",
   "execution_count": 3,
   "metadata": {},
   "outputs": [],
   "source": [
    "text = data['описание']\n",
    "y = data['цена']"
   ]
  },
  {
   "cell_type": "code",
   "execution_count": 4,
   "metadata": {},
   "outputs": [],
   "source": [
    "from sklearn.model_selection import train_test_split\n",
    "T_train, T_test, y_train, y_test = train_test_split(text, y, test_size = 0.2)"
   ]
  },
  {
   "cell_type": "code",
   "execution_count": 5,
   "metadata": {},
   "outputs": [],
   "source": [
    "import string\n",
    "import re\n",
    "\n",
    "from pymorphy2 import MorphAnalyzer\n",
    "m = MorphAnalyzer()\n",
    "\n",
    "from nltk.corpus import stopwords\n",
    "stopwords_ru = stopwords.words('russian') \n",
    "\n",
    "from nltk.tokenize import sent_tokenize\n",
    "from nltk.tokenize import word_tokenize\n",
    "\n",
    "def prepare_text(text):\n",
    "    tokens = word_tokenize(text.lower())\n",
    "    clean_tokens = [m.normal_forms(word)[0]  for word in tokens if (word not in stopwords_ru) and \n",
    "                         (len(re.sub('[' + string.punctuation + ']', '', word)) > 1)]\n",
    "    return ' '.join(clean_tokens)"
   ]
  },
  {
   "cell_type": "code",
   "execution_count": 6,
   "metadata": {},
   "outputs": [],
   "source": [
    "from sklearn.feature_extraction.text import TfidfVectorizer\n",
    "vect = TfidfVectorizer(min_df=10, max_df=0.8)#, max_features=4000)\n",
    "T_train_v = vect.fit_transform(T_train)\n",
    "T_test_v = vect.transform(T_test)"
   ]
  },
  {
   "cell_type": "code",
   "execution_count": 7,
   "metadata": {},
   "outputs": [
    {
     "data": {
      "text/plain": [
       "(28087, 12704)"
      ]
     },
     "execution_count": 7,
     "metadata": {},
     "output_type": "execute_result"
    }
   ],
   "source": [
    "T_train_v.todense().shape"
   ]
  },
  {
   "cell_type": "code",
   "execution_count": 8,
   "metadata": {},
   "outputs": [],
   "source": [
    "from sklearn.pipeline import Pipeline\n",
    "from sklearn.model_selection import GridSearchCV, KFold\n",
    "from sklearn.linear_model import ElasticNet\n",
    "from sklearn.neighbors import KNeighborsRegressor\n",
    "from sklearn.ensemble import RandomForestRegressor\n",
    "from sklearn.svm import SVR\n",
    "\n",
    "pipe = Pipeline([('preprocessing', None), ('regressor', ElasticNet())])\n",
    "\n",
    "param_grid = [\n",
    "    {'regressor': [ElasticNet()],\n",
    "     'regressor__alpha': [1e-6, 1e-5, 1e-4, 1e-3, 1e-2, 1e-1, 1],\n",
    "     'regressor__l1_ratio': [0, 0.1, 0.5, 0.7, 0.9, 0.95, 0.99, 1]},\n",
    "    {'regressor': [RandomForestRegressor(n_estimators = 300)],\n",
    "     'regressor__max_depth': [700, 1000, 2000, None]},\n",
    "    {'regressor': [KNeighborsRegressor()],\n",
    "     'regressor__n_neighbors': [1, 2, 3, 4, 5, 40]},\n",
    "    {'regressor': [SVR()],\n",
    "     'regressor__tol': [10000],\n",
    "     'regressor__C': [0.1, 0.5, 1, 5, 10],\n",
    "     'regressor__max_iter': [10000]}\n",
    "]\n",
    "\n",
    "cv = KFold(n_splits = 5)\n",
    "\n",
    "grid = GridSearchCV(pipe, param_grid = param_grid, cv=cv, n_jobs = -1, return_train_score=True)"
   ]
  },
  {
   "cell_type": "code",
   "execution_count": null,
   "metadata": {},
   "outputs": [],
   "source": [
    "grid.fit(T_train_v, y_train)\n",
    "\n",
    "print(\"Средняя правильность для наилучшей модели на тестовом наборе: {:.6f}\\n\".format(grid.score(T_test, y_test)))\n",
    "gridresults = pd.DataFrame(grid.cv_results_)\n",
    "display(gridresults.sort_values([\"rank_test_score\"]).T)\n",
    "best_model = grid.best_estimator_\n",
    "\n",
    "import winsound\n",
    "\n",
    "#Пищалка по окончании обучения\n",
    "frequency = 750  # Set Frequency To 750 Hertz\n",
    "duration = 1000  # Set Duration To 1000 ms == 1 second\n",
    "winsound.Beep(frequency, duration)"
   ]
  },
  {
   "cell_type": "code",
   "execution_count": null,
   "metadata": {},
   "outputs": [],
   "source": [
    "from sklearn.metrics import mean_absolute_error\n",
    "mean_absolute_error(y_test, grid.predict(T_test))"
   ]
  },
  {
   "cell_type": "code",
   "execution_count": null,
   "metadata": {},
   "outputs": [],
   "source": []
  }
 ],
 "metadata": {
  "kernelspec": {
   "display_name": "Python 3",
   "language": "python",
   "name": "python3"
  },
  "language_info": {
   "codemirror_mode": {
    "name": "ipython",
    "version": 3
   },
   "file_extension": ".py",
   "mimetype": "text/x-python",
   "name": "python",
   "nbconvert_exporter": "python",
   "pygments_lexer": "ipython3",
   "version": "3.7.7"
  }
 },
 "nbformat": 4,
 "nbformat_minor": 4
}
