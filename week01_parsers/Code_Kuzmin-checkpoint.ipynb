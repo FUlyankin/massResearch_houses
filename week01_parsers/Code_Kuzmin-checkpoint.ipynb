{
 "cells": [
  {
   "cell_type": "markdown",
   "metadata": {},
   "source": [
    "# Наш любимый парсер"
   ]
  },
  {
   "cell_type": "code",
   "execution_count": 1,
   "metadata": {},
   "outputs": [
    {
     "name": "stdout",
     "output_type": "stream",
     "text": [
      "Requirement already satisfied: beautifulsoup4 in c:\\programdata\\anaconda3\\lib\\site-packages (4.7.1)\n",
      "Requirement already satisfied: soupsieve>=1.2 in c:\\programdata\\anaconda3\\lib\\site-packages (from beautifulsoup4) (1.8)\n",
      "Note: you may need to restart the kernel to use updated packages.\n"
     ]
    }
   ],
   "source": [
    "pip install beautifulsoup4"
   ]
  },
  {
   "cell_type": "code",
   "execution_count": 2,
   "metadata": {
    "scrolled": true
   },
   "outputs": [
    {
     "name": "stdout",
     "output_type": "stream",
     "text": [
      "Collecting time\n",
      "Note: you may need to restart the kernel to use updated packages.\n"
     ]
    },
    {
     "name": "stderr",
     "output_type": "stream",
     "text": [
      "  ERROR: Could not find a version that satisfies the requirement time (from versions: none)\n",
      "ERROR: No matching distribution found for time\n"
     ]
    }
   ],
   "source": [
    "pip install time"
   ]
  },
  {
   "cell_type": "code",
   "execution_count": 3,
   "metadata": {
    "scrolled": true
   },
   "outputs": [
    {
     "name": "stdout",
     "output_type": "stream",
     "text": [
      "Requirement already satisfied: selenium in c:\\programdata\\anaconda3\\lib\\site-packages (3.141.0)\n",
      "Requirement already satisfied: urllib3 in c:\\programdata\\anaconda3\\lib\\site-packages (from selenium) (1.24.2)\n",
      "Note: you may need to restart the kernel to use updated packages.\n"
     ]
    }
   ],
   "source": [
    "pip install selenium"
   ]
  },
  {
   "cell_type": "code",
   "execution_count": null,
   "metadata": {},
   "outputs": [],
   "source": [
    "pip install tqdm"
   ]
  },
  {
   "cell_type": "code",
   "execution_count": null,
   "metadata": {},
   "outputs": [],
   "source": [
    "pip install lxml"
   ]
  },
  {
   "cell_type": "code",
   "execution_count": 4,
   "metadata": {},
   "outputs": [],
   "source": [
    "import requests\n",
    "from requests.exceptions import ConnectionError\n",
    "from bs4 import BeautifulSoup\n",
    "from tqdm import tqdm_notebook\n",
    "import time\n",
    "from lxml.html import fromstring"
   ]
  },
  {
   "cell_type": "markdown",
   "metadata": {},
   "source": [
    "Делаем ссылку для парсера"
   ]
  },
  {
   "cell_type": "code",
   "execution_count": 5,
   "metadata": {},
   "outputs": [],
   "source": [
    "def create_url(params):\n",
    "    main_page = 'https://www.cian.ru/cat.php?'\n",
    "    params_1 = 'engine_version=2&deal_type=sale&offer_type=flat'\n",
    "    params_2 = '&district={district}&{room}&region={region}&object_type={objt}'.format(**params)\n",
    "    return main_page + params_1 + params_2\n",
    "\n",
    "params = {\n",
    "    'region': 1,\n",
    "    'district': 1,\n",
    "    'room': 'room1=1',\n",
    "    'objt': 1}\n",
    "\n",
    "\n",
    "districts = [1, 325, 326, 4, 5, 6, 7, 8, 9, 10, 11, 151]\n",
    "\n",
    "rooms = ['room1=1', 'room2=1', 'room3=1', 'room4=1', \n",
    "         'room5=1', 'room6=1', 'room7=1', 'room9=1']\n",
    "\n",
    "objt = [1,2]"
   ]
  },
  {
   "cell_type": "code",
   "execution_count": 6,
   "metadata": {},
   "outputs": [
    {
     "data": {
      "text/plain": [
       "16"
      ]
     },
     "execution_count": 6,
     "metadata": {},
     "output_type": "execute_result"
    }
   ],
   "source": [
    "main_urls = [ ]\n",
    "\n",
    "for rm in rooms:\n",
    "    for ob in objt:\n",
    "        params = {\n",
    "            'region': 1,\n",
    "            'district': 4,\n",
    "            'room': rm,\n",
    "            'objt': ob}    \n",
    "        main_urls.append(create_url(params))\n",
    "            \n",
    "len(main_urls)\n",
    "\n"
   ]
  },
  {
   "cell_type": "code",
   "execution_count": 7,
   "metadata": {},
   "outputs": [],
   "source": [
    "def check_capcha(soup):\n",
    "    if soup.title.text == 'Captcha - база объявлений ЦИАН':\n",
    "        print(\"Вылезла сраная капча!\")\n",
    "        return True\n",
    "    else:\n",
    "        return False"
   ]
  },
  {
   "cell_type": "code",
   "execution_count": 8,
   "metadata": {},
   "outputs": [],
   "source": [
    "def check_existence(soup):\n",
    "    if soup.find('h3', {'class' : '_93444fe79c--banner-text-bold--gDIvc'}) == []:\n",
    "        print('Такого сайта нет')\n",
    "        return True"
   ]
  },
  {
   "cell_type": "code",
   "execution_count": 9,
   "metadata": {},
   "outputs": [],
   "source": [
    "def get_hrefs(url, p):\n",
    "    MAX_RETRIES = 10\n",
    "    url = url +'&p={}'.format(p)\n",
    "    \n",
    "    session = requests.Session()\n",
    "    adapter = requests.adapters.HTTPAdapter(max_retries=MAX_RETRIES)\n",
    "    session.mount('https://', adapter)\n",
    "    session.mount('http://', adapter)\n",
    "    \n",
    "    resp = session.get(url)\n",
    "    print(resp.status_code)\n",
    "    soup = BeautifulSoup(resp.content)\n",
    "    \n",
    "    existence = check_existence(soup)\n",
    "    \n",
    "    s = soup.find_all('div', {'class' : '_93444fe79c--card--_yguQ'})\n",
    "    hrefs = [(url, item.find('a', {'class' : 'c6e8ba5398--header--1fV2A'}).get('href')) for item in s]\n",
    "    return hrefs\n",
    "    "
   ]
  },
  {
   "cell_type": "code",
   "execution_count": 10,
   "metadata": {},
   "outputs": [],
   "source": [
    "def get_soup(url, p):  \n",
    "    \n",
    "    url = url + '&p={}'.format(p)\n",
    "    resp = requests.get(url)\n",
    "    soup = BeautifulSoup(resp.content)\n",
    "    return soup "
   ]
  },
  {
   "cell_type": "code",
   "execution_count": 11,
   "metadata": {},
   "outputs": [],
   "source": [
    "def get_proxies():\n",
    "    url = 'https://free-proxy-list.net/'\n",
    "    response = requests.get(url)\n",
    "    parser = fromstring(response.text)\n",
    "    proxies = set()\n",
    "    for i in parser.xpath('//tbody/tr')[:10]:\n",
    "        if i.xpath('.//td[7][contains(text(),\"yes\")]'):\n",
    "            #Grabbing IP and corresponding PORT\n",
    "            proxy = \":\".join([i.xpath('.//td[1]/text()')[0], i.xpath('.//td[2]/text()')[0]])\n",
    "            proxies.add(proxy)\n",
    "    return proxies"
   ]
  },
  {
   "cell_type": "code",
   "execution_count": 11,
   "metadata": {},
   "outputs": [],
   "source": [
    "#path = r'‪C:\\Users\\Admin\\Desktop\\gekodriver\\geckodriver.exe'\n",
    "#subprocess.call(path)"
   ]
  },
  {
   "cell_type": "code",
   "execution_count": 12,
   "metadata": {
    "scrolled": false
   },
   "outputs": [],
   "source": [
    "#from selenium import webdriver #веселый кулхацкинг\n",
    "\n",
    "#driver = webdriver.Firefox()"
   ]
  },
  {
   "cell_type": "code",
   "execution_count": null,
   "metadata": {
    "scrolled": true
   },
   "outputs": [
    {
     "data": {
      "application/vnd.jupyter.widget-view+json": {
       "model_id": "edac845796bd4a6886aeeaafebe5e171",
       "version_major": 2,
       "version_minor": 0
      },
      "text/plain": [
       "HBox(children=(IntProgress(value=0, max=16), HTML(value='')))"
      ]
     },
     "metadata": {},
     "output_type": "display_data"
    },
    {
     "name": "stdout",
     "output_type": "stream",
     "text": [
      "200\n",
      "200\n",
      "200\n",
      "200\n",
      "200\n",
      "200\n",
      "200\n",
      "200\n",
      "200\n",
      "200\n",
      "200\n",
      "200\n",
      "200\n",
      "200\n",
      "Конекшн эрор\n",
      "200\n",
      "200\n",
      "200\n",
      "200\n",
      "200\n",
      "Конекшн эрор\n",
      "200\n",
      "200\n",
      "200\n",
      "200\n",
      "200\n",
      "200\n",
      "200\n",
      "200\n",
      "200\n",
      "200\n",
      "200\n",
      "200\n",
      "200\n",
      "200\n",
      "200\n",
      "200\n",
      "200\n",
      "200\n",
      "200\n",
      "200\n",
      "200\n",
      "200\n",
      "200\n",
      "200\n",
      "200\n",
      "200\n",
      "200\n",
      "Конекшн эрор\n",
      "200\n",
      "200\n",
      "200\n",
      "200\n",
      "200\n",
      "200\n",
      "200\n",
      "Конекшн эрор\n",
      "200\n",
      "200\n",
      "200\n",
      "200\n",
      "200\n",
      "200\n",
      "200\n",
      "200\n",
      "200\n",
      "200\n",
      "200\n",
      "200\n",
      "200\n",
      "Конекшн эрор\n",
      "200\n",
      "200\n",
      "200\n",
      "200\n",
      "200\n",
      "200\n",
      "200\n",
      "200\n",
      "200\n",
      "200\n",
      "200\n",
      "200\n",
      "200\n",
      "200\n",
      "200\n",
      "200\n",
      "200\n",
      "200\n",
      "200\n",
      "200\n",
      "200\n",
      "200\n",
      "200\n",
      "200\n",
      "200\n",
      "200\n",
      "200\n",
      "200\n",
      "200\n",
      "200\n",
      "200\n",
      "200\n",
      "200\n",
      "200\n",
      "200\n",
      "200\n",
      "200\n",
      "200\n",
      "200\n",
      "200\n",
      "200\n",
      "Вылезла сраная капча!\n"
     ]
    }
   ],
   "source": [
    "proxies = get_proxies()\n",
    "hrefs_dict = {}\n",
    "hrefs = []\n",
    "i = 0\n",
    "\n",
    "for url in tqdm_notebook(main_urls):\n",
    "    for p in range(1, 55):\n",
    "        i += 1\n",
    "        try:\n",
    "            soup = get_soup(url, p)\n",
    "        except ConnectionError:\n",
    "            print(\"Конекшн эрор\")\n",
    "            time.sleep(30)\n",
    "            soup = get_soup(url, p)\n",
    "        while check_capcha(soup) == True:\n",
    "            time.sleep(900)\n",
    "            soup = get_soup(url, p)\n",
    "        \n",
    "        cur_hrefs = get_hrefs(url, p)\n",
    "        if p > 1:\n",
    "            if cur_hrefs[0] == hrefs[-1]:\n",
    "                break\n",
    "        hrefs.extend(cur_hrefs)\n",
    "        time.sleep(5)"
   ]
  },
  {
   "cell_type": "code",
   "execution_count": 1,
   "metadata": {},
   "outputs": [
    {
     "ename": "NameError",
     "evalue": "name 'hrefs' is not defined",
     "output_type": "error",
     "traceback": [
      "\u001b[1;31m---------------------------------------------------------------------------\u001b[0m",
      "\u001b[1;31mNameError\u001b[0m                                 Traceback (most recent call last)",
      "\u001b[1;32m<ipython-input-1-864353c64e40>\u001b[0m in \u001b[0;36m<module>\u001b[1;34m\u001b[0m\n\u001b[1;32m----> 1\u001b[1;33m \u001b[0mhrefs\u001b[0m\u001b[1;33m\u001b[0m\u001b[1;33m\u001b[0m\u001b[0m\n\u001b[0m",
      "\u001b[1;31mNameError\u001b[0m: name 'hrefs' is not defined"
     ]
    }
   ],
   "source": [
    "hrefs"
   ]
  },
  {
   "cell_type": "code",
   "execution_count": 17,
   "metadata": {},
   "outputs": [
    {
     "name": "stdout",
     "output_type": "stream",
     "text": [
      "defaultdict(<class 'list'>, {'https://www.cian.ru/cat.php?engine_version=2&deal_type=sale&offer_type=flat&district=4&room1=1&region=1&object_type=1&p=1': ['https://www.cian.ru/sale/flat/218476165/', 'https://www.cian.ru/sale/flat/226799429/', 'https://www.cian.ru/sale/flat/226775976/', 'https://www.cian.ru/sale/flat/226775980/', 'https://www.cian.ru/sale/flat/226240218/', 'https://www.cian.ru/sale/flat/226797486/', 'https://www.cian.ru/sale/flat/225277408/', 'https://www.cian.ru/sale/flat/224604525/', 'https://www.cian.ru/sale/flat/226172294/', 'https://www.cian.ru/sale/flat/226325561/', 'https://www.cian.ru/sale/flat/220323967/', 'https://www.cian.ru/sale/flat/225546732/', 'https://www.cian.ru/sale/flat/226081906/', 'https://www.cian.ru/sale/flat/226362793/', 'https://www.cian.ru/sale/flat/224371535/', 'https://www.cian.ru/sale/flat/219953511/', 'https://www.cian.ru/sale/flat/224744760/', 'https://www.cian.ru/sale/flat/226715698/', 'https://www.cian.ru/sale/flat/224945773/', 'https://www.cian.ru/sale/flat/224138003/', 'https://www.cian.ru/sale/flat/224934492/', 'https://www.cian.ru/sale/flat/225162303/', 'https://www.cian.ru/sale/flat/225678848/', 'https://www.cian.ru/sale/flat/225678840/', 'https://www.cian.ru/sale/flat/226553498/', 'https://www.cian.ru/sale/flat/221537775/', 'https://www.cian.ru/sale/flat/225930444/', 'https://www.cian.ru/sale/flat/224298954/'], 'https://www.cian.ru/cat.php?engine_version=2&deal_type=sale&offer_type=flat&district=4&room1=1&region=1&object_type=1&p=2': ['https://www.cian.ru/sale/flat/225585456/', 'https://www.cian.ru/sale/flat/225982526/', 'https://www.cian.ru/sale/flat/226057038/', 'https://www.cian.ru/sale/flat/206771958/', 'https://www.cian.ru/sale/flat/225585529/', 'https://www.cian.ru/sale/flat/219686854/', 'https://www.cian.ru/sale/flat/212752762/', 'https://www.cian.ru/sale/flat/222770707/', 'https://www.cian.ru/sale/flat/224383517/', 'https://www.cian.ru/sale/flat/226507534/', 'https://www.cian.ru/sale/flat/225315733/', 'https://www.cian.ru/sale/flat/225246063/', 'https://www.cian.ru/sale/flat/225585492/', 'https://www.cian.ru/sale/flat/225930446/', 'https://www.cian.ru/sale/flat/223391122/', 'https://www.cian.ru/sale/flat/224928394/', 'https://www.cian.ru/sale/flat/224236794/', 'https://www.cian.ru/sale/flat/222148700/', 'https://www.cian.ru/sale/flat/225012325/', 'https://www.cian.ru/sale/flat/222399235/', 'https://www.cian.ru/sale/flat/216546419/', 'https://www.cian.ru/sale/flat/224825059/', 'https://www.cian.ru/sale/flat/226793730/', 'https://www.cian.ru/sale/flat/225611913/', 'https://www.cian.ru/sale/flat/225295698/', 'https://www.cian.ru/sale/flat/223332632/', 'https://www.cian.ru/sale/flat/224420197/', 'https://www.cian.ru/sale/flat/226859244/'], 'https://www.cian.ru/cat.php?engine_version=2&deal_type=sale&offer_type=flat&district=4&room1=1&region=1&object_type=1&p=3': ['https://www.cian.ru/sale/flat/225772319/', 'https://www.cian.ru/sale/flat/225698851/', 'https://www.cian.ru/sale/flat/224383515/', 'https://www.cian.ru/sale/flat/226440085/', 'https://www.cian.ru/sale/flat/223463159/', 'https://www.cian.ru/sale/flat/226515441/', 'https://www.cian.ru/sale/flat/218338788/', 'https://www.cian.ru/sale/flat/226791896/', 'https://www.cian.ru/sale/flat/224816193/', 'https://www.cian.ru/sale/flat/224350377/', 'https://www.cian.ru/sale/flat/226294323/', 'https://www.cian.ru/sale/flat/226764508/', 'https://www.cian.ru/sale/flat/226789182/', 'https://www.cian.ru/sale/flat/225274819/', 'https://www.cian.ru/sale/flat/222261031/', 'https://www.cian.ru/sale/flat/225743109/', 'https://www.cian.ru/sale/flat/219686990/', 'https://www.cian.ru/sale/flat/226044586/', 'https://www.cian.ru/sale/flat/226044584/', 'https://www.cian.ru/sale/flat/226833131/', 'https://www.cian.ru/sale/flat/226151233/', 'https://www.cian.ru/sale/flat/226854663/', 'https://www.cian.ru/sale/flat/226854662/', 'https://www.cian.ru/sale/flat/225608165/', 'https://www.cian.ru/sale/flat/220763327/', 'https://www.cian.ru/sale/flat/226857292/', 'https://www.cian.ru/sale/flat/225582964/', 'https://www.cian.ru/sale/flat/226093542/'], 'https://www.cian.ru/cat.php?engine_version=2&deal_type=sale&offer_type=flat&district=4&room1=1&region=1&object_type=1&p=4': ['https://www.cian.ru/sale/flat/226291131/', 'https://www.cian.ru/sale/flat/210293252/', 'https://www.cian.ru/sale/flat/225808072/', 'https://www.cian.ru/sale/flat/225620558/', 'https://www.cian.ru/sale/flat/199526363/', 'https://www.cian.ru/sale/flat/226103053/', 'https://www.cian.ru/sale/flat/226778085/', 'https://www.cian.ru/sale/flat/220211664/', 'https://www.cian.ru/sale/flat/224789270/', 'https://www.cian.ru/sale/flat/223977869/', 'https://www.cian.ru/sale/flat/218907484/', 'https://www.cian.ru/sale/flat/226286457/', 'https://www.cian.ru/sale/flat/210786020/', 'https://www.cian.ru/sale/flat/199763347/', 'https://www.cian.ru/sale/flat/226098433/', 'https://www.cian.ru/sale/flat/224413032/', 'https://www.cian.ru/sale/flat/224605214/', 'https://www.cian.ru/sale/flat/226501731/', 'https://www.cian.ru/sale/flat/226278894/', 'https://www.cian.ru/sale/flat/225571210/', 'https://www.cian.ru/sale/flat/151495705/', 'https://www.cian.ru/sale/flat/226089889/', 'https://www.cian.ru/sale/flat/226340610/', 'https://www.cian.ru/sale/flat/220189190/', 'https://www.cian.ru/sale/flat/222842777/', 'https://www.cian.ru/sale/flat/220317119/', 'https://www.cian.ru/sale/flat/207407799/', 'https://www.cian.ru/sale/flat/223765118/'], 'https://www.cian.ru/cat.php?engine_version=2&deal_type=sale&offer_type=flat&district=4&room1=1&region=1&object_type=1&p=5': ['https://www.cian.ru/sale/flat/221490753/', 'https://www.cian.ru/sale/flat/223288064/', 'https://www.cian.ru/sale/flat/223480196/', 'https://www.cian.ru/sale/flat/225274811/', 'https://www.cian.ru/sale/flat/217418102/', 'https://www.cian.ru/sale/flat/226294494/', 'https://www.cian.ru/sale/flat/226335651/', 'https://www.cian.ru/sale/flat/226261692/', 'https://www.cian.ru/sale/flat/221490754/', 'https://www.cian.ru/sale/flat/225291303/', 'https://www.cian.ru/sale/flat/226261683/', 'https://www.cian.ru/sale/flat/224407408/', 'https://www.cian.ru/sale/flat/225983936/', 'https://www.cian.ru/sale/flat/211597135/', 'https://www.cian.ru/sale/flat/214471956/', 'https://www.cian.ru/sale/flat/221734040/', 'https://www.cian.ru/sale/flat/226078067/', 'https://www.cian.ru/sale/flat/223868761/', 'https://www.cian.ru/sale/flat/216848996/', 'https://www.cian.ru/sale/flat/220219697/', 'https://www.cian.ru/sale/flat/226079531/', 'https://www.cian.ru/sale/flat/226179675/', 'https://www.cian.ru/sale/flat/226853676/', 'https://www.cian.ru/sale/flat/225173705/', 'https://www.cian.ru/sale/flat/220614116/', 'https://www.cian.ru/sale/flat/220615275/', 'https://www.cian.ru/sale/flat/223198653/', 'https://www.cian.ru/sale/flat/225571213/'], 'https://www.cian.ru/cat.php?engine_version=2&deal_type=sale&offer_type=flat&district=4&room1=1&region=1&object_type=1&p=6': ['https://www.cian.ru/sale/flat/225428220/', 'https://www.cian.ru/sale/flat/223868762/', 'https://www.cian.ru/sale/flat/224644535/', 'https://www.cian.ru/sale/flat/223463003/', 'https://www.cian.ru/sale/flat/218854189/', 'https://www.cian.ru/sale/flat/225373242/', 'https://www.cian.ru/sale/flat/226696611/', 'https://www.cian.ru/sale/flat/225961101/', 'https://www.cian.ru/sale/flat/225961102/', 'https://www.cian.ru/sale/flat/226034404/', 'https://www.cian.ru/sale/flat/226794918/', 'https://www.cian.ru/sale/flat/225190270/', 'https://www.cian.ru/sale/flat/209679698/', 'https://www.cian.ru/sale/flat/225983856/', 'https://www.cian.ru/sale/flat/223868760/', 'https://www.cian.ru/sale/flat/225251377/', 'https://www.cian.ru/sale/flat/225779866/', 'https://www.cian.ru/sale/flat/197355964/', 'https://www.cian.ru/sale/flat/225480809/', 'https://www.cian.ru/sale/flat/214406294/', 'https://www.cian.ru/sale/flat/225725772/', 'https://www.cian.ru/sale/flat/216344270/', 'https://www.cian.ru/sale/flat/225613406/', 'https://www.cian.ru/sale/flat/221118786/', 'https://www.cian.ru/sale/flat/225167487/', 'https://www.cian.ru/sale/flat/226480924/', 'https://www.cian.ru/sale/flat/220911467/', 'https://www.cian.ru/sale/flat/222076393/'], 'https://www.cian.ru/cat.php?engine_version=2&deal_type=sale&offer_type=flat&district=4&room1=1&region=1&object_type=1&p=7': ['https://www.cian.ru/sale/flat/226239711/', 'https://www.cian.ru/sale/flat/224506547/', 'https://www.cian.ru/sale/flat/161305488/', 'https://www.cian.ru/sale/flat/219475651/', 'https://www.cian.ru/sale/flat/224475967/', 'https://www.cian.ru/sale/flat/220822036/', 'https://www.cian.ru/sale/flat/226375482/', 'https://www.cian.ru/sale/flat/195930726/', 'https://www.cian.ru/sale/flat/221908443/', 'https://www.cian.ru/sale/flat/225784077/', 'https://www.cian.ru/sale/flat/199293566/', 'https://www.cian.ru/sale/flat/225680287/', 'https://www.cian.ru/sale/flat/226782973/', 'https://www.cian.ru/sale/flat/218855745/', 'https://www.cian.ru/sale/flat/226475699/', 'https://www.cian.ru/sale/flat/203923235/', 'https://www.cian.ru/sale/flat/199548975/', 'https://www.cian.ru/sale/flat/219393768/', 'https://www.cian.ru/sale/flat/222386078/', 'https://www.cian.ru/sale/flat/217069928/', 'https://www.cian.ru/sale/flat/221969268/', 'https://www.cian.ru/sale/flat/186290547/', 'https://www.cian.ru/sale/flat/221987138/', 'https://www.cian.ru/sale/flat/225051820/', 'https://www.cian.ru/sale/flat/224682964/', 'https://www.cian.ru/sale/flat/222762841/', 'https://www.cian.ru/sale/flat/220983833/', 'https://www.cian.ru/sale/flat/225014059/'], 'https://www.cian.ru/cat.php?engine_version=2&deal_type=sale&offer_type=flat&district=4&room1=1&region=1&object_type=1&p=8': ['https://www.cian.ru/sale/flat/224234564/', 'https://www.cian.ru/sale/flat/223397603/', 'https://www.cian.ru/sale/flat/226739769/', 'https://www.cian.ru/sale/flat/226634955/', 'https://www.cian.ru/sale/flat/226566997/', 'https://www.cian.ru/sale/flat/200495382/', 'https://www.cian.ru/sale/flat/223109323/', 'https://www.cian.ru/sale/flat/224329905/', 'https://www.cian.ru/sale/flat/226776634/', 'https://www.cian.ru/sale/flat/215245488/', 'https://www.cian.ru/sale/flat/225759325/', 'https://www.cian.ru/sale/flat/223241102/', 'https://www.cian.ru/sale/flat/225788936/', 'https://www.cian.ru/sale/flat/224997932/', 'https://www.cian.ru/sale/flat/225127056/', 'https://www.cian.ru/sale/flat/210037356/', 'https://www.cian.ru/sale/flat/226373080/', 'https://www.cian.ru/sale/flat/221541273/', 'https://www.cian.ru/sale/flat/221685769/', 'https://www.cian.ru/sale/flat/220994970/', 'https://www.cian.ru/sale/flat/226629723/', 'https://www.cian.ru/sale/flat/223823350/', 'https://www.cian.ru/sale/flat/225285172/', 'https://www.cian.ru/sale/flat/223716696/', 'https://www.cian.ru/sale/flat/219687046/', 'https://www.cian.ru/sale/flat/223729562/', 'https://www.cian.ru/sale/flat/224805549/', 'https://www.cian.ru/sale/flat/223392348/'], 'https://www.cian.ru/cat.php?engine_version=2&deal_type=sale&offer_type=flat&district=4&room1=1&region=1&object_type=1&p=9': ['https://www.cian.ru/sale/flat/191991865/', 'https://www.cian.ru/sale/flat/224392039/', 'https://www.cian.ru/sale/flat/218048615/', 'https://www.cian.ru/sale/flat/226082098/', 'https://www.cian.ru/sale/flat/216759917/', 'https://www.cian.ru/sale/flat/221190044/', 'https://www.cian.ru/sale/flat/192706358/', 'https://www.cian.ru/sale/flat/218854176/', 'https://www.cian.ru/sale/flat/223317310/', 'https://www.cian.ru/sale/flat/224407033/', 'https://www.cian.ru/sale/flat/220575545/', 'https://www.cian.ru/sale/flat/225251405/', 'https://www.cian.ru/sale/flat/224939642/', 'https://www.cian.ru/sale/flat/224211064/', 'https://www.cian.ru/sale/flat/206030904/', 'https://www.cian.ru/sale/flat/226471446/', 'https://www.cian.ru/sale/flat/224952173/', 'https://www.cian.ru/sale/flat/223551703/', 'https://www.cian.ru/sale/flat/208451314/', 'https://www.cian.ru/sale/flat/226749515/', 'https://www.cian.ru/sale/flat/192315897/', 'https://www.cian.ru/sale/flat/219700019/', 'https://www.cian.ru/sale/flat/221314782/', 'https://www.cian.ru/sale/flat/218406236/', 'https://www.cian.ru/sale/flat/213578667/', 'https://www.cian.ru/sale/flat/226825485/', 'https://www.cian.ru/sale/flat/222615340/', 'https://www.cian.ru/sale/flat/223279005/'], 'https://www.cian.ru/cat.php?engine_version=2&deal_type=sale&offer_type=flat&district=4&room1=1&region=1&object_type=1&p=10': ['https://www.cian.ru/sale/flat/224354715/', 'https://www.cian.ru/sale/flat/226781011/', 'https://www.cian.ru/sale/flat/226423747/', 'https://www.cian.ru/sale/flat/215604491/', 'https://www.cian.ru/sale/flat/225895084/', 'https://www.cian.ru/sale/flat/224211569/', 'https://www.cian.ru/sale/flat/200179738/', 'https://www.cian.ru/sale/flat/168487214/', 'https://www.cian.ru/sale/flat/206421772/', 'https://www.cian.ru/sale/flat/219230061/', 'https://www.cian.ru/sale/flat/200113441/', 'https://www.cian.ru/sale/flat/226753022/', 'https://www.cian.ru/sale/flat/219607499/', 'https://www.cian.ru/sale/flat/221637363/', 'https://www.cian.ru/sale/flat/221494906/', 'https://www.cian.ru/sale/flat/224868853/', 'https://www.cian.ru/sale/flat/159706405/', 'https://www.cian.ru/sale/flat/226585332/', 'https://www.cian.ru/sale/flat/221385709/', 'https://www.cian.ru/sale/flat/225155847/', 'https://www.cian.ru/sale/flat/226642645/', 'https://www.cian.ru/sale/flat/217780164/', 'https://www.cian.ru/sale/flat/226534007/', 'https://www.cian.ru/sale/flat/221079726/', 'https://www.cian.ru/sale/flat/225983820/', 'https://www.cian.ru/sale/flat/226440977/', 'https://www.cian.ru/sale/flat/220059936/', 'https://www.cian.ru/sale/flat/226426600/'], 'https://www.cian.ru/cat.php?engine_version=2&deal_type=sale&offer_type=flat&district=4&room1=1&region=1&object_type=1&p=11': ['https://www.cian.ru/sale/flat/226151882/', 'https://www.cian.ru/sale/flat/226844129/', 'https://www.cian.ru/sale/flat/226792769/', 'https://www.cian.ru/sale/flat/224322007/', 'https://www.cian.ru/sale/flat/225426954/', 'https://www.cian.ru/sale/flat/220251460/', 'https://www.cian.ru/sale/flat/219862983/', 'https://www.cian.ru/sale/flat/222319260/', 'https://www.cian.ru/sale/flat/205692673/', 'https://www.cian.ru/sale/flat/225905601/', 'https://www.cian.ru/sale/flat/225057495/', 'https://www.cian.ru/sale/flat/221482196/', 'https://www.cian.ru/sale/flat/225889447/', 'https://www.cian.ru/sale/flat/225193383/', 'https://www.cian.ru/sale/flat/213581561/', 'https://www.cian.ru/sale/flat/223833119/', 'https://www.cian.ru/sale/flat/223641380/', 'https://www.cian.ru/sale/flat/219652313/', 'https://www.cian.ru/sale/flat/226484568/', 'https://www.cian.ru/sale/flat/223524149/', 'https://www.cian.ru/sale/flat/219633675/', 'https://www.cian.ru/sale/flat/216610619/', 'https://www.cian.ru/sale/flat/226717402/', 'https://www.cian.ru/sale/flat/221926150/', 'https://www.cian.ru/sale/flat/226097729/', 'https://www.cian.ru/sale/flat/225911629/', 'https://www.cian.ru/sale/flat/226714326/', 'https://www.cian.ru/sale/flat/225637013/'], 'https://www.cian.ru/cat.php?engine_version=2&deal_type=sale&offer_type=flat&district=4&room1=1&region=1&object_type=1&p=12': ['https://www.cian.ru/sale/flat/222268470/', 'https://www.cian.ru/sale/flat/224238631/', 'https://www.cian.ru/sale/flat/222533837/', 'https://www.cian.ru/sale/flat/225252784/', 'https://www.cian.ru/sale/flat/203824151/', 'https://www.cian.ru/sale/flat/224163456/', 'https://www.cian.ru/sale/flat/224213633/', 'https://www.cian.ru/sale/flat/225967134/', 'https://www.cian.ru/sale/flat/217421629/', 'https://www.cian.ru/sale/flat/224793070/', 'https://www.cian.ru/sale/flat/224933785/', 'https://www.cian.ru/sale/flat/220694920/', 'https://www.cian.ru/sale/flat/225363103/', 'https://www.cian.ru/sale/flat/226716144/', 'https://www.cian.ru/sale/flat/216267162/', 'https://www.cian.ru/sale/flat/226584512/', 'https://www.cian.ru/sale/flat/224075384/', 'https://www.cian.ru/sale/flat/220718211/', 'https://www.cian.ru/sale/flat/225980759/', 'https://www.cian.ru/sale/flat/225377692/', 'https://www.cian.ru/sale/flat/225700887/', 'https://www.cian.ru/sale/flat/218965063/', 'https://www.cian.ru/sale/flat/224073681/', 'https://www.cian.ru/sale/flat/218740575/', 'https://www.cian.ru/sale/flat/218600609/', 'https://www.cian.ru/sale/flat/221500917/', 'https://www.cian.ru/sale/flat/224999364/', 'https://www.cian.ru/sale/flat/225770865/'], 'https://www.cian.ru/cat.php?engine_version=2&deal_type=sale&offer_type=flat&district=4&room1=1&region=1&object_type=1&p=13': ['https://www.cian.ru/sale/flat/225843080/', 'https://www.cian.ru/sale/flat/224185209/', 'https://www.cian.ru/sale/flat/226405890/', 'https://www.cian.ru/sale/flat/224907943/', 'https://www.cian.ru/sale/flat/226467591/', 'https://www.cian.ru/sale/flat/226564418/', 'https://www.cian.ru/sale/flat/226667310/', 'https://www.cian.ru/sale/flat/226792777/', 'https://www.cian.ru/sale/flat/225232195/', 'https://www.cian.ru/sale/flat/225111969/', 'https://www.cian.ru/sale/flat/226301614/', 'https://www.cian.ru/sale/flat/225187704/', 'https://www.cian.ru/sale/flat/226172906/', 'https://www.cian.ru/sale/flat/217719078/', 'https://www.cian.ru/sale/flat/226348755/', 'https://www.cian.ru/sale/flat/225761869/', 'https://www.cian.ru/sale/flat/222894177/', 'https://www.cian.ru/sale/flat/225168716/', 'https://www.cian.ru/sale/flat/224662295/', 'https://www.cian.ru/sale/flat/226468037/', 'https://www.cian.ru/sale/flat/225088771/', 'https://www.cian.ru/sale/flat/223103822/', 'https://www.cian.ru/sale/flat/225240306/', 'https://www.cian.ru/sale/flat/220151704/', 'https://www.cian.ru/sale/flat/215462028/', 'https://www.cian.ru/sale/flat/225506337/', 'https://www.cian.ru/sale/flat/218627541/', 'https://www.cian.ru/sale/flat/226489034/'], 'https://www.cian.ru/cat.php?engine_version=2&deal_type=sale&offer_type=flat&district=4&room1=1&region=1&object_type=1&p=14': ['https://www.cian.ru/sale/flat/223010995/', 'https://www.cian.ru/sale/flat/226494390/', 'https://www.cian.ru/sale/flat/225189129/', 'https://www.cian.ru/sale/flat/226885121/', 'https://www.cian.ru/sale/flat/224274131/', 'https://www.cian.ru/sale/flat/226282950/', 'https://www.cian.ru/sale/flat/223795776/', 'https://www.cian.ru/sale/flat/226562379/', 'https://www.cian.ru/sale/flat/223078805/', 'https://www.cian.ru/sale/flat/222724138/', 'https://www.cian.ru/sale/flat/224272053/', 'https://www.cian.ru/sale/flat/226300779/', 'https://www.cian.ru/sale/flat/207772636/', 'https://www.cian.ru/sale/flat/204010395/', 'https://www.cian.ru/sale/flat/225410064/', 'https://www.cian.ru/sale/flat/225812566/', 'https://www.cian.ru/sale/flat/219252099/', 'https://www.cian.ru/sale/flat/226703278/', 'https://www.cian.ru/sale/flat/208907087/', 'https://www.cian.ru/sale/flat/226053615/', 'https://www.cian.ru/sale/flat/224858541/', 'https://www.cian.ru/sale/flat/223258532/', 'https://www.cian.ru/sale/flat/225108203/', 'https://www.cian.ru/sale/flat/226323065/', 'https://www.cian.ru/sale/flat/219475239/', 'https://www.cian.ru/sale/flat/226845340/', 'https://www.cian.ru/sale/flat/225961849/', 'https://www.cian.ru/sale/flat/219693925/'], 'https://www.cian.ru/cat.php?engine_version=2&deal_type=sale&offer_type=flat&district=4&room1=1&region=1&object_type=1&p=15': ['https://www.cian.ru/sale/flat/226729731/', 'https://www.cian.ru/sale/flat/222760865/', 'https://www.cian.ru/sale/flat/224649915/', 'https://www.cian.ru/sale/flat/222527818/', 'https://www.cian.ru/sale/flat/226769923/', 'https://www.cian.ru/sale/flat/224347606/', 'https://www.cian.ru/sale/flat/223318706/', 'https://www.cian.ru/sale/flat/226767347/', 'https://www.cian.ru/sale/flat/224909677/', 'https://www.cian.ru/sale/flat/225993217/', 'https://www.cian.ru/sale/flat/223332090/', 'https://www.cian.ru/sale/flat/221969959/', 'https://www.cian.ru/sale/flat/219505864/', 'https://www.cian.ru/sale/flat/225845040/', 'https://www.cian.ru/sale/flat/208462252/', 'https://www.cian.ru/sale/flat/218856420/', 'https://www.cian.ru/sale/flat/226716137/', 'https://www.cian.ru/sale/flat/224446392/', 'https://www.cian.ru/sale/flat/189138500/', 'https://www.cian.ru/sale/flat/224588684/', 'https://www.cian.ru/sale/flat/225986043/', 'https://www.cian.ru/sale/flat/214589656/', 'https://www.cian.ru/sale/flat/223497892/', 'https://www.cian.ru/sale/flat/224446287/', 'https://www.cian.ru/sale/flat/226854948/', 'https://www.cian.ru/sale/flat/224918989/', 'https://www.cian.ru/sale/flat/222445292/', 'https://www.cian.ru/sale/flat/226579642/'], 'https://www.cian.ru/cat.php?engine_version=2&deal_type=sale&offer_type=flat&district=4&room1=1&region=1&object_type=1&p=16': ['https://www.cian.ru/sale/flat/207506151/', 'https://www.cian.ru/sale/flat/225620943/', 'https://www.cian.ru/sale/flat/205810697/', 'https://www.cian.ru/sale/flat/186279454/', 'https://www.cian.ru/sale/flat/226564424/', 'https://www.cian.ru/sale/flat/224986762/', 'https://www.cian.ru/sale/flat/218118454/', 'https://www.cian.ru/sale/flat/223397705/', 'https://www.cian.ru/sale/flat/226049830/', 'https://www.cian.ru/sale/flat/221482194/', 'https://www.cian.ru/sale/flat/222124453/', 'https://www.cian.ru/sale/flat/199607906/', 'https://www.cian.ru/sale/flat/224149967/', 'https://www.cian.ru/sale/flat/224446316/', 'https://www.cian.ru/sale/flat/226300848/', 'https://www.cian.ru/sale/flat/223092416/', 'https://www.cian.ru/sale/flat/226518389/', 'https://www.cian.ru/sale/flat/226645164/', 'https://www.cian.ru/sale/flat/226173561/', 'https://www.cian.ru/sale/flat/225585442/', 'https://www.cian.ru/sale/flat/225786801/', 'https://www.cian.ru/sale/flat/222788147/', 'https://www.cian.ru/sale/flat/223996531/', 'https://www.cian.ru/sale/flat/197500739/', 'https://www.cian.ru/sale/flat/226838863/', 'https://www.cian.ru/sale/flat/220352370/', 'https://www.cian.ru/sale/flat/194026888/', 'https://www.cian.ru/sale/flat/222105104/'], 'https://www.cian.ru/cat.php?engine_version=2&deal_type=sale&offer_type=flat&district=4&room1=1&region=1&object_type=1&p=17': ['https://www.cian.ru/sale/flat/225576485/', 'https://www.cian.ru/sale/flat/224227748/', 'https://www.cian.ru/sale/flat/222524695/', 'https://www.cian.ru/sale/flat/226053301/', 'https://www.cian.ru/sale/flat/224644560/', 'https://www.cian.ru/sale/flat/224792646/', 'https://www.cian.ru/sale/flat/224610915/', 'https://www.cian.ru/sale/flat/200368584/', 'https://www.cian.ru/sale/flat/225581323/', 'https://www.cian.ru/sale/flat/224585667/', 'https://www.cian.ru/sale/flat/226362193/', 'https://www.cian.ru/sale/flat/226365938/', 'https://www.cian.ru/sale/flat/223896018/', 'https://www.cian.ru/sale/flat/224872076/', 'https://www.cian.ru/sale/flat/226890562/', 'https://www.cian.ru/sale/flat/200161500/', 'https://www.cian.ru/sale/flat/226562370/', 'https://www.cian.ru/sale/flat/226332281/', 'https://www.cian.ru/sale/flat/224371536/', 'https://www.cian.ru/sale/flat/216581685/', 'https://www.cian.ru/sale/flat/224798019/', 'https://www.cian.ru/sale/flat/223198960/', 'https://www.cian.ru/sale/flat/226278782/', 'https://www.cian.ru/sale/flat/225699486/', 'https://www.cian.ru/sale/flat/226729733/', 'https://www.cian.ru/sale/flat/225813527/', 'https://www.cian.ru/sale/flat/226685728/', 'https://www.cian.ru/sale/flat/225517550/'], 'https://www.cian.ru/cat.php?engine_version=2&deal_type=sale&offer_type=flat&district=4&room1=1&region=1&object_type=1&p=18': ['https://www.cian.ru/sale/flat/226749728/', 'https://www.cian.ru/sale/flat/217330943/', 'https://www.cian.ru/sale/flat/217331028/', 'https://www.cian.ru/sale/flat/225576482/', 'https://www.cian.ru/sale/flat/226276158/', 'https://www.cian.ru/sale/flat/226716158/', 'https://www.cian.ru/sale/flat/226685732/', 'https://www.cian.ru/sale/flat/225691673/', 'https://www.cian.ru/sale/flat/224586893/', 'https://www.cian.ru/sale/flat/223586965/', 'https://www.cian.ru/sale/flat/222788794/', 'https://www.cian.ru/sale/flat/225738599/', 'https://www.cian.ru/sale/flat/225410788/', 'https://www.cian.ru/sale/flat/225384885/', 'https://www.cian.ru/sale/flat/226489804/', 'https://www.cian.ru/sale/flat/214989772/', 'https://www.cian.ru/sale/flat/204024264/', 'https://www.cian.ru/sale/flat/224230727/', 'https://www.cian.ru/sale/flat/210669426/', 'https://www.cian.ru/sale/flat/214466964/', 'https://www.cian.ru/sale/flat/223550037/', 'https://www.cian.ru/sale/flat/219435604/', 'https://www.cian.ru/sale/flat/225011557/', 'https://www.cian.ru/sale/flat/223791507/', 'https://www.cian.ru/sale/flat/225293650/', 'https://www.cian.ru/sale/flat/210296006/', 'https://www.cian.ru/sale/flat/224226088/', 'https://www.cian.ru/sale/flat/212105814/'], 'https://www.cian.ru/cat.php?engine_version=2&deal_type=sale&offer_type=flat&district=4&room1=1&region=1&object_type=1&p=19': ['https://www.cian.ru/sale/flat/225580473/', 'https://www.cian.ru/sale/flat/226500526/', 'https://www.cian.ru/sale/flat/225005723/', 'https://www.cian.ru/sale/flat/224189159/', 'https://www.cian.ru/sale/flat/219129218/', 'https://www.cian.ru/sale/flat/224540346/', 'https://www.cian.ru/sale/flat/222451201/', 'https://www.cian.ru/sale/flat/226786157/', 'https://www.cian.ru/sale/flat/226036981/', 'https://www.cian.ru/sale/flat/224540340/', 'https://www.cian.ru/sale/flat/224585215/', 'https://www.cian.ru/sale/flat/225071632/', 'https://www.cian.ru/sale/flat/219435603/', 'https://www.cian.ru/sale/flat/220204287/', 'https://www.cian.ru/sale/flat/202933578/', 'https://www.cian.ru/sale/flat/225842021/', 'https://www.cian.ru/sale/flat/224219876/', 'https://www.cian.ru/sale/flat/166593637/', 'https://www.cian.ru/sale/flat/226853028/', 'https://www.cian.ru/sale/flat/226018123/', 'https://www.cian.ru/sale/flat/224446078/', 'https://www.cian.ru/sale/flat/224644495/', 'https://www.cian.ru/sale/flat/219368583/', 'https://www.cian.ru/sale/flat/159706071/', 'https://www.cian.ru/sale/flat/219782707/', 'https://www.cian.ru/sale/flat/195294356/', 'https://www.cian.ru/sale/flat/224876693/', 'https://www.cian.ru/sale/flat/207138187/'], 'https://www.cian.ru/cat.php?engine_version=2&deal_type=sale&offer_type=flat&district=4&room1=1&region=1&object_type=1&p=20': ['https://www.cian.ru/sale/flat/221464860/', 'https://www.cian.ru/sale/flat/222854637/', 'https://www.cian.ru/sale/flat/220473114/', 'https://www.cian.ru/sale/flat/197076269/', 'https://www.cian.ru/sale/flat/196727885/', 'https://www.cian.ru/sale/flat/225585515/', 'https://www.cian.ru/sale/flat/221575263/', 'https://www.cian.ru/sale/flat/222030071/', 'https://www.cian.ru/sale/flat/224586894/', 'https://www.cian.ru/sale/flat/225908596/', 'https://www.cian.ru/sale/flat/198078030/', 'https://www.cian.ru/sale/flat/224471630/', 'https://www.cian.ru/sale/flat/219116906/', 'https://www.cian.ru/sale/flat/219116845/', 'https://www.cian.ru/sale/flat/225673613/', 'https://www.cian.ru/sale/flat/224973156/', 'https://www.cian.ru/sale/flat/226691424/', 'https://www.cian.ru/sale/flat/199521059/', 'https://www.cian.ru/sale/flat/218216332/', 'https://www.cian.ru/sale/flat/226515453/', 'https://www.cian.ru/sale/flat/224585666/', 'https://www.cian.ru/sale/flat/221691145/', 'https://www.cian.ru/sale/flat/226273290/', 'https://www.cian.ru/sale/flat/213085929/', 'https://www.cian.ru/sale/flat/225678835/', 'https://www.cian.ru/sale/flat/222116168/', 'https://www.cian.ru/sale/flat/223834775/', 'https://www.cian.ru/sale/flat/224986381/'], 'https://www.cian.ru/cat.php?engine_version=2&deal_type=sale&offer_type=flat&district=4&room1=1&region=1&object_type=1&p=21': ['https://www.cian.ru/sale/flat/224759274/', 'https://www.cian.ru/sale/flat/226241093/', 'https://www.cian.ru/sale/flat/218057907/', 'https://www.cian.ru/sale/flat/194855947/', 'https://www.cian.ru/sale/flat/224446468/', 'https://www.cian.ru/sale/flat/223398180/', 'https://www.cian.ru/sale/flat/223581987/', 'https://www.cian.ru/sale/flat/226296072/', 'https://www.cian.ru/sale/flat/226524701/', 'https://www.cian.ru/sale/flat/225054988/', 'https://www.cian.ru/sale/flat/225767029/', 'https://www.cian.ru/sale/flat/211160356/', 'https://www.cian.ru/sale/flat/226714847/', 'https://www.cian.ru/sale/flat/224983414/', 'https://www.cian.ru/sale/flat/211161847/', 'https://www.cian.ru/sale/flat/226529300/', 'https://www.cian.ru/sale/flat/182242583/', 'https://www.cian.ru/sale/flat/225861860/', 'https://www.cian.ru/sale/flat/226112944/', 'https://www.cian.ru/sale/flat/224644525/', 'https://www.cian.ru/sale/flat/217218272/', 'https://www.cian.ru/sale/flat/217218337/', 'https://www.cian.ru/sale/flat/226295987/', 'https://www.cian.ru/sale/flat/223786337/', 'https://www.cian.ru/sale/flat/213082167/', 'https://www.cian.ru/sale/flat/224864326/', 'https://www.cian.ru/sale/flat/225110978/', 'https://www.cian.ru/sale/flat/224138011/'], 'https://www.cian.ru/cat.php?engine_version=2&deal_type=sale&offer_type=flat&district=4&room1=1&region=1&object_type=1&p=22': ['https://www.cian.ru/sale/flat/226430037/', 'https://www.cian.ru/sale/flat/225280246/', 'https://www.cian.ru/sale/flat/189687353/', 'https://www.cian.ru/sale/flat/221577431/', 'https://www.cian.ru/sale/flat/225549408/', 'https://www.cian.ru/sale/flat/225232006/', 'https://www.cian.ru/sale/flat/225281037/', 'https://www.cian.ru/sale/flat/221750448/', 'https://www.cian.ru/sale/flat/223198458/', 'https://www.cian.ru/sale/flat/215884290/', 'https://www.cian.ru/sale/flat/225247844/', 'https://www.cian.ru/sale/flat/150347625/', 'https://www.cian.ru/sale/flat/225691756/', 'https://www.cian.ru/sale/flat/226389734/', 'https://www.cian.ru/sale/flat/168278379/', 'https://www.cian.ru/sale/flat/221576280/', 'https://www.cian.ru/sale/flat/226359630/', 'https://www.cian.ru/sale/flat/226359627/', 'https://www.cian.ru/sale/flat/224338656/', 'https://www.cian.ru/sale/flat/214380420/', 'https://www.cian.ru/sale/flat/226463222/', 'https://www.cian.ru/sale/flat/226694211/', 'https://www.cian.ru/sale/flat/226204621/', 'https://www.cian.ru/sale/flat/226610165/', 'https://www.cian.ru/sale/flat/226270547/', 'https://www.cian.ru/sale/flat/215452193/', 'https://www.cian.ru/sale/flat/217126003/', 'https://www.cian.ru/sale/flat/225862316/'], 'https://www.cian.ru/cat.php?engine_version=2&deal_type=sale&offer_type=flat&district=4&room1=1&region=1&object_type=1&p=23': ['https://www.cian.ru/sale/flat/226328254/', 'https://www.cian.ru/sale/flat/224352639/', 'https://www.cian.ru/sale/flat/222078323/', 'https://www.cian.ru/sale/flat/220206606/', 'https://www.cian.ru/sale/flat/222493172/', 'https://www.cian.ru/sale/flat/208859988/', 'https://www.cian.ru/sale/flat/218752536/', 'https://www.cian.ru/sale/flat/197229981/', 'https://www.cian.ru/sale/flat/226756938/', 'https://www.cian.ru/sale/flat/225858660/', 'https://www.cian.ru/sale/flat/226226559/', 'https://www.cian.ru/sale/flat/226841840/', 'https://www.cian.ru/sale/flat/221606322/', 'https://www.cian.ru/sale/flat/225233277/', 'https://www.cian.ru/sale/flat/226673741/', 'https://www.cian.ru/sale/flat/163348005/', 'https://www.cian.ru/sale/flat/225514930/', 'https://www.cian.ru/sale/flat/219255638/', 'https://www.cian.ru/sale/flat/218514533/', 'https://www.cian.ru/sale/flat/225197620/', 'https://www.cian.ru/sale/flat/217271648/', 'https://www.cian.ru/sale/flat/225065236/', 'https://www.cian.ru/sale/flat/223170274/', 'https://www.cian.ru/sale/flat/225832261/', 'https://www.cian.ru/sale/flat/219946337/', 'https://www.cian.ru/sale/flat/219930715/', 'https://www.cian.ru/sale/flat/216768657/', 'https://www.cian.ru/sale/flat/219976375/'], 'https://www.cian.ru/cat.php?engine_version=2&deal_type=sale&offer_type=flat&district=4&room1=1&region=1&object_type=1&p=24': ['https://www.cian.ru/sale/flat/226851686/', 'https://www.cian.ru/sale/flat/225691135/', 'https://www.cian.ru/sale/flat/219523840/', 'https://www.cian.ru/sale/flat/224262142/', 'https://www.cian.ru/sale/flat/17341546/', 'https://www.cian.ru/sale/flat/200081939/', 'https://www.cian.ru/sale/flat/217616272/', 'https://www.cian.ru/sale/flat/225991151/', 'https://www.cian.ru/sale/flat/225380169/', 'https://www.cian.ru/sale/flat/225383020/', 'https://www.cian.ru/sale/flat/226502323/', 'https://www.cian.ru/sale/flat/211055472/', 'https://www.cian.ru/sale/flat/224797066/', 'https://www.cian.ru/sale/flat/226487540/', 'https://www.cian.ru/sale/flat/222044215/', 'https://www.cian.ru/sale/flat/207275995/', 'https://www.cian.ru/sale/flat/226819868/', 'https://www.cian.ru/sale/flat/221261951/', 'https://www.cian.ru/sale/flat/223735871/', 'https://www.cian.ru/sale/flat/224831848/', 'https://www.cian.ru/sale/flat/226322467/', 'https://www.cian.ru/sale/flat/217086329/', 'https://www.cian.ru/sale/flat/159757813/', 'https://www.cian.ru/sale/flat/222411961/', 'https://www.cian.ru/sale/flat/226108879/', 'https://www.cian.ru/sale/flat/223010396/', 'https://www.cian.ru/sale/flat/224116855/', 'https://www.cian.ru/sale/flat/224386489/'], 'https://www.cian.ru/cat.php?engine_version=2&deal_type=sale&offer_type=flat&district=4&room1=1&region=1&object_type=1&p=25': ['https://www.cian.ru/sale/flat/224352143/', 'https://www.cian.ru/sale/flat/225007800/', 'https://www.cian.ru/sale/flat/213957357/', 'https://www.cian.ru/sale/flat/224435509/', 'https://www.cian.ru/sale/flat/213379362/', 'https://www.cian.ru/sale/flat/226461081/', 'https://www.cian.ru/sale/flat/225932813/', 'https://www.cian.ru/sale/flat/226398366/', 'https://www.cian.ru/sale/flat/225561970/', 'https://www.cian.ru/sale/flat/225482806/', 'https://www.cian.ru/sale/flat/226555271/', 'https://www.cian.ru/sale/flat/223698333/', 'https://www.cian.ru/sale/flat/222045608/', 'https://www.cian.ru/sale/flat/219996237/', 'https://www.cian.ru/sale/flat/216088543/', 'https://www.cian.ru/sale/flat/192947105/', 'https://www.cian.ru/sale/flat/217277667/', 'https://www.cian.ru/sale/flat/225606881/', 'https://www.cian.ru/sale/flat/224623128/', 'https://www.cian.ru/sale/flat/217587347/', 'https://www.cian.ru/sale/flat/222235191/', 'https://www.cian.ru/sale/flat/226438670/', 'https://www.cian.ru/sale/flat/226345213/', 'https://www.cian.ru/sale/flat/223671590/', 'https://www.cian.ru/sale/flat/225199419/', 'https://www.cian.ru/sale/flat/204917240/', 'https://www.cian.ru/sale/flat/224590610/', 'https://www.cian.ru/sale/flat/225703582/'], 'https://www.cian.ru/cat.php?engine_version=2&deal_type=sale&offer_type=flat&district=4&room1=1&region=1&object_type=1&p=26': ['https://www.cian.ru/sale/flat/222216174/', 'https://www.cian.ru/sale/flat/220937770/', 'https://www.cian.ru/sale/flat/225697618/', 'https://www.cian.ru/sale/flat/226352623/', 'https://www.cian.ru/sale/flat/226196393/', 'https://www.cian.ru/sale/flat/222659641/', 'https://www.cian.ru/sale/flat/224156002/', 'https://www.cian.ru/sale/flat/225355767/', 'https://www.cian.ru/sale/flat/226636676/', 'https://www.cian.ru/sale/flat/202257963/', 'https://www.cian.ru/sale/flat/226706247/', 'https://www.cian.ru/sale/flat/212608368/', 'https://www.cian.ru/sale/flat/221826229/', 'https://www.cian.ru/sale/flat/205652071/', 'https://www.cian.ru/sale/flat/226400461/', 'https://www.cian.ru/sale/flat/224210986/', 'https://www.cian.ru/sale/flat/224225216/', 'https://www.cian.ru/sale/flat/223214230/', 'https://www.cian.ru/sale/flat/226469381/', 'https://www.cian.ru/sale/flat/203452786/', 'https://www.cian.ru/sale/flat/224631955/', 'https://www.cian.ru/sale/flat/217079126/', 'https://www.cian.ru/sale/flat/226322784/', 'https://www.cian.ru/sale/flat/224945858/', 'https://www.cian.ru/sale/flat/226666170/', 'https://www.cian.ru/sale/flat/224840001/', 'https://www.cian.ru/sale/flat/225535924/', 'https://www.cian.ru/sale/flat/225315965/'], 'https://www.cian.ru/cat.php?engine_version=2&deal_type=sale&offer_type=flat&district=4&room1=1&region=1&object_type=1&p=27': ['https://www.cian.ru/sale/flat/226527981/', 'https://www.cian.ru/sale/flat/226757307/', 'https://www.cian.ru/sale/flat/226186256/', 'https://www.cian.ru/sale/flat/225842546/', 'https://www.cian.ru/sale/flat/225385906/', 'https://www.cian.ru/sale/flat/225105650/', 'https://www.cian.ru/sale/flat/191560206/', 'https://www.cian.ru/sale/flat/224869734/', 'https://www.cian.ru/sale/flat/225196792/', 'https://www.cian.ru/sale/flat/226860281/', 'https://www.cian.ru/sale/flat/225677137/', 'https://www.cian.ru/sale/flat/223753929/', 'https://www.cian.ru/sale/flat/226180151/', 'https://www.cian.ru/sale/flat/226672020/', 'https://www.cian.ru/sale/flat/225677125/', 'https://www.cian.ru/sale/flat/226469391/', 'https://www.cian.ru/sale/flat/226316777/', 'https://www.cian.ru/sale/flat/225082024/', 'https://www.cian.ru/sale/flat/224661050/', 'https://www.cian.ru/sale/flat/224881281/', 'https://www.cian.ru/sale/flat/222222542/', 'https://www.cian.ru/sale/flat/212713624/', 'https://www.cian.ru/sale/flat/221625046/', 'https://www.cian.ru/sale/flat/217646004/', 'https://www.cian.ru/sale/flat/203759579/', 'https://www.cian.ru/sale/flat/154680826/', 'https://www.cian.ru/sale/flat/223153222/', 'https://www.cian.ru/sale/flat/225233333/'], 'https://www.cian.ru/cat.php?engine_version=2&deal_type=sale&offer_type=flat&district=4&room1=1&region=1&object_type=1&p=28': ['https://www.cian.ru/sale/flat/194796161/', 'https://www.cian.ru/sale/flat/225078992/', 'https://www.cian.ru/sale/flat/225677116/', 'https://www.cian.ru/sale/flat/226173907/', 'https://www.cian.ru/sale/flat/217696687/', 'https://www.cian.ru/sale/flat/221813829/', 'https://www.cian.ru/sale/flat/221536862/', 'https://www.cian.ru/sale/flat/226578618/', 'https://www.cian.ru/sale/flat/223853305/', 'https://www.cian.ru/sale/flat/200777942/', 'https://www.cian.ru/sale/flat/225677111/', 'https://www.cian.ru/sale/flat/225677133/', 'https://www.cian.ru/sale/flat/225677120/', 'https://www.cian.ru/sale/flat/226847247/', 'https://www.cian.ru/sale/flat/226484580/', 'https://www.cian.ru/sale/flat/184138251/', 'https://www.cian.ru/sale/flat/224460485/', 'https://www.cian.ru/sale/flat/226839979/', 'https://www.cian.ru/sale/flat/225677114/', 'https://www.cian.ru/sale/flat/225677123/', 'https://www.cian.ru/sale/flat/225932303/', 'https://www.cian.ru/sale/flat/225677112/', 'https://www.cian.ru/sale/flat/207847318/', 'https://www.cian.ru/sale/flat/226087462/', 'https://www.cian.ru/sale/flat/226710306/', 'https://www.cian.ru/sale/flat/225677136/', 'https://www.cian.ru/sale/flat/226853847/', 'https://www.cian.ru/sale/flat/225677113/'], 'https://www.cian.ru/cat.php?engine_version=2&deal_type=sale&offer_type=flat&district=4&room1=1&region=1&object_type=1&p=29': ['https://www.cian.ru/sale/flat/225677121/', 'https://www.cian.ru/sale/flat/225185735/', 'https://www.cian.ru/sale/flat/224946825/', 'https://www.cian.ru/sale/flat/224928508/', 'https://www.cian.ru/sale/flat/208850693/', 'https://www.cian.ru/sale/flat/225854998/', 'https://www.cian.ru/sale/flat/183833072/', 'https://www.cian.ru/sale/flat/212212918/', 'https://www.cian.ru/sale/flat/225010771/', 'https://www.cian.ru/sale/flat/226759818/', 'https://www.cian.ru/sale/flat/226226574/', 'https://www.cian.ru/sale/flat/225613042/', 'https://www.cian.ru/sale/flat/219374389/', 'https://www.cian.ru/sale/flat/223990564/', 'https://www.cian.ru/sale/flat/225008384/', 'https://www.cian.ru/sale/flat/225698840/', 'https://www.cian.ru/sale/flat/219720035/', 'https://www.cian.ru/sale/flat/226220112/', 'https://www.cian.ru/sale/flat/225930353/', 'https://www.cian.ru/sale/flat/221536055/', 'https://www.cian.ru/sale/flat/226617027/', 'https://www.cian.ru/sale/flat/224680490/', 'https://www.cian.ru/sale/flat/221956700/', 'https://www.cian.ru/sale/flat/214514847/', 'https://www.cian.ru/sale/flat/226778869/', 'https://www.cian.ru/sale/flat/226435291/', 'https://www.cian.ru/sale/flat/226291549/', 'https://www.cian.ru/sale/flat/221636164/'], 'https://www.cian.ru/cat.php?engine_version=2&deal_type=sale&offer_type=flat&district=4&room1=1&region=1&object_type=1&p=30': ['https://www.cian.ru/sale/flat/225980859/', 'https://www.cian.ru/sale/flat/200914784/', 'https://www.cian.ru/sale/flat/224105854/', 'https://www.cian.ru/sale/flat/201487606/', 'https://www.cian.ru/sale/flat/225129280/', 'https://www.cian.ru/sale/flat/223610672/', 'https://www.cian.ru/sale/flat/226502677/', 'https://www.cian.ru/sale/flat/224481408/', 'https://www.cian.ru/sale/flat/224839593/', 'https://www.cian.ru/sale/flat/220681816/', 'https://www.cian.ru/sale/flat/213532742/', 'https://www.cian.ru/sale/flat/225247354/', 'https://www.cian.ru/sale/flat/224824038/', 'https://www.cian.ru/sale/flat/208077408/', 'https://www.cian.ru/sale/flat/183741816/', 'https://www.cian.ru/sale/flat/220574045/', 'https://www.cian.ru/sale/flat/208665597/', 'https://www.cian.ru/sale/flat/157550383/', 'https://www.cian.ru/sale/flat/153471789/', 'https://www.cian.ru/sale/flat/225268780/', 'https://www.cian.ru/sale/flat/225807614/', 'https://www.cian.ru/sale/flat/211267281/', 'https://www.cian.ru/sale/flat/224530812/', 'https://www.cian.ru/sale/flat/215730927/', 'https://www.cian.ru/sale/flat/221636163/', 'https://www.cian.ru/sale/flat/226328858/', 'https://www.cian.ru/sale/flat/226846412/', 'https://www.cian.ru/sale/flat/224946813/'], 'https://www.cian.ru/cat.php?engine_version=2&deal_type=sale&offer_type=flat&district=4&room1=1&region=1&object_type=1&p=31': ['https://www.cian.ru/sale/flat/193896067/', 'https://www.cian.ru/sale/flat/223538078/', 'https://www.cian.ru/sale/flat/225995218/', 'https://www.cian.ru/sale/flat/225677023/', 'https://www.cian.ru/sale/flat/220465855/', 'https://www.cian.ru/sale/flat/220105777/', 'https://www.cian.ru/sale/flat/221374388/', 'https://www.cian.ru/sale/flat/177589985/', 'https://www.cian.ru/sale/flat/193678372/', 'https://www.cian.ru/sale/flat/220022703/', 'https://www.cian.ru/sale/flat/223699550/', 'https://www.cian.ru/sale/flat/224878821/', 'https://www.cian.ru/sale/flat/226315410/', 'https://www.cian.ru/sale/flat/195422406/', 'https://www.cian.ru/sale/flat/219811338/', 'https://www.cian.ru/sale/flat/225796966/', 'https://www.cian.ru/sale/flat/226493765/', 'https://www.cian.ru/sale/flat/225769206/', 'https://www.cian.ru/sale/flat/223396310/', 'https://www.cian.ru/sale/flat/225987629/', 'https://www.cian.ru/sale/flat/223546988/', 'https://www.cian.ru/sale/flat/224026669/', 'https://www.cian.ru/sale/flat/223404988/', 'https://www.cian.ru/sale/flat/207894719/', 'https://www.cian.ru/sale/flat/203449410/', 'https://www.cian.ru/sale/flat/220276468/', 'https://www.cian.ru/sale/flat/219793601/', 'https://www.cian.ru/sale/flat/202215986/'], 'https://www.cian.ru/cat.php?engine_version=2&deal_type=sale&offer_type=flat&district=4&room1=1&region=1&object_type=1&p=32': ['https://www.cian.ru/sale/flat/222410018/', 'https://www.cian.ru/sale/flat/225257527/', 'https://www.cian.ru/sale/flat/224847245/', 'https://www.cian.ru/sale/flat/225697436/', 'https://www.cian.ru/sale/flat/226717463/', 'https://www.cian.ru/sale/flat/222723042/', 'https://www.cian.ru/sale/flat/199356106/', 'https://www.cian.ru/sale/flat/223990557/', 'https://www.cian.ru/sale/flat/224117690/', 'https://www.cian.ru/sale/flat/224471713/', 'https://www.cian.ru/sale/flat/212446167/', 'https://www.cian.ru/sale/flat/226173143/', 'https://www.cian.ru/sale/flat/226717451/', 'https://www.cian.ru/sale/flat/206066044/', 'https://www.cian.ru/sale/flat/225509200/', 'https://www.cian.ru/sale/flat/160610008/', 'https://www.cian.ru/sale/flat/196967685/', 'https://www.cian.ru/sale/flat/226289071/', 'https://www.cian.ru/sale/flat/225306058/', 'https://www.cian.ru/sale/flat/226717469/', 'https://www.cian.ru/sale/flat/226182547/', 'https://www.cian.ru/sale/flat/219463607/', 'https://www.cian.ru/sale/flat/225306061/', 'https://www.cian.ru/sale/flat/226708219/', 'https://www.cian.ru/sale/flat/223990550/', 'https://www.cian.ru/sale/flat/225641310/', 'https://www.cian.ru/sale/flat/161709947/', 'https://www.cian.ru/sale/flat/220476552/'], 'https://www.cian.ru/cat.php?engine_version=2&deal_type=sale&offer_type=flat&district=4&room1=1&region=1&object_type=1&p=33': ['https://www.cian.ru/sale/flat/213939607/', 'https://www.cian.ru/sale/flat/169371611/', 'https://www.cian.ru/sale/flat/226559144/', 'https://www.cian.ru/sale/flat/224134992/', 'https://www.cian.ru/sale/flat/223107983/', 'https://www.cian.ru/sale/flat/225795658/', 'https://www.cian.ru/sale/flat/163369098/', 'https://www.cian.ru/sale/flat/219023587/', 'https://www.cian.ru/sale/flat/226696210/', 'https://www.cian.ru/sale/flat/223426858/', 'https://www.cian.ru/sale/flat/219750654/', 'https://www.cian.ru/sale/flat/225695926/', 'https://www.cian.ru/sale/flat/225411553/', 'https://www.cian.ru/sale/flat/206011596/', 'https://www.cian.ru/sale/flat/223704189/', 'https://www.cian.ru/sale/flat/222723301/', 'https://www.cian.ru/sale/flat/224932064/', 'https://www.cian.ru/sale/flat/224999765/', 'https://www.cian.ru/sale/flat/203984090/', 'https://www.cian.ru/sale/flat/225910903/', 'https://www.cian.ru/sale/flat/221966288/', 'https://www.cian.ru/sale/flat/224807172/', 'https://www.cian.ru/sale/flat/224408568/', 'https://www.cian.ru/sale/flat/222523840/', 'https://www.cian.ru/sale/flat/225306056/', 'https://www.cian.ru/sale/flat/226710176/', 'https://www.cian.ru/sale/flat/226780976/', 'https://www.cian.ru/sale/flat/206284541/'], 'https://www.cian.ru/cat.php?engine_version=2&deal_type=sale&offer_type=flat&district=4&room1=1&region=1&object_type=1&p=34': ['https://www.cian.ru/sale/flat/226508667/', 'https://www.cian.ru/sale/flat/225262452/', 'https://www.cian.ru/sale/flat/218026683/', 'https://www.cian.ru/sale/flat/208369713/', 'https://www.cian.ru/sale/flat/223083661/', 'https://www.cian.ru/sale/flat/225308627/', 'https://www.cian.ru/sale/flat/226710172/', 'https://www.cian.ru/sale/flat/222210128/', 'https://www.cian.ru/sale/flat/225157639/', 'https://www.cian.ru/sale/flat/225908637/', 'https://www.cian.ru/sale/flat/226399230/', 'https://www.cian.ru/sale/flat/226416341/', 'https://www.cian.ru/sale/flat/222210130/', 'https://www.cian.ru/sale/flat/222980769/', 'https://www.cian.ru/sale/flat/215618440/', 'https://www.cian.ru/sale/flat/222210129/', 'https://www.cian.ru/sale/flat/173020263/', 'https://www.cian.ru/sale/flat/212953917/', 'https://www.cian.ru/sale/flat/222210127/', 'https://www.cian.ru/sale/flat/225797168/', 'https://www.cian.ru/sale/flat/198513591/', 'https://www.cian.ru/sale/flat/225414480/', 'https://www.cian.ru/sale/flat/197824802/', 'https://www.cian.ru/sale/flat/197824809/', 'https://www.cian.ru/sale/flat/197824803/', 'https://www.cian.ru/sale/flat/197824807/', 'https://www.cian.ru/sale/flat/226866301/', 'https://www.cian.ru/sale/flat/226571161/'], 'https://www.cian.ru/cat.php?engine_version=2&deal_type=sale&offer_type=flat&district=4&room1=1&region=1&object_type=1&p=35': ['https://www.cian.ru/sale/flat/226777937/', 'https://www.cian.ru/sale/flat/226839033/', 'https://www.cian.ru/sale/flat/226795969/', 'https://www.cian.ru/sale/flat/226779244/', 'https://www.cian.ru/sale/flat/225202297/', 'https://www.cian.ru/sale/flat/226639066/', 'https://www.cian.ru/sale/flat/226213174/', 'https://www.cian.ru/sale/flat/226233629/', 'https://www.cian.ru/sale/flat/225257585/', 'https://www.cian.ru/sale/flat/226472076/', 'https://www.cian.ru/sale/flat/226087972/', 'https://www.cian.ru/sale/flat/218027885/', 'https://www.cian.ru/sale/flat/194855947/', 'https://www.cian.ru/sale/flat/225078883/', 'https://www.cian.ru/sale/flat/226289071/', 'https://www.cian.ru/sale/flat/224481408/', 'https://www.cian.ru/sale/flat/224350377/', 'https://www.cian.ru/sale/flat/226173143/', 'https://www.cian.ru/sale/flat/219427362/', 'https://www.cian.ru/sale/flat/224234564/', 'https://www.cian.ru/sale/flat/215133208/', 'https://www.cian.ru/sale/flat/220704791/', 'https://www.cian.ru/sale/flat/226220112/', 'https://www.cian.ru/sale/flat/225581323/', 'https://www.cian.ru/sale/flat/225162303/'], 'https://www.cian.ru/cat.php?engine_version=2&deal_type=sale&offer_type=flat&district=4&room1=1&region=1&object_type=1&p=36': ['https://www.cian.ru/sale/flat/218476165/', 'https://www.cian.ru/sale/flat/226799429/', 'https://www.cian.ru/sale/flat/226775976/', 'https://www.cian.ru/sale/flat/226775980/', 'https://www.cian.ru/sale/flat/226240218/', 'https://www.cian.ru/sale/flat/226797486/', 'https://www.cian.ru/sale/flat/225277408/', 'https://www.cian.ru/sale/flat/224604525/', 'https://www.cian.ru/sale/flat/226172294/', 'https://www.cian.ru/sale/flat/226325561/', 'https://www.cian.ru/sale/flat/220323967/', 'https://www.cian.ru/sale/flat/225546732/', 'https://www.cian.ru/sale/flat/226081906/', 'https://www.cian.ru/sale/flat/226362793/', 'https://www.cian.ru/sale/flat/224371535/', 'https://www.cian.ru/sale/flat/219953511/', 'https://www.cian.ru/sale/flat/224744760/', 'https://www.cian.ru/sale/flat/226715698/', 'https://www.cian.ru/sale/flat/224945773/', 'https://www.cian.ru/sale/flat/224138003/', 'https://www.cian.ru/sale/flat/224934492/', 'https://www.cian.ru/sale/flat/225162303/', 'https://www.cian.ru/sale/flat/225678848/', 'https://www.cian.ru/sale/flat/225678840/', 'https://www.cian.ru/sale/flat/226553498/', 'https://www.cian.ru/sale/flat/221537775/', 'https://www.cian.ru/sale/flat/225930444/', 'https://www.cian.ru/sale/flat/224298954/'], 'https://www.cian.ru/cat.php?engine_version=2&deal_type=sale&offer_type=flat&district=4&room1=1&region=1&object_type=1&p=37': ['https://www.cian.ru/sale/flat/218476165/', 'https://www.cian.ru/sale/flat/226799429/', 'https://www.cian.ru/sale/flat/226775976/', 'https://www.cian.ru/sale/flat/226775980/', 'https://www.cian.ru/sale/flat/226240218/', 'https://www.cian.ru/sale/flat/226797486/', 'https://www.cian.ru/sale/flat/225277408/', 'https://www.cian.ru/sale/flat/224604525/', 'https://www.cian.ru/sale/flat/226172294/', 'https://www.cian.ru/sale/flat/226325561/', 'https://www.cian.ru/sale/flat/220323967/', 'https://www.cian.ru/sale/flat/225546732/', 'https://www.cian.ru/sale/flat/226081906/', 'https://www.cian.ru/sale/flat/226362793/', 'https://www.cian.ru/sale/flat/224371535/', 'https://www.cian.ru/sale/flat/219953511/', 'https://www.cian.ru/sale/flat/224744760/', 'https://www.cian.ru/sale/flat/226715698/', 'https://www.cian.ru/sale/flat/224945773/', 'https://www.cian.ru/sale/flat/224138003/', 'https://www.cian.ru/sale/flat/224934492/', 'https://www.cian.ru/sale/flat/225162303/', 'https://www.cian.ru/sale/flat/225678848/', 'https://www.cian.ru/sale/flat/225678840/', 'https://www.cian.ru/sale/flat/226553498/', 'https://www.cian.ru/sale/flat/221537775/', 'https://www.cian.ru/sale/flat/225930444/', 'https://www.cian.ru/sale/flat/224298954/'], 'https://www.cian.ru/cat.php?engine_version=2&deal_type=sale&offer_type=flat&district=4&room1=1&region=1&object_type=1&p=38': ['https://www.cian.ru/sale/flat/218476165/', 'https://www.cian.ru/sale/flat/226799429/', 'https://www.cian.ru/sale/flat/226775976/', 'https://www.cian.ru/sale/flat/226775980/', 'https://www.cian.ru/sale/flat/226240218/', 'https://www.cian.ru/sale/flat/226797486/', 'https://www.cian.ru/sale/flat/225277408/', 'https://www.cian.ru/sale/flat/224604525/', 'https://www.cian.ru/sale/flat/226172294/', 'https://www.cian.ru/sale/flat/226325561/', 'https://www.cian.ru/sale/flat/220323967/', 'https://www.cian.ru/sale/flat/225546732/', 'https://www.cian.ru/sale/flat/226081906/', 'https://www.cian.ru/sale/flat/226362793/', 'https://www.cian.ru/sale/flat/224371535/', 'https://www.cian.ru/sale/flat/219953511/', 'https://www.cian.ru/sale/flat/224744760/', 'https://www.cian.ru/sale/flat/226715698/', 'https://www.cian.ru/sale/flat/224945773/', 'https://www.cian.ru/sale/flat/224138003/', 'https://www.cian.ru/sale/flat/224934492/', 'https://www.cian.ru/sale/flat/225162303/', 'https://www.cian.ru/sale/flat/225678848/', 'https://www.cian.ru/sale/flat/225678840/', 'https://www.cian.ru/sale/flat/226553498/', 'https://www.cian.ru/sale/flat/221537775/', 'https://www.cian.ru/sale/flat/225930444/', 'https://www.cian.ru/sale/flat/224298954/'], 'https://www.cian.ru/cat.php?engine_version=2&deal_type=sale&offer_type=flat&district=4&room1=1&region=1&object_type=1&p=39': ['https://www.cian.ru/sale/flat/218476165/', 'https://www.cian.ru/sale/flat/226799429/', 'https://www.cian.ru/sale/flat/226775976/', 'https://www.cian.ru/sale/flat/226775980/', 'https://www.cian.ru/sale/flat/226240218/', 'https://www.cian.ru/sale/flat/226797486/', 'https://www.cian.ru/sale/flat/225277408/', 'https://www.cian.ru/sale/flat/224604525/', 'https://www.cian.ru/sale/flat/226172294/', 'https://www.cian.ru/sale/flat/226325561/', 'https://www.cian.ru/sale/flat/220323967/', 'https://www.cian.ru/sale/flat/225546732/', 'https://www.cian.ru/sale/flat/226081906/', 'https://www.cian.ru/sale/flat/226362793/', 'https://www.cian.ru/sale/flat/224371535/', 'https://www.cian.ru/sale/flat/219953511/', 'https://www.cian.ru/sale/flat/224744760/', 'https://www.cian.ru/sale/flat/226715698/', 'https://www.cian.ru/sale/flat/224945773/', 'https://www.cian.ru/sale/flat/224138003/', 'https://www.cian.ru/sale/flat/224934492/', 'https://www.cian.ru/sale/flat/225162303/', 'https://www.cian.ru/sale/flat/225678848/', 'https://www.cian.ru/sale/flat/225678840/', 'https://www.cian.ru/sale/flat/226553498/', 'https://www.cian.ru/sale/flat/221537775/', 'https://www.cian.ru/sale/flat/225930444/', 'https://www.cian.ru/sale/flat/224298954/'], 'https://www.cian.ru/cat.php?engine_version=2&deal_type=sale&offer_type=flat&district=4&room1=1&region=1&object_type=1&p=40': ['https://www.cian.ru/sale/flat/218476165/', 'https://www.cian.ru/sale/flat/226799429/', 'https://www.cian.ru/sale/flat/226775976/', 'https://www.cian.ru/sale/flat/226775980/', 'https://www.cian.ru/sale/flat/226240218/', 'https://www.cian.ru/sale/flat/226797486/', 'https://www.cian.ru/sale/flat/225277408/', 'https://www.cian.ru/sale/flat/224604525/', 'https://www.cian.ru/sale/flat/226172294/', 'https://www.cian.ru/sale/flat/226325561/', 'https://www.cian.ru/sale/flat/220323967/', 'https://www.cian.ru/sale/flat/225546732/', 'https://www.cian.ru/sale/flat/226081906/', 'https://www.cian.ru/sale/flat/226362793/', 'https://www.cian.ru/sale/flat/224371535/', 'https://www.cian.ru/sale/flat/219953511/', 'https://www.cian.ru/sale/flat/224744760/', 'https://www.cian.ru/sale/flat/226715698/', 'https://www.cian.ru/sale/flat/224945773/', 'https://www.cian.ru/sale/flat/224138003/', 'https://www.cian.ru/sale/flat/224934492/', 'https://www.cian.ru/sale/flat/225162303/', 'https://www.cian.ru/sale/flat/225678848/', 'https://www.cian.ru/sale/flat/225678840/', 'https://www.cian.ru/sale/flat/226553498/', 'https://www.cian.ru/sale/flat/221537775/', 'https://www.cian.ru/sale/flat/225930444/', 'https://www.cian.ru/sale/flat/224298954/'], 'https://www.cian.ru/cat.php?engine_version=2&deal_type=sale&offer_type=flat&district=4&room1=1&region=1&object_type=1&p=41': ['https://www.cian.ru/sale/flat/218476165/', 'https://www.cian.ru/sale/flat/226799429/', 'https://www.cian.ru/sale/flat/226775976/', 'https://www.cian.ru/sale/flat/226775980/', 'https://www.cian.ru/sale/flat/226240218/', 'https://www.cian.ru/sale/flat/226797486/', 'https://www.cian.ru/sale/flat/225277408/', 'https://www.cian.ru/sale/flat/224604525/', 'https://www.cian.ru/sale/flat/226172294/', 'https://www.cian.ru/sale/flat/226325561/', 'https://www.cian.ru/sale/flat/220323967/', 'https://www.cian.ru/sale/flat/225546732/', 'https://www.cian.ru/sale/flat/226081906/', 'https://www.cian.ru/sale/flat/226362793/', 'https://www.cian.ru/sale/flat/224371535/', 'https://www.cian.ru/sale/flat/219953511/', 'https://www.cian.ru/sale/flat/224744760/', 'https://www.cian.ru/sale/flat/226715698/', 'https://www.cian.ru/sale/flat/224945773/', 'https://www.cian.ru/sale/flat/224138003/', 'https://www.cian.ru/sale/flat/224934492/', 'https://www.cian.ru/sale/flat/225162303/', 'https://www.cian.ru/sale/flat/225678848/', 'https://www.cian.ru/sale/flat/225678840/', 'https://www.cian.ru/sale/flat/226553498/', 'https://www.cian.ru/sale/flat/221537775/', 'https://www.cian.ru/sale/flat/225930444/', 'https://www.cian.ru/sale/flat/224298954/'], 'https://www.cian.ru/cat.php?engine_version=2&deal_type=sale&offer_type=flat&district=4&room1=1&region=1&object_type=1&p=42': ['https://www.cian.ru/sale/flat/218476165/', 'https://www.cian.ru/sale/flat/226799429/', 'https://www.cian.ru/sale/flat/226775976/', 'https://www.cian.ru/sale/flat/226775980/', 'https://www.cian.ru/sale/flat/226240218/', 'https://www.cian.ru/sale/flat/226797486/', 'https://www.cian.ru/sale/flat/225277408/', 'https://www.cian.ru/sale/flat/224604525/', 'https://www.cian.ru/sale/flat/226172294/', 'https://www.cian.ru/sale/flat/226325561/', 'https://www.cian.ru/sale/flat/220323967/', 'https://www.cian.ru/sale/flat/225546732/', 'https://www.cian.ru/sale/flat/226081906/', 'https://www.cian.ru/sale/flat/226362793/', 'https://www.cian.ru/sale/flat/224371535/', 'https://www.cian.ru/sale/flat/219953511/', 'https://www.cian.ru/sale/flat/224744760/', 'https://www.cian.ru/sale/flat/226715698/', 'https://www.cian.ru/sale/flat/224945773/', 'https://www.cian.ru/sale/flat/224138003/', 'https://www.cian.ru/sale/flat/224934492/', 'https://www.cian.ru/sale/flat/225162303/', 'https://www.cian.ru/sale/flat/225678848/', 'https://www.cian.ru/sale/flat/225678840/', 'https://www.cian.ru/sale/flat/226553498/', 'https://www.cian.ru/sale/flat/221537775/', 'https://www.cian.ru/sale/flat/225930444/', 'https://www.cian.ru/sale/flat/224298954/'], 'https://www.cian.ru/cat.php?engine_version=2&deal_type=sale&offer_type=flat&district=4&room1=1&region=1&object_type=1&p=43': ['https://www.cian.ru/sale/flat/218476165/', 'https://www.cian.ru/sale/flat/226799429/', 'https://www.cian.ru/sale/flat/226775976/', 'https://www.cian.ru/sale/flat/226775980/', 'https://www.cian.ru/sale/flat/226240218/', 'https://www.cian.ru/sale/flat/226797486/', 'https://www.cian.ru/sale/flat/225277408/', 'https://www.cian.ru/sale/flat/224604525/', 'https://www.cian.ru/sale/flat/226172294/', 'https://www.cian.ru/sale/flat/226325561/', 'https://www.cian.ru/sale/flat/220323967/', 'https://www.cian.ru/sale/flat/225546732/', 'https://www.cian.ru/sale/flat/226081906/', 'https://www.cian.ru/sale/flat/226362793/', 'https://www.cian.ru/sale/flat/224371535/', 'https://www.cian.ru/sale/flat/219953511/', 'https://www.cian.ru/sale/flat/224744760/', 'https://www.cian.ru/sale/flat/226715698/', 'https://www.cian.ru/sale/flat/224945773/', 'https://www.cian.ru/sale/flat/224138003/', 'https://www.cian.ru/sale/flat/224934492/', 'https://www.cian.ru/sale/flat/225162303/', 'https://www.cian.ru/sale/flat/225678848/', 'https://www.cian.ru/sale/flat/225678840/', 'https://www.cian.ru/sale/flat/226553498/', 'https://www.cian.ru/sale/flat/221537775/', 'https://www.cian.ru/sale/flat/225930444/', 'https://www.cian.ru/sale/flat/224298954/'], 'https://www.cian.ru/cat.php?engine_version=2&deal_type=sale&offer_type=flat&district=4&room1=1&region=1&object_type=1&p=44': ['https://www.cian.ru/sale/flat/218476165/', 'https://www.cian.ru/sale/flat/226799429/', 'https://www.cian.ru/sale/flat/226775976/', 'https://www.cian.ru/sale/flat/226775980/', 'https://www.cian.ru/sale/flat/226240218/', 'https://www.cian.ru/sale/flat/226797486/', 'https://www.cian.ru/sale/flat/225277408/', 'https://www.cian.ru/sale/flat/224604525/', 'https://www.cian.ru/sale/flat/226172294/', 'https://www.cian.ru/sale/flat/226325561/', 'https://www.cian.ru/sale/flat/220323967/', 'https://www.cian.ru/sale/flat/225546732/', 'https://www.cian.ru/sale/flat/226081906/', 'https://www.cian.ru/sale/flat/226362793/', 'https://www.cian.ru/sale/flat/224371535/', 'https://www.cian.ru/sale/flat/219953511/', 'https://www.cian.ru/sale/flat/224744760/', 'https://www.cian.ru/sale/flat/226715698/', 'https://www.cian.ru/sale/flat/224945773/', 'https://www.cian.ru/sale/flat/224138003/', 'https://www.cian.ru/sale/flat/224934492/', 'https://www.cian.ru/sale/flat/225162303/', 'https://www.cian.ru/sale/flat/225678848/', 'https://www.cian.ru/sale/flat/225678840/', 'https://www.cian.ru/sale/flat/226553498/', 'https://www.cian.ru/sale/flat/221537775/', 'https://www.cian.ru/sale/flat/225930444/', 'https://www.cian.ru/sale/flat/224298954/'], 'https://www.cian.ru/cat.php?engine_version=2&deal_type=sale&offer_type=flat&district=4&room1=1&region=1&object_type=1&p=45': ['https://www.cian.ru/sale/flat/218476165/', 'https://www.cian.ru/sale/flat/226799429/', 'https://www.cian.ru/sale/flat/226775976/', 'https://www.cian.ru/sale/flat/226775980/', 'https://www.cian.ru/sale/flat/226240218/', 'https://www.cian.ru/sale/flat/226797486/', 'https://www.cian.ru/sale/flat/225277408/', 'https://www.cian.ru/sale/flat/224604525/', 'https://www.cian.ru/sale/flat/226172294/', 'https://www.cian.ru/sale/flat/226325561/', 'https://www.cian.ru/sale/flat/220323967/', 'https://www.cian.ru/sale/flat/225546732/', 'https://www.cian.ru/sale/flat/226081906/', 'https://www.cian.ru/sale/flat/226362793/', 'https://www.cian.ru/sale/flat/224371535/', 'https://www.cian.ru/sale/flat/219953511/', 'https://www.cian.ru/sale/flat/224744760/', 'https://www.cian.ru/sale/flat/226715698/', 'https://www.cian.ru/sale/flat/224945773/', 'https://www.cian.ru/sale/flat/224138003/', 'https://www.cian.ru/sale/flat/224934492/', 'https://www.cian.ru/sale/flat/225162303/', 'https://www.cian.ru/sale/flat/225678848/', 'https://www.cian.ru/sale/flat/225678840/', 'https://www.cian.ru/sale/flat/226553498/', 'https://www.cian.ru/sale/flat/221537775/', 'https://www.cian.ru/sale/flat/225930444/', 'https://www.cian.ru/sale/flat/224298954/'], 'https://www.cian.ru/cat.php?engine_version=2&deal_type=sale&offer_type=flat&district=4&room1=1&region=1&object_type=1&p=46': ['https://www.cian.ru/sale/flat/218476165/', 'https://www.cian.ru/sale/flat/226799429/', 'https://www.cian.ru/sale/flat/226775976/', 'https://www.cian.ru/sale/flat/226775980/', 'https://www.cian.ru/sale/flat/226240218/', 'https://www.cian.ru/sale/flat/226797486/', 'https://www.cian.ru/sale/flat/225277408/', 'https://www.cian.ru/sale/flat/224604525/', 'https://www.cian.ru/sale/flat/226172294/', 'https://www.cian.ru/sale/flat/226325561/', 'https://www.cian.ru/sale/flat/220323967/', 'https://www.cian.ru/sale/flat/225546732/', 'https://www.cian.ru/sale/flat/226081906/', 'https://www.cian.ru/sale/flat/226362793/', 'https://www.cian.ru/sale/flat/224371535/', 'https://www.cian.ru/sale/flat/219953511/', 'https://www.cian.ru/sale/flat/224744760/', 'https://www.cian.ru/sale/flat/226715698/', 'https://www.cian.ru/sale/flat/224945773/', 'https://www.cian.ru/sale/flat/224138003/', 'https://www.cian.ru/sale/flat/224934492/', 'https://www.cian.ru/sale/flat/225162303/', 'https://www.cian.ru/sale/flat/225678848/', 'https://www.cian.ru/sale/flat/225678840/', 'https://www.cian.ru/sale/flat/226553498/', 'https://www.cian.ru/sale/flat/221537775/', 'https://www.cian.ru/sale/flat/225930444/', 'https://www.cian.ru/sale/flat/224298954/'], 'https://www.cian.ru/cat.php?engine_version=2&deal_type=sale&offer_type=flat&district=4&room1=1&region=1&object_type=1&p=47': ['https://www.cian.ru/sale/flat/218476165/', 'https://www.cian.ru/sale/flat/226799429/', 'https://www.cian.ru/sale/flat/226775976/', 'https://www.cian.ru/sale/flat/226775980/', 'https://www.cian.ru/sale/flat/226240218/', 'https://www.cian.ru/sale/flat/226797486/', 'https://www.cian.ru/sale/flat/225277408/', 'https://www.cian.ru/sale/flat/224604525/', 'https://www.cian.ru/sale/flat/226172294/', 'https://www.cian.ru/sale/flat/226325561/', 'https://www.cian.ru/sale/flat/220323967/', 'https://www.cian.ru/sale/flat/225546732/', 'https://www.cian.ru/sale/flat/226081906/', 'https://www.cian.ru/sale/flat/226362793/', 'https://www.cian.ru/sale/flat/224371535/', 'https://www.cian.ru/sale/flat/219953511/', 'https://www.cian.ru/sale/flat/224744760/', 'https://www.cian.ru/sale/flat/226715698/', 'https://www.cian.ru/sale/flat/224945773/', 'https://www.cian.ru/sale/flat/224138003/', 'https://www.cian.ru/sale/flat/224934492/', 'https://www.cian.ru/sale/flat/225162303/', 'https://www.cian.ru/sale/flat/225678848/', 'https://www.cian.ru/sale/flat/225678840/', 'https://www.cian.ru/sale/flat/226553498/', 'https://www.cian.ru/sale/flat/221537775/', 'https://www.cian.ru/sale/flat/225930444/', 'https://www.cian.ru/sale/flat/224298954/'], 'https://www.cian.ru/cat.php?engine_version=2&deal_type=sale&offer_type=flat&district=4&room1=1&region=1&object_type=1&p=48': ['https://www.cian.ru/sale/flat/218476165/', 'https://www.cian.ru/sale/flat/226799429/', 'https://www.cian.ru/sale/flat/226775976/', 'https://www.cian.ru/sale/flat/226775980/', 'https://www.cian.ru/sale/flat/226240218/', 'https://www.cian.ru/sale/flat/226797486/', 'https://www.cian.ru/sale/flat/225277408/', 'https://www.cian.ru/sale/flat/224604525/', 'https://www.cian.ru/sale/flat/226172294/', 'https://www.cian.ru/sale/flat/226325561/', 'https://www.cian.ru/sale/flat/220323967/', 'https://www.cian.ru/sale/flat/225546732/', 'https://www.cian.ru/sale/flat/226081906/', 'https://www.cian.ru/sale/flat/226362793/', 'https://www.cian.ru/sale/flat/224371535/', 'https://www.cian.ru/sale/flat/219953511/', 'https://www.cian.ru/sale/flat/224744760/', 'https://www.cian.ru/sale/flat/226715698/', 'https://www.cian.ru/sale/flat/224945773/', 'https://www.cian.ru/sale/flat/224138003/', 'https://www.cian.ru/sale/flat/224934492/', 'https://www.cian.ru/sale/flat/225162303/', 'https://www.cian.ru/sale/flat/225678848/', 'https://www.cian.ru/sale/flat/225678840/', 'https://www.cian.ru/sale/flat/226553498/', 'https://www.cian.ru/sale/flat/221537775/', 'https://www.cian.ru/sale/flat/225930444/', 'https://www.cian.ru/sale/flat/224298954/'], 'https://www.cian.ru/cat.php?engine_version=2&deal_type=sale&offer_type=flat&district=4&room1=1&region=1&object_type=1&p=49': ['https://www.cian.ru/sale/flat/218476165/', 'https://www.cian.ru/sale/flat/226799429/', 'https://www.cian.ru/sale/flat/226775976/', 'https://www.cian.ru/sale/flat/226775980/', 'https://www.cian.ru/sale/flat/226240218/', 'https://www.cian.ru/sale/flat/226797486/', 'https://www.cian.ru/sale/flat/225277408/', 'https://www.cian.ru/sale/flat/224604525/', 'https://www.cian.ru/sale/flat/226172294/', 'https://www.cian.ru/sale/flat/226325561/', 'https://www.cian.ru/sale/flat/220323967/', 'https://www.cian.ru/sale/flat/225546732/', 'https://www.cian.ru/sale/flat/226081906/', 'https://www.cian.ru/sale/flat/226362793/', 'https://www.cian.ru/sale/flat/224371535/', 'https://www.cian.ru/sale/flat/219953511/', 'https://www.cian.ru/sale/flat/224744760/', 'https://www.cian.ru/sale/flat/226715698/', 'https://www.cian.ru/sale/flat/224945773/', 'https://www.cian.ru/sale/flat/224138003/', 'https://www.cian.ru/sale/flat/224934492/', 'https://www.cian.ru/sale/flat/225162303/', 'https://www.cian.ru/sale/flat/225678848/', 'https://www.cian.ru/sale/flat/225678840/', 'https://www.cian.ru/sale/flat/226553498/', 'https://www.cian.ru/sale/flat/221537775/', 'https://www.cian.ru/sale/flat/225930444/', 'https://www.cian.ru/sale/flat/224298954/'], 'https://www.cian.ru/cat.php?engine_version=2&deal_type=sale&offer_type=flat&district=4&room1=1&region=1&object_type=1&p=50': ['https://www.cian.ru/sale/flat/218476165/', 'https://www.cian.ru/sale/flat/226799429/', 'https://www.cian.ru/sale/flat/226775976/', 'https://www.cian.ru/sale/flat/226775980/', 'https://www.cian.ru/sale/flat/226240218/', 'https://www.cian.ru/sale/flat/226797486/', 'https://www.cian.ru/sale/flat/225277408/', 'https://www.cian.ru/sale/flat/224604525/', 'https://www.cian.ru/sale/flat/226172294/', 'https://www.cian.ru/sale/flat/226325561/', 'https://www.cian.ru/sale/flat/220323967/', 'https://www.cian.ru/sale/flat/225546732/', 'https://www.cian.ru/sale/flat/226081906/', 'https://www.cian.ru/sale/flat/226362793/', 'https://www.cian.ru/sale/flat/224371535/', 'https://www.cian.ru/sale/flat/219953511/', 'https://www.cian.ru/sale/flat/224744760/', 'https://www.cian.ru/sale/flat/226715698/', 'https://www.cian.ru/sale/flat/224945773/', 'https://www.cian.ru/sale/flat/224138003/', 'https://www.cian.ru/sale/flat/224934492/', 'https://www.cian.ru/sale/flat/225162303/', 'https://www.cian.ru/sale/flat/225678848/', 'https://www.cian.ru/sale/flat/225678840/', 'https://www.cian.ru/sale/flat/226553498/', 'https://www.cian.ru/sale/flat/221537775/', 'https://www.cian.ru/sale/flat/225930444/', 'https://www.cian.ru/sale/flat/224298954/'], 'https://www.cian.ru/cat.php?engine_version=2&deal_type=sale&offer_type=flat&district=4&room1=1&region=1&object_type=1&p=51': ['https://www.cian.ru/sale/flat/218476165/', 'https://www.cian.ru/sale/flat/226799429/', 'https://www.cian.ru/sale/flat/226775976/', 'https://www.cian.ru/sale/flat/226775980/', 'https://www.cian.ru/sale/flat/226240218/', 'https://www.cian.ru/sale/flat/226797486/', 'https://www.cian.ru/sale/flat/225277408/', 'https://www.cian.ru/sale/flat/224604525/', 'https://www.cian.ru/sale/flat/226172294/', 'https://www.cian.ru/sale/flat/226325561/', 'https://www.cian.ru/sale/flat/220323967/', 'https://www.cian.ru/sale/flat/225546732/', 'https://www.cian.ru/sale/flat/226081906/', 'https://www.cian.ru/sale/flat/226362793/', 'https://www.cian.ru/sale/flat/224371535/', 'https://www.cian.ru/sale/flat/219953511/', 'https://www.cian.ru/sale/flat/224744760/', 'https://www.cian.ru/sale/flat/226715698/', 'https://www.cian.ru/sale/flat/224945773/', 'https://www.cian.ru/sale/flat/224138003/', 'https://www.cian.ru/sale/flat/224934492/', 'https://www.cian.ru/sale/flat/225162303/', 'https://www.cian.ru/sale/flat/225678848/', 'https://www.cian.ru/sale/flat/225678840/', 'https://www.cian.ru/sale/flat/226553498/', 'https://www.cian.ru/sale/flat/221537775/', 'https://www.cian.ru/sale/flat/225930444/', 'https://www.cian.ru/sale/flat/224298954/'], 'https://www.cian.ru/cat.php?engine_version=2&deal_type=sale&offer_type=flat&district=4&room1=1&region=1&object_type=1&p=52': ['https://www.cian.ru/sale/flat/218476165/', 'https://www.cian.ru/sale/flat/226799429/', 'https://www.cian.ru/sale/flat/226775976/', 'https://www.cian.ru/sale/flat/226775980/', 'https://www.cian.ru/sale/flat/226240218/', 'https://www.cian.ru/sale/flat/226797486/', 'https://www.cian.ru/sale/flat/225277408/', 'https://www.cian.ru/sale/flat/224604525/', 'https://www.cian.ru/sale/flat/226172294/', 'https://www.cian.ru/sale/flat/226325561/', 'https://www.cian.ru/sale/flat/220323967/', 'https://www.cian.ru/sale/flat/225546732/', 'https://www.cian.ru/sale/flat/226081906/', 'https://www.cian.ru/sale/flat/226362793/', 'https://www.cian.ru/sale/flat/224371535/', 'https://www.cian.ru/sale/flat/219953511/', 'https://www.cian.ru/sale/flat/224744760/', 'https://www.cian.ru/sale/flat/226715698/', 'https://www.cian.ru/sale/flat/224945773/', 'https://www.cian.ru/sale/flat/224138003/', 'https://www.cian.ru/sale/flat/224934492/', 'https://www.cian.ru/sale/flat/225162303/', 'https://www.cian.ru/sale/flat/225678848/', 'https://www.cian.ru/sale/flat/225678840/', 'https://www.cian.ru/sale/flat/226553498/', 'https://www.cian.ru/sale/flat/221537775/', 'https://www.cian.ru/sale/flat/225930444/', 'https://www.cian.ru/sale/flat/224298954/'], 'https://www.cian.ru/cat.php?engine_version=2&deal_type=sale&offer_type=flat&district=4&room1=1&region=1&object_type=1&p=53': ['https://www.cian.ru/sale/flat/218476165/', 'https://www.cian.ru/sale/flat/226799429/', 'https://www.cian.ru/sale/flat/226775976/', 'https://www.cian.ru/sale/flat/226775980/', 'https://www.cian.ru/sale/flat/226240218/', 'https://www.cian.ru/sale/flat/226797486/', 'https://www.cian.ru/sale/flat/225277408/', 'https://www.cian.ru/sale/flat/224604525/', 'https://www.cian.ru/sale/flat/226172294/', 'https://www.cian.ru/sale/flat/226325561/', 'https://www.cian.ru/sale/flat/220323967/', 'https://www.cian.ru/sale/flat/225546732/', 'https://www.cian.ru/sale/flat/226081906/', 'https://www.cian.ru/sale/flat/226362793/', 'https://www.cian.ru/sale/flat/224371535/', 'https://www.cian.ru/sale/flat/219953511/', 'https://www.cian.ru/sale/flat/224744760/', 'https://www.cian.ru/sale/flat/226715698/', 'https://www.cian.ru/sale/flat/224945773/', 'https://www.cian.ru/sale/flat/224138003/', 'https://www.cian.ru/sale/flat/224934492/', 'https://www.cian.ru/sale/flat/225162303/', 'https://www.cian.ru/sale/flat/225678848/', 'https://www.cian.ru/sale/flat/225678840/', 'https://www.cian.ru/sale/flat/226553498/', 'https://www.cian.ru/sale/flat/221537775/', 'https://www.cian.ru/sale/flat/225930444/', 'https://www.cian.ru/sale/flat/224298954/'], 'https://www.cian.ru/cat.php?engine_version=2&deal_type=sale&offer_type=flat&district=4&room1=1&region=1&object_type=1&p=54': ['https://www.cian.ru/sale/flat/218476165/', 'https://www.cian.ru/sale/flat/226799429/', 'https://www.cian.ru/sale/flat/226775976/', 'https://www.cian.ru/sale/flat/226775980/', 'https://www.cian.ru/sale/flat/226240218/', 'https://www.cian.ru/sale/flat/226797486/', 'https://www.cian.ru/sale/flat/225277408/', 'https://www.cian.ru/sale/flat/224604525/', 'https://www.cian.ru/sale/flat/226172294/', 'https://www.cian.ru/sale/flat/226325561/', 'https://www.cian.ru/sale/flat/220323967/', 'https://www.cian.ru/sale/flat/225546732/', 'https://www.cian.ru/sale/flat/226081906/', 'https://www.cian.ru/sale/flat/226362793/', 'https://www.cian.ru/sale/flat/224371535/', 'https://www.cian.ru/sale/flat/219953511/', 'https://www.cian.ru/sale/flat/224744760/', 'https://www.cian.ru/sale/flat/226715698/', 'https://www.cian.ru/sale/flat/224945773/', 'https://www.cian.ru/sale/flat/224138003/', 'https://www.cian.ru/sale/flat/224934492/', 'https://www.cian.ru/sale/flat/225162303/', 'https://www.cian.ru/sale/flat/225678848/', 'https://www.cian.ru/sale/flat/225678840/', 'https://www.cian.ru/sale/flat/226553498/', 'https://www.cian.ru/sale/flat/221537775/', 'https://www.cian.ru/sale/flat/225930444/', 'https://www.cian.ru/sale/flat/224298954/'], 'https://www.cian.ru/cat.php?engine_version=2&deal_type=sale&offer_type=flat&district=4&room1=1&region=1&object_type=2&p=1': ['https://www.cian.ru/sale/flat/225743587/', 'https://www.cian.ru/sale/flat/208690892/', 'https://www.cian.ru/sale/flat/208690847/', 'https://www.cian.ru/sale/flat/223851310/', 'https://www.cian.ru/sale/flat/210038089/', 'https://www.cian.ru/sale/flat/225805859/', 'https://www.cian.ru/sale/flat/225444792/', 'https://www.cian.ru/sale/flat/225444791/', 'https://www.cian.ru/sale/flat/225806028/', 'https://www.cian.ru/sale/flat/220786199/', 'https://www.cian.ru/sale/flat/225266460/', 'https://www.cian.ru/sale/flat/225806058/', 'https://www.cian.ru/sale/flat/206530867/', 'https://www.cian.ru/sale/flat/225565637/', 'https://www.cian.ru/sale/flat/208861242/', 'https://www.cian.ru/sale/flat/225900343/', 'https://www.cian.ru/sale/flat/225599310/', 'https://www.cian.ru/sale/flat/225900251/', 'https://www.cian.ru/sale/flat/224465097/', 'https://www.cian.ru/sale/flat/224465105/', 'https://www.cian.ru/sale/flat/226422854/', 'https://www.cian.ru/sale/flat/226854660/', 'https://www.cian.ru/sale/flat/226825371/', 'https://www.cian.ru/sale/flat/222954991/', 'https://www.cian.ru/sale/flat/225866666/', 'https://www.cian.ru/sale/flat/226729748/', 'https://www.cian.ru/sale/flat/219779855/', 'https://www.cian.ru/sale/flat/225639266/'], 'https://www.cian.ru/cat.php?engine_version=2&deal_type=sale&offer_type=flat&district=4&room1=1&region=1&object_type=2&p=2': ['https://www.cian.ru/sale/flat/221405235/', 'https://www.cian.ru/sale/flat/226526462/', 'https://www.cian.ru/sale/flat/222037451/', 'https://www.cian.ru/sale/flat/225900171/', 'https://www.cian.ru/sale/flat/220090514/', 'https://www.cian.ru/sale/flat/223328330/', 'https://www.cian.ru/sale/flat/208691151/', 'https://www.cian.ru/sale/flat/226097047/', 'https://www.cian.ru/sale/flat/206530935/', 'https://www.cian.ru/sale/flat/225743925/', 'https://www.cian.ru/sale/flat/225677265/', 'https://www.cian.ru/sale/flat/225743596/', 'https://www.cian.ru/sale/flat/221411091/', 'https://www.cian.ru/sale/flat/221411088/', 'https://www.cian.ru/sale/flat/221411096/', 'https://www.cian.ru/sale/flat/221411073/', 'https://www.cian.ru/sale/flat/221411083/', 'https://www.cian.ru/sale/flat/213179401/', 'https://www.cian.ru/sale/flat/202535532/', 'https://www.cian.ru/sale/flat/213179386/', 'https://www.cian.ru/sale/flat/224844387/', 'https://www.cian.ru/sale/flat/224259085/', 'https://www.cian.ru/sale/flat/224844374/', 'https://www.cian.ru/sale/flat/203089765/', 'https://www.cian.ru/sale/flat/225900318/', 'https://www.cian.ru/sale/flat/225540225/', 'https://www.cian.ru/sale/flat/225756114/', 'https://www.cian.ru/sale/flat/223515233/'], 'https://www.cian.ru/cat.php?engine_version=2&deal_type=sale&offer_type=flat&district=4&room1=1&region=1&object_type=2&p=3': ['https://www.cian.ru/sale/flat/221846077/', 'https://www.cian.ru/sale/flat/222321232/', 'https://www.cian.ru/sale/flat/224844381/', 'https://www.cian.ru/sale/flat/225625712/', 'https://www.cian.ru/sale/flat/225452390/', 'https://www.cian.ru/sale/flat/224844375/', 'https://www.cian.ru/sale/flat/224844420/', 'https://www.cian.ru/sale/flat/223378335/', 'https://www.cian.ru/sale/flat/225625365/', 'https://www.cian.ru/sale/flat/225625553/', 'https://www.cian.ru/sale/flat/226905847/', 'https://www.cian.ru/sale/flat/225821599/', 'https://www.cian.ru/sale/flat/222954965/', 'https://www.cian.ru/sale/flat/224858254/', 'https://www.cian.ru/sale/flat/224844351/', 'https://www.cian.ru/sale/flat/225625395/', 'https://www.cian.ru/sale/flat/225768704/', 'https://www.cian.ru/sale/flat/225625309/', 'https://www.cian.ru/sale/flat/226905838/', 'https://www.cian.ru/sale/flat/225821606/', 'https://www.cian.ru/sale/flat/225821608/', 'https://www.cian.ru/sale/flat/226905862/', 'https://www.cian.ru/sale/flat/226905853/', 'https://www.cian.ru/sale/flat/226196567/', 'https://www.cian.ru/sale/flat/226788917/', 'https://www.cian.ru/sale/flat/226788947/', 'https://www.cian.ru/sale/flat/226788938/', 'https://www.cian.ru/sale/flat/226788062/'], 'https://www.cian.ru/cat.php?engine_version=2&deal_type=sale&offer_type=flat&district=4&room1=1&region=1&object_type=2&p=4': ['https://www.cian.ru/sale/flat/226788926/', 'https://www.cian.ru/sale/flat/203089712/', 'https://www.cian.ru/sale/flat/226788958/', 'https://www.cian.ru/sale/flat/226525532/', 'https://www.cian.ru/sale/flat/226788019/', 'https://www.cian.ru/sale/flat/226524148/', 'https://www.cian.ru/sale/flat/203089625/', 'https://www.cian.ru/sale/flat/226788874/', 'https://www.cian.ru/sale/flat/225821617/', 'https://www.cian.ru/sale/flat/210604585/', 'https://www.cian.ru/sale/flat/226905868/', 'https://www.cian.ru/sale/flat/225821666/', 'https://www.cian.ru/sale/flat/226905874/', 'https://www.cian.ru/sale/flat/225821630/', 'https://www.cian.ru/sale/flat/226905849/', 'https://www.cian.ru/sale/flat/226905922/', 'https://www.cian.ru/sale/flat/226788013/', 'https://www.cian.ru/sale/flat/218473289/', 'https://www.cian.ru/sale/flat/225805955/', 'https://www.cian.ru/sale/flat/225805767/', 'https://www.cian.ru/sale/flat/225805855/', 'https://www.cian.ru/sale/flat/225806056/', 'https://www.cian.ru/sale/flat/223121672/', 'https://www.cian.ru/sale/flat/225900207/', 'https://www.cian.ru/sale/flat/225806049/', 'https://www.cian.ru/sale/flat/225806061/', 'https://www.cian.ru/sale/flat/225805879/', 'https://www.cian.ru/sale/flat/225805862/'], 'https://www.cian.ru/cat.php?engine_version=2&deal_type=sale&offer_type=flat&district=4&room1=1&region=1&object_type=2&p=5': ['https://www.cian.ru/sale/flat/224462887/', 'https://www.cian.ru/sale/flat/226905935/', 'https://www.cian.ru/sale/flat/226452847/', 'https://www.cian.ru/sale/flat/225806060/', 'https://www.cian.ru/sale/flat/221196137/', 'https://www.cian.ru/sale/flat/213278036/', 'https://www.cian.ru/sale/flat/222683790/', 'https://www.cian.ru/sale/flat/225805899/', 'https://www.cian.ru/sale/flat/213840864/', 'https://www.cian.ru/sale/flat/225601290/', 'https://www.cian.ru/sale/flat/225806079/', 'https://www.cian.ru/sale/flat/226503274/', 'https://www.cian.ru/sale/flat/208690846/', 'https://www.cian.ru/sale/flat/225805909/', 'https://www.cian.ru/sale/flat/225806005/', 'https://www.cian.ru/sale/flat/221196106/', 'https://www.cian.ru/sale/flat/208690848/', 'https://www.cian.ru/sale/flat/192952629/', 'https://www.cian.ru/sale/flat/226463623/', 'https://www.cian.ru/sale/flat/206530875/', 'https://www.cian.ru/sale/flat/208691053/', 'https://www.cian.ru/sale/flat/225806017/', 'https://www.cian.ru/sale/flat/192952613/', 'https://www.cian.ru/sale/flat/221100781/', 'https://www.cian.ru/sale/flat/222871311/', 'https://www.cian.ru/sale/flat/206530896/', 'https://www.cian.ru/sale/flat/202535525/', 'https://www.cian.ru/sale/flat/213278039/'], 'https://www.cian.ru/cat.php?engine_version=2&deal_type=sale&offer_type=flat&district=4&room1=1&region=1&object_type=2&p=6': ['https://www.cian.ru/sale/flat/206530928/', 'https://www.cian.ru/sale/flat/222057041/', 'https://www.cian.ru/sale/flat/224311869/', 'https://www.cian.ru/sale/flat/206530880/', 'https://www.cian.ru/sale/flat/225805930/', 'https://www.cian.ru/sale/flat/222683840/', 'https://www.cian.ru/sale/flat/206531110/', 'https://www.cian.ru/sale/flat/222683783/', 'https://www.cian.ru/sale/flat/223994396/', 'https://www.cian.ru/sale/flat/222683796/', 'https://www.cian.ru/sale/flat/225540196/', 'https://www.cian.ru/sale/flat/225601517/', 'https://www.cian.ru/sale/flat/209882558/', 'https://www.cian.ru/sale/flat/223994387/', 'https://www.cian.ru/sale/flat/222683780/', 'https://www.cian.ru/sale/flat/223994394/', 'https://www.cian.ru/sale/flat/225540193/', 'https://www.cian.ru/sale/flat/222683843/', 'https://www.cian.ru/sale/flat/224311874/', 'https://www.cian.ru/sale/flat/224805960/', 'https://www.cian.ru/sale/flat/225814371/', 'https://www.cian.ru/sale/flat/224805927/', 'https://www.cian.ru/sale/flat/224805878/', 'https://www.cian.ru/sale/flat/225814356/', 'https://www.cian.ru/sale/flat/224805937/', 'https://www.cian.ru/sale/flat/224805860/', 'https://www.cian.ru/sale/flat/225814358/', 'https://www.cian.ru/sale/flat/224218913/'], 'https://www.cian.ru/cat.php?engine_version=2&deal_type=sale&offer_type=flat&district=4&room1=1&region=1&object_type=2&p=7': ['https://www.cian.ru/sale/flat/224805856/', 'https://www.cian.ru/sale/flat/224805875/', 'https://www.cian.ru/sale/flat/225540206/', 'https://www.cian.ru/sale/flat/225540184/', 'https://www.cian.ru/sale/flat/225540210/', 'https://www.cian.ru/sale/flat/225540219/', 'https://www.cian.ru/sale/flat/225601503/', 'https://www.cian.ru/sale/flat/225540234/', 'https://www.cian.ru/sale/flat/226774872/', 'https://www.cian.ru/sale/flat/225601568/', 'https://www.cian.ru/sale/flat/225601520/', 'https://www.cian.ru/sale/flat/225540198/', 'https://www.cian.ru/sale/flat/221411100/', 'https://www.cian.ru/sale/flat/225601534/', 'https://www.cian.ru/sale/flat/221411069/', 'https://www.cian.ru/sale/flat/221411077/', 'https://www.cian.ru/sale/flat/225540192/', 'https://www.cian.ru/sale/flat/221411082/', 'https://www.cian.ru/sale/flat/221411089/', 'https://www.cian.ru/sale/flat/225540237/', 'https://www.cian.ru/sale/flat/225601514/', 'https://www.cian.ru/sale/flat/225601552/', 'https://www.cian.ru/sale/flat/226110854/', 'https://www.cian.ru/sale/flat/224310947/', 'https://www.cian.ru/sale/flat/222916673/', 'https://www.cian.ru/sale/flat/226047664/', 'https://www.cian.ru/sale/flat/223046408/', 'https://www.cian.ru/sale/flat/220781493/'], 'https://www.cian.ru/cat.php?engine_version=2&deal_type=sale&offer_type=flat&district=4&room1=1&region=1&object_type=2&p=8': ['https://www.cian.ru/sale/flat/220777459/', 'https://www.cian.ru/sale/flat/220783738/', 'https://www.cian.ru/sale/flat/224153542/', 'https://www.cian.ru/sale/flat/217225478/', 'https://www.cian.ru/sale/flat/217218309/', 'https://www.cian.ru/sale/flat/217218302/', 'https://www.cian.ru/sale/flat/217218237/', 'https://www.cian.ru/sale/flat/224446281/', 'https://www.cian.ru/sale/flat/226052654/', 'https://www.cian.ru/sale/flat/223539963/', 'https://www.cian.ru/sale/flat/211474803/', 'https://www.cian.ru/sale/flat/219427362/', 'https://www.cian.ru/sale/flat/211276349/', 'https://www.cian.ru/sale/flat/217219689/', 'https://www.cian.ru/sale/flat/221629666/', 'https://www.cian.ru/sale/flat/226286079/', 'https://www.cian.ru/sale/flat/221770921/', 'https://www.cian.ru/sale/flat/221770959/', 'https://www.cian.ru/sale/flat/226281073/', 'https://www.cian.ru/sale/flat/219914269/', 'https://www.cian.ru/sale/flat/225434912/', 'https://www.cian.ru/sale/flat/224947009/', 'https://www.cian.ru/sale/flat/224946038/', 'https://www.cian.ru/sale/flat/226670765/', 'https://www.cian.ru/sale/flat/226670760/', 'https://www.cian.ru/sale/flat/218418357/', 'https://www.cian.ru/sale/flat/224102117/', 'https://www.cian.ru/sale/flat/226671262/'], 'https://www.cian.ru/cat.php?engine_version=2&deal_type=sale&offer_type=flat&district=4&room1=1&region=1&object_type=2&p=9': ['https://www.cian.ru/sale/flat/226670835/', 'https://www.cian.ru/sale/flat/203253868/', 'https://www.cian.ru/sale/flat/225838321/', 'https://www.cian.ru/sale/flat/226905851/', 'https://www.cian.ru/sale/flat/206744892/', 'https://www.cian.ru/sale/flat/226905880/', 'https://www.cian.ru/sale/flat/223395562/', 'https://www.cian.ru/sale/flat/226905843/', 'https://www.cian.ru/sale/flat/226905903/', 'https://www.cian.ru/sale/flat/189459805/', 'https://www.cian.ru/sale/flat/225982603/', 'https://www.cian.ru/sale/flat/189459815/', 'https://www.cian.ru/sale/flat/223753296/', 'https://www.cian.ru/sale/flat/220266880/', 'https://www.cian.ru/sale/flat/223753935/', 'https://www.cian.ru/sale/flat/225931033/', 'https://www.cian.ru/sale/flat/223990506/', 'https://www.cian.ru/sale/flat/223990501/', 'https://www.cian.ru/sale/flat/223990488/', 'https://www.cian.ru/sale/flat/223990472/', 'https://www.cian.ru/sale/flat/223990470/', 'https://www.cian.ru/sale/flat/223990468/', 'https://www.cian.ru/sale/flat/223990461/', 'https://www.cian.ru/sale/flat/223990451/', 'https://www.cian.ru/sale/flat/223990445/', 'https://www.cian.ru/sale/flat/223990410/', 'https://www.cian.ru/sale/flat/200495382/', 'https://www.cian.ru/sale/flat/224607315/', 'https://www.cian.ru/sale/flat/225743587/'], 'https://www.cian.ru/cat.php?engine_version=2&deal_type=sale&offer_type=flat&district=4&room1=1&region=1&object_type=2&p=10': ['https://www.cian.ru/sale/flat/225743587/', 'https://www.cian.ru/sale/flat/208690892/', 'https://www.cian.ru/sale/flat/208690847/', 'https://www.cian.ru/sale/flat/223851310/', 'https://www.cian.ru/sale/flat/210038089/', 'https://www.cian.ru/sale/flat/225805859/', 'https://www.cian.ru/sale/flat/225444792/', 'https://www.cian.ru/sale/flat/225444791/', 'https://www.cian.ru/sale/flat/225806028/', 'https://www.cian.ru/sale/flat/220786199/', 'https://www.cian.ru/sale/flat/225266460/', 'https://www.cian.ru/sale/flat/225806058/', 'https://www.cian.ru/sale/flat/206530867/', 'https://www.cian.ru/sale/flat/225565637/', 'https://www.cian.ru/sale/flat/208861242/', 'https://www.cian.ru/sale/flat/225900343/', 'https://www.cian.ru/sale/flat/225599310/', 'https://www.cian.ru/sale/flat/225900251/', 'https://www.cian.ru/sale/flat/224465097/', 'https://www.cian.ru/sale/flat/224465105/', 'https://www.cian.ru/sale/flat/226422854/', 'https://www.cian.ru/sale/flat/226854660/', 'https://www.cian.ru/sale/flat/226825371/', 'https://www.cian.ru/sale/flat/222954991/', 'https://www.cian.ru/sale/flat/225866666/', 'https://www.cian.ru/sale/flat/226729748/', 'https://www.cian.ru/sale/flat/219779855/', 'https://www.cian.ru/sale/flat/225639266/'], 'https://www.cian.ru/cat.php?engine_version=2&deal_type=sale&offer_type=flat&district=4&room1=1&region=1&object_type=2&p=11': ['https://www.cian.ru/sale/flat/225743587/', 'https://www.cian.ru/sale/flat/208690892/', 'https://www.cian.ru/sale/flat/208690847/', 'https://www.cian.ru/sale/flat/223851310/', 'https://www.cian.ru/sale/flat/210038089/', 'https://www.cian.ru/sale/flat/225805859/', 'https://www.cian.ru/sale/flat/225444792/', 'https://www.cian.ru/sale/flat/225444791/', 'https://www.cian.ru/sale/flat/225806028/', 'https://www.cian.ru/sale/flat/220786199/', 'https://www.cian.ru/sale/flat/225266460/', 'https://www.cian.ru/sale/flat/225806058/', 'https://www.cian.ru/sale/flat/206530867/', 'https://www.cian.ru/sale/flat/225565637/', 'https://www.cian.ru/sale/flat/208861242/', 'https://www.cian.ru/sale/flat/225900343/', 'https://www.cian.ru/sale/flat/225599310/', 'https://www.cian.ru/sale/flat/225900251/', 'https://www.cian.ru/sale/flat/224465097/', 'https://www.cian.ru/sale/flat/224465105/', 'https://www.cian.ru/sale/flat/226422854/', 'https://www.cian.ru/sale/flat/226854660/', 'https://www.cian.ru/sale/flat/226825371/', 'https://www.cian.ru/sale/flat/222954991/', 'https://www.cian.ru/sale/flat/225866666/', 'https://www.cian.ru/sale/flat/226729748/', 'https://www.cian.ru/sale/flat/219779855/', 'https://www.cian.ru/sale/flat/225639266/'], 'https://www.cian.ru/cat.php?engine_version=2&deal_type=sale&offer_type=flat&district=4&room1=1&region=1&object_type=2&p=12': ['https://www.cian.ru/sale/flat/225743587/', 'https://www.cian.ru/sale/flat/208690892/', 'https://www.cian.ru/sale/flat/208690847/', 'https://www.cian.ru/sale/flat/223851310/', 'https://www.cian.ru/sale/flat/210038089/', 'https://www.cian.ru/sale/flat/225805859/', 'https://www.cian.ru/sale/flat/225444792/', 'https://www.cian.ru/sale/flat/225444791/', 'https://www.cian.ru/sale/flat/225806028/', 'https://www.cian.ru/sale/flat/220786199/', 'https://www.cian.ru/sale/flat/225266460/', 'https://www.cian.ru/sale/flat/225806058/', 'https://www.cian.ru/sale/flat/206530867/', 'https://www.cian.ru/sale/flat/225565637/', 'https://www.cian.ru/sale/flat/208861242/', 'https://www.cian.ru/sale/flat/225900343/', 'https://www.cian.ru/sale/flat/225599310/', 'https://www.cian.ru/sale/flat/225900251/', 'https://www.cian.ru/sale/flat/224465097/', 'https://www.cian.ru/sale/flat/224465105/', 'https://www.cian.ru/sale/flat/226422854/', 'https://www.cian.ru/sale/flat/226854660/', 'https://www.cian.ru/sale/flat/226825371/', 'https://www.cian.ru/sale/flat/222954991/', 'https://www.cian.ru/sale/flat/225866666/', 'https://www.cian.ru/sale/flat/226729748/', 'https://www.cian.ru/sale/flat/219779855/', 'https://www.cian.ru/sale/flat/225639266/'], 'https://www.cian.ru/cat.php?engine_version=2&deal_type=sale&offer_type=flat&district=4&room1=1&region=1&object_type=2&p=13': ['https://www.cian.ru/sale/flat/225743587/', 'https://www.cian.ru/sale/flat/208690892/', 'https://www.cian.ru/sale/flat/208690847/', 'https://www.cian.ru/sale/flat/223851310/', 'https://www.cian.ru/sale/flat/210038089/', 'https://www.cian.ru/sale/flat/225805859/', 'https://www.cian.ru/sale/flat/225444792/', 'https://www.cian.ru/sale/flat/225444791/', 'https://www.cian.ru/sale/flat/225806028/', 'https://www.cian.ru/sale/flat/220786199/', 'https://www.cian.ru/sale/flat/225266460/', 'https://www.cian.ru/sale/flat/225806058/', 'https://www.cian.ru/sale/flat/206530867/', 'https://www.cian.ru/sale/flat/225565637/', 'https://www.cian.ru/sale/flat/208861242/', 'https://www.cian.ru/sale/flat/225900343/', 'https://www.cian.ru/sale/flat/225599310/', 'https://www.cian.ru/sale/flat/225900251/', 'https://www.cian.ru/sale/flat/224465097/', 'https://www.cian.ru/sale/flat/224465105/', 'https://www.cian.ru/sale/flat/226422854/', 'https://www.cian.ru/sale/flat/226854660/', 'https://www.cian.ru/sale/flat/226825371/', 'https://www.cian.ru/sale/flat/222954991/', 'https://www.cian.ru/sale/flat/225866666/', 'https://www.cian.ru/sale/flat/226729748/', 'https://www.cian.ru/sale/flat/219779855/', 'https://www.cian.ru/sale/flat/225639266/'], 'https://www.cian.ru/cat.php?engine_version=2&deal_type=sale&offer_type=flat&district=4&room1=1&region=1&object_type=2&p=14': ['https://www.cian.ru/sale/flat/225743587/', 'https://www.cian.ru/sale/flat/208690892/', 'https://www.cian.ru/sale/flat/208690847/', 'https://www.cian.ru/sale/flat/223851310/', 'https://www.cian.ru/sale/flat/210038089/', 'https://www.cian.ru/sale/flat/225805859/', 'https://www.cian.ru/sale/flat/225444792/', 'https://www.cian.ru/sale/flat/225444791/', 'https://www.cian.ru/sale/flat/225806028/', 'https://www.cian.ru/sale/flat/220786199/', 'https://www.cian.ru/sale/flat/225266460/', 'https://www.cian.ru/sale/flat/225806058/', 'https://www.cian.ru/sale/flat/206530867/', 'https://www.cian.ru/sale/flat/225565637/', 'https://www.cian.ru/sale/flat/208861242/', 'https://www.cian.ru/sale/flat/225900343/', 'https://www.cian.ru/sale/flat/225599310/', 'https://www.cian.ru/sale/flat/225900251/', 'https://www.cian.ru/sale/flat/224465097/', 'https://www.cian.ru/sale/flat/224465105/', 'https://www.cian.ru/sale/flat/226422854/', 'https://www.cian.ru/sale/flat/226854660/', 'https://www.cian.ru/sale/flat/226825371/', 'https://www.cian.ru/sale/flat/222954991/', 'https://www.cian.ru/sale/flat/225866666/', 'https://www.cian.ru/sale/flat/226729748/', 'https://www.cian.ru/sale/flat/219779855/', 'https://www.cian.ru/sale/flat/225639266/'], 'https://www.cian.ru/cat.php?engine_version=2&deal_type=sale&offer_type=flat&district=4&room1=1&region=1&object_type=2&p=15': ['https://www.cian.ru/sale/flat/225743587/', 'https://www.cian.ru/sale/flat/208690892/', 'https://www.cian.ru/sale/flat/208690847/', 'https://www.cian.ru/sale/flat/223851310/', 'https://www.cian.ru/sale/flat/210038089/', 'https://www.cian.ru/sale/flat/225805859/', 'https://www.cian.ru/sale/flat/225444792/', 'https://www.cian.ru/sale/flat/225444791/', 'https://www.cian.ru/sale/flat/225806028/', 'https://www.cian.ru/sale/flat/220786199/', 'https://www.cian.ru/sale/flat/225266460/', 'https://www.cian.ru/sale/flat/225806058/', 'https://www.cian.ru/sale/flat/206530867/', 'https://www.cian.ru/sale/flat/225565637/', 'https://www.cian.ru/sale/flat/208861242/', 'https://www.cian.ru/sale/flat/225900343/', 'https://www.cian.ru/sale/flat/225599310/', 'https://www.cian.ru/sale/flat/225900251/', 'https://www.cian.ru/sale/flat/224465097/', 'https://www.cian.ru/sale/flat/224465105/', 'https://www.cian.ru/sale/flat/226422854/', 'https://www.cian.ru/sale/flat/226854660/', 'https://www.cian.ru/sale/flat/226825371/', 'https://www.cian.ru/sale/flat/222954991/', 'https://www.cian.ru/sale/flat/225866666/', 'https://www.cian.ru/sale/flat/226729748/', 'https://www.cian.ru/sale/flat/219779855/', 'https://www.cian.ru/sale/flat/225639266/'], 'https://www.cian.ru/cat.php?engine_version=2&deal_type=sale&offer_type=flat&district=4&room1=1&region=1&object_type=2&p=16': ['https://www.cian.ru/sale/flat/225743587/', 'https://www.cian.ru/sale/flat/208690892/', 'https://www.cian.ru/sale/flat/208690847/', 'https://www.cian.ru/sale/flat/223851310/', 'https://www.cian.ru/sale/flat/210038089/', 'https://www.cian.ru/sale/flat/225805859/', 'https://www.cian.ru/sale/flat/225444792/', 'https://www.cian.ru/sale/flat/225444791/', 'https://www.cian.ru/sale/flat/225806028/', 'https://www.cian.ru/sale/flat/220786199/', 'https://www.cian.ru/sale/flat/225266460/', 'https://www.cian.ru/sale/flat/225806058/', 'https://www.cian.ru/sale/flat/206530867/', 'https://www.cian.ru/sale/flat/225565637/', 'https://www.cian.ru/sale/flat/208861242/', 'https://www.cian.ru/sale/flat/225900343/', 'https://www.cian.ru/sale/flat/225599310/', 'https://www.cian.ru/sale/flat/225900251/', 'https://www.cian.ru/sale/flat/224465097/', 'https://www.cian.ru/sale/flat/224465105/', 'https://www.cian.ru/sale/flat/226422854/', 'https://www.cian.ru/sale/flat/226854660/', 'https://www.cian.ru/sale/flat/226825371/', 'https://www.cian.ru/sale/flat/222954991/', 'https://www.cian.ru/sale/flat/225866666/', 'https://www.cian.ru/sale/flat/226729748/', 'https://www.cian.ru/sale/flat/219779855/', 'https://www.cian.ru/sale/flat/225639266/'], 'https://www.cian.ru/cat.php?engine_version=2&deal_type=sale&offer_type=flat&district=4&room1=1&region=1&object_type=2&p=17': ['https://www.cian.ru/sale/flat/225743587/', 'https://www.cian.ru/sale/flat/208690892/', 'https://www.cian.ru/sale/flat/208690847/', 'https://www.cian.ru/sale/flat/223851310/', 'https://www.cian.ru/sale/flat/210038089/', 'https://www.cian.ru/sale/flat/225805859/', 'https://www.cian.ru/sale/flat/225444792/', 'https://www.cian.ru/sale/flat/225444791/', 'https://www.cian.ru/sale/flat/225806028/', 'https://www.cian.ru/sale/flat/220786199/', 'https://www.cian.ru/sale/flat/225266460/', 'https://www.cian.ru/sale/flat/225806058/', 'https://www.cian.ru/sale/flat/206530867/', 'https://www.cian.ru/sale/flat/225565637/', 'https://www.cian.ru/sale/flat/208861242/', 'https://www.cian.ru/sale/flat/225900343/', 'https://www.cian.ru/sale/flat/225599310/', 'https://www.cian.ru/sale/flat/225900251/', 'https://www.cian.ru/sale/flat/224465097/', 'https://www.cian.ru/sale/flat/224465105/', 'https://www.cian.ru/sale/flat/226422854/', 'https://www.cian.ru/sale/flat/226854660/', 'https://www.cian.ru/sale/flat/226825371/', 'https://www.cian.ru/sale/flat/222954991/', 'https://www.cian.ru/sale/flat/225866666/', 'https://www.cian.ru/sale/flat/226729748/', 'https://www.cian.ru/sale/flat/219779855/', 'https://www.cian.ru/sale/flat/225639266/'], 'https://www.cian.ru/cat.php?engine_version=2&deal_type=sale&offer_type=flat&district=4&room1=1&region=1&object_type=2&p=18': ['https://www.cian.ru/sale/flat/225743587/', 'https://www.cian.ru/sale/flat/208690892/', 'https://www.cian.ru/sale/flat/208690847/', 'https://www.cian.ru/sale/flat/223851310/', 'https://www.cian.ru/sale/flat/210038089/', 'https://www.cian.ru/sale/flat/225805859/', 'https://www.cian.ru/sale/flat/225444792/', 'https://www.cian.ru/sale/flat/225444791/', 'https://www.cian.ru/sale/flat/225806028/', 'https://www.cian.ru/sale/flat/220786199/', 'https://www.cian.ru/sale/flat/225266460/', 'https://www.cian.ru/sale/flat/225806058/', 'https://www.cian.ru/sale/flat/206530867/', 'https://www.cian.ru/sale/flat/225565637/', 'https://www.cian.ru/sale/flat/208861242/', 'https://www.cian.ru/sale/flat/225900343/', 'https://www.cian.ru/sale/flat/225599310/', 'https://www.cian.ru/sale/flat/225900251/', 'https://www.cian.ru/sale/flat/224465097/', 'https://www.cian.ru/sale/flat/224465105/', 'https://www.cian.ru/sale/flat/226422854/', 'https://www.cian.ru/sale/flat/226854660/', 'https://www.cian.ru/sale/flat/226825371/', 'https://www.cian.ru/sale/flat/222954991/', 'https://www.cian.ru/sale/flat/225866666/', 'https://www.cian.ru/sale/flat/226729748/', 'https://www.cian.ru/sale/flat/219779855/', 'https://www.cian.ru/sale/flat/225639266/'], 'https://www.cian.ru/cat.php?engine_version=2&deal_type=sale&offer_type=flat&district=4&room1=1&region=1&object_type=2&p=19': ['https://www.cian.ru/sale/flat/225743587/', 'https://www.cian.ru/sale/flat/208690892/', 'https://www.cian.ru/sale/flat/208690847/', 'https://www.cian.ru/sale/flat/223851310/', 'https://www.cian.ru/sale/flat/210038089/', 'https://www.cian.ru/sale/flat/225805859/', 'https://www.cian.ru/sale/flat/225444792/', 'https://www.cian.ru/sale/flat/225444791/', 'https://www.cian.ru/sale/flat/225806028/', 'https://www.cian.ru/sale/flat/220786199/', 'https://www.cian.ru/sale/flat/225266460/', 'https://www.cian.ru/sale/flat/225806058/', 'https://www.cian.ru/sale/flat/206530867/', 'https://www.cian.ru/sale/flat/225565637/', 'https://www.cian.ru/sale/flat/208861242/', 'https://www.cian.ru/sale/flat/225900343/', 'https://www.cian.ru/sale/flat/225599310/', 'https://www.cian.ru/sale/flat/225900251/', 'https://www.cian.ru/sale/flat/224465097/', 'https://www.cian.ru/sale/flat/224465105/', 'https://www.cian.ru/sale/flat/226422854/', 'https://www.cian.ru/sale/flat/226854660/', 'https://www.cian.ru/sale/flat/226825371/', 'https://www.cian.ru/sale/flat/222954991/', 'https://www.cian.ru/sale/flat/225866666/', 'https://www.cian.ru/sale/flat/226729748/', 'https://www.cian.ru/sale/flat/219779855/', 'https://www.cian.ru/sale/flat/225639266/'], 'https://www.cian.ru/cat.php?engine_version=2&deal_type=sale&offer_type=flat&district=4&room1=1&region=1&object_type=2&p=20': ['https://www.cian.ru/sale/flat/225743587/', 'https://www.cian.ru/sale/flat/208690892/', 'https://www.cian.ru/sale/flat/208690847/', 'https://www.cian.ru/sale/flat/223851310/', 'https://www.cian.ru/sale/flat/210038089/', 'https://www.cian.ru/sale/flat/225805859/', 'https://www.cian.ru/sale/flat/225444792/', 'https://www.cian.ru/sale/flat/225444791/', 'https://www.cian.ru/sale/flat/225806028/', 'https://www.cian.ru/sale/flat/220786199/', 'https://www.cian.ru/sale/flat/225266460/', 'https://www.cian.ru/sale/flat/225806058/', 'https://www.cian.ru/sale/flat/206530867/', 'https://www.cian.ru/sale/flat/225565637/', 'https://www.cian.ru/sale/flat/208861242/', 'https://www.cian.ru/sale/flat/225900343/', 'https://www.cian.ru/sale/flat/225599310/', 'https://www.cian.ru/sale/flat/225900251/', 'https://www.cian.ru/sale/flat/224465097/', 'https://www.cian.ru/sale/flat/224465105/', 'https://www.cian.ru/sale/flat/226422854/', 'https://www.cian.ru/sale/flat/226854660/', 'https://www.cian.ru/sale/flat/226825371/', 'https://www.cian.ru/sale/flat/222954991/', 'https://www.cian.ru/sale/flat/225866666/', 'https://www.cian.ru/sale/flat/226729748/', 'https://www.cian.ru/sale/flat/219779855/', 'https://www.cian.ru/sale/flat/225639266/'], 'https://www.cian.ru/cat.php?engine_version=2&deal_type=sale&offer_type=flat&district=4&room1=1&region=1&object_type=2&p=21': ['https://www.cian.ru/sale/flat/225743587/', 'https://www.cian.ru/sale/flat/208690892/', 'https://www.cian.ru/sale/flat/208690847/', 'https://www.cian.ru/sale/flat/223851310/', 'https://www.cian.ru/sale/flat/210038089/', 'https://www.cian.ru/sale/flat/225805859/', 'https://www.cian.ru/sale/flat/225444792/', 'https://www.cian.ru/sale/flat/225444791/', 'https://www.cian.ru/sale/flat/225806028/', 'https://www.cian.ru/sale/flat/220786199/', 'https://www.cian.ru/sale/flat/225266460/', 'https://www.cian.ru/sale/flat/225806058/', 'https://www.cian.ru/sale/flat/206530867/', 'https://www.cian.ru/sale/flat/225565637/', 'https://www.cian.ru/sale/flat/208861242/', 'https://www.cian.ru/sale/flat/225900343/', 'https://www.cian.ru/sale/flat/225599310/', 'https://www.cian.ru/sale/flat/225900251/', 'https://www.cian.ru/sale/flat/224465097/', 'https://www.cian.ru/sale/flat/224465105/', 'https://www.cian.ru/sale/flat/226422854/', 'https://www.cian.ru/sale/flat/226854660/', 'https://www.cian.ru/sale/flat/226825371/', 'https://www.cian.ru/sale/flat/222954991/', 'https://www.cian.ru/sale/flat/225866666/', 'https://www.cian.ru/sale/flat/226729748/', 'https://www.cian.ru/sale/flat/219779855/', 'https://www.cian.ru/sale/flat/225639266/'], 'https://www.cian.ru/cat.php?engine_version=2&deal_type=sale&offer_type=flat&district=4&room1=1&region=1&object_type=2&p=22': ['https://www.cian.ru/sale/flat/225743587/', 'https://www.cian.ru/sale/flat/208690892/', 'https://www.cian.ru/sale/flat/208690847/', 'https://www.cian.ru/sale/flat/223851310/', 'https://www.cian.ru/sale/flat/210038089/', 'https://www.cian.ru/sale/flat/225805859/', 'https://www.cian.ru/sale/flat/225444792/', 'https://www.cian.ru/sale/flat/225444791/', 'https://www.cian.ru/sale/flat/225806028/', 'https://www.cian.ru/sale/flat/220786199/', 'https://www.cian.ru/sale/flat/225266460/', 'https://www.cian.ru/sale/flat/225806058/', 'https://www.cian.ru/sale/flat/206530867/', 'https://www.cian.ru/sale/flat/225565637/', 'https://www.cian.ru/sale/flat/208861242/', 'https://www.cian.ru/sale/flat/225900343/', 'https://www.cian.ru/sale/flat/225599310/', 'https://www.cian.ru/sale/flat/225900251/', 'https://www.cian.ru/sale/flat/224465097/', 'https://www.cian.ru/sale/flat/224465105/', 'https://www.cian.ru/sale/flat/226422854/', 'https://www.cian.ru/sale/flat/226854660/', 'https://www.cian.ru/sale/flat/226825371/', 'https://www.cian.ru/sale/flat/222954991/', 'https://www.cian.ru/sale/flat/225866666/', 'https://www.cian.ru/sale/flat/226729748/', 'https://www.cian.ru/sale/flat/219779855/', 'https://www.cian.ru/sale/flat/225639266/'], 'https://www.cian.ru/cat.php?engine_version=2&deal_type=sale&offer_type=flat&district=4&room1=1&region=1&object_type=2&p=23': ['https://www.cian.ru/sale/flat/225743587/', 'https://www.cian.ru/sale/flat/208690892/', 'https://www.cian.ru/sale/flat/208690847/', 'https://www.cian.ru/sale/flat/223851310/', 'https://www.cian.ru/sale/flat/210038089/', 'https://www.cian.ru/sale/flat/225805859/', 'https://www.cian.ru/sale/flat/225444792/', 'https://www.cian.ru/sale/flat/225444791/', 'https://www.cian.ru/sale/flat/225806028/', 'https://www.cian.ru/sale/flat/220786199/', 'https://www.cian.ru/sale/flat/225266460/', 'https://www.cian.ru/sale/flat/225806058/', 'https://www.cian.ru/sale/flat/206530867/', 'https://www.cian.ru/sale/flat/225565637/', 'https://www.cian.ru/sale/flat/208861242/', 'https://www.cian.ru/sale/flat/225900343/', 'https://www.cian.ru/sale/flat/225599310/', 'https://www.cian.ru/sale/flat/225900251/', 'https://www.cian.ru/sale/flat/224465097/', 'https://www.cian.ru/sale/flat/224465105/', 'https://www.cian.ru/sale/flat/226422854/', 'https://www.cian.ru/sale/flat/226854660/', 'https://www.cian.ru/sale/flat/226825371/', 'https://www.cian.ru/sale/flat/222954991/', 'https://www.cian.ru/sale/flat/225866666/', 'https://www.cian.ru/sale/flat/226729748/', 'https://www.cian.ru/sale/flat/219779855/', 'https://www.cian.ru/sale/flat/225639266/'], 'https://www.cian.ru/cat.php?engine_version=2&deal_type=sale&offer_type=flat&district=4&room1=1&region=1&object_type=2&p=24': ['https://www.cian.ru/sale/flat/225743587/', 'https://www.cian.ru/sale/flat/208690892/', 'https://www.cian.ru/sale/flat/208690847/', 'https://www.cian.ru/sale/flat/223851310/', 'https://www.cian.ru/sale/flat/210038089/', 'https://www.cian.ru/sale/flat/225805859/', 'https://www.cian.ru/sale/flat/225444792/', 'https://www.cian.ru/sale/flat/225444791/', 'https://www.cian.ru/sale/flat/225806028/', 'https://www.cian.ru/sale/flat/220786199/', 'https://www.cian.ru/sale/flat/225266460/', 'https://www.cian.ru/sale/flat/225806058/', 'https://www.cian.ru/sale/flat/206530867/', 'https://www.cian.ru/sale/flat/225565637/', 'https://www.cian.ru/sale/flat/208861242/', 'https://www.cian.ru/sale/flat/225900343/', 'https://www.cian.ru/sale/flat/225599310/', 'https://www.cian.ru/sale/flat/225900251/', 'https://www.cian.ru/sale/flat/224465097/', 'https://www.cian.ru/sale/flat/224465105/', 'https://www.cian.ru/sale/flat/226422854/', 'https://www.cian.ru/sale/flat/226854660/', 'https://www.cian.ru/sale/flat/226825371/', 'https://www.cian.ru/sale/flat/222954991/', 'https://www.cian.ru/sale/flat/225866666/', 'https://www.cian.ru/sale/flat/226729748/', 'https://www.cian.ru/sale/flat/219779855/', 'https://www.cian.ru/sale/flat/225639266/'], 'https://www.cian.ru/cat.php?engine_version=2&deal_type=sale&offer_type=flat&district=4&room1=1&region=1&object_type=2&p=25': ['https://www.cian.ru/sale/flat/225743587/', 'https://www.cian.ru/sale/flat/208690892/', 'https://www.cian.ru/sale/flat/208690847/', 'https://www.cian.ru/sale/flat/223851310/', 'https://www.cian.ru/sale/flat/210038089/', 'https://www.cian.ru/sale/flat/225805859/', 'https://www.cian.ru/sale/flat/225444792/', 'https://www.cian.ru/sale/flat/225444791/', 'https://www.cian.ru/sale/flat/225806028/', 'https://www.cian.ru/sale/flat/220786199/', 'https://www.cian.ru/sale/flat/225266460/', 'https://www.cian.ru/sale/flat/225806058/', 'https://www.cian.ru/sale/flat/206530867/', 'https://www.cian.ru/sale/flat/225565637/', 'https://www.cian.ru/sale/flat/208861242/', 'https://www.cian.ru/sale/flat/225900343/', 'https://www.cian.ru/sale/flat/225599310/', 'https://www.cian.ru/sale/flat/225900251/', 'https://www.cian.ru/sale/flat/224465097/', 'https://www.cian.ru/sale/flat/224465105/', 'https://www.cian.ru/sale/flat/226422854/', 'https://www.cian.ru/sale/flat/226854660/', 'https://www.cian.ru/sale/flat/226825371/', 'https://www.cian.ru/sale/flat/222954991/', 'https://www.cian.ru/sale/flat/225866666/', 'https://www.cian.ru/sale/flat/226729748/', 'https://www.cian.ru/sale/flat/219779855/', 'https://www.cian.ru/sale/flat/225639266/'], 'https://www.cian.ru/cat.php?engine_version=2&deal_type=sale&offer_type=flat&district=4&room1=1&region=1&object_type=2&p=26': ['https://www.cian.ru/sale/flat/225743587/', 'https://www.cian.ru/sale/flat/208690892/', 'https://www.cian.ru/sale/flat/208690847/', 'https://www.cian.ru/sale/flat/223851310/', 'https://www.cian.ru/sale/flat/210038089/', 'https://www.cian.ru/sale/flat/225805859/', 'https://www.cian.ru/sale/flat/225444792/', 'https://www.cian.ru/sale/flat/225444791/', 'https://www.cian.ru/sale/flat/225806028/', 'https://www.cian.ru/sale/flat/220786199/', 'https://www.cian.ru/sale/flat/225266460/', 'https://www.cian.ru/sale/flat/225806058/', 'https://www.cian.ru/sale/flat/206530867/', 'https://www.cian.ru/sale/flat/225565637/', 'https://www.cian.ru/sale/flat/208861242/', 'https://www.cian.ru/sale/flat/225900343/', 'https://www.cian.ru/sale/flat/225599310/', 'https://www.cian.ru/sale/flat/225900251/', 'https://www.cian.ru/sale/flat/224465097/', 'https://www.cian.ru/sale/flat/224465105/', 'https://www.cian.ru/sale/flat/226422854/', 'https://www.cian.ru/sale/flat/226854660/', 'https://www.cian.ru/sale/flat/226825371/', 'https://www.cian.ru/sale/flat/222954991/', 'https://www.cian.ru/sale/flat/225866666/', 'https://www.cian.ru/sale/flat/226729748/', 'https://www.cian.ru/sale/flat/219779855/', 'https://www.cian.ru/sale/flat/225639266/'], 'https://www.cian.ru/cat.php?engine_version=2&deal_type=sale&offer_type=flat&district=4&room1=1&region=1&object_type=2&p=27': ['https://www.cian.ru/sale/flat/225743587/', 'https://www.cian.ru/sale/flat/208690892/', 'https://www.cian.ru/sale/flat/208690847/', 'https://www.cian.ru/sale/flat/223851310/', 'https://www.cian.ru/sale/flat/210038089/', 'https://www.cian.ru/sale/flat/225805859/', 'https://www.cian.ru/sale/flat/225444792/', 'https://www.cian.ru/sale/flat/225444791/', 'https://www.cian.ru/sale/flat/225806028/', 'https://www.cian.ru/sale/flat/220786199/', 'https://www.cian.ru/sale/flat/225266460/', 'https://www.cian.ru/sale/flat/225806058/', 'https://www.cian.ru/sale/flat/206530867/', 'https://www.cian.ru/sale/flat/225565637/', 'https://www.cian.ru/sale/flat/208861242/', 'https://www.cian.ru/sale/flat/225900343/', 'https://www.cian.ru/sale/flat/225599310/', 'https://www.cian.ru/sale/flat/225900251/', 'https://www.cian.ru/sale/flat/224465097/', 'https://www.cian.ru/sale/flat/224465105/', 'https://www.cian.ru/sale/flat/226422854/', 'https://www.cian.ru/sale/flat/226854660/', 'https://www.cian.ru/sale/flat/226825371/', 'https://www.cian.ru/sale/flat/222954991/', 'https://www.cian.ru/sale/flat/225866666/', 'https://www.cian.ru/sale/flat/226729748/', 'https://www.cian.ru/sale/flat/219779855/', 'https://www.cian.ru/sale/flat/225639266/'], 'https://www.cian.ru/cat.php?engine_version=2&deal_type=sale&offer_type=flat&district=4&room1=1&region=1&object_type=2&p=28': ['https://www.cian.ru/sale/flat/225743587/', 'https://www.cian.ru/sale/flat/208690892/', 'https://www.cian.ru/sale/flat/208690847/', 'https://www.cian.ru/sale/flat/223851310/', 'https://www.cian.ru/sale/flat/210038089/', 'https://www.cian.ru/sale/flat/225805859/', 'https://www.cian.ru/sale/flat/225444792/', 'https://www.cian.ru/sale/flat/225444791/', 'https://www.cian.ru/sale/flat/225806028/', 'https://www.cian.ru/sale/flat/220786199/', 'https://www.cian.ru/sale/flat/225266460/', 'https://www.cian.ru/sale/flat/225806058/', 'https://www.cian.ru/sale/flat/206530867/', 'https://www.cian.ru/sale/flat/225565637/', 'https://www.cian.ru/sale/flat/208861242/', 'https://www.cian.ru/sale/flat/225900343/', 'https://www.cian.ru/sale/flat/225599310/', 'https://www.cian.ru/sale/flat/225900251/', 'https://www.cian.ru/sale/flat/224465097/', 'https://www.cian.ru/sale/flat/224465105/', 'https://www.cian.ru/sale/flat/226422854/', 'https://www.cian.ru/sale/flat/226854660/', 'https://www.cian.ru/sale/flat/226825371/', 'https://www.cian.ru/sale/flat/222954991/', 'https://www.cian.ru/sale/flat/225866666/', 'https://www.cian.ru/sale/flat/226729748/', 'https://www.cian.ru/sale/flat/219779855/', 'https://www.cian.ru/sale/flat/225639266/'], 'https://www.cian.ru/cat.php?engine_version=2&deal_type=sale&offer_type=flat&district=4&room1=1&region=1&object_type=2&p=29': ['https://www.cian.ru/sale/flat/225743587/', 'https://www.cian.ru/sale/flat/208690892/', 'https://www.cian.ru/sale/flat/208690847/', 'https://www.cian.ru/sale/flat/223851310/', 'https://www.cian.ru/sale/flat/210038089/', 'https://www.cian.ru/sale/flat/225805859/', 'https://www.cian.ru/sale/flat/225444792/', 'https://www.cian.ru/sale/flat/225444791/', 'https://www.cian.ru/sale/flat/225806028/', 'https://www.cian.ru/sale/flat/220786199/', 'https://www.cian.ru/sale/flat/225266460/', 'https://www.cian.ru/sale/flat/225806058/', 'https://www.cian.ru/sale/flat/206530867/', 'https://www.cian.ru/sale/flat/225565637/', 'https://www.cian.ru/sale/flat/208861242/', 'https://www.cian.ru/sale/flat/225900343/', 'https://www.cian.ru/sale/flat/225599310/', 'https://www.cian.ru/sale/flat/225900251/', 'https://www.cian.ru/sale/flat/224465097/', 'https://www.cian.ru/sale/flat/224465105/', 'https://www.cian.ru/sale/flat/226422854/', 'https://www.cian.ru/sale/flat/226854660/', 'https://www.cian.ru/sale/flat/226825371/', 'https://www.cian.ru/sale/flat/222954991/', 'https://www.cian.ru/sale/flat/225866666/', 'https://www.cian.ru/sale/flat/226729748/', 'https://www.cian.ru/sale/flat/219779855/', 'https://www.cian.ru/sale/flat/225639266/'], 'https://www.cian.ru/cat.php?engine_version=2&deal_type=sale&offer_type=flat&district=4&room1=1&region=1&object_type=2&p=30': ['https://www.cian.ru/sale/flat/225743587/', 'https://www.cian.ru/sale/flat/208690892/', 'https://www.cian.ru/sale/flat/208690847/', 'https://www.cian.ru/sale/flat/223851310/', 'https://www.cian.ru/sale/flat/210038089/', 'https://www.cian.ru/sale/flat/225805859/', 'https://www.cian.ru/sale/flat/225444792/', 'https://www.cian.ru/sale/flat/225444791/', 'https://www.cian.ru/sale/flat/225806028/', 'https://www.cian.ru/sale/flat/220786199/', 'https://www.cian.ru/sale/flat/225266460/', 'https://www.cian.ru/sale/flat/225806058/', 'https://www.cian.ru/sale/flat/206530867/', 'https://www.cian.ru/sale/flat/225565637/', 'https://www.cian.ru/sale/flat/208861242/', 'https://www.cian.ru/sale/flat/225900343/', 'https://www.cian.ru/sale/flat/225599310/', 'https://www.cian.ru/sale/flat/225900251/', 'https://www.cian.ru/sale/flat/224465097/', 'https://www.cian.ru/sale/flat/224465105/', 'https://www.cian.ru/sale/flat/226422854/', 'https://www.cian.ru/sale/flat/226854660/', 'https://www.cian.ru/sale/flat/226825371/', 'https://www.cian.ru/sale/flat/222954991/', 'https://www.cian.ru/sale/flat/225866666/', 'https://www.cian.ru/sale/flat/226729748/', 'https://www.cian.ru/sale/flat/219779855/', 'https://www.cian.ru/sale/flat/225639266/'], 'https://www.cian.ru/cat.php?engine_version=2&deal_type=sale&offer_type=flat&district=4&room1=1&region=1&object_type=2&p=31': ['https://www.cian.ru/sale/flat/225743587/', 'https://www.cian.ru/sale/flat/208690892/', 'https://www.cian.ru/sale/flat/208690847/', 'https://www.cian.ru/sale/flat/223851310/', 'https://www.cian.ru/sale/flat/210038089/', 'https://www.cian.ru/sale/flat/225805859/', 'https://www.cian.ru/sale/flat/225444792/', 'https://www.cian.ru/sale/flat/225444791/', 'https://www.cian.ru/sale/flat/225806028/', 'https://www.cian.ru/sale/flat/220786199/', 'https://www.cian.ru/sale/flat/225266460/', 'https://www.cian.ru/sale/flat/225806058/', 'https://www.cian.ru/sale/flat/206530867/', 'https://www.cian.ru/sale/flat/225565637/', 'https://www.cian.ru/sale/flat/208861242/', 'https://www.cian.ru/sale/flat/225900343/', 'https://www.cian.ru/sale/flat/225599310/', 'https://www.cian.ru/sale/flat/225900251/', 'https://www.cian.ru/sale/flat/224465097/', 'https://www.cian.ru/sale/flat/224465105/', 'https://www.cian.ru/sale/flat/226422854/', 'https://www.cian.ru/sale/flat/226854660/', 'https://www.cian.ru/sale/flat/226825371/', 'https://www.cian.ru/sale/flat/222954991/', 'https://www.cian.ru/sale/flat/225866666/', 'https://www.cian.ru/sale/flat/226729748/', 'https://www.cian.ru/sale/flat/219779855/', 'https://www.cian.ru/sale/flat/225639266/'], 'https://www.cian.ru/cat.php?engine_version=2&deal_type=sale&offer_type=flat&district=4&room1=1&region=1&object_type=2&p=32': ['https://www.cian.ru/sale/flat/225743587/', 'https://www.cian.ru/sale/flat/208690892/', 'https://www.cian.ru/sale/flat/208690847/', 'https://www.cian.ru/sale/flat/223851310/', 'https://www.cian.ru/sale/flat/210038089/', 'https://www.cian.ru/sale/flat/225805859/', 'https://www.cian.ru/sale/flat/225444792/', 'https://www.cian.ru/sale/flat/225444791/', 'https://www.cian.ru/sale/flat/225806028/', 'https://www.cian.ru/sale/flat/220786199/', 'https://www.cian.ru/sale/flat/225266460/', 'https://www.cian.ru/sale/flat/225806058/', 'https://www.cian.ru/sale/flat/206530867/', 'https://www.cian.ru/sale/flat/225565637/', 'https://www.cian.ru/sale/flat/208861242/', 'https://www.cian.ru/sale/flat/225900343/', 'https://www.cian.ru/sale/flat/225599310/', 'https://www.cian.ru/sale/flat/225900251/', 'https://www.cian.ru/sale/flat/224465097/', 'https://www.cian.ru/sale/flat/224465105/', 'https://www.cian.ru/sale/flat/226422854/', 'https://www.cian.ru/sale/flat/226854660/', 'https://www.cian.ru/sale/flat/226825371/', 'https://www.cian.ru/sale/flat/222954991/', 'https://www.cian.ru/sale/flat/225866666/', 'https://www.cian.ru/sale/flat/226729748/', 'https://www.cian.ru/sale/flat/219779855/', 'https://www.cian.ru/sale/flat/225639266/'], 'https://www.cian.ru/cat.php?engine_version=2&deal_type=sale&offer_type=flat&district=4&room1=1&region=1&object_type=2&p=33': ['https://www.cian.ru/sale/flat/225743587/', 'https://www.cian.ru/sale/flat/208690892/', 'https://www.cian.ru/sale/flat/208690847/', 'https://www.cian.ru/sale/flat/223851310/', 'https://www.cian.ru/sale/flat/210038089/', 'https://www.cian.ru/sale/flat/225805859/', 'https://www.cian.ru/sale/flat/225444792/', 'https://www.cian.ru/sale/flat/225444791/', 'https://www.cian.ru/sale/flat/225806028/', 'https://www.cian.ru/sale/flat/220786199/', 'https://www.cian.ru/sale/flat/225266460/', 'https://www.cian.ru/sale/flat/225806058/', 'https://www.cian.ru/sale/flat/206530867/', 'https://www.cian.ru/sale/flat/225565637/', 'https://www.cian.ru/sale/flat/208861242/', 'https://www.cian.ru/sale/flat/225900343/', 'https://www.cian.ru/sale/flat/225599310/', 'https://www.cian.ru/sale/flat/225900251/', 'https://www.cian.ru/sale/flat/224465097/', 'https://www.cian.ru/sale/flat/224465105/', 'https://www.cian.ru/sale/flat/226422854/', 'https://www.cian.ru/sale/flat/226854660/', 'https://www.cian.ru/sale/flat/226825371/', 'https://www.cian.ru/sale/flat/222954991/', 'https://www.cian.ru/sale/flat/225866666/', 'https://www.cian.ru/sale/flat/226729748/', 'https://www.cian.ru/sale/flat/219779855/', 'https://www.cian.ru/sale/flat/225639266/']})"
     ]
    },
    {
     "name": "stdout",
     "output_type": "stream",
     "text": [
      "\n"
     ]
    }
   ],
   "source": [
    "from collections import defaultdict\n",
    "\n",
    "hrefs_dict = defaultdict(list)\n",
    "for url, href in hrefs:\n",
    "    hrefs_dict[url].append(href)\n",
    "\n",
    "print(hrefs_dict)"
   ]
  },
  {
   "cell_type": "code",
   "execution_count": 18,
   "metadata": {},
   "outputs": [
    {
     "data": {
      "text/plain": [
       "2434"
      ]
     },
     "execution_count": 18,
     "metadata": {},
     "output_type": "execute_result"
    }
   ],
   "source": [
    "len(hrefs)"
   ]
  },
  {
   "cell_type": "code",
   "execution_count": 19,
   "metadata": {},
   "outputs": [
    {
     "data": {
      "text/plain": [
       "2434"
      ]
     },
     "execution_count": 19,
     "metadata": {},
     "output_type": "execute_result"
    }
   ],
   "source": [
    "unique = set(hrefs)\n",
    "len(unique)"
   ]
  },
  {
   "cell_type": "code",
   "execution_count": 6,
   "metadata": {},
   "outputs": [
    {
     "ename": "NameError",
     "evalue": "name 'hrefs_dict' is not defined",
     "output_type": "error",
     "traceback": [
      "\u001b[1;31m---------------------------------------------------------------------------\u001b[0m",
      "\u001b[1;31mNameError\u001b[0m                                 Traceback (most recent call last)",
      "\u001b[1;32m<ipython-input-6-4ca1faa0db73>\u001b[0m in \u001b[0;36m<module>\u001b[1;34m\u001b[0m\n\u001b[0;32m      2\u001b[0m \u001b[1;33m\u001b[0m\u001b[0m\n\u001b[0;32m      3\u001b[0m \u001b[1;32mwith\u001b[0m \u001b[0mopen\u001b[0m\u001b[1;33m(\u001b[0m\u001b[1;34mr'C:\\Users\\Admin\\Desktop\\Учеба\\масс рисёрч\\massResearch_houses\\massResearch_houses\\week01_parsers\\CAO.pickle'\u001b[0m\u001b[1;33m,\u001b[0m \u001b[1;34m'wb'\u001b[0m\u001b[1;33m)\u001b[0m \u001b[1;32mas\u001b[0m \u001b[0mf\u001b[0m\u001b[1;33m:\u001b[0m\u001b[1;33m\u001b[0m\u001b[1;33m\u001b[0m\u001b[0m\n\u001b[1;32m----> 4\u001b[1;33m     \u001b[0mpickle\u001b[0m\u001b[1;33m.\u001b[0m\u001b[0mdump\u001b[0m\u001b[1;33m(\u001b[0m\u001b[0mhrefs_dict\u001b[0m\u001b[1;33m,\u001b[0m \u001b[0mf\u001b[0m\u001b[1;33m)\u001b[0m\u001b[1;33m\u001b[0m\u001b[1;33m\u001b[0m\u001b[0m\n\u001b[0m",
      "\u001b[1;31mNameError\u001b[0m: name 'hrefs_dict' is not defined"
     ]
    }
   ],
   "source": [
    "import pickle\n",
    "\n",
    "with open(r'C:\\Users\\Admin\\Desktop\\Учеба\\масс рисёрч\\massResearch_houses\\massResearch_houses\\week01_parsers\\CAO.pickle', 'wb') as f:\n",
    "    pickle.dump(hrefs_dict, f)"
   ]
  },
  {
   "cell_type": "code",
   "execution_count": 2,
   "metadata": {},
   "outputs": [
    {
     "ename": "OSError",
     "evalue": "[Errno 22] Invalid argument: '\\u202aC:\\\\Users\\\\Admin\\\\Desktop\\\\Учеба\\\\CAO.pickle'",
     "output_type": "error",
     "traceback": [
      "\u001b[1;31m---------------------------------------------------------------------------\u001b[0m",
      "\u001b[1;31mOSError\u001b[0m                                   Traceback (most recent call last)",
      "\u001b[1;32m<ipython-input-2-66fa4a253000>\u001b[0m in \u001b[0;36m<module>\u001b[1;34m\u001b[0m\n\u001b[1;32m----> 1\u001b[1;33m \u001b[1;32mwith\u001b[0m \u001b[0mopen\u001b[0m\u001b[1;33m(\u001b[0m\u001b[1;34mr'‪C:\\Users\\Admin\\Desktop\\Учеба\\CAO.pickle'\u001b[0m\u001b[1;33m,\u001b[0m \u001b[1;34m'rb'\u001b[0m\u001b[1;33m)\u001b[0m \u001b[1;32mas\u001b[0m \u001b[0mf\u001b[0m\u001b[1;33m:\u001b[0m\u001b[1;33m\u001b[0m\u001b[1;33m\u001b[0m\u001b[0m\n\u001b[0m\u001b[0;32m      2\u001b[0m     \u001b[0mfirst_18_iterations\u001b[0m \u001b[1;33m=\u001b[0m \u001b[0mpickle\u001b[0m\u001b[1;33m.\u001b[0m\u001b[0mload\u001b[0m\u001b[1;33m(\u001b[0m\u001b[0mf\u001b[0m\u001b[1;33m)\u001b[0m\u001b[1;33m\u001b[0m\u001b[1;33m\u001b[0m\u001b[0m\n\u001b[0;32m      3\u001b[0m \u001b[0mfirst_18_iterations\u001b[0m\u001b[1;33m\u001b[0m\u001b[1;33m\u001b[0m\u001b[0m\n",
      "\u001b[1;31mOSError\u001b[0m: [Errno 22] Invalid argument: '\\u202aC:\\\\Users\\\\Admin\\\\Desktop\\\\Учеба\\\\CAO.pickle'"
     ]
    }
   ],
   "source": [
    "with open(r'‪C:\\Users\\Admin\\Desktop\\Учеба\\масс рисёрч\\massResearch_houses\\massResearch_houses\\week01_parsers\\CAO.pickle', 'rb') as f:\n",
    "    first_18_iterations = pickle.load(f)\n",
    "first_18_iterations"
   ]
  },
  {
   "cell_type": "code",
   "execution_count": null,
   "metadata": {},
   "outputs": [],
   "source": [
    "for i in range(len(soup)):\n",
    "    resp = requests.get(soup[i])\n",
    "    soups = BeautifulSoup(resp.content)\n",
    "    price = soups.find_all(\"span\", {\"itemprop\": \"price\"})[0]\n",
    "    price"
   ]
  },
  {
   "cell_type": "code",
   "execution_count": null,
   "metadata": {},
   "outputs": [],
   "source": [
    "import re\n",
    "re.sub('\\D', '', price.text)"
   ]
  },
  {
   "cell_type": "code",
   "execution_count": null,
   "metadata": {},
   "outputs": [],
   "source": []
  },
  {
   "cell_type": "code",
   "execution_count": null,
   "metadata": {},
   "outputs": [],
   "source": []
  },
  {
   "cell_type": "code",
   "execution_count": 18,
   "metadata": {},
   "outputs": [],
   "source": []
  },
  {
   "cell_type": "code",
   "execution_count": 20,
   "metadata": {},
   "outputs": [
    {
     "data": {
      "text/plain": [
       "{'101.109.255.18:46545',\n",
       " '125.25.165.97:39021',\n",
       " '168.228.192.13:55619',\n",
       " '191.36.244.230:51377',\n",
       " '202.131.234.142:46764',\n",
       " '80.59.199.213:8080',\n",
       " '85.238.167.170:42397',\n",
       " '91.226.213.133:1182'}"
      ]
     },
     "execution_count": 20,
     "metadata": {},
     "output_type": "execute_result"
    }
   ],
   "source": [
    "proxies = get_proxies()\n",
    "proxies"
   ]
  },
  {
   "cell_type": "code",
   "execution_count": null,
   "metadata": {},
   "outputs": [],
   "source": [
    " "
   ]
  }
 ],
 "metadata": {
  "kernelspec": {
   "display_name": "Python 3",
   "language": "python",
   "name": "python3"
  },
  "language_info": {
   "codemirror_mode": {
    "name": "ipython",
    "version": 3
   },
   "file_extension": ".py",
   "mimetype": "text/x-python",
   "name": "python",
   "nbconvert_exporter": "python",
   "pygments_lexer": "ipython3",
   "version": "3.7.3"
  }
 },
 "nbformat": 4,
 "nbformat_minor": 2
}
