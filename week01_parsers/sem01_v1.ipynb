{
 "cells": [
  {
   "cell_type": "markdown",
   "metadata": {},
   "source": [
    "# Наш любимый парсер"
   ]
  },
  {
   "cell_type": "code",
   "execution_count": null,
   "metadata": {},
   "outputs": [],
   "source": [
    "!pip install beautifulsoup4"
   ]
  },
  {
   "cell_type": "code",
   "execution_count": 4,
   "metadata": {},
   "outputs": [],
   "source": [
    "import requests\n",
    "from bs4 import BeautifulSoup"
   ]
  },
  {
   "cell_type": "markdown",
   "metadata": {},
   "source": [
    "Делаем ссылку для парсера. "
   ]
  },
  {
   "cell_type": "code",
   "execution_count": 10,
   "metadata": {},
   "outputs": [],
   "source": [
    "def get_hrefs(p):\n",
    "    \n",
    "    main_part = \"https://www.cian.ru/cat.php?\"\n",
    "    suport_part = \"deal_type=sale&district%5B0%5D=4&engine_version=2&object_type%5B0%5D=2&offer_type=flat&room1=1&room2=1\"\n",
    "\n",
    "    url = main_part + suport_part + '&p={}'.format(p)\n",
    "    \n",
    "    resp = requests.get(url)\n",
    "    print(resp.status_code)\n",
    "    soup = BeautifulSoup(resp.content)\n",
    "    return soup"
   ]
  },
  {
   "cell_type": "code",
   "execution_count": 11,
   "metadata": {},
   "outputs": [
    {
     "name": "stdout",
     "output_type": "stream",
     "text": [
      "200\n"
     ]
    }
   ],
   "source": [
    "soup = get_hrefs(5)"
   ]
  },
  {
   "cell_type": "code",
   "execution_count": 26,
   "metadata": {},
   "outputs": [
    {
     "data": {
      "text/plain": [
       "[4, 25, 64]"
      ]
     },
     "execution_count": 26,
     "metadata": {},
     "output_type": "execute_result"
    }
   ],
   "source": [
    "[i**2 for i in range(2,10,3)]"
   ]
  },
  {
   "cell_type": "code",
   "execution_count": 24,
   "metadata": {},
   "outputs": [
    {
     "data": {
      "text/plain": [
       "['https://www.cian.ru/sale/flat/225743925/',\n",
       " 'https://www.cian.ru/sale/flat/225677265/',\n",
       " 'https://www.cian.ru/sale/flat/225599310/',\n",
       " 'https://www.cian.ru/sale/flat/223137091/',\n",
       " 'https://www.cian.ru/sale/flat/224314132/',\n",
       " 'https://www.cian.ru/sale/flat/219798248/',\n",
       " 'https://www.cian.ru/sale/flat/226081534/',\n",
       " 'https://www.cian.ru/sale/flat/208216803/',\n",
       " 'https://www.cian.ru/sale/flat/221411091/',\n",
       " 'https://www.cian.ru/sale/flat/226078063/',\n",
       " 'https://www.cian.ru/sale/flat/221411088/',\n",
       " 'https://www.cian.ru/sale/flat/221411096/',\n",
       " 'https://www.cian.ru/sale/flat/225454418/',\n",
       " 'https://www.cian.ru/sale/flat/198960823/',\n",
       " 'https://www.cian.ru/sale/flat/219686817/',\n",
       " 'https://www.cian.ru/sale/flat/221411073/',\n",
       " 'https://www.cian.ru/sale/flat/221411071/',\n",
       " 'https://www.cian.ru/sale/flat/224866072/',\n",
       " 'https://www.cian.ru/sale/flat/223320699/',\n",
       " 'https://www.cian.ru/sale/flat/221411093/',\n",
       " 'https://www.cian.ru/sale/flat/222781244/',\n",
       " 'https://www.cian.ru/sale/flat/225639493/',\n",
       " 'https://www.cian.ru/sale/flat/226049169/',\n",
       " 'https://www.cian.ru/sale/flat/219716378/',\n",
       " 'https://www.cian.ru/sale/flat/221411087/',\n",
       " 'https://www.cian.ru/sale/flat/224529134/',\n",
       " 'https://www.cian.ru/sale/flat/224529508/',\n",
       " 'https://www.cian.ru/sale/flat/222774614/']"
      ]
     },
     "execution_count": 24,
     "metadata": {},
     "output_type": "execute_result"
    }
   ],
   "source": [
    "s = soup.find_all('div', {'class': '_93444fe79c--card--_yguQ'})\n",
    "hrefs = [item.find('a', {'class': 'c6e8ba5398--header--1fV2A'}).get(\"href\") \n",
    "                     for item in s]\n",
    "hrefs"
   ]
  },
  {
   "cell_type": "code",
   "execution_count": 18,
   "metadata": {},
   "outputs": [
    {
     "data": {
      "text/plain": [
       "<a class=\"c6e8ba5398--header--1fV2A\" href=\"https://www.cian.ru/sale/flat/225743925/\" target=\"_blank\"><div class=\"c6e8ba5398--single_title--22TGT\">1-комн. кв., 57,9 м², 4/10 этаж</div></a>"
      ]
     },
     "execution_count": 18,
     "metadata": {},
     "output_type": "execute_result"
    }
   ],
   "source": [
    "a = \n",
    "a"
   ]
  },
  {
   "cell_type": "code",
   "execution_count": 22,
   "metadata": {},
   "outputs": [
    {
     "data": {
      "text/plain": [
       "'https://www.cian.ru/sale/flat/225743925/'"
      ]
     },
     "execution_count": 22,
     "metadata": {},
     "output_type": "execute_result"
    }
   ],
   "source": [
    "a"
   ]
  },
  {
   "cell_type": "code",
   "execution_count": null,
   "metadata": {},
   "outputs": [],
   "source": []
  },
  {
   "cell_type": "code",
   "execution_count": null,
   "metadata": {},
   "outputs": [],
   "source": []
  },
  {
   "cell_type": "code",
   "execution_count": null,
   "metadata": {},
   "outputs": [],
   "source": []
  },
  {
   "cell_type": "code",
   "execution_count": null,
   "metadata": {},
   "outputs": [],
   "source": []
  },
  {
   "cell_type": "code",
   "execution_count": 24,
   "metadata": {},
   "outputs": [],
   "source": [
    "import this"
   ]
  },
  {
   "cell_type": "code",
   "execution_count": 26,
   "metadata": {},
   "outputs": [
    {
     "name": "stdout",
     "output_type": "stream",
     "text": [
      "Requirement already satisfied: beautifulsoup4 in /usr/local/lib/python3.7/site-packages (4.8.0)\n",
      "Requirement already satisfied: soupsieve>=1.2 in /usr/local/lib/python3.7/site-packages (from beautifulsoup4) (1.9)\n",
      "\u001b[33mWARNING: You are using pip version 19.3.1; however, version 20.0.2 is available.\n",
      "You should consider upgrading via the 'pip install --upgrade pip' command.\u001b[0m\n"
     ]
    }
   ],
   "source": []
  },
  {
   "cell_type": "code",
   "execution_count": 27,
   "metadata": {},
   "outputs": [],
   "source": []
  },
  {
   "cell_type": "code",
   "execution_count": 18,
   "metadata": {},
   "outputs": [
    {
     "data": {
      "text/plain": [
       "<Response [200]>"
      ]
     },
     "execution_count": 18,
     "metadata": {},
     "output_type": "execute_result"
    }
   ],
   "source": [
    "url = \"https://www.cian.ru/sale/flat/223309049/\"\n",
    "req = requests.get(url)\n",
    "req"
   ]
  },
  {
   "cell_type": "code",
   "execution_count": 19,
   "metadata": {},
   "outputs": [
    {
     "data": {
      "text/plain": [
       "200"
      ]
     },
     "execution_count": 19,
     "metadata": {},
     "output_type": "execute_result"
    }
   ],
   "source": [
    "req.status_code"
   ]
  },
  {
   "cell_type": "code",
   "execution_count": 40,
   "metadata": {},
   "outputs": [
    {
     "data": {
      "text/plain": [
       "<span content=\"5 279 008 ₽\" itemprop=\"price\">5 279 008 ₽</span>"
      ]
     },
     "execution_count": 40,
     "metadata": {},
     "output_type": "execute_result"
    }
   ],
   "source": []
  },
  {
   "cell_type": "code",
   "execution_count": 45,
   "metadata": {},
   "outputs": [
    {
     "data": {
      "text/plain": [
       "'5279008'"
      ]
     },
     "execution_count": 45,
     "metadata": {},
     "output_type": "execute_result"
    }
   ],
   "source": [
    "import re\n",
    "re.sub('\\D', '', price.text)"
   ]
  },
  {
   "cell_type": "code",
   "execution_count": null,
   "metadata": {},
   "outputs": [],
   "source": []
  },
  {
   "cell_type": "code",
   "execution_count": null,
   "metadata": {},
   "outputs": [],
   "source": []
  },
  {
   "cell_type": "code",
   "execution_count": null,
   "metadata": {},
   "outputs": [],
   "source": []
  },
  {
   "cell_type": "code",
   "execution_count": null,
   "metadata": {},
   "outputs": [],
   "source": []
  },
  {
   "cell_type": "code",
   "execution_count": null,
   "metadata": {},
   "outputs": [],
   "source": []
  },
  {
   "cell_type": "markdown",
   "metadata": {},
   "source": [
    " "
   ]
  }
 ],
 "metadata": {
  "kernelspec": {
   "display_name": "Python 3",
   "language": "python",
   "name": "python3"
  },
  "language_info": {
   "codemirror_mode": {
    "name": "ipython",
    "version": 3
   },
   "file_extension": ".py",
   "mimetype": "text/x-python",
   "name": "python",
   "nbconvert_exporter": "python",
   "pygments_lexer": "ipython3",
   "version": "3.7.2"
  }
 },
 "nbformat": 4,
 "nbformat_minor": 2
}
