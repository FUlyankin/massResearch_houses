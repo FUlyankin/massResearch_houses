{
 "cells": [
  {
   "cell_type": "code",
   "execution_count": 54,
   "metadata": {},
   "outputs": [],
   "source": [
    "import requests\n",
    "from requests.exceptions import ConnectionError\n",
    "from bs4 import BeautifulSoup\n",
    "from tqdm import tqdm_notebook\n",
    "import time\n",
    "from lxml.html import fromstring\n",
    "from collections import defaultdict\n",
    "import re"
   ]
  },
  {
   "cell_type": "code",
   "execution_count": null,
   "metadata": {},
   "outputs": [],
   "source": [
    "def get_soup(url):\n",
    "    \"\"\"\n",
    "        Качает по ссылке url и номеру страницы p её содержимое, отдаёт в виде bs4\n",
    "    \"\"\"    \n",
    "    resp = requests.get(url)\n",
    "    soup = BeautifulSoup(resp.content)\n",
    "    return soup\n",
    "\n",
    "\n",
    "def get_general_information(soup):\n",
    "    '''\n",
    "    Скачиваем общую инфу о хате\n",
    "    '''\n",
    "    info = soup.find_all('ul', {'class':'a10a3f92e9--list--2M4V-'})\n",
    "    \n",
    "    \n",
    "    describe = info[0].find_all('li')\n",
    "    \n",
    "    dic = collections.defaultdict()\n",
    "    \n",
    "    \n",
    "    for i in range(len(describe)):\n",
    "        y = describe[i].find_all('span')\n",
    "        if len(y) == 2:\n",
    "            dic[y[0].text] = y[1].text\n",
    "        else:\n",
    "            dic[y[0].text.split('+')[0]] = y[2].text\n",
    "    \n",
    "    \n",
    "    return(dic)\n",
    "\n",
    "\n",
    "def get_about(soup):\n",
    "    '''\n",
    "    Получаем информацию о доме\n",
    "    '''\n",
    "    all = soup.find('div', {'class':'a10a3f92e9--column--2oGBs'})\n",
    "    x = all.find_all('div')\n",
    "\n",
    "    d = dict()\n",
    "\n",
    "    for i in range(len(x)//3):\n",
    "        d[x[i*3+1].text] = x[i*3+2].text\n",
    "    return d\n",
    "\n",
    "\n",
    "\n",
    "def get_price(soup):\n",
    "    price = soup.find_all('span', {'itemprop':'price'})[0]\n",
    "    return int(re.sub('\\D', '', price.text))\n",
    "\n",
    "def get_description(soup):\n",
    "    \"\"\"\n",
    "        Находит в soup описание дома\n",
    "    \"\"\"\n",
    "    d = soup.find('p', {'itemprop': 'description'})\n",
    "                    \n",
    "    return d.text\n",
    "\n",
    "def to_info(soup):\n",
    "    \"\"\"\n",
    "        Собирает инфу о квадратуре, этажности и дате постройки из супа\n",
    "    \"\"\"\n",
    "    text = { }\n",
    "    desc = soup.find_all('div', {'class': 'a10a3f92e9--info-title--2bXM9'})\n",
    "    info = soup.find_all('div', {'class' : 'a10a3f92e9--info-value--18c8R'})\n",
    "    for k,v in zip(desc, info):\n",
    "        text[k.text] = v.text\n",
    "    return(text)\n",
    "\n",
    "\n",
    "def get_address(soup):\n",
    "    address = soup.find_all('address', {'class':'a10a3f92e9--address--140Ec'})[0]\n",
    "    return(address.text[:-8])"
   ]
  },
  {
   "cell_type": "code",
   "execution_count": 50,
   "metadata": {},
   "outputs": [],
   "source": [
    "url = 'https://www.cian.ru/sale/flat/227051138/'\n",
    "\n",
    "r = requests.get(url)\n",
    "content = r.content\n",
    "soup = BeautifulSoup(content)"
   ]
  },
  {
   "cell_type": "code",
   "execution_count": 90,
   "metadata": {},
   "outputs": [
    {
     "data": {
      "text/plain": [
       "[<div class=\"a10a3f92e9--info-value--18c8R\">250,9 м²</div>,\n",
       " <div class=\"a10a3f92e9--info-value--18c8R\">138,6 м²</div>,\n",
       " <div class=\"a10a3f92e9--info-value--18c8R\">19,8 м²</div>,\n",
       " <div class=\"a10a3f92e9--info-value--18c8R\">10 из 13</div>,\n",
       " <div class=\"a10a3f92e9--info-value--18c8R\">4 кв. 2019</div>]"
      ]
     },
     "execution_count": 90,
     "metadata": {},
     "output_type": "execute_result"
    }
   ],
   "source": [
    "desc, info = get_building_info(soup)\n",
    "desc\n",
    "info"
   ]
  },
  {
   "cell_type": "code",
   "execution_count": 102,
   "metadata": {},
   "outputs": [
    {
     "data": {
      "text/plain": [
       "{'Общая': '250,9\\xa0м²',\n",
       " 'Жилая': '138,6\\xa0м²',\n",
       " 'Кухня': '19,8\\xa0м²',\n",
       " 'Этаж': '10 из 13',\n",
       " 'Срок сдачи': '4 кв. 2019'}"
      ]
     },
     "execution_count": 102,
     "metadata": {},
     "output_type": "execute_result"
    }
   ],
   "source": [
    "full_info = to_info(desc, info)\n",
    "full_info"
   ]
  },
  {
   "cell_type": "code",
   "execution_count": null,
   "metadata": {},
   "outputs": [],
   "source": []
  }
 ],
 "metadata": {
  "kernelspec": {
   "display_name": "Python 3",
   "language": "python",
   "name": "python3"
  },
  "language_info": {
   "codemirror_mode": {
    "name": "ipython",
    "version": 3
   },
   "file_extension": ".py",
   "mimetype": "text/x-python",
   "name": "python",
   "nbconvert_exporter": "python",
   "pygments_lexer": "ipython3",
   "version": "3.7.3"
  }
 },
 "nbformat": 4,
 "nbformat_minor": 2
}
