{
 "cells": [
  {
   "cell_type": "code",
   "execution_count": 54,
   "metadata": {},
   "outputs": [],
   "source": [
    "import requests\n",
    "from requests.exceptions import ConnectionError\n",
    "from bs4 import BeautifulSoup\n",
    "from tqdm import tqdm_notebook\n",
    "import time\n",
    "from lxml.html import fromstring\n",
    "from collections import defaultdict"
   ]
  },
  {
   "cell_type": "code",
   "execution_count": 50,
   "metadata": {},
   "outputs": [],
   "source": [
    "url = 'https://www.cian.ru/sale/flat/227051138/'\n",
    "\n",
    "r = requests.get(url)\n",
    "content = r.content\n",
    "soup = BeautifulSoup(content)"
   ]
  },
  {
   "cell_type": "code",
   "execution_count": 75,
   "metadata": {},
   "outputs": [],
   "source": [
    "def get_building_info(soup):\n",
    "    desc = soup.find_all('div', {'class': 'a10a3f92e9--info-title--2bXM9'})\n",
    "    info = soup.find_all('div', {'class' : 'a10a3f92e9--info-value--18c8R'})\n",
    "    return desc, info"
   ]
  },
  {
   "cell_type": "code",
   "execution_count": 90,
   "metadata": {},
   "outputs": [
    {
     "data": {
      "text/plain": [
       "[<div class=\"a10a3f92e9--info-value--18c8R\">250,9 м²</div>,\n",
       " <div class=\"a10a3f92e9--info-value--18c8R\">138,6 м²</div>,\n",
       " <div class=\"a10a3f92e9--info-value--18c8R\">19,8 м²</div>,\n",
       " <div class=\"a10a3f92e9--info-value--18c8R\">10 из 13</div>,\n",
       " <div class=\"a10a3f92e9--info-value--18c8R\">4 кв. 2019</div>]"
      ]
     },
     "execution_count": 90,
     "metadata": {},
     "output_type": "execute_result"
    }
   ],
   "source": [
    "desc, info = get_building_info(soup)\n",
    "desc\n",
    "info"
   ]
  },
  {
   "cell_type": "code",
   "execution_count": 101,
   "metadata": {},
   "outputs": [],
   "source": [
    "def to_info(desc, info):\n",
    "    text = { }\n",
    "    for k,v in zip(desc, info):\n",
    "        text[k.text] = v.text\n",
    "    return(text)"
   ]
  },
  {
   "cell_type": "code",
   "execution_count": 102,
   "metadata": {},
   "outputs": [
    {
     "data": {
      "text/plain": [
       "{'Общая': '250,9\\xa0м²',\n",
       " 'Жилая': '138,6\\xa0м²',\n",
       " 'Кухня': '19,8\\xa0м²',\n",
       " 'Этаж': '10 из 13',\n",
       " 'Срок сдачи': '4 кв. 2019'}"
      ]
     },
     "execution_count": 102,
     "metadata": {},
     "output_type": "execute_result"
    }
   ],
   "source": [
    "full_info = to_info(desc, info)\n",
    "full_info"
   ]
  },
  {
   "cell_type": "code",
   "execution_count": null,
   "metadata": {},
   "outputs": [],
   "source": []
  }
 ],
 "metadata": {
  "kernelspec": {
   "display_name": "Python 3",
   "language": "python",
   "name": "python3"
  },
  "language_info": {
   "codemirror_mode": {
    "name": "ipython",
    "version": 3
   },
   "file_extension": ".py",
   "mimetype": "text/x-python",
   "name": "python",
   "nbconvert_exporter": "python",
   "pygments_lexer": "ipython3",
   "version": "3.7.3"
  }
 },
 "nbformat": 4,
 "nbformat_minor": 2
}
