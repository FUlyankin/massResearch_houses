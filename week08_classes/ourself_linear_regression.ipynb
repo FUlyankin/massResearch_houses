{
 "cells": [
  {
   "cell_type": "markdown",
   "metadata": {},
   "source": [
    "# Данные"
   ]
  },
  {
   "cell_type": "code",
   "execution_count": 150,
   "metadata": {},
   "outputs": [
    {
     "data": {
      "text/plain": [
       "((1000, 20), (1000,), (20,))"
      ]
     },
     "execution_count": 150,
     "metadata": {},
     "output_type": "execute_result"
    }
   ],
   "source": [
    "from sklearn.datasets import make_regression\n",
    "from sklearn.linear_model import LinearRegression\n",
    "\n",
    "X, y = make_regression(n_features=20, n_samples=1000, n_informative=10)\n",
    "model_sk =  LinearRegression( )\n",
    "model_sk.fit(X, y)\n",
    "w = model_sk.coef_\n",
    "\n",
    "X.shape, y.shape, w.shape"
   ]
  },
  {
   "cell_type": "code",
   "execution_count": 468,
   "metadata": {},
   "outputs": [
    {
     "data": {
      "text/plain": [
       "(475.8709324962939, -466.4493843569292)"
      ]
     },
     "execution_count": 468,
     "metadata": {},
     "output_type": "execute_result"
    }
   ],
   "source": [
    "np.max(y), np.min(y)"
   ]
  },
  {
   "cell_type": "code",
   "execution_count": 470,
   "metadata": {},
   "outputs": [
    {
     "data": {
      "text/plain": [
       "221841"
      ]
     },
     "execution_count": 470,
     "metadata": {},
     "output_type": "execute_result"
    }
   ],
   "source": [
    "(475 - 4)**2"
   ]
  },
  {
   "cell_type": "code",
   "execution_count": 469,
   "metadata": {},
   "outputs": [
    {
     "data": {
      "text/plain": [
       "24401.227687894214"
      ]
     },
     "execution_count": 469,
     "metadata": {},
     "output_type": "execute_result"
    }
   ],
   "source": [
    "np.mean((y - np.mean(y))**2)"
   ]
  },
  {
   "cell_type": "markdown",
   "metadata": {},
   "source": [
    "# Собираем корпус под модель\n"
   ]
  },
  {
   "cell_type": "code",
   "execution_count": 151,
   "metadata": {},
   "outputs": [
    {
     "data": {
      "text/plain": [
       "(1000, 20)"
      ]
     },
     "execution_count": 151,
     "metadata": {},
     "output_type": "execute_result"
    }
   ],
   "source": [
    "X.shape"
   ]
  },
  {
   "cell_type": "code",
   "execution_count": 553,
   "metadata": {},
   "outputs": [
    {
     "name": "stdout",
     "output_type": "stream",
     "text": [
      "\n"
     ]
    }
   ],
   "source": [
    "from sklearn.base import RegressorMixin, BaseEstimator\n",
    "import numpy as np\n",
    "\n",
    "class MetricError(Exception):\n",
    "    print(\"\")\n",
    "    pass\n",
    "\n",
    "class AwesomeRegression(RegressorMixin, BaseEstimator):\n",
    "    \n",
    "    def __init__(self, \n",
    "                 tol=1e-10, \n",
    "                 l2=0, \n",
    "                 l1=0,\n",
    "                 lr=0.001,\n",
    "                 num_iter=10000,\n",
    "                 metric = \"mse\",\n",
    "                 batch_size=100):\n",
    "        \n",
    "        # self.w = np.random.normal(size=(100))\n",
    "        self.tol = tol\n",
    "        self.l1 = l1\n",
    "        self.l2 = l2\n",
    "        self.num_iter = num_iter\n",
    "        self.lr = lr\n",
    "        self.iter = 0\n",
    "        self.batch_size = batch_size\n",
    "        self.metric = metric \n",
    "        self.history = [ ]\n",
    "        \n",
    "    def loss(self, X, y):\n",
    "        if self.metric == \"mse\":\n",
    "            mse = ((y - X @ self.w).T) @ (y - X @ self.w) / y.size    # RSS\n",
    "            return mse\n",
    "        elif self.metric == \"mae\":\n",
    "            mae = np.mean(np.abs(y - X @ self.w))\n",
    "            return mae\n",
    "        else:\n",
    "            raise MetricError(\"Пользуйтесь нормальными метриками!\")\n",
    "\n",
    "    def grad_loss(self, X, y):\n",
    "        if self.metric == \"mse\":\n",
    "            g = -2 * X.T@(y - X@self.w)\n",
    "        elif self.metric == \"mae\":\n",
    "            # (|y - Xw|)' = -X sign(y - Xw)\n",
    "            g = -1*X.T@np.sign(y - X@self.w)\n",
    "        else:\n",
    "            raise MetricError(\"Пользуйтесь нормальными метриками!\")\n",
    "            \n",
    "        # |w|' = 1, -1, 0 - не существует \n",
    "        # в 0 доопределяем производную, subgradient спуск \n",
    "        g_l1 = self.l1 * np.sign(self.w.T)\n",
    "        g_l2 = 2 * self.l2*(self.w.T)\n",
    "        return (g + g_l1 + g_l2)/y.size  \n",
    "    \n",
    "    \n",
    "    def fit(self, X, y):  \n",
    "        self.w = np.random.normal(size=(X.shape[1]))\n",
    "        new_w = self.w - self.lr*self.grad_loss(X, y)\n",
    "\n",
    "        while self.iter < self.num_iter and np.any(abs(new_w - self.w) > self.tol):\n",
    "            \n",
    "            self.history.append(self.loss(X,y))\n",
    "            \n",
    "            # одно рандомное наблюдение \n",
    "            ind_rand = np.random.choice(range(X.shape[0]), size=self.batch_size, replace=False)\n",
    "            \n",
    "            self.iter += 1\n",
    "            self.w = new_w\n",
    "            new_w = self.w - self.lr*self.grad_loss(X[ind_rand], y[ind_rand])\n",
    "            \n",
    "\n",
    "    def fit_formula(self, X, y):\n",
    "        self.w = np.linalg.inv(X.T@X + self.l2*np.eye(X.shape[1]))@(X.T@y)\n",
    "     \n",
    "    def predict(self, X):\n",
    "        return X@self.w"
   ]
  },
  {
   "cell_type": "code",
   "execution_count": 554,
   "metadata": {
    "scrolled": true
   },
   "outputs": [
    {
     "data": {
      "text/plain": [
       "array([0.00000000e+00, 0.00000000e+00, 9.95185515e+00, 2.91731791e+01,\n",
       "       0.00000000e+00, 6.56973364e+01, 0.00000000e+00, 7.87804137e+01,\n",
       "       1.10559423e+01, 7.00118480e+01, 5.59280237e+00, 5.46292144e-02,\n",
       "       4.10220230e+01, 3.73709106e+01, 3.37047650e+01, 4.49052690e-02,\n",
       "       0.00000000e+00, 5.06899881e-01, 0.00000000e+00, 4.88234808e-01])"
      ]
     },
     "execution_count": 554,
     "metadata": {},
     "output_type": "execute_result"
    }
   ],
   "source": [
    "model = AwesomeRegression(l2=100, metric='mae')\n",
    "model.fit_formula(X, y)\n",
    "\n",
    "w_matrix = model.w\n",
    "w_matrix[w_matrix < 1e-2] = 0\n",
    "w_matrix"
   ]
  },
  {
   "cell_type": "code",
   "execution_count": 555,
   "metadata": {},
   "outputs": [
    {
     "name": "stdout",
     "output_type": "stream",
     "text": [
      "382.4772589451003\n",
      "10000\n"
     ]
    },
    {
     "data": {
      "text/plain": [
       "array([0.        , 0.        , 0.01168242, 0.07101479, 0.        ,\n",
       "       0.18798544, 0.        , 0.21142705, 0.02641423, 0.20674963,\n",
       "       0.        , 0.0128893 , 0.08281834, 0.12513825, 0.07873689,\n",
       "       0.        , 0.        , 0.        , 0.        , 0.02160991])"
      ]
     },
     "execution_count": 555,
     "metadata": {},
     "output_type": "execute_result"
    }
   ],
   "source": [
    "model.fit(X, y)\n",
    "print(np.sum(np.abs(w_matrix - model.w)))\n",
    "print(model.iter)\n",
    "w_model = model.w\n",
    "w_model[w_model < 1e-2] = 0\n",
    "w_model"
   ]
  },
  {
   "cell_type": "code",
   "execution_count": 556,
   "metadata": {},
   "outputs": [
    {
     "data": {
      "image/png": "[encoded data removed]",
      "text/plain": [
       "<Figure size 432x288 with 1 Axes>"
      ]
     },
     "metadata": {
      "needs_background": "light"
     },
     "output_type": "display_data"
    }
   ],
   "source": [
    "import matplotlib.pyplot as plt\n",
    "plt.plot(model.history[900:]);"
   ]
  },
  {
   "cell_type": "code",
   "execution_count": 447,
   "metadata": {},
   "outputs": [
    {
     "name": "stdout",
     "output_type": "stream",
     "text": [
      "2.1469592308122962\n",
      "[44]\n"
     ]
    },
    {
     "data": {
      "text/plain": [
       "array([0.00000000e+00, 0.00000000e+00, 9.95501396e+00, 2.91425167e+01,\n",
       "       1.49462325e-02, 6.57001745e+01, 0.00000000e+00, 7.87647584e+01,\n",
       "       1.10397492e+01, 7.00150369e+01, 5.60393355e+00, 5.25772954e-02,\n",
       "       4.10165023e+01, 3.73659635e+01, 3.36980408e+01, 7.15691395e-02,\n",
       "       0.00000000e+00, 5.03012242e-01, 0.00000000e+00, 5.26599338e-01])"
      ]
     },
     "execution_count": 447,
     "metadata": {},
     "output_type": "execute_result"
    }
   ],
   "source": [
    "from sklearn.linear_model import Ridge, Lasso, SGDRegressor\n",
    "\n",
    "model_r = Ridge(alpha=100, solver=\"sag\", tol=1e-10, max_iter=1000)\n",
    "#model_r = Lasso(alpha=50)\n",
    "#model_r = SGDRegressor(alpha=1, l1_ratio=0.5)\n",
    "model_r.fit(X, y)\n",
    "\n",
    "print(np.sum(np.abs(w_matrix - model_r.coef_)))\n",
    "print(model_r.n_iter_)\n",
    "\n",
    "w_sklearn = model_r.coef_\n",
    "w_sklearn[w_sklearn < 1e-2] = 0\n",
    "w_sklearn"
   ]
  },
  {
   "cell_type": "markdown",
   "metadata": {},
   "source": [
    "## Задание 1 (добить линейную регрессию): \n",
    "\n",
    "__а)__ Добавить в обучение параметр `num_iter`, чтобы не возникало такого, что из-за неадекватно подобранного параметра `tol` цикл работает вечно. Установить параметр по дефолту в `1000` шагов.\n",
    "\n",
    "__б)__ Добавить в модель возможность вводить l1 и l2 регуляризаторы (elstic_net), для этого придется выписать на бумажке фукнцию потерь и найти её дифференциал. Для l2 проблем быть не должно, для l1 придется быть поосторожнее с нулём. \n",
    "\n",
    "__в)__ Реализовать вместо текущего обычного градиентного спуска стохастический градиентный спуск по мини-батчам. Надо на каждой итерации отбирать $m$ случайных наблюдений и делать шаг градиентного спуска по ним. Параметр $m$ задаётся при объявлении модели.\n",
    "\n",
    "__г)__ Сейчас обучение идёт с помощью функции потерь MSE. Хочется, чтобы была возможность выбора. \n",
    "\n",
    "- Добавьте такую возможность в виде функций потерь MAE\n",
    "- Добавьте MAPE\n",
    "\n",
    "__HINT:__ подсказка как добавить MAPE прямо через MAE: https://yadi.sk/i/WpIWG_PYeQkLVQ\n",
    "\n",
    "- Добавьте функцию потерь Хубера\n",
    "\n",
    "__HINT:__ про неё можно почитать либо в [главе про функции потерь Дьяконова](https://alexanderdyakonov.files.wordpress.com/2018/10/book_08_metrics_12_blog1.pdf) либо в [первой главе Магнуса Катышева Персецкого.](https://yadi.sk/i/K8P9rL1eDK0Dqg)\n",
    "\n",
    "Склёрновская реализация такой модели [тут.](https://scikit-learn.org/stable/modules/generated/sklearn.linear_model.HuberRegressor.html)\n",
    "\n",
    "- Придумайте свою функцию потерь с логарифмами такую, чтобы она была робастной к выбросам. \n",
    "\n",
    "\n",
    "__д)__ Протестировать модель на сгенерированном датасете. Сравнить результаты с пакетной реализацией. Подумать каких ещё приблуд можно засунуть внутрь модели. "
   ]
  },
  {
   "cell_type": "markdown",
   "metadata": {},
   "source": [
    "## Задание 2 (логистическая регрессия): \n",
    "\n",
    "Нужно реализовать аналогичный класс для обучения логистической регрессии. Должен быть точно такой же интерфейс, но другая модель. \n",
    "\n",
    "- В качестве функции потерь возьмите `logloss`. Добавьте опциональные ругуляризаторы, модель учите стохастическим градиентным спуском. Все производные найдите руками с помощью матричного диффериенцирования. Сравните работу модели с пакетной реализацией и возрадуйтесь."
   ]
  },
  {
   "cell_type": "markdown",
   "metadata": {},
   "source": [
    " "
   ]
  }
 ],
 "metadata": {
  "kernelspec": {
   "display_name": "Python 3",
   "language": "python",
   "name": "python3"
  },
  "language_info": {
   "codemirror_mode": {
    "name": "ipython",
    "version": 3
   },
   "file_extension": ".py",
   "mimetype": "text/x-python",
   "name": "python",
   "nbconvert_exporter": "python",
   "pygments_lexer": "ipython3",
   "version": "3.7.2"
  }
 },
 "nbformat": 4,
 "nbformat_minor": 2
}
