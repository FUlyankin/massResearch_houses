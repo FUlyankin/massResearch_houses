{
 "cells": [
  {
   "cell_type": "markdown",
   "metadata": {},
   "source": [
    "## Разница между методом и функцией"
   ]
  },
  {
   "cell_type": "code",
   "execution_count": null,
   "metadata": {},
   "outputs": [],
   "source": [
    "# model = LinearRegression( )\n",
    "# model.fit(X, y)\n",
    "# model.coef_ \n",
    "\n",
    "# another_model = LinearRegression( )\n",
    "# another_model.fit(Z, y)\n",
    "# another_model.coef_ \n",
    "\n",
    "# kartoshka.jarit( )   метод\n",
    "# jarit(kartoshka)     функция"
   ]
  },
  {
   "cell_type": "code",
   "execution_count": 4,
   "metadata": {},
   "outputs": [
    {
     "data": {
      "text/plain": [
       "(7, 7)"
      ]
     },
     "execution_count": 4,
     "metadata": {},
     "output_type": "execute_result"
    }
   ],
   "source": [
    "import numpy as np\n",
    "\n",
    "x = np.array([1,2,4])\n",
    "x.sum(), sum(x)"
   ]
  },
  {
   "cell_type": "code",
   "execution_count": null,
   "metadata": {},
   "outputs": [],
   "source": [
    "class Killer:\n",
    "    \n",
    "    def f(x):\n",
    "        pass\n",
    "    \n",
    "model = ..."
   ]
  },
  {
   "cell_type": "code",
   "execution_count": 60,
   "metadata": {},
   "outputs": [
    {
     "name": "stdout",
     "output_type": "stream",
     "text": [
      "было [6 0 1 8 2 9 3 7 5 4] игроков\n"
     ]
    }
   ],
   "source": [
    "print(f\"было {x} игроков\")"
   ]
  },
  {
   "cell_type": "code",
   "execution_count": 68,
   "metadata": {},
   "outputs": [
    {
     "name": "stdout",
     "output_type": "stream",
     "text": [
      "LinearRegression(copy_X=True, fit_intercept=True, n_jobs=None, normalize=False)\n"
     ]
    }
   ],
   "source": [
    "from sklearn.linear_model import LinearRegression\n",
    "model = LinearRegression()\n",
    "print(model)"
   ]
  },
  {
   "cell_type": "markdown",
   "metadata": {},
   "source": [
    "## Немного numpy"
   ]
  },
  {
   "cell_type": "code",
   "execution_count": 29,
   "metadata": {},
   "outputs": [
    {
     "data": {
      "text/plain": [
       "array([0, 1, 2, 3, 4, 5, 6, 7, 8, 9])"
      ]
     },
     "execution_count": 29,
     "metadata": {},
     "output_type": "execute_result"
    }
   ],
   "source": [
    "x = np.arange(10)\n",
    "x"
   ]
  },
  {
   "cell_type": "code",
   "execution_count": 30,
   "metadata": {},
   "outputs": [
    {
     "data": {
      "text/plain": [
       "array([6, 0, 1, 8, 2, 9, 3, 7, 5, 4])"
      ]
     },
     "execution_count": 30,
     "metadata": {},
     "output_type": "execute_result"
    }
   ],
   "source": [
    "np.random.shuffle(x)\n",
    "x"
   ]
  },
  {
   "cell_type": "code",
   "execution_count": 73,
   "metadata": {},
   "outputs": [
    {
     "data": {
      "text/plain": [
       "array([1., 1., 1., 1., 1.])"
      ]
     },
     "execution_count": 73,
     "metadata": {},
     "output_type": "execute_result"
    }
   ],
   "source": [
    "y = np.ones(5)\n",
    "y"
   ]
  },
  {
   "cell_type": "code",
   "execution_count": 74,
   "metadata": {},
   "outputs": [
    {
     "data": {
      "text/plain": [
       "array([0., 0., 0., 0., 0.])"
      ]
     },
     "execution_count": 74,
     "metadata": {},
     "output_type": "execute_result"
    }
   ],
   "source": [
    "z = np.zeros(5)\n",
    "z"
   ]
  },
  {
   "cell_type": "code",
   "execution_count": 81,
   "metadata": {},
   "outputs": [
    {
     "data": {
      "text/plain": [
       "array([1., 1., 1., 1., 1., 0., 0., 0., 0., 0.])"
      ]
     },
     "execution_count": 81,
     "metadata": {},
     "output_type": "execute_result"
    }
   ],
   "source": [
    "np.concatenate((y,z))"
   ]
  },
  {
   "cell_type": "code",
   "execution_count": 127,
   "metadata": {},
   "outputs": [
    {
     "data": {
      "text/plain": [
       "6"
      ]
     },
     "execution_count": 127,
     "metadata": {},
     "output_type": "execute_result"
    }
   ],
   "source": [
    "np.random.choice(x)"
   ]
  },
  {
   "cell_type": "code",
   "execution_count": 147,
   "metadata": {},
   "outputs": [
    {
     "data": {
      "text/plain": [
       "array([0, 2, 4, 5])"
      ]
     },
     "execution_count": 147,
     "metadata": {},
     "output_type": "execute_result"
    }
   ],
   "source": [
    "alive = np.array([1,0,1,0,1,1])\n",
    "target = np.arange(6)\n",
    "target[alive == 1]"
   ]
  },
  {
   "cell_type": "markdown",
   "metadata": {},
   "source": [
    "## Классы\n",
    "\n",
    "* Пример с комплесными числами: https://github.com/hse-econ-data-science/eds_spring_2020/blob/master/sem04_class/sem_04_182.py"
   ]
  },
  {
   "cell_type": "code",
   "execution_count": 202,
   "metadata": {},
   "outputs": [],
   "source": [
    "class Killer:\n",
    "    \n",
    "    # конструктор (вызывается один раз при создании нового экземпляра класса)\n",
    "    # self - способ сослаться на самого себя \n",
    "    def __init__(self, n, verbose=False):\n",
    "        \n",
    "        # атрибуты класса \n",
    "        self.n = n\n",
    "        self.verbose = verbose\n",
    "        self.murder_target = np.arange(n)         # раздача целей по конвертам \n",
    "        self.alive = np.ones(n, dtype=\"uint8\")    # жив ли игрок\n",
    "        self.reward = np.zeros(n, dtype=\"uint8\")  # очки, набранные игроком\n",
    "        \n",
    "        # сколько раз высшая сила уберегла\n",
    "        self.savegod = np.zeros(n, dtype=\"int64\")\n",
    "        \n",
    "        # функций, которые надо запустить при инициализции\n",
    "        self.__create_game__()\n",
    "        \n",
    "    def __repr__(self): # описание экземпляра\n",
    "        return f\"Killer({self.n})\"\n",
    "    \n",
    "    def __str__(self): # более человечное описание\n",
    "        return f\"Игра в киллера на {self.n} человек\"\n",
    "    \n",
    "    # определяем своё собственное сложение \n",
    "    def __add__(self, other):\n",
    "        n = self.n + other.n\n",
    "        game = Killer(n)\n",
    "        game.murder_target = np.concatenate((self.murder_target, other.murder_target + self.n))\n",
    "        return game\n",
    "    \n",
    "    # дополнение текущей игры новыми людьми\n",
    "    def add(self, other):\n",
    "        self.murder_target = np.concatenate((self.murder_target, other.murder_target + self.n))\n",
    "        self.n = self.n + other.n\n",
    "            \n",
    "    def __create_game__(self):\n",
    "        np.random.shuffle(self.murder_target)\n",
    "    \n",
    "    def is_suicide(self, i):\n",
    "        return self.murder_target[i] == i\n",
    "    \n",
    "    def is_matching(self, i):\n",
    "        return self.murder_target[self.murder_target[i]] == i\n",
    "    \n",
    "    def step(self):\n",
    "        # индекс убийцы выбрали случайно только среди живых\n",
    "        killer_index = np.random.choice(self.murder_target[self.alive == 1])  \n",
    "        killer_target = self.murder_target[killer_index]     # индекс жертвы \n",
    "        \n",
    "        self.alive[killer_target] = 0  # пометили что жертва мертва\n",
    "        self.reward[killer_index] += 1 # отдали фраг в награду\n",
    "        \n",
    "        # [2, 1, 3, 0 ]  2 игрок делает ход\n",
    "        # [2, 1, 0, -1]  3 умер, его конверт переехал ко 2 \n",
    "        self.murder_target[killer_index] = self.murder_target[killer_target]\n",
    "        # self.murder_target[killer_target] = -1\n",
    "        \n",
    "        # считаем сколько раз чувака уберегла высшая сила от смерти \n",
    "        self.savegod[self.murder_target[killer_target]] += 1\n",
    "        \n",
    "        if self.verbose:\n",
    "            print(f\"Ход делает игрок {killer_index}\")\n",
    "            print(self.murder_target)\n",
    "            print(self.alive)\n",
    "            print(self.reward)\n",
    "            print()\n",
    "        \n",
    "    def play_game(self):\n",
    "        if self.verbose:\n",
    "            print(f\"Стартовая позиция:\")\n",
    "            print(self.murder_target)\n",
    "            print(self.alive)\n",
    "            print(self.reward)\n",
    "            print()\n",
    "        \n",
    "        while np.sum(self.alive) > 0:\n",
    "            self.step()\n",
    "        \n",
    "        if self.verbose:\n",
    "            print(\"Игра завершилась\")\n",
    "            print(f\"Победил игрок {np.argmax(self.reward)} со счётом {np.max(self.reward)}\")\n",
    "            print(f\"Неубиваемым оказался игрок {np.argmax(self.savegod)} со счётом {np.max(self.savegod)}\")\n",
    "        \n",
    "    def get_stat(self):\n",
    "        stat = dict()\n",
    "        stat['winner'] = np.argmax(self.reward)\n",
    "        stat['winner_reward'] = np.max(self.reward)\n",
    "        \n",
    "        stat['savegod'] = np.argmax(self.savegod)\n",
    "        stat['savegod_point'] = np.max(self.savegod)\n",
    "        return stat\n",
    "    "
   ]
  },
  {
   "cell_type": "code",
   "execution_count": 129,
   "metadata": {},
   "outputs": [
    {
     "data": {
      "text/plain": [
       "array([3, 9, 2, 8, 5, 0, 4, 7, 6, 1])"
      ]
     },
     "execution_count": 129,
     "metadata": {},
     "output_type": "execute_result"
    }
   ],
   "source": [
    "game1 = Killer(10)\n",
    "game1.murder_target"
   ]
  },
  {
   "cell_type": "code",
   "execution_count": 130,
   "metadata": {},
   "outputs": [
    {
     "data": {
      "text/plain": [
       "array([4, 0, 2, 3, 1])"
      ]
     },
     "execution_count": 130,
     "metadata": {},
     "output_type": "execute_result"
    }
   ],
   "source": [
    "game2 = Killer(5)\n",
    "game2.murder_target"
   ]
  },
  {
   "cell_type": "code",
   "execution_count": 123,
   "metadata": {},
   "outputs": [
    {
     "data": {
      "text/plain": [
       "Killer(15)"
      ]
     },
     "execution_count": 123,
     "metadata": {},
     "output_type": "execute_result"
    }
   ],
   "source": [
    "game = game1 * game2\n",
    "game"
   ]
  },
  {
   "cell_type": "code",
   "execution_count": 116,
   "metadata": {},
   "outputs": [
    {
     "data": {
      "text/plain": [
       "array([ 3,  0,  6,  1,  4,  5,  2,  7,  8,  9, 11, 13, 12, 10, 14])"
      ]
     },
     "execution_count": 116,
     "metadata": {},
     "output_type": "execute_result"
    }
   ],
   "source": [
    "game.murder_target"
   ]
  },
  {
   "cell_type": "code",
   "execution_count": 117,
   "metadata": {},
   "outputs": [],
   "source": [
    "game1.add(game2)"
   ]
  },
  {
   "cell_type": "code",
   "execution_count": 118,
   "metadata": {},
   "outputs": [
    {
     "data": {
      "text/plain": [
       "array([ 3,  0,  6,  1,  4,  5,  2,  7,  8,  9, 11, 13, 12, 10, 14])"
      ]
     },
     "execution_count": 118,
     "metadata": {},
     "output_type": "execute_result"
    }
   ],
   "source": [
    "game1.murder_target"
   ]
  },
  {
   "cell_type": "raw",
   "metadata": {},
   "source": [
    "Один шаг игры:\n",
    "\n",
    "[2, 1, 3, 0] murder_target \n",
    "[1, 1, 1, 1] alive\n",
    "[0, 0, 0, 0] reward \n",
    "\n",
    "--> случайно выбираю пару из списка и она делает ход \n",
    "[2, 1, 0, -]\n",
    "[1, 1, 1, 0]\n",
    "[0, 0, 1, 0]\n",
    "\n",
    "[0, 1, -, -]\n",
    "[1, 1, 0, 0]\n",
    "[1, 0, 1, 0]\n",
    "\n",
    "[0, -, -, -]\n",
    "[1, 0, 0, 0]\n",
    "[1, 1, 1, 0]\n",
    "\n",
    "[-, -, -, -]\n",
    "[1, 0, 0, 0]\n",
    "[2, 1, 1, 0]"
   ]
  },
  {
   "cell_type": "code",
   "execution_count": 200,
   "metadata": {},
   "outputs": [
    {
     "name": "stdout",
     "output_type": "stream",
     "text": [
      "Игра завершилась\n",
      "Победил игрок 71 со счётом 7\n",
      "Неубиваемым оказался игрок 43 со счётом 7\n"
     ]
    }
   ],
   "source": [
    "game = Killer(100)\n",
    "game.play_game()"
   ]
  },
  {
   "cell_type": "markdown",
   "metadata": {},
   "source": [
    "Случайная величина $X$ - максимально неуловимый Джо. Это игрок, киллера которого постоянно убивают и он постоянно меняется. То есть $X$ - это максимольно разнок число киллеров для фиксированной жертвы. \n",
    "\n",
    "* $E(X)$ - ?  \n",
    "* Какова верятность, что победитель и неубиваемый совпадают? "
   ]
  },
  {
   "cell_type": "code",
   "execution_count": 204,
   "metadata": {},
   "outputs": [],
   "source": [
    "n_obs = 1000\n",
    "\n",
    "stat = [ ]\n",
    "for i in range(n_obs):\n",
    "    game = Killer(100)\n",
    "    game.play_game()\n",
    "    stat.append(game.get_stat())"
   ]
  },
  {
   "cell_type": "code",
   "execution_count": 205,
   "metadata": {},
   "outputs": [
    {
     "data": {
      "text/html": [
       "<div>\n",
       "<style scoped>\n",
       "    .dataframe tbody tr th:only-of-type {\n",
       "        vertical-align: middle;\n",
       "    }\n",
       "\n",
       "    .dataframe tbody tr th {\n",
       "        vertical-align: top;\n",
       "    }\n",
       "\n",
       "    .dataframe thead th {\n",
       "        text-align: right;\n",
       "    }\n",
       "</style>\n",
       "<table border=\"1\" class=\"dataframe\">\n",
       "  <thead>\n",
       "    <tr style=\"text-align: right;\">\n",
       "      <th></th>\n",
       "      <th>winner</th>\n",
       "      <th>winner_reward</th>\n",
       "      <th>savegod</th>\n",
       "      <th>savegod_point</th>\n",
       "    </tr>\n",
       "  </thead>\n",
       "  <tbody>\n",
       "    <tr>\n",
       "      <th>0</th>\n",
       "      <td>79</td>\n",
       "      <td>7</td>\n",
       "      <td>6</td>\n",
       "      <td>5</td>\n",
       "    </tr>\n",
       "    <tr>\n",
       "      <th>1</th>\n",
       "      <td>62</td>\n",
       "      <td>8</td>\n",
       "      <td>88</td>\n",
       "      <td>7</td>\n",
       "    </tr>\n",
       "    <tr>\n",
       "      <th>2</th>\n",
       "      <td>45</td>\n",
       "      <td>8</td>\n",
       "      <td>76</td>\n",
       "      <td>8</td>\n",
       "    </tr>\n",
       "    <tr>\n",
       "      <th>3</th>\n",
       "      <td>42</td>\n",
       "      <td>9</td>\n",
       "      <td>42</td>\n",
       "      <td>7</td>\n",
       "    </tr>\n",
       "    <tr>\n",
       "      <th>4</th>\n",
       "      <td>20</td>\n",
       "      <td>9</td>\n",
       "      <td>74</td>\n",
       "      <td>7</td>\n",
       "    </tr>\n",
       "  </tbody>\n",
       "</table>\n",
       "</div>"
      ],
      "text/plain": [
       "   winner  winner_reward  savegod  savegod_point\n",
       "0      79              7        6              5\n",
       "1      62              8       88              7\n",
       "2      45              8       76              8\n",
       "3      42              9       42              7\n",
       "4      20              9       74              7"
      ]
     },
     "execution_count": 205,
     "metadata": {},
     "output_type": "execute_result"
    }
   ],
   "source": [
    "import pandas as pd \n",
    "\n",
    "df = pd.DataFrame(stat)\n",
    "df.head()"
   ]
  },
  {
   "cell_type": "code",
   "execution_count": 206,
   "metadata": {},
   "outputs": [
    {
     "data": {
      "text/plain": [
       "6.682"
      ]
     },
     "execution_count": 206,
     "metadata": {},
     "output_type": "execute_result"
    }
   ],
   "source": [
    "# E(X) \n",
    "df['savegod_point'].mean()"
   ]
  },
  {
   "cell_type": "code",
   "execution_count": 207,
   "metadata": {},
   "outputs": [
    {
     "data": {
      "text/plain": [
       "6.765"
      ]
     },
     "execution_count": 207,
     "metadata": {},
     "output_type": "execute_result"
    }
   ],
   "source": [
    "df['winner_reward'].mean()"
   ]
  },
  {
   "cell_type": "code",
   "execution_count": 208,
   "metadata": {},
   "outputs": [
    {
     "data": {
      "text/plain": [
       "-0.083"
      ]
     },
     "execution_count": 208,
     "metadata": {},
     "output_type": "execute_result"
    }
   ],
   "source": [
    "(df['savegod_point'] - df['winner_reward']).mean()"
   ]
  },
  {
   "cell_type": "code",
   "execution_count": 212,
   "metadata": {},
   "outputs": [
    {
     "data": {
      "text/plain": [
       "Ttest_relResult(statistic=-1.3543253188690567, pvalue=0.17593885535733933)"
      ]
     },
     "execution_count": 212,
     "metadata": {},
     "output_type": "execute_result"
    }
   ],
   "source": [
    "import scipy.stats as sts\n",
    "sts.ttest_rel(df['savegod_point'], df['winner_reward'])"
   ]
  },
  {
   "cell_type": "code",
   "execution_count": 213,
   "metadata": {},
   "outputs": [
    {
     "data": {
      "text/plain": [
       "0.193"
      ]
     },
     "execution_count": 213,
     "metadata": {},
     "output_type": "execute_result"
    }
   ],
   "source": [
    "# P(winner = savegod)\n",
    "(df['winner'] == df['savegod']).mean()"
   ]
  },
  {
   "cell_type": "markdown",
   "metadata": {},
   "source": [
    "# Наследование"
   ]
  },
  {
   "cell_type": "code",
   "execution_count": 231,
   "metadata": {},
   "outputs": [],
   "source": [
    "class Killer_organizer(Killer):\n",
    "    \n",
    "    def __init__(self, n):\n",
    "        Killer.__init__(self, n)\n",
    "        self.__drop_suicide__()\n",
    "        self.shuffle = 0\n",
    "        \n",
    "#     # борьба с суицидами \n",
    "#     def __drop_suicide__(self):\n",
    "#         while sum(self.murder_target == np.arange(self.n)) > 0:\n",
    "#             np.random.shuffle(self.murder_target)\n",
    "\n",
    "#     # борьба с мэтчингами тем же дедовским способом: перемешиванием!\n",
    "#     def __drop_matching__(self):\n",
    "#         matching_cnt = sum([self.is_matching(item) for item in self.murder_target])\n",
    "#         suicide_cnt = sum(self.murder_target == np.arange(self.n))\n",
    "#         while (matching_cnt > 0)|(suicide_cnt  > 0):\n",
    "#             self.shuffle += 1\n",
    "#             np.random.shuffle(self.murder_target)        \n",
    "        \n",
    "    def step_organizer(self):\n",
    "        \n",
    "\n",
    "        # индекс убийцы выбрали случайно только среди живых\n",
    "        killer_index = np.random.choice(self.murder_target[self.alive == 1])  \n",
    "        killer_target = self.murder_target[killer_index]     # индекс жертвы \n",
    "        \n",
    "        self.alive[killer_target] = 0  # пометили что жертва мертва\n",
    "        self.reward[killer_index] += 1 # отдали фраг в награду\n",
    "        \n",
    "        # [2, 1, 3, 0 ]  2 игрок делает ход\n",
    "        # [2, 1, 0, -1]  3 умер, его конверт переехал ко 2 \n",
    "        self.murder_target[killer_index] = self.murder_target[killer_target]\n",
    "        # self.murder_target[killer_target] = -1\n",
    "        \n",
    "        # считаем сколько раз чувака уберегла высшая сила от смерти \n",
    "        self.savegod[self.murder_target[killer_target]] += 1\n",
    "        \n",
    "\n",
    "        \n",
    "        \n",
    "#     def play_game(self):\n",
    "#         if self.verbose:\n",
    "#             print(f\"Стартовая позиция:\")\n",
    "#             print(self.murder_target)\n",
    "#             print(self.alive)\n",
    "#             print(self.reward)\n",
    "#             print()\n",
    "        \n",
    "#         while np.sum(self.alive) > 0:\n",
    "#             self.step()\n",
    "        \n",
    "#         if self.verbose:\n",
    "#             print(\"Игра завершилась\")\n",
    "#             print(f\"Победил игрок {np.argmax(self.reward)} со счётом {np.max(self.reward)}\")\n",
    "#             print(f\"Неубиваемым оказался игрок {np.argmax(self.savegod)} со счётом {np.max(self.savegod)}\")\n",
    "    "
   ]
  },
  {
   "cell_type": "code",
   "execution_count": 270,
   "metadata": {},
   "outputs": [],
   "source": [
    "game = Killer_organizer(100)"
   ]
  },
  {
   "cell_type": "code",
   "execution_count": 226,
   "metadata": {},
   "outputs": [
    {
     "data": {
      "text/plain": [
       "5"
      ]
     },
     "execution_count": 226,
     "metadata": {},
     "output_type": "execute_result"
    }
   ],
   "source": [
    "game.g"
   ]
  },
  {
   "cell_type": "code",
   "execution_count": null,
   "metadata": {},
   "outputs": [],
   "source": []
  },
  {
   "cell_type": "code",
   "execution_count": null,
   "metadata": {},
   "outputs": [],
   "source": []
  }
 ],
 "metadata": {
  "kernelspec": {
   "display_name": "Python 3",
   "language": "python",
   "name": "python3"
  },
  "language_info": {
   "codemirror_mode": {
    "name": "ipython",
    "version": 3
   },
   "file_extension": ".py",
   "mimetype": "text/x-python",
   "name": "python",
   "nbconvert_exporter": "python",
   "pygments_lexer": "ipython3",
   "version": "3.7.2"
  }
 },
 "nbformat": 4,
 "nbformat_minor": 2
}
