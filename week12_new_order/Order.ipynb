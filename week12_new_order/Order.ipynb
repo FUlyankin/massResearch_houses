{
 "cells": [
  {
   "cell_type": "markdown",
   "metadata": {},
   "source": [
    "# Привести все данные в порядок! \n",
    "\n",
    "- Парсер квартир (ЦИАН)  + \n",
    "- Парсер координат (Google) + "
   ]
  },
  {
   "cell_type": "markdown",
   "metadata": {},
   "source": [
    "### Текстовое \n",
    "\n",
    "__Что есть:__ \n",
    "\n",
    "- [Собрали свой собственный w2v-векторайзер](https://nbviewer.jupyter.org/github/FUlyankin/massResearch_houses/blob/master/week09_model_again/w2v_processor.ipynb)\n",
    "- [Тетрадка с обычными моделями,](https://github.com/FUlyankin/massResearch_houses/blob/master/week06_prepare/models_v1.ipynb) внутри есть tf-idf регресиия\n",
    "\n",
    "\n",
    "__Что надо:__ \n",
    "\n",
    "__Дима:__\n",
    "\n",
    "- Сварить ещё одни w2v, но на основе другой модели https://rusvectores.org/ru/models/\n",
    "- Добавить в w2v_vectorizer PADD, UNKN, всунуть усреднение по tf-idf\n",
    "\n",
    "$$\n",
    "w_{text} = \\frac{1}{n} \\cdot (w_1 + \\ldots + w_n) \n",
    "$$\n",
    "\n",
    "$$\n",
    "w_{text} = tf_1 \\cdot w_1 + \\ldots + tf_n \\cdot w_n \n",
    "$$\n",
    "\n",
    "__Иван:__ \n",
    "\n",
    "- Обучить модель на tf-idf с хорошими gridsearch \n",
    "- Обучить свой собственный w2v только [на описаниях с квартир](https://github.com/FUlyankin/massResearch_houses/blob/master/week04%2605_w2v/w2v.ipynb)\n",
    "\n",
    "\n",
    "- Обучить модели на всех трёх w2v, сравнить её с tf-idf \n",
    "- От Филиппа: показать как собрать на w2v нейронку   "
   ]
  },
  {
   "cell_type": "markdown",
   "metadata": {},
   "source": [
    "### Обычно-фичевое \n",
    "\n",
    "__Что есть:__ \n",
    "\n",
    "- [Тетрадка с обработкой грязных данных](https://github.com/FUlyankin/massResearch_houses/blob/master/week06_prepare/data_prep_v1.ipynb)\n",
    "- [Тетрадка с обычными моделями](https://github.com/FUlyankin/massResearch_houses/blob/master/week06_prepare/models_v1.ipynb)\n",
    "\n",
    "\n",
    "__Что надо:__ \n",
    "\n",
    "\n",
    "__Сережа:__ \n",
    "\n",
    "- Добавить в эту тетрадку фичи по комнатам (средняя площадь, самая большая площадь и тп) \n",
    "- Попробовать собрать пайплайн, в котором будет на обычных данных прогоняться несколько моделей с картинками, выводами и тп \n"
   ]
  },
  {
   "cell_type": "markdown",
   "metadata": {},
   "source": [
    "### Координаты, карты \n",
    "\n",
    "__Юра:__ \n",
    "\n",
    "- Если кто-то хочет скачать другие расстояния и пробки, you are welcome \n"
   ]
  },
  {
   "cell_type": "markdown",
   "metadata": {},
   "source": [
    "### Из планов: \n",
    "\n",
    "- Как не подгружать данные в оперативку +/-\n",
    "- Ансамбли\n",
    "- Поделать сложные модели по кластерам + специфическое обучение\n",
    "- Залезть в лес\n",
    "- Sparse matrix какикие бывают форматы\n",
    "- Почему не работает LASSO? "
   ]
  },
  {
   "cell_type": "code",
   "execution_count": null,
   "metadata": {},
   "outputs": [],
   "source": []
  },
  {
   "cell_type": "code",
   "execution_count": null,
   "metadata": {},
   "outputs": [],
   "source": []
  },
  {
   "cell_type": "code",
   "execution_count": null,
   "metadata": {},
   "outputs": [],
   "source": []
  },
  {
   "cell_type": "code",
   "execution_count": null,
   "metadata": {},
   "outputs": [],
   "source": []
  },
  {
   "cell_type": "code",
   "execution_count": null,
   "metadata": {},
   "outputs": [],
   "source": []
  }
 ],
 "metadata": {
  "kernelspec": {
   "display_name": "Python 3",
   "language": "python",
   "name": "python3"
  },
  "language_info": {
   "codemirror_mode": {
    "name": "ipython",
    "version": 3
   },
   "file_extension": ".py",
   "mimetype": "text/x-python",
   "name": "python",
   "nbconvert_exporter": "python",
   "pygments_lexer": "ipython3",
   "version": "3.7.2"
  }
 },
 "nbformat": 4,
 "nbformat_minor": 2
}
