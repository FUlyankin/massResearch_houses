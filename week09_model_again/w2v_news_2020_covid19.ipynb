{
 "cells": [
  {
   "cell_type": "markdown",
   "metadata": {},
   "source": [
    "# 1. Воровство w2v "
   ]
  },
  {
   "cell_type": "code",
   "execution_count": 1,
   "metadata": {},
   "outputs": [
    {
     "name": "stdout",
     "output_type": "stream",
     "text": [
      "3.8.0\n"
     ]
    }
   ],
   "source": [
    "import gensim \n",
    "print(gensim.__version__)"
   ]
  },
  {
   "cell_type": "code",
   "execution_count": 2,
   "metadata": {},
   "outputs": [],
   "source": [
    "w2v_model = gensim.models.KeyedVectors.load_word2vec_format(\"184/model.bin\", binary=True)"
   ]
  },
  {
   "cell_type": "code",
   "execution_count": 6,
   "metadata": {},
   "outputs": [
    {
     "data": {
      "text/plain": [
       "(300,)"
      ]
     },
     "execution_count": 6,
     "metadata": {},
     "output_type": "execute_result"
    }
   ],
   "source": [
    "w2v_model.get_vector('путин_NOUN').shape"
   ]
  },
  {
   "cell_type": "code",
   "execution_count": 13,
   "metadata": {},
   "outputs": [
    {
     "data": {
      "text/plain": [
       "[('рф_PROPN', 0.5658383965492249),\n",
       " ('рф::россия_PROPN', 0.4791482090950012),\n",
       " ('песковарищ_NOUN', 0.46943381428718567),\n",
       " ('устроитьтеррористическать_ADJ', 0.46034306287765503),\n",
       " ('амарин_PROPN', 0.45849233865737915),\n",
       " ('силуановадратный_ADJ', 0.45033103227615356),\n",
       " ('гончаровадратный_ADJ', 0.4423750638961792),\n",
       " ('iraqinews_PROPN', 0.4374409317970276),\n",
       " ('приговоренута_NOUN', 0.4364970922470093),\n",
       " ('премьерминистр_NOUN', 0.4326789379119873)]"
      ]
     },
     "execution_count": 13,
     "metadata": {},
     "output_type": "execute_result"
    }
   ],
   "source": [
    "w2v_model.most_similar('россия_PROPN')"
   ]
  },
  {
   "cell_type": "code",
   "execution_count": 14,
   "metadata": {},
   "outputs": [
    {
     "data": {
      "text/plain": [
       "[('ильковский_ADJ', 0.35678017139434814),\n",
       " ('дональд_PROPN', 0.353410005569458),\n",
       " ('асcанж_PROPN', 0.35311537981033325),\n",
       " ('n-tv.сообщаться_VERB', 0.3511354923248291),\n",
       " ('асcанж_NOUN', 0.34586143493652344),\n",
       " ('интерфвкс_PROPN', 0.34339189529418945),\n",
       " ('щеголева_NOUN', 0.3423219621181488),\n",
       " ('дональд::трамп_PROPN', 0.34094905853271484),\n",
       " ('липко.директор_PROPN', 0.33982157707214355),\n",
       " ('функционаливать_NOUN', 0.3345367908477783)]"
      ]
     },
     "execution_count": 14,
     "metadata": {},
     "output_type": "execute_result"
    }
   ],
   "source": [
    "w2v_model.most_similar(positive=['трамп_PROPN','россия_PROPN'], negative=['сша_PROPN'])"
   ]
  },
  {
   "cell_type": "code",
   "execution_count": 15,
   "metadata": {},
   "outputs": [
    {
     "data": {
      "text/plain": [
       "249318"
      ]
     },
     "execution_count": 15,
     "metadata": {},
     "output_type": "execute_result"
    }
   ],
   "source": [
    "vocab = w2v_model.vocab\n",
    "len(vocab)"
   ]
  },
  {
   "cell_type": "code",
   "execution_count": 19,
   "metadata": {},
   "outputs": [
    {
     "name": "stderr",
     "output_type": "stream",
     "text": [
      "249318it [00:01, 135183.43it/s]\n"
     ]
    }
   ],
   "source": [
    "import numpy as np\n",
    "from tqdm import tqdm  #tqdm_notebook\n",
    "\n",
    "uniq_words = {\"#PAD#\": 0, \"#UNK#\": 1}\n",
    "\n",
    "s = len(vocab) + 2\n",
    "d = 300\n",
    "\n",
    "embedings = np.zeros((s, d))\n",
    "\n",
    "for i, word in tqdm(enumerate(vocab)):\n",
    "    uniq_words[word] = (i + 2)\n",
    "    embedings[i + 2] = w2v_model.get_vector(word)"
   ]
  },
  {
   "cell_type": "code",
   "execution_count": 20,
   "metadata": {},
   "outputs": [
    {
     "data": {
      "text/plain": [
       "(249320, 300)"
      ]
     },
     "execution_count": 20,
     "metadata": {},
     "output_type": "execute_result"
    }
   ],
   "source": [
    "embedings.shape"
   ]
  },
  {
   "cell_type": "code",
   "execution_count": 25,
   "metadata": {},
   "outputs": [
    {
     "data": {
      "text/plain": [
       "(300,)"
      ]
     },
     "execution_count": 25,
     "metadata": {},
     "output_type": "execute_result"
    }
   ],
   "source": [
    "embedings[uniq_words['путин_NOUN']].shape"
   ]
  },
  {
   "cell_type": "code",
   "execution_count": 26,
   "metadata": {},
   "outputs": [],
   "source": [
    "np.save('embeding.npy', embedings)"
   ]
  },
  {
   "cell_type": "code",
   "execution_count": 28,
   "metadata": {},
   "outputs": [],
   "source": [
    "import pickle\n",
    "\n",
    "with open('vocab.pickle', 'wb') as f:\n",
    "    pickle.dump(uniq_words, f)"
   ]
  },
  {
   "cell_type": "markdown",
   "metadata": {},
   "source": [
    "# 2. Данные"
   ]
  },
  {
   "cell_type": "code",
   "execution_count": 110,
   "metadata": {},
   "outputs": [],
   "source": [
    "data = [\n",
    "    {'category': 'В мире',\n",
    " 'date': '2018-12-31',\n",
    " 'day': '31',\n",
    " 'href': '/20181231/1548961410.html',\n",
    " 'image': 'https://cdn25.img.ria.ru/images/153303/06/1533030626_0:247:3501:2216_1036x0_80_0_0_291c92f1d31f7b2a613588e6a96164cb.jpg',\n",
    " 'keywords': 'биньямин нетаньяху, израиль, в мире',\n",
    " 'month': '12',\n",
    " 'shows': '728',\n",
    " 'snippet': 'Премьер-министр Израиля Биньямин Нетаньяху не намерен уходить в отставку в случае предъявления ему обвинений в коррупции, сообщает израильский телеканал i24... РИА Новости, 31.12.2018',\n",
    " 'tags': 'Биньямин Нетаньяху, Израиль, В мире',\n",
    " 'text': 'МОСКВА, 31 дек - РИА Новости. Премьер-министр Израиля Биньямин Нетаньяху не намерен уходить в отставку в случае предъявления ему обвинений в коррупции, сообщает израильский телеканал i24 News. В начале декабря полиция рекомендовала генпрокуратуре предъявить обвинения в коррупции Нетаньяху и его супруге Саре по итогам расследования дела об их отношениях с руководством крупнейшей в стране телекоммуникационной компании \"Безек\". Как отмечает телеканал, в случае предъявления обвинений глава правительства законодательно обязан уйти в отставку только в случае, если будет исчерпан его апелляционный ресурс. Нетаньяху проходит подозреваемым еще по двум другим уголовным делам, которые полиция уже передала в прокуратуру с рекомендацией предъявить ему те же обвинения — во взяточничестве, мошенничестве и злоупотреблении доверием. Во всех случаях премьер настаивает на своей невиновности, выражает уверенность, что расследования против него завершатся ничем, и обещает еще многие годы руководить страной.',\n",
    " 'time': '31 декабря 2018, 23:52',\n",
    " 'title': 'Нетаньяху не собирается в отставку в случае предъявления обвинений ',\n",
    " 'year': '2018'},\n",
    "    \n",
    "       {'category': 'В мире',\n",
    " 'date': '2018-12-31',\n",
    " 'day': '31',\n",
    " 'href': '/20181231/1548961410.html',\n",
    " 'image': 'https://cdn25.img.ria.ru/images/153303/06/1533030626_0:247:3501:2216_1036x0_80_0_0_291c92f1d31f7b2a613588e6a96164cb.jpg',\n",
    " 'keywords': 'биньямин нетаньяху, израиль, в мире',\n",
    " 'month': '12',\n",
    " 'shows': '728',\n",
    " 'snippet': 'Премьер-министр Израиля Биньямин Нетаньяху не намерен уходить в отставку в случае предъявления ему обвинений в коррупции, сообщает израильский телеканал i24... РИА Новости, 31.12.2018',\n",
    " 'tags': 'Биньямин Нетаньяху, Израиль, В мире',\n",
    " 'text': 'уге Саре по итогам расследования дела об их отношениях с руководством крупнейшей в стране телекоммуникационной компании \"Безек\". Как отмечает телеканал, в случае предъявления обвинений глава правительства законодательно обязан уйти в отставку только в случае, если будет исчерпан его апелляционный ресурс. Нетаньяху проходит подозреваемым еще по двум другим уголовным делам, которые полиция уже передала в прокуратуру с рекомендацией предъявить ему те же обвинения — во взяточничестве, мошенничестве и злоупотреблении доверием. Во всех случаях премьер настаивает на своей невиновности, выражает уверенность, что расследования против него завершатся ничем, и обещает еще многие годы руководить страной.',\n",
    " 'time': '31 декабря 2018, 23:52',\n",
    " 'title': 'Нетаньяху не собирается',\n",
    " 'year': '2018'},\n",
    "    \n",
    "       {'category': 'В мире',\n",
    " 'date': '2018-12-31',\n",
    " 'day': '31',\n",
    " 'href': '/20181231/1548961410.html',\n",
    " 'image': 'https://cdn25.img.ria.ru/images/153303/06/1533030626_0:247:3501:2216_1036x0_80_0_0_291c92f1d31f7b2a613588e6a96164cb.jpg',\n",
    " 'keywords': 'биньямин нетаньяху, израиль, в мире',\n",
    " 'month': '12',\n",
    " 'shows': '728',\n",
    " 'snippet': 'Премьер-министр Израиля Биньямин Нетаньяху не намерен уходить в отставку в случае предъявления ему обвинений в коррупции, сообщает израильский телеканал i24... РИА Новости, 31.12.2018',\n",
    " 'tags': 'Биньямин Нетаньяху, Израиль, В мире',\n",
    " 'text': 'зраильский телеканал i24 News. В начале декабря полиция рекомендовала генпрокуратуре предъявить обвинения в коррупции Нетаньяху и его супруге Саре по итогам расследования дела об их отношениях с руководством крупнейшей в стране телекоммуникационной компании \"Безек\". Как отмечает телеканал, в случае предъявления обвинений глава правительства законодательно обязан уйти в отставку только в случае, если будет исчерпан его апелляционный ресурс. Нетаньяху проходит подозреваемым еще по двум другим уголовным делам, которые полиция уже передала в прокуратуру с рекомендацией предъявить ему те же обвинения — во взяточничестве, мошенничестве и злоупотреблении доверием. Во всех случаях премьер настаивает на своей невиновности, выражает уверенность, что расследования против него завершатся ничем, и обещает еще многие годы руководить страной.',\n",
    " 'time': '31 декабря 2018, 23:52',\n",
    " 'title': ' обвинений ',\n",
    " 'year': '2018'}]"
   ]
  },
  {
   "cell_type": "code",
   "execution_count": 111,
   "metadata": {},
   "outputs": [
    {
     "data": {
      "text/plain": [
       "'Нетаньяху не собирается в отставку в случае предъявления обвинений '"
      ]
     },
     "execution_count": 111,
     "metadata": {},
     "output_type": "execute_result"
    }
   ],
   "source": [
    "data[0]['title']"
   ]
  },
  {
   "cell_type": "code",
   "execution_count": 51,
   "metadata": {},
   "outputs": [
    {
     "data": {
      "text/plain": [
       "'INFN'"
      ]
     },
     "execution_count": 51,
     "metadata": {},
     "output_type": "execute_result"
    }
   ],
   "source": [
    "from pymorphy2 import MorphAnalyzer\n",
    "m = MorphAnalyzer()\n",
    "\n",
    "m.parse('собираться')[0].tag.POS"
   ]
  },
  {
   "cell_type": "code",
   "execution_count": 114,
   "metadata": {},
   "outputs": [],
   "source": [
    "from nltk.tokenize import word_tokenize\n",
    "import re\n",
    "\n",
    "def prepare_text(text, limit):\n",
    "    tokens = word_tokenize(re.sub('[^a-яa-z ]', '', text.lower()))\n",
    "    tk = []\n",
    "    for word in tokens:\n",
    "        try:\n",
    "            wd = word + '_' + m.parse(word)[0].tag.POS\n",
    "        except:\n",
    "            wd = \"#UNK#\"\n",
    "        tk.append(wd)\n",
    "  \n",
    "    clean_tokens = [uniq_words[word] if word in uniq_words else uniq_words[\"#UNK#\"] for word in tk]\n",
    "    \n",
    "    if len(clean_tokens) >= limit:\n",
    "        return clean_tokens[:limit]\n",
    "    else:\n",
    "        return clean_tokens + [0]*(limit - len(clean_tokens))"
   ]
  },
  {
   "cell_type": "code",
   "execution_count": 229,
   "metadata": {},
   "outputs": [],
   "source": [
    "text_ex = np.array([prepare_text(item['text'], 100) for item in data])  # квантиль 0.99 это 100\n",
    "title_ex = np.array([prepare_text(item['title'], 10) for item in data]) # квантиль 0.99 это 10\n",
    "y_ex = np.array([[1,0],[1,0],[1,0]])"
   ]
  },
  {
   "cell_type": "code",
   "execution_count": 230,
   "metadata": {},
   "outputs": [
    {
     "data": {
      "text/plain": [
       "(3, 100)"
      ]
     },
     "execution_count": 230,
     "metadata": {},
     "output_type": "execute_result"
    }
   ],
   "source": [
    "text_ex.shape"
   ]
  },
  {
   "cell_type": "code",
   "execution_count": 231,
   "metadata": {},
   "outputs": [
    {
     "data": {
      "text/plain": [
       "array([[ 27706,      1,  18928, 121003, 119611,      1,      1,  50733,\n",
       "             1,      1,      1,      1, 115049,      1,      1,      1,\n",
       "             1,      1,      1,      1,      1,      1,    390,      1,\n",
       "             1,      1, 151045,  46356,    125,      1,      1,      1,\n",
       "             1,      1,      1,  50733,      1,      1,      1,      1,\n",
       "             1,      1,  54053,  11403,      1,      1,      1,      1,\n",
       "             1,      1,      1,      1,      1,  57642,      1,      1,\n",
       "             1,    390,      1,      1,      1,      1,     29,   9848,\n",
       "             1,      1,      1,      1, 115049,      1,      1,      1,\n",
       "             1,      1,      1,      1,      1,   1283,  50733,      1,\n",
       "             1,      1,      1,      1,      1,      1,      1,      1,\n",
       "           125,      1,      1,      1,      1,      1,      1,      1,\n",
       "             1,      1,      1,      1],\n",
       "       [     1,      1,      1,      1,  54053,  11403,      1,      1,\n",
       "             1,      1,      1,      1,      1,      1,      1,  57642,\n",
       "             1,      1,      1,    390,      1,      1,      1,      1,\n",
       "            29,   9848,      1,      1,      1,      1, 115049,      1,\n",
       "             1,      1,      1,      1,      1,      1,      1,   1283,\n",
       "         50733,      1,      1,      1,      1,      1,      1,      1,\n",
       "             1,      1,    125,      1,      1,      1,      1,      1,\n",
       "             1,      1,      1,      1,      1,      1,      1,      1,\n",
       "         80866,      1,      1,      1,      1,      1,      1,    687,\n",
       "             1,      1,      1, 111566,      1,   3292,      1,  54053,\n",
       "             1,      1,      1,      1,      1,      1,      1,      1,\n",
       "             1,      1,      1,      0,      0,      0,      0,      0,\n",
       "             0,      0,      0,      0],\n",
       "       [     1,    390,      1,      1,      1, 151045,  46356,    125,\n",
       "             1,      1,      1,      1,      1,      1,  50733,      1,\n",
       "             1,      1,      1,      1,      1,  54053,  11403,      1,\n",
       "             1,      1,      1,      1,      1,      1,      1,      1,\n",
       "         57642,      1,      1,      1,    390,      1,      1,      1,\n",
       "             1,     29,   9848,      1,      1,      1,      1, 115049,\n",
       "             1,      1,      1,      1,      1,      1,      1,      1,\n",
       "          1283,  50733,      1,      1,      1,      1,      1,      1,\n",
       "             1,      1,      1,    125,      1,      1,      1,      1,\n",
       "             1,      1,      1,      1,      1,      1,      1,      1,\n",
       "             1,  80866,      1,      1,      1,      1,      1,      1,\n",
       "           687,      1,      1,      1, 111566,      1,   3292,      1,\n",
       "         54053,      1,      1,      1]])"
      ]
     },
     "execution_count": 231,
     "metadata": {},
     "output_type": "execute_result"
    }
   ],
   "source": [
    "text_ex"
   ]
  },
  {
   "cell_type": "markdown",
   "metadata": {},
   "source": [
    "# 3. Архитектура"
   ]
  },
  {
   "cell_type": "code",
   "execution_count": 232,
   "metadata": {},
   "outputs": [],
   "source": [
    "import tensorflow as tf \n",
    "keras, L = tf.keras, tf.keras.layers\n",
    "\n",
    "from tensorflow.keras import Model"
   ]
  },
  {
   "cell_type": "code",
   "execution_count": 233,
   "metadata": {},
   "outputs": [
    {
     "data": {
      "text/plain": [
       "(249320, 300)"
      ]
     },
     "execution_count": 233,
     "metadata": {},
     "output_type": "execute_result"
    }
   ],
   "source": [
    "embedings.shape"
   ]
  },
  {
   "cell_type": "code",
   "execution_count": 234,
   "metadata": {},
   "outputs": [
    {
     "data": {
      "text/plain": [
       "<tf.Tensor: id=2034, shape=(10,), dtype=float32, numpy=\n",
       "array([-0.01659287,  0.1365179 ,  0.2862364 ,  0.06131566, -0.48168   ,\n",
       "        0.46524763, -0.04386752, -0.29350498, -0.04113811, -0.17267391],\n",
       "      dtype=float32)>"
      ]
     },
     "execution_count": 234,
     "metadata": {},
     "output_type": "execute_result"
    }
   ],
   "source": [
    "word_embedings = tf.Variable(embedings, name='embedings', trainable=False, dtype=tf.float32)\n",
    "word_embedings[20][:10]"
   ]
  },
  {
   "cell_type": "code",
   "execution_count": 235,
   "metadata": {},
   "outputs": [],
   "source": [
    "class ItemEncoder(Model):\n",
    "    def __init__(self):\n",
    "        super(ItemEncoder, self).__init__()  # техническая штука ООП \n",
    "        \n",
    "        self.word_embedings = word_embedings\n",
    "        self.conv_layer1 = L.Conv1D(16, kernel_size=2, activation=tf.nn.relu)\n",
    "        self.conv_layer2 = L.Conv1D(16, kernel_size=3, activation=tf.nn.relu)\n",
    "        self.fc_layer = L.Dense(10, activation=tf.nn.relu)\n",
    "        \n",
    "    def call(self, x):\n",
    "        \n",
    "        # подставляет эмбединги вместо слов \n",
    "        item_emb = tf.nn.embedding_lookup(self.word_embedings, x)\n",
    "        \n",
    "        # свертка для биграммы \n",
    "        emb1 = self.conv_layer1(item_emb)\n",
    "        emb1 = tf.reduce_mean(emb1, axis=2)\n",
    "        \n",
    "        emb2 = self.conv_layer2(item_emb)\n",
    "        emb2 = tf.reduce_mean(emb2, axis=2)\n",
    "        \n",
    "        emb3 = tf.reduce_mean(item_emb, axis=1)\n",
    "        \n",
    "        emb = tf.concat([emb1, emb2, emb3], axis=1)\n",
    "        emb = self.fc_layer(emb)\n",
    "        return emb"
   ]
  },
  {
   "cell_type": "code",
   "execution_count": 236,
   "metadata": {},
   "outputs": [],
   "source": [
    "class TextEncoder(Model):\n",
    "    def __init__(self):\n",
    "        super(TextEncoder, self).__init__()  # техническая штука ООП \n",
    "        \n",
    "        self.encoder1 = ItemEncoder()\n",
    "        self.encoder2 = ItemEncoder()\n",
    "        self.fc_layer = L.Dense(2, activation=tf.nn.softmax)\n",
    "        \n",
    "    def call(self, title, text):\n",
    "        \n",
    "        text_emb = self.encoder1(text)\n",
    "        title_emb = self.encoder2(title)\n",
    "        \n",
    "        emb = tf.concat([text_emb, title_emb], axis=1)\n",
    "        emb = self.fc_layer(emb)\n",
    "        \n",
    "        return emb"
   ]
  },
  {
   "cell_type": "code",
   "execution_count": 237,
   "metadata": {},
   "outputs": [],
   "source": [
    "encoder = TextEncoder()"
   ]
  },
  {
   "cell_type": "code",
   "execution_count": 238,
   "metadata": {},
   "outputs": [
    {
     "data": {
      "text/plain": [
       "<tf.Tensor: id=2269, shape=(3, 2), dtype=float32, numpy=\n",
       "array([[0.58631694, 0.4136831 ],\n",
       "       [0.53310627, 0.46689376],\n",
       "       [0.54703295, 0.45296708]], dtype=float32)>"
      ]
     },
     "execution_count": 238,
     "metadata": {},
     "output_type": "execute_result"
    }
   ],
   "source": [
    "encoder(title_ex, text_ex)"
   ]
  },
  {
   "cell_type": "code",
   "execution_count": 239,
   "metadata": {},
   "outputs": [
    {
     "data": {
      "text/plain": [
       "14"
      ]
     },
     "execution_count": 239,
     "metadata": {},
     "output_type": "execute_result"
    }
   ],
   "source": [
    "len(encoder.trainable_variables)"
   ]
  },
  {
   "cell_type": "code",
   "execution_count": 240,
   "metadata": {},
   "outputs": [
    {
     "data": {
      "text/plain": [
       "<tf.Tensor: id=2279, shape=(), dtype=float64, numpy=0.9485599924429406>"
      ]
     },
     "execution_count": 240,
     "metadata": {},
     "output_type": "execute_result"
    }
   ],
   "source": [
    "def logloss(p, y):\n",
    "    return tf.reduce_mean(-1*tf.reduce_sum(y*tf.math.log(p), axis=1), axis=0)\n",
    "\n",
    "p = np.array([[0.5,0.5],[0.7,0.3]])\n",
    "y = np.array([[1.,0.],[0.,1.]])\n",
    "\n",
    "logloss(p, y)"
   ]
  },
  {
   "cell_type": "code",
   "execution_count": 241,
   "metadata": {},
   "outputs": [],
   "source": [
    "opt = tf.optimizers.SGD(learning_rate=0.001)"
   ]
  },
  {
   "cell_type": "code",
   "execution_count": 242,
   "metadata": {},
   "outputs": [],
   "source": [
    "def model_train(title_ex, text_ex, y_ex):\n",
    "    \n",
    "    with tf.GradientTape() as g:\n",
    "        pred = encoder(title_ex, text_ex)\n",
    "        loss = logloss(pred, y_ex)\n",
    "        \n",
    "    gradients = g.gradient(loss, encoder.trainable_variables)\n",
    "    opt.apply_gradients(zip(gradients, encoder.trainable_variables))"
   ]
  },
  {
   "cell_type": "code",
   "execution_count": 244,
   "metadata": {},
   "outputs": [],
   "source": [
    "model_train(title_ex, text_ex, y_ex)"
   ]
  },
  {
   "cell_type": "code",
   "execution_count": 248,
   "metadata": {},
   "outputs": [
    {
     "name": "stdout",
     "output_type": "stream",
     "text": [
      "Эпоха 0, качество 0.5679793357849121\n",
      "Эпоха 1, качество 0.5667052268981934\n",
      "Эпоха 2, качество 0.5654342770576477\n",
      "Эпоха 3, качество 0.5641661286354065\n",
      "Эпоха 4, качество 0.5629040598869324\n"
     ]
    }
   ],
   "source": [
    "epochs = 5\n",
    "\n",
    "for i in range(epochs):\n",
    "    \n",
    "    # генератор батчей \n",
    "    \n",
    "    # обучение делаем на батчах \n",
    "    model_train(title_ex, text_ex, y_ex)\n",
    "    \n",
    "    # качество смотрим на валидации\n",
    "    y_pred = encoder(title_ex, text_ex)\n",
    "    print(f\"Эпоха {i}, качество {logloss(y_pred, y_ex).numpy()}\")"
   ]
  },
  {
   "cell_type": "code",
   "execution_count": null,
   "metadata": {},
   "outputs": [],
   "source": []
  },
  {
   "cell_type": "code",
   "execution_count": null,
   "metadata": {},
   "outputs": [],
   "source": []
  },
  {
   "cell_type": "code",
   "execution_count": null,
   "metadata": {},
   "outputs": [],
   "source": []
  }
 ],
 "metadata": {
  "kernelspec": {
   "display_name": "Python 3",
   "language": "python",
   "name": "python3"
  },
  "language_info": {
   "codemirror_mode": {
    "name": "ipython",
    "version": 3
   },
   "file_extension": ".py",
   "mimetype": "text/x-python",
   "name": "python",
   "nbconvert_exporter": "python",
   "pygments_lexer": "ipython3",
   "version": "3.7.2"
  }
 },
 "nbformat": 4,
 "nbformat_minor": 2
}
