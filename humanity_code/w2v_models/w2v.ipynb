{
 "cells": [
  {
   "cell_type": "markdown",
   "metadata": {},
   "source": [
    "# Предобработка текста"
   ]
  },
  {
   "cell_type": "code",
   "execution_count": 1,
   "metadata": {},
   "outputs": [
    {
     "name": "stdout",
     "output_type": "stream",
     "text": [
      "/Users/fulyankin/Documents/massResearch_houses/humanity_code\n"
     ]
    }
   ],
   "source": [
    "cd ../"
   ]
  },
  {
   "cell_type": "code",
   "execution_count": 2,
   "metadata": {},
   "outputs": [],
   "source": [
    "import pandas as pd\n",
    "import numpy as np\n",
    "import matplotlib.pyplot as plt\n",
    "import seaborn as sns\n",
    "plt.style.use('ggplot')"
   ]
  },
  {
   "cell_type": "code",
   "execution_count": 3,
   "metadata": {},
   "outputs": [
    {
     "name": "stdout",
     "output_type": "stream",
     "text": [
      "3.8.0\n"
     ]
    }
   ],
   "source": [
    "import gensim \n",
    "print(gensim.__version__)\n",
    "\n",
    "from gensim.models.word2vec import Word2Vec"
   ]
  },
  {
   "cell_type": "code",
   "execution_count": 6,
   "metadata": {},
   "outputs": [],
   "source": [
    "from texts import parallel_prepare_text, prepare_text, tag_mystem"
   ]
  },
  {
   "cell_type": "code",
   "execution_count": 5,
   "metadata": {},
   "outputs": [],
   "source": [
    "dff = pd.read_csv('cian_data_v1.csv', sep='\\t')\n",
    "T = dff[\"описание\"].values"
   ]
  },
  {
   "cell_type": "markdown",
   "metadata": {},
   "source": [
    "## Лемматизация "
   ]
  },
  {
   "cell_type": "code",
   "execution_count": null,
   "metadata": {},
   "outputs": [
    {
     "name": "stderr",
     "output_type": "stream",
     "text": [
      " 94%|█████████▍| 34/36 [04:37<00:14,  7.49s/it]"
     ]
    }
   ],
   "source": [
    "T_lemm = parallel_prepare_text(T, prepare_text)"
   ]
  },
  {
   "cell_type": "code",
   "execution_count": 13,
   "metadata": {},
   "outputs": [],
   "source": [
    "!touch description_lemm.txt"
   ]
  },
  {
   "cell_type": "code",
   "execution_count": 14,
   "metadata": {},
   "outputs": [],
   "source": [
    "f = open('description_lemm.txt', \"w\")\n",
    "\n",
    "for line in T_lemm:\n",
    "    f.write(' '.join(line) + '\\n')\n",
    "    \n",
    "f.close() "
   ]
  },
  {
   "cell_type": "code",
   "execution_count": 15,
   "metadata": {},
   "outputs": [
    {
     "name": "stdout",
     "output_type": "stream",
     "text": [
      "очень уютный красивый квартира хороший ремонт встроить кухня весь инфраструктура шаговый доступность полный стоимость договор торг\r\n"
     ]
    }
   ],
   "source": [
    "!head -n 1 description_lemm.txt"
   ]
  },
  {
   "cell_type": "code",
   "execution_count": 18,
   "metadata": {},
   "outputs": [
    {
     "data": {
      "text/plain": [
       "35109"
      ]
     },
     "execution_count": 18,
     "metadata": {},
     "output_type": "execute_result"
    }
   ],
   "source": [
    "f =  open('description_lemm.txt', \"r\")\n",
    "x = f.readlines()\n",
    "f.close()\n",
    "\n",
    "len(x)"
   ]
  },
  {
   "cell_type": "markdown",
   "metadata": {},
   "source": [
    "## Тэгирование "
   ]
  },
  {
   "cell_type": "code",
   "execution_count": 7,
   "metadata": {},
   "outputs": [
    {
     "name": "stderr",
     "output_type": "stream",
     "text": [
      "100%|██████████| 36/36 [01:19<00:00,  2.20s/it]\n"
     ]
    }
   ],
   "source": [
    "T_lemm = parallel_prepare_text(T, tag_mystem)"
   ]
  },
  {
   "cell_type": "code",
   "execution_count": 9,
   "metadata": {},
   "outputs": [],
   "source": [
    "!touch description_tag.txt"
   ]
  },
  {
   "cell_type": "code",
   "execution_count": 14,
   "metadata": {},
   "outputs": [],
   "source": [
    "f = open('description_tag.txt', \"w\")\n",
    "\n",
    "for line in T_lemm:\n",
    "    f.write(' '.join(line) + '\\n')\n",
    "    \n",
    "f.close() "
   ]
  },
  {
   "cell_type": "code",
   "execution_count": 16,
   "metadata": {},
   "outputs": [
    {
     "name": "stdout",
     "output_type": "stream",
     "text": [
      "очень_ADV уютный_ADJ красивый_ADJ квартира_NOUN хороший_ADJ ремонт_NOUN встраивать_VERB кухня_NOUN весь_DET инфраструктура_NOUN в_ADP шаговый_ADJ доступность_NOUN полный_ADJ стоимость_NOUN в_ADP договор_NOUN торг_NOUN\r\n"
     ]
    }
   ],
   "source": [
    "!head -n 1 description_tag.txt"
   ]
  },
  {
   "cell_type": "code",
   "execution_count": 17,
   "metadata": {},
   "outputs": [
    {
     "data": {
      "text/plain": [
       "35109"
      ]
     },
     "execution_count": 17,
     "metadata": {},
     "output_type": "execute_result"
    }
   ],
   "source": [
    "f =  open('description_tag.txt', \"r\")\n",
    "x = f.readlines()\n",
    "f.close()\n",
    "len(x)"
   ]
  },
  {
   "cell_type": "markdown",
   "metadata": {},
   "source": [
    "# Обучение w2v "
   ]
  },
  {
   "cell_type": "code",
   "execution_count": 25,
   "metadata": {},
   "outputs": [],
   "source": [
    "T_lemm = [x.split(\" \") for x in T_lemm]"
   ]
  },
  {
   "cell_type": "code",
   "execution_count": 26,
   "metadata": {},
   "outputs": [
    {
     "data": {
      "text/plain": [
       "(0, 0)"
      ]
     },
     "execution_count": 26,
     "metadata": {},
     "output_type": "execute_result"
    }
   ],
   "source": [
    "model = Word2Vec(size=300, window=2, min_count=3, workers=-1)\n",
    "model.build_vocab(T_lemm)\n",
    "model.train(T_lemm, total_examples=model.corpus_count, epochs=1000)"
   ]
  },
  {
   "cell_type": "code",
   "execution_count": 36,
   "metadata": {},
   "outputs": [],
   "source": [
    "#model.save('Ivanw2v.bin')"
   ]
  },
  {
   "cell_type": "code",
   "execution_count": 29,
   "metadata": {},
   "outputs": [
    {
     "data": {
      "text/plain": [
       "[('инфоаструктура', 0.23434817790985107),\n",
       " ('есенин', 0.22186075150966644),\n",
       " ('увлажнить', 0.21443741023540497),\n",
       " ('кубанский', 0.20375016331672668),\n",
       " ('музейный', 0.19780336320400238),\n",
       " ('интерьерный', 0.1858503520488739),\n",
       " ('2.65м', 0.18252192437648773),\n",
       " ('медпункт', 0.18231607973575592),\n",
       " ('черёмушка', 0.1822584867477417),\n",
       " ('москва2020', 0.18039485812187195)]"
      ]
     },
     "execution_count": 29,
     "metadata": {},
     "output_type": "execute_result"
    }
   ],
   "source": [
    "model.wv.most_similar('квартира')"
   ]
  },
  {
   "cell_type": "code",
   "execution_count": 33,
   "metadata": {},
   "outputs": [
    {
     "data": {
      "text/plain": [
       "7"
      ]
     },
     "execution_count": 33,
     "metadata": {},
     "output_type": "execute_result"
    }
   ],
   "source": [
    "cnt['инфоаструктура']"
   ]
  },
  {
   "cell_type": "code",
   "execution_count": 35,
   "metadata": {},
   "outputs": [
    {
     "data": {
      "text/plain": [
       "17162"
      ]
     },
     "execution_count": 35,
     "metadata": {},
     "output_type": "execute_result"
    }
   ],
   "source": [
    "cnt['инфраструктура']"
   ]
  },
  {
   "cell_type": "code",
   "execution_count": 34,
   "metadata": {},
   "outputs": [
    {
     "data": {
      "text/plain": [
       "[('квартира', 65691),\n",
       " ('дом', 42810),\n",
       " ('детский', 26645),\n",
       " ('комплекс', 23858),\n",
       " ('метро', 20032),\n",
       " ('комната', 19648),\n",
       " ('окно', 18379),\n",
       " ('этаж', 18366),\n",
       " ('доступность', 18027),\n",
       " ('двор', 18024),\n",
       " ('школа', 17791),\n",
       " ('сад', 17302),\n",
       " ('район', 17299),\n",
       " ('инфраструктура', 17162),\n",
       " ('минута', 16831),\n",
       " ('территория', 15631),\n",
       " ('продаваться', 15534),\n",
       " ('расположить', 15305),\n",
       " ('жк', 15293),\n",
       " ('площадь', 14681)]"
      ]
     },
     "execution_count": 34,
     "metadata": {},
     "output_type": "execute_result"
    }
   ],
   "source": [
    "from collections import Counter\n",
    "cnt = Counter([item for sublist in T_lemm for item in sublist])\n",
    "cnt.most_common()[:20]"
   ]
  },
  {
   "cell_type": "markdown",
   "metadata": {},
   "source": [
    "# Распаковка w2v "
   ]
  },
  {
   "cell_type": "code",
   "execution_count": 45,
   "metadata": {},
   "outputs": [],
   "source": [
    "from tqdm import tqdm"
   ]
  },
  {
   "cell_type": "code",
   "execution_count": 41,
   "metadata": {},
   "outputs": [],
   "source": [
    "# w2v_model = model\n",
    "\n",
    "MODEL_PATH = \"./Ivanw2v.bin\"\n",
    "w2v_model = gensim.models.KeyedVectors.load_word2vec_format(MODEL_PATH, binary=True)"
   ]
  },
  {
   "cell_type": "code",
   "execution_count": null,
   "metadata": {},
   "outputs": [],
   "source": [
    "w2v_model.wv.get_vector(\"путин_NOUN\")[:5]"
   ]
  },
  {
   "cell_type": "code",
   "execution_count": 47,
   "metadata": {},
   "outputs": [
    {
     "name": "stderr",
     "output_type": "stream",
     "text": [
      "15203it [00:00, 158635.71it/s]\n"
     ]
    }
   ],
   "source": [
    "d = w2v_model.vector_size\n",
    "V = len(w2v_model.wv.vocab) + 2\n",
    "\n",
    "# \"#UNK\" для неизвестных слов\n",
    "# \"#PAD\" заглушки, чтобы были одинаковые размерности у матриц\n",
    "\n",
    "# Мама мыла раму \n",
    "# Филипп закомитил код на гитхаб  \n",
    "\n",
    "# Мама мыла раму  #PAD  #PAD\n",
    "# #UNK закомитил код на #UNK\n",
    "\n",
    "word2index = {\"#UNK\": 0, \"#PAD\":1}\n",
    "\n",
    "embedding = np.zeros((V, d))\n",
    "\n",
    "for i,word in tqdm(enumerate(w2v_model.wv.vocab.keys())):\n",
    "    word2index[word] = i + 2\n",
    "    embedding[i+2] = w2v_model.wv.get_vector(word)\n",
    "    \n",
    "assert embedding.shape == (V, d)\n",
    "assert len(word2index) == V"
   ]
  },
  {
   "cell_type": "code",
   "execution_count": 48,
   "metadata": {},
   "outputs": [],
   "source": [
    "np.save(\"embedding.npy\", embedding)"
   ]
  },
  {
   "cell_type": "code",
   "execution_count": 49,
   "metadata": {},
   "outputs": [],
   "source": [
    "import pickle \n",
    "\n",
    "with open(\"word2index.pickle\", \"wb\") as f:\n",
    "    pickle.dump(word2index, f)"
   ]
  },
  {
   "cell_type": "markdown",
   "metadata": {},
   "source": [
    "  "
   ]
  }
 ],
 "metadata": {
  "kernelspec": {
   "display_name": "Python 3",
   "language": "python",
   "name": "python3"
  },
  "language_info": {
   "codemirror_mode": {
    "name": "ipython",
    "version": 3
   },
   "file_extension": ".py",
   "mimetype": "text/x-python",
   "name": "python",
   "nbconvert_exporter": "python",
   "pygments_lexer": "ipython3",
   "version": "3.7.2"
  }
 },
 "nbformat": 4,
 "nbformat_minor": 2
}
