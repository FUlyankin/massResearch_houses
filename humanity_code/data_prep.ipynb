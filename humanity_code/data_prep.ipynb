{
 "cells": [
  {
   "cell_type": "markdown",
   "metadata": {},
   "source": [
    "# Подгрузка"
   ]
  },
  {
   "cell_type": "code",
   "execution_count": 11,
   "metadata": {},
   "outputs": [
    {
     "data": {
      "text/plain": [
       "46"
      ]
     },
     "execution_count": 11,
     "metadata": {},
     "output_type": "execute_result"
    }
   ],
   "source": [
    "import pickle\n",
    "import os\n",
    "\n",
    "path_to_directory = '../week06_prepare/parser/data'\n",
    "files =  os.listdir(path_to_directory)\n",
    "\n",
    "files = [item for item in files if '.pickle' in item]\n",
    "len(files)"
   ]
  },
  {
   "cell_type": "code",
   "execution_count": 12,
   "metadata": {},
   "outputs": [],
   "source": [
    "data_real = [ ]\n",
    "\n",
    "for file in files:\n",
    "    with open('../week06_prepare/parser/data/' + file, 'rb') as f:\n",
    "        data_new = pickle.load(f)\n",
    "        data_real.extend(data_new)"
   ]
  },
  {
   "cell_type": "markdown",
   "metadata": {},
   "source": [
    "# Предобработка данных"
   ]
  },
  {
   "cell_type": "code",
   "execution_count": 13,
   "metadata": {},
   "outputs": [],
   "source": [
    "import pandas as pd\n",
    "import seaborn as sns\n",
    "import matplotlib.pyplot as plt\n",
    "\n",
    "plt.style.use('ggplot')\n",
    "%matplotlib inline"
   ]
  },
  {
   "cell_type": "code",
   "execution_count": 14,
   "metadata": {},
   "outputs": [
    {
     "name": "stdout",
     "output_type": "stream",
     "text": [
      "(35109, 40)\n"
     ]
    },
    {
     "data": {
      "text/html": [
       "<div>\n",
       "<style scoped>\n",
       "    .dataframe tbody tr th:only-of-type {\n",
       "        vertical-align: middle;\n",
       "    }\n",
       "\n",
       "    .dataframe tbody tr th {\n",
       "        vertical-align: top;\n",
       "    }\n",
       "\n",
       "    .dataframe thead th {\n",
       "        text-align: right;\n",
       "    }\n",
       "</style>\n",
       "<table border=\"1\" class=\"dataframe\">\n",
       "  <thead>\n",
       "    <tr style=\"text-align: right;\">\n",
       "      <th></th>\n",
       "      <th>Тип жилья</th>\n",
       "      <th>Площадь комнат</th>\n",
       "      <th>Санузел</th>\n",
       "      <th>Балкон/лоджия</th>\n",
       "      <th>Ремонт</th>\n",
       "      <th>Вид из окон</th>\n",
       "      <th>Год постройки</th>\n",
       "      <th>Тип дома</th>\n",
       "      <th>Тип перекрытий</th>\n",
       "      <th>Подъезды</th>\n",
       "      <th>...</th>\n",
       "      <th>Планировка</th>\n",
       "      <th>Газоснабжение</th>\n",
       "      <th>Строительная серия</th>\n",
       "      <th>Отделка</th>\n",
       "      <th>Срок сдачи</th>\n",
       "      <th>Комнат в продажу</th>\n",
       "      <th>Всего комнат в квартире</th>\n",
       "      <th>Площадь комнаты</th>\n",
       "      <th>Комната</th>\n",
       "      <th>Размер доли</th>\n",
       "    </tr>\n",
       "  </thead>\n",
       "  <tbody>\n",
       "    <tr>\n",
       "      <th>0</th>\n",
       "      <td>Вторичка</td>\n",
       "      <td>21-14-11 м²</td>\n",
       "      <td>1 раздельный</td>\n",
       "      <td>1 лоджия</td>\n",
       "      <td>Евроремонт</td>\n",
       "      <td>Во двор</td>\n",
       "      <td>2002</td>\n",
       "      <td>Монолитный</td>\n",
       "      <td>Железобетонные</td>\n",
       "      <td>5</td>\n",
       "      <td>...</td>\n",
       "      <td>NaN</td>\n",
       "      <td>NaN</td>\n",
       "      <td>NaN</td>\n",
       "      <td>NaN</td>\n",
       "      <td>NaN</td>\n",
       "      <td>NaN</td>\n",
       "      <td>NaN</td>\n",
       "      <td>NaN</td>\n",
       "      <td>NaN</td>\n",
       "      <td>NaN</td>\n",
       "    </tr>\n",
       "    <tr>\n",
       "      <th>1</th>\n",
       "      <td>Вторичка</td>\n",
       "      <td>NaN</td>\n",
       "      <td>2 совмещенных</td>\n",
       "      <td>1 балкон</td>\n",
       "      <td>Без ремонта</td>\n",
       "      <td>NaN</td>\n",
       "      <td>2017</td>\n",
       "      <td>Монолитный</td>\n",
       "      <td>Железобетонные</td>\n",
       "      <td>2</td>\n",
       "      <td>...</td>\n",
       "      <td>NaN</td>\n",
       "      <td>NaN</td>\n",
       "      <td>NaN</td>\n",
       "      <td>NaN</td>\n",
       "      <td>NaN</td>\n",
       "      <td>NaN</td>\n",
       "      <td>NaN</td>\n",
       "      <td>NaN</td>\n",
       "      <td>NaN</td>\n",
       "      <td>NaN</td>\n",
       "    </tr>\n",
       "    <tr>\n",
       "      <th>2</th>\n",
       "      <td>Вторичка</td>\n",
       "      <td>43-16-26-14-14 м²</td>\n",
       "      <td>1 раздельный</td>\n",
       "      <td>1 балкон, 1 лоджия</td>\n",
       "      <td>Дизайнерский</td>\n",
       "      <td>На улицу и двор</td>\n",
       "      <td>1933</td>\n",
       "      <td>Кирпичный</td>\n",
       "      <td>Железобетонные</td>\n",
       "      <td>24</td>\n",
       "      <td>...</td>\n",
       "      <td>Изолированная</td>\n",
       "      <td>NaN</td>\n",
       "      <td>NaN</td>\n",
       "      <td>NaN</td>\n",
       "      <td>NaN</td>\n",
       "      <td>NaN</td>\n",
       "      <td>NaN</td>\n",
       "      <td>NaN</td>\n",
       "      <td>NaN</td>\n",
       "      <td>NaN</td>\n",
       "    </tr>\n",
       "    <tr>\n",
       "      <th>3</th>\n",
       "      <td>Вторичка</td>\n",
       "      <td>13,4-18,5-18,7 м²</td>\n",
       "      <td>1 совмещенный</td>\n",
       "      <td>1 балкон</td>\n",
       "      <td>Евроремонт</td>\n",
       "      <td>На улицу и двор</td>\n",
       "      <td>1958</td>\n",
       "      <td>Кирпичный</td>\n",
       "      <td>Железобетонные</td>\n",
       "      <td>6</td>\n",
       "      <td>...</td>\n",
       "      <td>Изолированная</td>\n",
       "      <td>Центральное</td>\n",
       "      <td>NaN</td>\n",
       "      <td>NaN</td>\n",
       "      <td>NaN</td>\n",
       "      <td>NaN</td>\n",
       "      <td>NaN</td>\n",
       "      <td>NaN</td>\n",
       "      <td>NaN</td>\n",
       "      <td>NaN</td>\n",
       "    </tr>\n",
       "    <tr>\n",
       "      <th>4</th>\n",
       "      <td>Вторичка Апартаменты</td>\n",
       "      <td>NaN</td>\n",
       "      <td>2 раздельных</td>\n",
       "      <td>1 балкон</td>\n",
       "      <td>Дизайнерский</td>\n",
       "      <td>Во двор</td>\n",
       "      <td>2014</td>\n",
       "      <td>Монолитный</td>\n",
       "      <td>NaN</td>\n",
       "      <td>NaN</td>\n",
       "      <td>...</td>\n",
       "      <td>Изолированная</td>\n",
       "      <td>NaN</td>\n",
       "      <td>NaN</td>\n",
       "      <td>NaN</td>\n",
       "      <td>NaN</td>\n",
       "      <td>NaN</td>\n",
       "      <td>NaN</td>\n",
       "      <td>NaN</td>\n",
       "      <td>NaN</td>\n",
       "      <td>NaN</td>\n",
       "    </tr>\n",
       "  </tbody>\n",
       "</table>\n",
       "<p>5 rows × 40 columns</p>\n",
       "</div>"
      ],
      "text/plain": [
       "              Тип жилья     Площадь комнат        Санузел       Балкон/лоджия  \\\n",
       "0              Вторичка        21-14-11 м²   1 раздельный            1 лоджия   \n",
       "1              Вторичка                NaN  2 совмещенных            1 балкон   \n",
       "2              Вторичка  43-16-26-14-14 м²   1 раздельный  1 балкон, 1 лоджия   \n",
       "3              Вторичка  13,4-18,5-18,7 м²  1 совмещенный            1 балкон   \n",
       "4  Вторичка Апартаменты                NaN   2 раздельных            1 балкон   \n",
       "\n",
       "         Ремонт      Вид из окон Год постройки    Тип дома  Тип перекрытий  \\\n",
       "0    Евроремонт          Во двор          2002  Монолитный  Железобетонные   \n",
       "1   Без ремонта              NaN          2017  Монолитный  Железобетонные   \n",
       "2  Дизайнерский  На улицу и двор          1933   Кирпичный  Железобетонные   \n",
       "3    Евроремонт  На улицу и двор          1958   Кирпичный  Железобетонные   \n",
       "4  Дизайнерский          Во двор          2014  Монолитный             NaN   \n",
       "\n",
       "  Подъезды  ...     Планировка Газоснабжение Строительная серия Отделка  \\\n",
       "0        5  ...            NaN           NaN                NaN     NaN   \n",
       "1        2  ...            NaN           NaN                NaN     NaN   \n",
       "2       24  ...  Изолированная           NaN                NaN     NaN   \n",
       "3        6  ...  Изолированная   Центральное                NaN     NaN   \n",
       "4      NaN  ...  Изолированная           NaN                NaN     NaN   \n",
       "\n",
       "  Срок сдачи  Комнат в продажу Всего комнат в квартире Площадь комнаты  \\\n",
       "0        NaN               NaN                     NaN             NaN   \n",
       "1        NaN               NaN                     NaN             NaN   \n",
       "2        NaN               NaN                     NaN             NaN   \n",
       "3        NaN               NaN                     NaN             NaN   \n",
       "4        NaN               NaN                     NaN             NaN   \n",
       "\n",
       "  Комната Размер доли  \n",
       "0     NaN         NaN  \n",
       "1     NaN         NaN  \n",
       "2     NaN         NaN  \n",
       "3     NaN         NaN  \n",
       "4     NaN         NaN  \n",
       "\n",
       "[5 rows x 40 columns]"
      ]
     },
     "execution_count": 14,
     "metadata": {},
     "output_type": "execute_result"
    }
   ],
   "source": [
    "df = pd.DataFrame(data_real)\n",
    "\n",
    "df = df.drop_duplicates(subset=['href'])\n",
    "print(df.shape)\n",
    "df.head()"
   ]
  },
  {
   "cell_type": "code",
   "execution_count": 15,
   "metadata": {},
   "outputs": [
    {
     "name": "stdout",
     "output_type": "stream",
     "text": [
      "<class 'pandas.core.frame.DataFrame'>\n",
      "Int64Index: 35109 entries, 0 to 56075\n",
      "Data columns (total 40 columns):\n",
      "Тип жилья                  35109 non-null object\n",
      "Площадь комнат             22946 non-null object\n",
      "Санузел                    30941 non-null object\n",
      "Балкон/лоджия              20907 non-null object\n",
      "Ремонт                     25126 non-null object\n",
      "Вид из окон                25229 non-null object\n",
      "Год постройки              24376 non-null object\n",
      "Тип дома                   26045 non-null object\n",
      "Тип перекрытий             22140 non-null object\n",
      "Подъезды                   23503 non-null object\n",
      "Лифты                      34196 non-null object\n",
      "Отопление                  22521 non-null object\n",
      "Аварийность                24631 non-null object\n",
      "Парковка                   16778 non-null object\n",
      "Мусоропровод               15772 non-null object\n",
      "цена                       35109 non-null int64\n",
      "описание                   35109 non-null object\n",
      "Общая                      35108 non-null object\n",
      "Жилая                      28731 non-null object\n",
      "Кухня                      28285 non-null object\n",
      "Этаж                       35109 non-null object\n",
      "Построен                   18583 non-null object\n",
      "адрес                      35109 non-null object\n",
      "метро                      35109 non-null object\n",
      "тайтл                      35109 non-null object\n",
      "lat                        35109 non-null object\n",
      "long                       35109 non-null object\n",
      "комментарий                460 non-null object\n",
      "href                       35109 non-null object\n",
      "Высота потолков            18413 non-null object\n",
      "Планировка                 13363 non-null object\n",
      "Газоснабжение              7471 non-null object\n",
      "Строительная серия         8295 non-null object\n",
      "Отделка                    4283 non-null object\n",
      "Срок сдачи                 6488 non-null object\n",
      "Комнат в продажу           6 non-null object\n",
      "Всего комнат в квартире    1 non-null object\n",
      "Площадь комнаты            1 non-null object\n",
      "Комната                    1 non-null object\n",
      "Размер доли                1 non-null object\n",
      "dtypes: int64(1), object(39)\n",
      "memory usage: 11.0+ MB\n"
     ]
    }
   ],
   "source": [
    "df.info()"
   ]
  },
  {
   "cell_type": "code",
   "execution_count": 16,
   "metadata": {},
   "outputs": [
    {
     "data": {
      "text/plain": [
       "(35109, 40)"
      ]
     },
     "execution_count": 16,
     "metadata": {},
     "output_type": "execute_result"
    }
   ],
   "source": [
    "df.shape"
   ]
  },
  {
   "cell_type": "code",
   "execution_count": 17,
   "metadata": {},
   "outputs": [
    {
     "data": {
      "image/png": "[encoded data removed]",
      "text/plain": [
       "<Figure size 432x288 with 1 Axes>"
      ]
     },
     "metadata": {
      "needs_background": "light"
     },
     "output_type": "display_data"
    }
   ],
   "source": [
    "df['цена'].hist(bins=50);"
   ]
  },
  {
   "cell_type": "code",
   "execution_count": 18,
   "metadata": {},
   "outputs": [
    {
     "data": {
      "image/png": "[encoded data removed]",
      "text/plain": [
       "<Figure size 432x288 with 1 Axes>"
      ]
     },
     "metadata": {
      "needs_background": "light"
     },
     "output_type": "display_data"
    }
   ],
   "source": [
    "import numpy as np\n",
    "df['цена'].apply(lambda w: np.log(w)).hist(bins=100);"
   ]
  },
  {
   "cell_type": "markdown",
   "metadata": {},
   "source": [
    "# Предобработка данных"
   ]
  },
  {
   "cell_type": "code",
   "execution_count": 19,
   "metadata": {},
   "outputs": [
    {
     "name": "stdout",
     "output_type": "stream",
     "text": [
      "(35109, 40)\n"
     ]
    },
    {
     "data": {
      "image/png": "[encoded data removed]",
      "text/plain": [
       "<Figure size 1080x576 with 2 Axes>"
      ]
     },
     "metadata": {
      "needs_background": "light"
     },
     "output_type": "display_data"
    }
   ],
   "source": [
    "df = pd.DataFrame(data_real)\n",
    "\n",
    "df = df.drop_duplicates(subset=['href'])\n",
    "df.reset_index(drop=True, inplace=True)\n",
    "\n",
    "print(df.shape)\n",
    "\n",
    "dff = pd.DataFrame()  # тут хорошие данные\n",
    "\n",
    "plt.figure(figsize=(15,8))\n",
    "sns.heatmap(df.sample(1000).isnull());"
   ]
  },
  {
   "cell_type": "markdown",
   "metadata": {},
   "source": [
    "Выкидываем неинформативные признаки"
   ]
  },
  {
   "cell_type": "code",
   "execution_count": 20,
   "metadata": {},
   "outputs": [],
   "source": [
    "df.drop(['Аварийность', 'Комнат в продажу', 'Размер доли'], axis=1, inplace=True)\n",
    "\n",
    "# пока что выкинем их из рассмотрения, потом если чё вренём\n",
    "df.drop('Строительная серия', axis=1, inplace=True)"
   ]
  },
  {
   "cell_type": "markdown",
   "metadata": {},
   "source": [
    "1. Переменная попадает ли дом на реиновацию"
   ]
  },
  {
   "cell_type": "code",
   "execution_count": 21,
   "metadata": {},
   "outputs": [
    {
     "data": {
      "text/plain": [
       "array([None,\n",
       "       'Дом под сносПо результатам голосования жильцов дом включен в программу реновации и будет снесен'],\n",
       "      dtype=object)"
      ]
     },
     "execution_count": 21,
     "metadata": {},
     "output_type": "execute_result"
    }
   ],
   "source": [
    "df['комментарий'].unique()"
   ]
  },
  {
   "cell_type": "code",
   "execution_count": 22,
   "metadata": {},
   "outputs": [],
   "source": [
    "dff['is_reinovation'] = (1 - df['комментарий'].isnull())"
   ]
  },
  {
   "cell_type": "markdown",
   "metadata": {},
   "source": [
    "2. Категориальные переменные"
   ]
  },
  {
   "cell_type": "code",
   "execution_count": 23,
   "metadata": {},
   "outputs": [],
   "source": [
    "tradeoff = 0.02*df.shape[0]"
   ]
  },
  {
   "cell_type": "code",
   "execution_count": 24,
   "metadata": {},
   "outputs": [
    {
     "data": {
      "text/plain": [
       "'1'"
      ]
     },
     "execution_count": 24,
     "metadata": {},
     "output_type": "execute_result"
    }
   ],
   "source": [
    "import re\n",
    "\n",
    "def f_create(reg):\n",
    "    def f(w):\n",
    "        if w is np.nan:\n",
    "            return np.nan\n",
    "        else:\n",
    "            x = re.findall(reg, w)\n",
    "            if len(x) == 0:\n",
    "                return np.nan\n",
    "            else:\n",
    "                return str(x[0]) \n",
    "    return f\n",
    "\n",
    "# пример работы фабрики функций\n",
    "f = f_create('(\\d) л')\n",
    "f('1 балкон, 1 лоджия')"
   ]
  },
  {
   "cell_type": "code",
   "execution_count": 25,
   "metadata": {
    "scrolled": true
   },
   "outputs": [
    {
     "data": {
      "text/plain": [
       "Index(['Тип жилья', 'Площадь комнат', 'Санузел', 'Балкон/лоджия', 'Ремонт',\n",
       "       'Вид из окон', 'Год постройки', 'Тип дома', 'Тип перекрытий',\n",
       "       'Подъезды', 'Лифты', 'Отопление', 'Парковка', 'Мусоропровод', 'цена',\n",
       "       'описание', 'Общая', 'Жилая', 'Кухня', 'Этаж', 'Построен', 'адрес',\n",
       "       'метро', 'тайтл', 'lat', 'long', 'комментарий', 'href',\n",
       "       'Высота потолков', 'Планировка', 'Газоснабжение', 'Отделка',\n",
       "       'Срок сдачи', 'Всего комнат в квартире', 'Площадь комнаты', 'Комната'],\n",
       "      dtype='object')"
      ]
     },
     "execution_count": 25,
     "metadata": {},
     "output_type": "execute_result"
    }
   ],
   "source": [
    "df.columns"
   ]
  },
  {
   "cell_type": "code",
   "execution_count": 26,
   "metadata": {},
   "outputs": [],
   "source": [
    "df['балконы'] = df['Балкон/лоджия'].apply(f_create('(\\d) б'))\n",
    "df['лоджии'] = df['Балкон/лоджия'].apply(f_create('(\\d) л'))\n",
    "\n",
    "df['санузлы_раздельные'] = df['Санузел'].apply(f_create('(\\d) р'))\n",
    "df['санузлы_совместные'] = df['Санузел'].apply(f_create('(\\d) с'))\n",
    "\n",
    "df['лифты_пас'] = df['Лифты'].apply(f_create('(\\d) п'))\n",
    "df['лифты_гр'] = df['Лифты'].apply(f_create('(\\d) г'))\n",
    "\n",
    "# df[['Балкон/лоджия', 'балконы','лоджии']].sample(10)\n",
    "df.drop(['Балкон/лоджия', 'Санузел', 'Лифты'], axis=1, inplace=True)"
   ]
  },
  {
   "cell_type": "code",
   "execution_count": 27,
   "metadata": {},
   "outputs": [],
   "source": [
    "df['комнаты'] = df['тайтл'].apply(lambda w: w.split(' ')[0])\n",
    "df['комнаты'] = df['комнаты'].apply(lambda w: re.findall('\\d',w)[0] if len(re.findall('\\d',w))!=0 else \"другое\")"
   ]
  },
  {
   "cell_type": "code",
   "execution_count": 28,
   "metadata": {},
   "outputs": [
    {
     "data": {
      "text/plain": [
       "2         10385\n",
       "3         10080\n",
       "1          7134\n",
       "4          3979\n",
       "другое     1899\n",
       "5          1632\n",
       "Name: комнаты, dtype: int64"
      ]
     },
     "execution_count": 28,
     "metadata": {},
     "output_type": "execute_result"
    }
   ],
   "source": [
    "df.комнаты.value_counts()"
   ]
  },
  {
   "cell_type": "markdown",
   "metadata": {},
   "source": [
    "Теперь считаем частоты!        "
   ]
  },
  {
   "cell_type": "code",
   "execution_count": 29,
   "metadata": {},
   "outputs": [],
   "source": [
    "var_cat = ['Отделка', 'Газоснабжение',\n",
    "            'Планировка', 'Мусоропровод', 'Парковка',\n",
    "            'Тип перекрытий', 'Отопление', 'Вид из окон',\n",
    "            'Ремонт', 'Тип дома', 'Тип жилья',\n",
    "            'балконы', 'лоджии',   'санузлы_раздельные',\n",
    "            'санузлы_совместные', 'лифты_пас', 'лифты_гр',\n",
    "            'комнаты'] "
   ]
  },
  {
   "cell_type": "code",
   "execution_count": 30,
   "metadata": {},
   "outputs": [],
   "source": [
    "def freq_less_trade(x):\n",
    "    freq = df[x].value_counts()\n",
    "    bad_value = freq[freq < tradeoff].index\n",
    "    df[x] = df[x].apply(lambda w: 'другое' if w in bad_value else w)\n",
    "\n",
    "for x in var_cat:\n",
    "    freq_less_trade(x)"
   ]
  },
  {
   "cell_type": "code",
   "execution_count": 31,
   "metadata": {},
   "outputs": [
    {
     "data": {
      "text/html": [
       "<div>\n",
       "<style scoped>\n",
       "    .dataframe tbody tr th:only-of-type {\n",
       "        vertical-align: middle;\n",
       "    }\n",
       "\n",
       "    .dataframe tbody tr th {\n",
       "        vertical-align: top;\n",
       "    }\n",
       "\n",
       "    .dataframe thead th {\n",
       "        text-align: right;\n",
       "    }\n",
       "</style>\n",
       "<table border=\"1\" class=\"dataframe\">\n",
       "  <thead>\n",
       "    <tr style=\"text-align: right;\">\n",
       "      <th></th>\n",
       "      <th>Тип жилья</th>\n",
       "      <th>Площадь комнат</th>\n",
       "      <th>Ремонт</th>\n",
       "      <th>Вид из окон</th>\n",
       "      <th>Год постройки</th>\n",
       "      <th>Тип дома</th>\n",
       "      <th>Тип перекрытий</th>\n",
       "      <th>Подъезды</th>\n",
       "      <th>Отопление</th>\n",
       "      <th>Парковка</th>\n",
       "      <th>...</th>\n",
       "      <th>Всего комнат в квартире</th>\n",
       "      <th>Площадь комнаты</th>\n",
       "      <th>Комната</th>\n",
       "      <th>балконы</th>\n",
       "      <th>лоджии</th>\n",
       "      <th>санузлы_раздельные</th>\n",
       "      <th>санузлы_совместные</th>\n",
       "      <th>лифты_пас</th>\n",
       "      <th>лифты_гр</th>\n",
       "      <th>комнаты</th>\n",
       "    </tr>\n",
       "  </thead>\n",
       "  <tbody>\n",
       "    <tr>\n",
       "      <th>0</th>\n",
       "      <td>Вторичка</td>\n",
       "      <td>21-14-11 м²</td>\n",
       "      <td>Евроремонт</td>\n",
       "      <td>Во двор</td>\n",
       "      <td>2002</td>\n",
       "      <td>Монолитный</td>\n",
       "      <td>Железобетонные</td>\n",
       "      <td>5</td>\n",
       "      <td>Центральное</td>\n",
       "      <td>Подземная</td>\n",
       "      <td>...</td>\n",
       "      <td>NaN</td>\n",
       "      <td>NaN</td>\n",
       "      <td>NaN</td>\n",
       "      <td>NaN</td>\n",
       "      <td>1</td>\n",
       "      <td>1</td>\n",
       "      <td>NaN</td>\n",
       "      <td>2</td>\n",
       "      <td>1</td>\n",
       "      <td>3</td>\n",
       "    </tr>\n",
       "    <tr>\n",
       "      <th>1</th>\n",
       "      <td>Вторичка</td>\n",
       "      <td>NaN</td>\n",
       "      <td>Без ремонта</td>\n",
       "      <td>NaN</td>\n",
       "      <td>2017</td>\n",
       "      <td>Монолитный</td>\n",
       "      <td>Железобетонные</td>\n",
       "      <td>2</td>\n",
       "      <td>Центральное</td>\n",
       "      <td>NaN</td>\n",
       "      <td>...</td>\n",
       "      <td>NaN</td>\n",
       "      <td>NaN</td>\n",
       "      <td>NaN</td>\n",
       "      <td>1</td>\n",
       "      <td>NaN</td>\n",
       "      <td>NaN</td>\n",
       "      <td>2</td>\n",
       "      <td>NaN</td>\n",
       "      <td>NaN</td>\n",
       "      <td>2</td>\n",
       "    </tr>\n",
       "    <tr>\n",
       "      <th>2</th>\n",
       "      <td>Вторичка</td>\n",
       "      <td>43-16-26-14-14 м²</td>\n",
       "      <td>Дизайнерский</td>\n",
       "      <td>На улицу и двор</td>\n",
       "      <td>1933</td>\n",
       "      <td>Кирпичный</td>\n",
       "      <td>Железобетонные</td>\n",
       "      <td>24</td>\n",
       "      <td>Центральное</td>\n",
       "      <td>NaN</td>\n",
       "      <td>...</td>\n",
       "      <td>NaN</td>\n",
       "      <td>NaN</td>\n",
       "      <td>NaN</td>\n",
       "      <td>1</td>\n",
       "      <td>1</td>\n",
       "      <td>1</td>\n",
       "      <td>NaN</td>\n",
       "      <td>1</td>\n",
       "      <td>NaN</td>\n",
       "      <td>5</td>\n",
       "    </tr>\n",
       "    <tr>\n",
       "      <th>3</th>\n",
       "      <td>Вторичка</td>\n",
       "      <td>13,4-18,5-18,7 м²</td>\n",
       "      <td>Евроремонт</td>\n",
       "      <td>На улицу и двор</td>\n",
       "      <td>1958</td>\n",
       "      <td>Кирпичный</td>\n",
       "      <td>Железобетонные</td>\n",
       "      <td>6</td>\n",
       "      <td>Центральное</td>\n",
       "      <td>Наземная</td>\n",
       "      <td>...</td>\n",
       "      <td>NaN</td>\n",
       "      <td>NaN</td>\n",
       "      <td>NaN</td>\n",
       "      <td>1</td>\n",
       "      <td>NaN</td>\n",
       "      <td>NaN</td>\n",
       "      <td>1</td>\n",
       "      <td>NaN</td>\n",
       "      <td>NaN</td>\n",
       "      <td>3</td>\n",
       "    </tr>\n",
       "    <tr>\n",
       "      <th>4</th>\n",
       "      <td>Вторичка Апартаменты</td>\n",
       "      <td>NaN</td>\n",
       "      <td>Дизайнерский</td>\n",
       "      <td>Во двор</td>\n",
       "      <td>2014</td>\n",
       "      <td>Монолитный</td>\n",
       "      <td>NaN</td>\n",
       "      <td>NaN</td>\n",
       "      <td>NaN</td>\n",
       "      <td>NaN</td>\n",
       "      <td>...</td>\n",
       "      <td>NaN</td>\n",
       "      <td>NaN</td>\n",
       "      <td>NaN</td>\n",
       "      <td>1</td>\n",
       "      <td>NaN</td>\n",
       "      <td>2</td>\n",
       "      <td>NaN</td>\n",
       "      <td>1</td>\n",
       "      <td>NaN</td>\n",
       "      <td>3</td>\n",
       "    </tr>\n",
       "  </tbody>\n",
       "</table>\n",
       "<p>5 rows × 40 columns</p>\n",
       "</div>"
      ],
      "text/plain": [
       "              Тип жилья     Площадь комнат        Ремонт      Вид из окон  \\\n",
       "0              Вторичка        21-14-11 м²    Евроремонт          Во двор   \n",
       "1              Вторичка                NaN   Без ремонта              NaN   \n",
       "2              Вторичка  43-16-26-14-14 м²  Дизайнерский  На улицу и двор   \n",
       "3              Вторичка  13,4-18,5-18,7 м²    Евроремонт  На улицу и двор   \n",
       "4  Вторичка Апартаменты                NaN  Дизайнерский          Во двор   \n",
       "\n",
       "  Год постройки    Тип дома  Тип перекрытий Подъезды    Отопление   Парковка  \\\n",
       "0          2002  Монолитный  Железобетонные        5  Центральное  Подземная   \n",
       "1          2017  Монолитный  Железобетонные        2  Центральное        NaN   \n",
       "2          1933   Кирпичный  Железобетонные       24  Центральное        NaN   \n",
       "3          1958   Кирпичный  Железобетонные        6  Центральное   Наземная   \n",
       "4          2014  Монолитный             NaN      NaN          NaN        NaN   \n",
       "\n",
       "   ... Всего комнат в квартире  Площадь комнаты Комната балконы лоджии  \\\n",
       "0  ...                     NaN              NaN     NaN     NaN      1   \n",
       "1  ...                     NaN              NaN     NaN       1    NaN   \n",
       "2  ...                     NaN              NaN     NaN       1      1   \n",
       "3  ...                     NaN              NaN     NaN       1    NaN   \n",
       "4  ...                     NaN              NaN     NaN       1    NaN   \n",
       "\n",
       "  санузлы_раздельные санузлы_совместные лифты_пас лифты_гр комнаты  \n",
       "0                  1                NaN         2        1       3  \n",
       "1                NaN                  2       NaN      NaN       2  \n",
       "2                  1                NaN         1      NaN       5  \n",
       "3                NaN                  1       NaN      NaN       3  \n",
       "4                  2                NaN         1      NaN       3  \n",
       "\n",
       "[5 rows x 40 columns]"
      ]
     },
     "execution_count": 31,
     "metadata": {},
     "output_type": "execute_result"
    }
   ],
   "source": [
    "df.head()"
   ]
  },
  {
   "cell_type": "markdown",
   "metadata": {},
   "source": [
    "3. Непрерывные переменные"
   ]
  },
  {
   "cell_type": "code",
   "execution_count": 32,
   "metadata": {},
   "outputs": [],
   "source": [
    "def ceil(w):\n",
    "    if w is np.nan:\n",
    "        return np.nan\n",
    "    else:\n",
    "        y = float(re.sub('[, ]', '.', w)[:-2])\n",
    "        if y > 10 and y < 100:\n",
    "            return y / 10\n",
    "        elif y >= 100:\n",
    "            return y/100\n",
    "        elif y < 2:\n",
    "            return np.nan\n",
    "        else:\n",
    "            return y\n",
    "    \n",
    "dff['Высота потолков'] = df['Высота потолков'].apply(ceil)"
   ]
  },
  {
   "cell_type": "code",
   "execution_count": 33,
   "metadata": {},
   "outputs": [],
   "source": [
    "dff['Подъезды'] = df['Подъезды'].apply(lambda w: w if w is np.nan else int(w))\n",
    "dff.loc[dff['Подъезды'] > 30, 'Подъезды'] = np.nan"
   ]
  },
  {
   "cell_type": "code",
   "execution_count": 34,
   "metadata": {},
   "outputs": [],
   "source": [
    "def sq(w):\n",
    "    if w is np.nan:\n",
    "        return np.nan\n",
    "    else:\n",
    "        y = re.sub(',', '.', w)[:-2]\n",
    "        y = re.sub(' ', '', y)\n",
    "        return float(y)\n",
    "    \n",
    "dff['Жилая'] = df['Жилая'].apply(sq)\n",
    "dff['Кухня'] = df['Кухня'].apply(sq)\n",
    "dff['Общая'] = df['Общая'].apply(sq)"
   ]
  },
  {
   "cell_type": "code",
   "execution_count": 35,
   "metadata": {},
   "outputs": [
    {
     "data": {
      "text/html": [
       "<div>\n",
       "<style scoped>\n",
       "    .dataframe tbody tr th:only-of-type {\n",
       "        vertical-align: middle;\n",
       "    }\n",
       "\n",
       "    .dataframe tbody tr th {\n",
       "        vertical-align: top;\n",
       "    }\n",
       "\n",
       "    .dataframe thead th {\n",
       "        text-align: right;\n",
       "    }\n",
       "</style>\n",
       "<table border=\"1\" class=\"dataframe\">\n",
       "  <thead>\n",
       "    <tr style=\"text-align: right;\">\n",
       "      <th></th>\n",
       "      <th>is_reinovation</th>\n",
       "      <th>Высота потолков</th>\n",
       "      <th>Подъезды</th>\n",
       "      <th>Жилая</th>\n",
       "      <th>Кухня</th>\n",
       "      <th>Общая</th>\n",
       "    </tr>\n",
       "  </thead>\n",
       "  <tbody>\n",
       "    <tr>\n",
       "      <th>0</th>\n",
       "      <td>0</td>\n",
       "      <td>NaN</td>\n",
       "      <td>5.0</td>\n",
       "      <td>46.0</td>\n",
       "      <td>13.0</td>\n",
       "      <td>82.0</td>\n",
       "    </tr>\n",
       "    <tr>\n",
       "      <th>1</th>\n",
       "      <td>0</td>\n",
       "      <td>2.64</td>\n",
       "      <td>2.0</td>\n",
       "      <td>NaN</td>\n",
       "      <td>NaN</td>\n",
       "      <td>103.3</td>\n",
       "    </tr>\n",
       "    <tr>\n",
       "      <th>2</th>\n",
       "      <td>0</td>\n",
       "      <td>3.40</td>\n",
       "      <td>24.0</td>\n",
       "      <td>113.0</td>\n",
       "      <td>15.0</td>\n",
       "      <td>167.0</td>\n",
       "    </tr>\n",
       "    <tr>\n",
       "      <th>3</th>\n",
       "      <td>0</td>\n",
       "      <td>2.70</td>\n",
       "      <td>6.0</td>\n",
       "      <td>50.6</td>\n",
       "      <td>7.7</td>\n",
       "      <td>76.4</td>\n",
       "    </tr>\n",
       "    <tr>\n",
       "      <th>4</th>\n",
       "      <td>0</td>\n",
       "      <td>NaN</td>\n",
       "      <td>NaN</td>\n",
       "      <td>41.0</td>\n",
       "      <td>25.0</td>\n",
       "      <td>119.0</td>\n",
       "    </tr>\n",
       "  </tbody>\n",
       "</table>\n",
       "</div>"
      ],
      "text/plain": [
       "   is_reinovation  Высота потолков  Подъезды  Жилая  Кухня  Общая\n",
       "0               0              NaN       5.0   46.0   13.0   82.0\n",
       "1               0             2.64       2.0    NaN    NaN  103.3\n",
       "2               0             3.40      24.0  113.0   15.0  167.0\n",
       "3               0             2.70       6.0   50.6    7.7   76.4\n",
       "4               0              NaN       NaN   41.0   25.0  119.0"
      ]
     },
     "execution_count": 35,
     "metadata": {},
     "output_type": "execute_result"
    }
   ],
   "source": [
    "dff.head()"
   ]
  },
  {
   "cell_type": "code",
   "execution_count": 36,
   "metadata": {},
   "outputs": [
    {
     "data": {
      "text/html": [
       "<div>\n",
       "<style scoped>\n",
       "    .dataframe tbody tr th:only-of-type {\n",
       "        vertical-align: middle;\n",
       "    }\n",
       "\n",
       "    .dataframe tbody tr th {\n",
       "        vertical-align: top;\n",
       "    }\n",
       "\n",
       "    .dataframe thead th {\n",
       "        text-align: right;\n",
       "    }\n",
       "</style>\n",
       "<table border=\"1\" class=\"dataframe\">\n",
       "  <thead>\n",
       "    <tr style=\"text-align: right;\">\n",
       "      <th></th>\n",
       "      <th>Тип жилья</th>\n",
       "      <th>Площадь комнат</th>\n",
       "      <th>Ремонт</th>\n",
       "      <th>Вид из окон</th>\n",
       "      <th>Год постройки</th>\n",
       "      <th>Тип дома</th>\n",
       "      <th>Тип перекрытий</th>\n",
       "      <th>Подъезды</th>\n",
       "      <th>Отопление</th>\n",
       "      <th>Парковка</th>\n",
       "      <th>...</th>\n",
       "      <th>Всего комнат в квартире</th>\n",
       "      <th>Площадь комнаты</th>\n",
       "      <th>Комната</th>\n",
       "      <th>балконы</th>\n",
       "      <th>лоджии</th>\n",
       "      <th>санузлы_раздельные</th>\n",
       "      <th>санузлы_совместные</th>\n",
       "      <th>лифты_пас</th>\n",
       "      <th>лифты_гр</th>\n",
       "      <th>комнаты</th>\n",
       "    </tr>\n",
       "  </thead>\n",
       "  <tbody>\n",
       "    <tr>\n",
       "      <th>0</th>\n",
       "      <td>Вторичка</td>\n",
       "      <td>21-14-11 м²</td>\n",
       "      <td>Евроремонт</td>\n",
       "      <td>Во двор</td>\n",
       "      <td>2002</td>\n",
       "      <td>Монолитный</td>\n",
       "      <td>Железобетонные</td>\n",
       "      <td>5</td>\n",
       "      <td>Центральное</td>\n",
       "      <td>Подземная</td>\n",
       "      <td>...</td>\n",
       "      <td>NaN</td>\n",
       "      <td>NaN</td>\n",
       "      <td>NaN</td>\n",
       "      <td>NaN</td>\n",
       "      <td>1</td>\n",
       "      <td>1</td>\n",
       "      <td>NaN</td>\n",
       "      <td>2</td>\n",
       "      <td>1</td>\n",
       "      <td>3</td>\n",
       "    </tr>\n",
       "    <tr>\n",
       "      <th>1</th>\n",
       "      <td>Вторичка</td>\n",
       "      <td>NaN</td>\n",
       "      <td>Без ремонта</td>\n",
       "      <td>NaN</td>\n",
       "      <td>2017</td>\n",
       "      <td>Монолитный</td>\n",
       "      <td>Железобетонные</td>\n",
       "      <td>2</td>\n",
       "      <td>Центральное</td>\n",
       "      <td>NaN</td>\n",
       "      <td>...</td>\n",
       "      <td>NaN</td>\n",
       "      <td>NaN</td>\n",
       "      <td>NaN</td>\n",
       "      <td>1</td>\n",
       "      <td>NaN</td>\n",
       "      <td>NaN</td>\n",
       "      <td>2</td>\n",
       "      <td>NaN</td>\n",
       "      <td>NaN</td>\n",
       "      <td>2</td>\n",
       "    </tr>\n",
       "    <tr>\n",
       "      <th>2</th>\n",
       "      <td>Вторичка</td>\n",
       "      <td>43-16-26-14-14 м²</td>\n",
       "      <td>Дизайнерский</td>\n",
       "      <td>На улицу и двор</td>\n",
       "      <td>1933</td>\n",
       "      <td>Кирпичный</td>\n",
       "      <td>Железобетонные</td>\n",
       "      <td>24</td>\n",
       "      <td>Центральное</td>\n",
       "      <td>NaN</td>\n",
       "      <td>...</td>\n",
       "      <td>NaN</td>\n",
       "      <td>NaN</td>\n",
       "      <td>NaN</td>\n",
       "      <td>1</td>\n",
       "      <td>1</td>\n",
       "      <td>1</td>\n",
       "      <td>NaN</td>\n",
       "      <td>1</td>\n",
       "      <td>NaN</td>\n",
       "      <td>5</td>\n",
       "    </tr>\n",
       "    <tr>\n",
       "      <th>3</th>\n",
       "      <td>Вторичка</td>\n",
       "      <td>13,4-18,5-18,7 м²</td>\n",
       "      <td>Евроремонт</td>\n",
       "      <td>На улицу и двор</td>\n",
       "      <td>1958</td>\n",
       "      <td>Кирпичный</td>\n",
       "      <td>Железобетонные</td>\n",
       "      <td>6</td>\n",
       "      <td>Центральное</td>\n",
       "      <td>Наземная</td>\n",
       "      <td>...</td>\n",
       "      <td>NaN</td>\n",
       "      <td>NaN</td>\n",
       "      <td>NaN</td>\n",
       "      <td>1</td>\n",
       "      <td>NaN</td>\n",
       "      <td>NaN</td>\n",
       "      <td>1</td>\n",
       "      <td>NaN</td>\n",
       "      <td>NaN</td>\n",
       "      <td>3</td>\n",
       "    </tr>\n",
       "    <tr>\n",
       "      <th>4</th>\n",
       "      <td>Вторичка Апартаменты</td>\n",
       "      <td>NaN</td>\n",
       "      <td>Дизайнерский</td>\n",
       "      <td>Во двор</td>\n",
       "      <td>2014</td>\n",
       "      <td>Монолитный</td>\n",
       "      <td>NaN</td>\n",
       "      <td>NaN</td>\n",
       "      <td>NaN</td>\n",
       "      <td>NaN</td>\n",
       "      <td>...</td>\n",
       "      <td>NaN</td>\n",
       "      <td>NaN</td>\n",
       "      <td>NaN</td>\n",
       "      <td>1</td>\n",
       "      <td>NaN</td>\n",
       "      <td>2</td>\n",
       "      <td>NaN</td>\n",
       "      <td>1</td>\n",
       "      <td>NaN</td>\n",
       "      <td>3</td>\n",
       "    </tr>\n",
       "  </tbody>\n",
       "</table>\n",
       "<p>5 rows × 40 columns</p>\n",
       "</div>"
      ],
      "text/plain": [
       "              Тип жилья     Площадь комнат        Ремонт      Вид из окон  \\\n",
       "0              Вторичка        21-14-11 м²    Евроремонт          Во двор   \n",
       "1              Вторичка                NaN   Без ремонта              NaN   \n",
       "2              Вторичка  43-16-26-14-14 м²  Дизайнерский  На улицу и двор   \n",
       "3              Вторичка  13,4-18,5-18,7 м²    Евроремонт  На улицу и двор   \n",
       "4  Вторичка Апартаменты                NaN  Дизайнерский          Во двор   \n",
       "\n",
       "  Год постройки    Тип дома  Тип перекрытий Подъезды    Отопление   Парковка  \\\n",
       "0          2002  Монолитный  Железобетонные        5  Центральное  Подземная   \n",
       "1          2017  Монолитный  Железобетонные        2  Центральное        NaN   \n",
       "2          1933   Кирпичный  Железобетонные       24  Центральное        NaN   \n",
       "3          1958   Кирпичный  Железобетонные        6  Центральное   Наземная   \n",
       "4          2014  Монолитный             NaN      NaN          NaN        NaN   \n",
       "\n",
       "   ... Всего комнат в квартире  Площадь комнаты Комната балконы лоджии  \\\n",
       "0  ...                     NaN              NaN     NaN     NaN      1   \n",
       "1  ...                     NaN              NaN     NaN       1    NaN   \n",
       "2  ...                     NaN              NaN     NaN       1      1   \n",
       "3  ...                     NaN              NaN     NaN       1    NaN   \n",
       "4  ...                     NaN              NaN     NaN       1    NaN   \n",
       "\n",
       "  санузлы_раздельные санузлы_совместные лифты_пас лифты_гр комнаты  \n",
       "0                  1                NaN         2        1       3  \n",
       "1                NaN                  2       NaN      NaN       2  \n",
       "2                  1                NaN         1      NaN       5  \n",
       "3                NaN                  1       NaN      NaN       3  \n",
       "4                  2                NaN         1      NaN       3  \n",
       "\n",
       "[5 rows x 40 columns]"
      ]
     },
     "execution_count": 36,
     "metadata": {},
     "output_type": "execute_result"
    }
   ],
   "source": [
    "df.head()"
   ]
  },
  {
   "cell_type": "code",
   "execution_count": 37,
   "metadata": {
    "scrolled": true
   },
   "outputs": [],
   "source": [
    "# Дз: фабрика функций, mean max median, len  на каждую добаить фичу  #нет смысла в mean\n",
    "\n",
    "def sq_rooms(how):\n",
    "    def f(w, how=how):\n",
    "        if w is np.nan:\n",
    "            return np.nan\n",
    "        else:\n",
    "            y = re.sub(',', '.', w)[:-2]\n",
    "            y = re.findall(\"\\d+\\.\\d+|\\d+\", y)\n",
    "            y = [float(item) for item in y]\n",
    "            if len(y)==0:\n",
    "                return np.nan\n",
    "            else:\n",
    "                return how(y)\n",
    "    return f\n",
    "\n",
    "f_mean = sq_rooms(np.mean)\n",
    "f_max = sq_rooms(np.max)\n",
    "f_min = sq_rooms(np.min)\n",
    "f_len = sq_rooms(len)\n",
    "\n",
    "dff['средняя_площадь_комнат'] = df['Площадь комнат'].apply(f_mean)\n",
    "dff['количество_комнат']=df['Площадь комнат'].apply(f_len)\n",
    "\n",
    "dff['максимальная_площадь_комнат']=df['Площадь комнат'].apply(f_max)\n",
    "dff['минимальная_площадь_комнат']=df['Площадь комнат'].apply(f_min)"
   ]
  },
  {
   "cell_type": "code",
   "execution_count": 38,
   "metadata": {},
   "outputs": [],
   "source": [
    "dff['Этаж'] = df['Этаж'].apply(lambda w: int(w.split(' из ')[0]))\n",
    "dff['Этажность'] = df['Этаж'].apply(lambda w: int(w.split(' из ')[1]))\n",
    "dff['первый_этаж'] = df['Этаж'].apply(lambda w: 1*(w.split(' из ')[0] == '1'))\n",
    "dff['последний_этаж'] = df['Этаж'].apply(lambda w: 1*(w.split(' из ')[0] == w.split(' из ')[1]))"
   ]
  },
  {
   "cell_type": "code",
   "execution_count": 39,
   "metadata": {},
   "outputs": [],
   "source": [
    "def min_walk_metro(l):\n",
    "    new = []\n",
    "    for j in l:\n",
    "        if 'пешком' in j:\n",
    "            new.append(int(re.findall('(\\d*) мин. пешком',j)[0]))\n",
    "    if len(new) != 0:\n",
    "        return min(new)  \n",
    "    else:\n",
    "        return np.nan\n",
    "    \n",
    "def min_transport_metro(l):\n",
    "    new = []\n",
    "    for j in l:\n",
    "        if 'транспорте' in j:\n",
    "            new.append(int(re.findall('(\\d*) мин. на транспорте',j)[0]))\n",
    "    if len(new) != 0:\n",
    "        return min(new)  \n",
    "    else:\n",
    "        return np.nan\n",
    "    \n",
    "dff['metro_walk_min'] = df['метро'].apply(lambda x: min_walk_metro(x))\n",
    "dff['metro_auto_min'] = df['метро'].apply(lambda x: min_transport_metro(x))"
   ]
  },
  {
   "cell_type": "code",
   "execution_count": 40,
   "metadata": {},
   "outputs": [],
   "source": [
    "def stations(mod):\n",
    "    def find_stations(l, mod=mod):\n",
    "        l = [re.findall(\"([ А-Яа-я0-9-.]*) ⋅[ А-Яа-я0-9.]* \" + mod, item) for item in l]\n",
    "        s = [ ]\n",
    "        for item in l:\n",
    "            if len(item) == 0:\n",
    "                continue\n",
    "            else:\n",
    "                s.append(item[0].split(\"откроется\")[0])\n",
    "        return ','.join(s)\n",
    "    return find_stations\n",
    "\n",
    "find_walk_st = stations(\"пешком\")\n",
    "find_auto_st = stations(\"на транспорте\")\n",
    "\n",
    "dff['stations_walk'] = df['метро'].apply(find_walk_st)\n",
    "dff['stations_auto'] = df['метро'].apply(find_auto_st)"
   ]
  },
  {
   "cell_type": "markdown",
   "metadata": {},
   "source": [
    "4. Время "
   ]
  },
  {
   "cell_type": "code",
   "execution_count": 41,
   "metadata": {},
   "outputs": [],
   "source": [
    "dff['возраст'] = df['Год постройки'].apply(lambda w: w if w is np.nan else int(w))\n",
    "dff.loc[dff['возраст'] < 1900, 'возраст'] = np.nan\n",
    "dff['возраст'] =  2020 - dff['возраст']"
   ]
  },
  {
   "cell_type": "code",
   "execution_count": 42,
   "metadata": {},
   "outputs": [],
   "source": [
    "df['год сдачи'] = df['Срок сдачи'].apply(lambda w: w if w is np.nan else w.split(' ')[-1])\n",
    "df['квартал'] = df['Срок сдачи'].apply(lambda w: w if w is np.nan else int(w.split(' ')[0]))\n",
    "\n",
    "df.loc[df['год сдачи'] < '2020', 'квартал'] = np.nan\n",
    "df.loc[df['год сдачи'] < '2020', 'год сдачи'] = np.nan\n",
    "df.loc[df['квартал'] >= 5, 'квартал'] = 1\n",
    "\n",
    "df['квартал'].replace({1:'01', 2: '04', 3: '07', 4: '10'}, inplace=True)\n",
    "df['срок сдачи'] = df['год сдачи'].astype(str) + '-' + df['квартал']"
   ]
  },
  {
   "cell_type": "code",
   "execution_count": 43,
   "metadata": {},
   "outputs": [],
   "source": [
    "from datetime import datetime  # пакет для работы с датами"
   ]
  },
  {
   "cell_type": "code",
   "execution_count": 44,
   "metadata": {},
   "outputs": [
    {
     "data": {
      "text/plain": [
       "datetime.datetime(2021, 4, 1, 0, 0)"
      ]
     },
     "execution_count": 44,
     "metadata": {},
     "output_type": "execute_result"
    }
   ],
   "source": [
    "x = '2021-04'\n",
    "y = datetime.strptime(x, \"%Y-%m\")\n",
    "y"
   ]
  },
  {
   "cell_type": "code",
   "execution_count": 45,
   "metadata": {},
   "outputs": [
    {
     "data": {
      "text/plain": [
       "15"
      ]
     },
     "execution_count": 45,
     "metadata": {},
     "output_type": "execute_result"
    }
   ],
   "source": [
    "y1 = datetime.strptime('2020-01', \"%Y-%m\")\n",
    "(y - y1).days // 30"
   ]
  },
  {
   "cell_type": "code",
   "execution_count": 46,
   "metadata": {},
   "outputs": [],
   "source": [
    "def get_time_delta(x):\n",
    "    if x is np.nan:\n",
    "        return x\n",
    "    else:\n",
    "        y = datetime.strptime(x, \"%Y-%m\")\n",
    "        y1 = datetime.strptime('2020-01', \"%Y-%m\")\n",
    "        return (y - y1).days // 30\n",
    "    \n",
    "dff['срок сдачи'] = df['срок сдачи'].apply(get_time_delta)"
   ]
  },
  {
   "cell_type": "code",
   "execution_count": 47,
   "metadata": {},
   "outputs": [],
   "source": [
    "# Дз: распарсить переменную со станциями и временем (пешком/на машине) на мног переменных \n",
    "#\n",
    "# - минимально пешком/на машине\n",
    "# - максимално \n",
    "# - количество станций метро рядом\n",
    "# - название ближайшей станции если пешком \n",
    "# - название ближайшей станции если на машине \n",
    "# (если две с одинаковым берем любую) "
   ]
  },
  {
   "cell_type": "code",
   "execution_count": 48,
   "metadata": {},
   "outputs": [
    {
     "data": {
      "text/plain": [
       "428"
      ]
     },
     "execution_count": 48,
     "metadata": {},
     "output_type": "execute_result"
    }
   ],
   "source": [
    "a = \"{'Октябрьское поле': 662, 'Зорге': 428}\"\n",
    "a\n",
    "\n",
    "import ast\n",
    "b = ast.literal_eval(a)\n",
    "b['Зорге']"
   ]
  },
  {
   "cell_type": "markdown",
   "metadata": {},
   "source": [
    "# Финалочка "
   ]
  },
  {
   "cell_type": "code",
   "execution_count": 49,
   "metadata": {
    "scrolled": true
   },
   "outputs": [
    {
     "data": {
      "text/html": [
       "<div>\n",
       "<style scoped>\n",
       "    .dataframe tbody tr th:only-of-type {\n",
       "        vertical-align: middle;\n",
       "    }\n",
       "\n",
       "    .dataframe tbody tr th {\n",
       "        vertical-align: top;\n",
       "    }\n",
       "\n",
       "    .dataframe thead th {\n",
       "        text-align: right;\n",
       "    }\n",
       "</style>\n",
       "<table border=\"1\" class=\"dataframe\">\n",
       "  <thead>\n",
       "    <tr style=\"text-align: right;\">\n",
       "      <th></th>\n",
       "      <th>is_reinovation</th>\n",
       "      <th>Высота потолков</th>\n",
       "      <th>Подъезды</th>\n",
       "      <th>Жилая</th>\n",
       "      <th>Кухня</th>\n",
       "      <th>Общая</th>\n",
       "      <th>средняя_площадь_комнат</th>\n",
       "      <th>количество_комнат</th>\n",
       "      <th>максимальная_площадь_комнат</th>\n",
       "      <th>минимальная_площадь_комнат</th>\n",
       "      <th>...</th>\n",
       "      <th>Ремонт</th>\n",
       "      <th>Тип дома</th>\n",
       "      <th>Тип жилья</th>\n",
       "      <th>балконы</th>\n",
       "      <th>лоджии</th>\n",
       "      <th>санузлы_раздельные</th>\n",
       "      <th>санузлы_совместные</th>\n",
       "      <th>лифты_пас</th>\n",
       "      <th>лифты_гр</th>\n",
       "      <th>комнаты</th>\n",
       "    </tr>\n",
       "  </thead>\n",
       "  <tbody>\n",
       "    <tr>\n",
       "      <th>0</th>\n",
       "      <td>0</td>\n",
       "      <td>NaN</td>\n",
       "      <td>5.0</td>\n",
       "      <td>46.0</td>\n",
       "      <td>13.0</td>\n",
       "      <td>82.0</td>\n",
       "      <td>15.333333</td>\n",
       "      <td>3.0</td>\n",
       "      <td>21.0</td>\n",
       "      <td>11.0</td>\n",
       "      <td>...</td>\n",
       "      <td>Евроремонт</td>\n",
       "      <td>Монолитный</td>\n",
       "      <td>Вторичка</td>\n",
       "      <td>NaN</td>\n",
       "      <td>1</td>\n",
       "      <td>1</td>\n",
       "      <td>NaN</td>\n",
       "      <td>2</td>\n",
       "      <td>1</td>\n",
       "      <td>3</td>\n",
       "    </tr>\n",
       "    <tr>\n",
       "      <th>1</th>\n",
       "      <td>0</td>\n",
       "      <td>2.64</td>\n",
       "      <td>2.0</td>\n",
       "      <td>NaN</td>\n",
       "      <td>NaN</td>\n",
       "      <td>103.3</td>\n",
       "      <td>NaN</td>\n",
       "      <td>NaN</td>\n",
       "      <td>NaN</td>\n",
       "      <td>NaN</td>\n",
       "      <td>...</td>\n",
       "      <td>Без ремонта</td>\n",
       "      <td>Монолитный</td>\n",
       "      <td>Вторичка</td>\n",
       "      <td>1</td>\n",
       "      <td>NaN</td>\n",
       "      <td>NaN</td>\n",
       "      <td>2</td>\n",
       "      <td>NaN</td>\n",
       "      <td>NaN</td>\n",
       "      <td>2</td>\n",
       "    </tr>\n",
       "    <tr>\n",
       "      <th>2</th>\n",
       "      <td>0</td>\n",
       "      <td>3.40</td>\n",
       "      <td>24.0</td>\n",
       "      <td>113.0</td>\n",
       "      <td>15.0</td>\n",
       "      <td>167.0</td>\n",
       "      <td>22.600000</td>\n",
       "      <td>5.0</td>\n",
       "      <td>43.0</td>\n",
       "      <td>14.0</td>\n",
       "      <td>...</td>\n",
       "      <td>Дизайнерский</td>\n",
       "      <td>Кирпичный</td>\n",
       "      <td>Вторичка</td>\n",
       "      <td>1</td>\n",
       "      <td>1</td>\n",
       "      <td>1</td>\n",
       "      <td>NaN</td>\n",
       "      <td>1</td>\n",
       "      <td>NaN</td>\n",
       "      <td>5</td>\n",
       "    </tr>\n",
       "    <tr>\n",
       "      <th>3</th>\n",
       "      <td>0</td>\n",
       "      <td>2.70</td>\n",
       "      <td>6.0</td>\n",
       "      <td>50.6</td>\n",
       "      <td>7.7</td>\n",
       "      <td>76.4</td>\n",
       "      <td>16.866667</td>\n",
       "      <td>3.0</td>\n",
       "      <td>18.7</td>\n",
       "      <td>13.4</td>\n",
       "      <td>...</td>\n",
       "      <td>Евроремонт</td>\n",
       "      <td>Кирпичный</td>\n",
       "      <td>Вторичка</td>\n",
       "      <td>1</td>\n",
       "      <td>NaN</td>\n",
       "      <td>NaN</td>\n",
       "      <td>1</td>\n",
       "      <td>NaN</td>\n",
       "      <td>NaN</td>\n",
       "      <td>3</td>\n",
       "    </tr>\n",
       "    <tr>\n",
       "      <th>4</th>\n",
       "      <td>0</td>\n",
       "      <td>NaN</td>\n",
       "      <td>NaN</td>\n",
       "      <td>41.0</td>\n",
       "      <td>25.0</td>\n",
       "      <td>119.0</td>\n",
       "      <td>NaN</td>\n",
       "      <td>NaN</td>\n",
       "      <td>NaN</td>\n",
       "      <td>NaN</td>\n",
       "      <td>...</td>\n",
       "      <td>Дизайнерский</td>\n",
       "      <td>Монолитный</td>\n",
       "      <td>Вторичка Апартаменты</td>\n",
       "      <td>1</td>\n",
       "      <td>NaN</td>\n",
       "      <td>2</td>\n",
       "      <td>NaN</td>\n",
       "      <td>1</td>\n",
       "      <td>NaN</td>\n",
       "      <td>3</td>\n",
       "    </tr>\n",
       "  </tbody>\n",
       "</table>\n",
       "<p>5 rows × 38 columns</p>\n",
       "</div>"
      ],
      "text/plain": [
       "   is_reinovation  Высота потолков  Подъезды  Жилая  Кухня  Общая  \\\n",
       "0               0              NaN       5.0   46.0   13.0   82.0   \n",
       "1               0             2.64       2.0    NaN    NaN  103.3   \n",
       "2               0             3.40      24.0  113.0   15.0  167.0   \n",
       "3               0             2.70       6.0   50.6    7.7   76.4   \n",
       "4               0              NaN       NaN   41.0   25.0  119.0   \n",
       "\n",
       "   средняя_площадь_комнат  количество_комнат  максимальная_площадь_комнат  \\\n",
       "0               15.333333                3.0                         21.0   \n",
       "1                     NaN                NaN                          NaN   \n",
       "2               22.600000                5.0                         43.0   \n",
       "3               16.866667                3.0                         18.7   \n",
       "4                     NaN                NaN                          NaN   \n",
       "\n",
       "   минимальная_площадь_комнат  ...        Ремонт    Тип дома  \\\n",
       "0                        11.0  ...    Евроремонт  Монолитный   \n",
       "1                         NaN  ...   Без ремонта  Монолитный   \n",
       "2                        14.0  ...  Дизайнерский   Кирпичный   \n",
       "3                        13.4  ...    Евроремонт   Кирпичный   \n",
       "4                         NaN  ...  Дизайнерский  Монолитный   \n",
       "\n",
       "              Тип жилья  балконы  лоджии  санузлы_раздельные  \\\n",
       "0              Вторичка      NaN       1                   1   \n",
       "1              Вторичка        1     NaN                 NaN   \n",
       "2              Вторичка        1       1                   1   \n",
       "3              Вторичка        1     NaN                 NaN   \n",
       "4  Вторичка Апартаменты        1     NaN                   2   \n",
       "\n",
       "  санузлы_совместные лифты_пас  лифты_гр  комнаты  \n",
       "0                NaN         2         1        3  \n",
       "1                  2       NaN       NaN        2  \n",
       "2                NaN         1       NaN        5  \n",
       "3                  1       NaN       NaN        3  \n",
       "4                NaN         1       NaN        3  \n",
       "\n",
       "[5 rows x 38 columns]"
      ]
     },
     "execution_count": 49,
     "metadata": {},
     "output_type": "execute_result"
    }
   ],
   "source": [
    "dff[var_cat] = df[var_cat]\n",
    "dff.head()"
   ]
  },
  {
   "cell_type": "code",
   "execution_count": 50,
   "metadata": {},
   "outputs": [],
   "source": [
    "var_cat = var_cat + ['is_reinovation', 'первый_этаж', 'последний_этаж']\n",
    "var_real = list(set(dff.columns) - set(var_cat))\n",
    "\n",
    "var_teh = ['адрес', 'описание', 'href', 'lat', 'long']\n",
    "target = 'цена'"
   ]
  },
  {
   "cell_type": "code",
   "execution_count": 51,
   "metadata": {},
   "outputs": [],
   "source": [
    "dff[var_teh] = df[var_teh]\n",
    "dff[target] =  df[target]"
   ]
  },
  {
   "cell_type": "code",
   "execution_count": 54,
   "metadata": {},
   "outputs": [],
   "source": [
    "dff.to_csv('data/cian_data.csv', sep='\\t', index=None)"
   ]
  },
  {
   "cell_type": "markdown",
   "metadata": {},
   "source": [
    "Сольём данные с геоданными. "
   ]
  },
  {
   "cell_type": "code",
   "execution_count": 55,
   "metadata": {},
   "outputs": [],
   "source": [
    "df_geo = pd.read_csv(\"data/cian_geo.tsv\", sep='\\t')\n",
    "\n",
    "dff = dff.set_index(\"href\")\n",
    "df_geo = df_geo.set_index(\"href\")\n",
    "dff_concat = pd.concat([dff, df_geo], axis=1)\n",
    "dff_concat.reset_index(inplace=True)"
   ]
  },
  {
   "cell_type": "code",
   "execution_count": 56,
   "metadata": {},
   "outputs": [],
   "source": [
    "dff_concat.to_csv('data/cian_v2.tsv', sep=\"\\t\", index=None)"
   ]
  },
  {
   "cell_type": "markdown",
   "metadata": {},
   "source": [
    "   "
   ]
  },
  {
   "cell_type": "markdown",
   "metadata": {},
   "source": [
    "--------"
   ]
  },
  {
   "cell_type": "code",
   "execution_count": 73,
   "metadata": {},
   "outputs": [
    {
     "data": {
      "text/plain": [
       "['Пражская ⋅  10 мин. на транспорте',\n",
       " 'Царицыно ⋅  15 мин. на транспорте',\n",
       " 'Покровское ⋅  15 мин. пешком']"
      ]
     },
     "execution_count": 73,
     "metadata": {},
     "output_type": "execute_result"
    }
   ],
   "source": [
    "df.iloc[4997]['метро']"
   ]
  },
  {
   "cell_type": "code",
   "execution_count": 74,
   "metadata": {},
   "outputs": [
    {
     "data": {
      "text/plain": [
       "href                                       https://www.cian.ru/sale/flat/220830671/\n",
       "is_reinovation                                                                    0\n",
       "Высота потолков                                                                2.64\n",
       "Подъезды                                                                         14\n",
       "Жилая                                                                            19\n",
       "Кухня                                                                             7\n",
       "Общая                                                                            33\n",
       "средняя_площадь_комнат                                                           19\n",
       "количество_комнат                                                                 1\n",
       "максимальная_площадь_комнат                                                      19\n",
       "минимальная_площадь_комнат                                                       19\n",
       "Этаж                                                                              8\n",
       "Этажность                                                                         9\n",
       "первый_этаж                                                                       0\n",
       "последний_этаж                                                                    0\n",
       "metro_walk_min                                                                   15\n",
       "metro_auto_min                                                                   10\n",
       "stations_walk                                                            Покровское\n",
       "stations_auto                                                     Пражская,Царицыно\n",
       "возраст                                                                          47\n",
       "срок сдачи                                                                      NaN\n",
       "Отделка                                                                         NaN\n",
       "Газоснабжение                                                           Центральное\n",
       "Планировка                                                                      NaN\n",
       "Мусоропровод                                                                   Есть\n",
       "Парковка                                                                   Наземная\n",
       "Тип перекрытий                                                       Железобетонные\n",
       "Отопление                                                               Центральное\n",
       "Вид из окон                                                                 Во двор\n",
       "Ремонт                                                                Косметический\n",
       "Тип дома                                                                  Панельный\n",
       "Тип жилья                                                                  Вторичка\n",
       "балконы                                                                         NaN\n",
       "лоджии                                                                          NaN\n",
       "санузлы_раздельные                                                              NaN\n",
       "санузлы_совместные                                                                1\n",
       "лифты_пас                                                                         1\n",
       "лифты_гр                                                                        NaN\n",
       "комнаты                                                                           1\n",
       "адрес                             Москва, ЮАО, р-н Бирюлево Западное, Востряковс...\n",
       "описание                          Звонить СТРОГО: пон.-суб. 9-11ч. и 21.00-23.00...\n",
       "lat                                                                       55.586476\n",
       "long                                                                      37.643031\n",
       "цена                                                                        5300000\n",
       "google_center_dist                                                             2692\n",
       "google_center_time_driving                                                    22462\n",
       "google_stations_auto_walk_dist                 {'Пражская': 3356, 'Царицыно': 4047}\n",
       "google_stations_auto_walk_time                 {'Пражская': 4544, 'Царицыно': 5467}\n",
       "google_stations_walk_walk_dist                                {'Покровское': 24410}\n",
       "google_stations_walk_walk_time                                {'Покровское': 32557}\n",
       "Name: 4997, dtype: object"
      ]
     },
     "execution_count": 74,
     "metadata": {},
     "output_type": "execute_result"
    }
   ],
   "source": [
    "dff_concat.iloc[4997]"
   ]
  },
  {
   "cell_type": "code",
   "execution_count": null,
   "metadata": {},
   "outputs": [],
   "source": []
  },
  {
   "cell_type": "code",
   "execution_count": null,
   "metadata": {},
   "outputs": [],
   "source": []
  },
  {
   "cell_type": "code",
   "execution_count": null,
   "metadata": {},
   "outputs": [],
   "source": []
  },
  {
   "cell_type": "code",
   "execution_count": null,
   "metadata": {},
   "outputs": [],
   "source": []
  },
  {
   "cell_type": "code",
   "execution_count": null,
   "metadata": {},
   "outputs": [],
   "source": [
    "np.corrcoef(data.metro_walk_min.dropna()[test.astype(float).dropna().index],test.astype(float).dropna())  "
   ]
  },
  {
   "cell_type": "code",
   "execution_count": null,
   "metadata": {},
   "outputs": [],
   "source": [
    "var_cat = ['Отделка', 'Газоснабжение',\n",
    "'Планировка', 'Мусоропровод', 'Парковка',\n",
    "'Тип перекрытий', 'Отопление', 'Вид из окон',\n",
    "'Ремонт', 'Тип дома', 'Тип жилья',\n",
    "\n",
    "'балконы', 'лоджии',   'санузлы_раздельные',\n",
    "'санузлы_совместные', 'лифты_пас', 'лифты_гр',\n",
    "          \n",
    "'комнаты'] \n",
    "\n",
    "var_cat = var_cat + ['is_reinovation', 'первый_этаж', 'последний_этаж']\n",
    "var_real = list(set(dff.columns) - set(var_cat))\n",
    "\n",
    "var_teh = ['адрес', 'описание', 'href', 'lat', 'long']\n",
    "target = 'цена'\n",
    "\n",
    "\n",
    "# dff = pd.get_dummies(dff)#, dummy_na=True, drop_first=True)\n",
    "# dff.head()"
   ]
  },
  {
   "cell_type": "code",
   "execution_count": null,
   "metadata": {},
   "outputs": [],
   "source": [
    "dff.shape"
   ]
  },
  {
   "cell_type": "code",
   "execution_count": null,
   "metadata": {},
   "outputs": [],
   "source": [
    "dff.head(3)"
   ]
  },
  {
   "cell_type": "code",
   "execution_count": null,
   "metadata": {
    "scrolled": true
   },
   "outputs": [],
   "source": [
    "df.columns"
   ]
  },
  {
   "cell_type": "code",
   "execution_count": null,
   "metadata": {},
   "outputs": [],
   "source": [
    "df.адрес"
   ]
  },
  {
   "cell_type": "code",
   "execution_count": null,
   "metadata": {},
   "outputs": [],
   "source": []
  },
  {
   "cell_type": "code",
   "execution_count": null,
   "metadata": {},
   "outputs": [],
   "source": []
  },
  {
   "cell_type": "code",
   "execution_count": null,
   "metadata": {},
   "outputs": [],
   "source": []
  },
  {
   "cell_type": "code",
   "execution_count": null,
   "metadata": {},
   "outputs": [],
   "source": []
  },
  {
   "cell_type": "code",
   "execution_count": null,
   "metadata": {},
   "outputs": [],
   "source": []
  },
  {
   "cell_type": "code",
   "execution_count": null,
   "metadata": {},
   "outputs": [],
   "source": []
  },
  {
   "cell_type": "code",
   "execution_count": null,
   "metadata": {},
   "outputs": [],
   "source": [
    "cat = ['количество_комнат','Отделка','Газоснабжение','Планировка','Мусоропровод',\n",
    "       'Парковка','Тип перекрытий','Отопление','Вид из окон','Ремонт','Тип дома',\n",
    "       'Тип жилья','балконы','лоджии','санузлы_раздельные','санузлы_совместные', \n",
    "       'лифты_пас', 'лифты_гр','комнаты']"
   ]
  },
  {
   "cell_type": "code",
   "execution_count": null,
   "metadata": {},
   "outputs": [],
   "source": [
    "data.количество_комнат.value_counts() #объединить где больше 4 комнат и создать дамми?"
   ]
  },
  {
   "cell_type": "code",
   "execution_count": null,
   "metadata": {
    "scrolled": true
   },
   "outputs": [],
   "source": [
    "data.Этаж.value_counts().plot() #нет пропусков"
   ]
  },
  {
   "cell_type": "code",
   "execution_count": null,
   "metadata": {},
   "outputs": [],
   "source": [
    "data.Этажность.dropna()  #нет пропусков"
   ]
  },
  {
   "cell_type": "code",
   "execution_count": null,
   "metadata": {},
   "outputs": [],
   "source": [
    "data.stations_walk  #как учесть?? same as 'stations_auto'"
   ]
  },
  {
   "cell_type": "code",
   "execution_count": null,
   "metadata": {},
   "outputs": [],
   "source": [
    "data['срок сдачи'].dropna() #мало данных, дропаем эту переменную"
   ]
  },
  {
   "cell_type": "code",
   "execution_count": null,
   "metadata": {},
   "outputs": [],
   "source": []
  },
  {
   "cell_type": "code",
   "execution_count": null,
   "metadata": {},
   "outputs": [],
   "source": [
    "data2 = data.drop(['stations_walk','stations_auto','срок сдачи','адрес','описание','href','lat', 'long','stations_walk_walk_dist',\n",
    "           'stations_walk_walk_time', 'stations_auto_walk_dist','stations_auto_walk_time'],axis=1)\n",
    "data2.head()"
   ]
  },
  {
   "cell_type": "code",
   "execution_count": null,
   "metadata": {
    "scrolled": true
   },
   "outputs": [],
   "source": [
    "#Идеи:\n",
    "# 0) Создать отложенную выборку, на трейновой по кроссвалидации отобрать лучшую модель\n",
    "\n",
    "# 1) Заполнять наны на жилую и кухню средней пропорцией по трейну\n",
    "\n",
    "# 2) Заполнять наны потолков, подъездов средним по трейну\n",
    "#     data['Высота потолков'][data['Высота потолков'].isna()==True]=data['Высота потолков'].mean()\n",
    "    \n",
    "# 3) Дропнуть строки, где нет данных по площади комнат\n",
    "\n",
    "# 4) Создать фичу зависимости этажа в виде гиепрболы???\n",
    "\n",
    "# 5) Заполнять наны возраста средним по трейну"
   ]
  },
  {
   "cell_type": "code",
   "execution_count": null,
   "metadata": {},
   "outputs": [],
   "source": []
  },
  {
   "cell_type": "code",
   "execution_count": null,
   "metadata": {},
   "outputs": [],
   "source": [
    "from sklearn.preprocessing import OneHotEncoder\n",
    "from sklearn.model_selection import train_test_split"
   ]
  },
  {
   "cell_type": "code",
   "execution_count": null,
   "metadata": {
    "scrolled": true
   },
   "outputs": [],
   "source": [
    "data2 = data2.reset_index(drop=True)\n",
    "data2.head()"
   ]
  },
  {
   "cell_type": "code",
   "execution_count": null,
   "metadata": {},
   "outputs": [],
   "source": [
    "data2 = pd.concat([data2,pd.get_dummies(data2[cat])],axis=1).drop(cat,axis=1)"
   ]
  },
  {
   "cell_type": "code",
   "execution_count": null,
   "metadata": {},
   "outputs": [],
   "source": [
    "data2.head()"
   ]
  },
  {
   "cell_type": "code",
   "execution_count": null,
   "metadata": {},
   "outputs": [],
   "source": [
    "a = data2['средняя_площадь_комнат'].dropna().index\n",
    "b = data2['Жилая'].dropna().index\n",
    "c = data2['Кухня'].dropna().index"
   ]
  },
  {
   "cell_type": "code",
   "execution_count": null,
   "metadata": {},
   "outputs": [],
   "source": [
    "take_it = list(set(a) & set(b) & set(c))"
   ]
  },
  {
   "cell_type": "code",
   "execution_count": null,
   "metadata": {},
   "outputs": [],
   "source": [
    "data_final = data2.iloc[take_it,:]\n",
    "data_final.reset_index(drop=True, inplace=True)"
   ]
  },
  {
   "cell_type": "code",
   "execution_count": null,
   "metadata": {
    "scrolled": true
   },
   "outputs": [],
   "source": [
    "data_final.drop(['metro_auto_min','metro_walk_min'],axis=1,inplace=True)"
   ]
  },
  {
   "cell_type": "code",
   "execution_count": null,
   "metadata": {},
   "outputs": [],
   "source": [
    "X = data_final.drop('цена',axis=1)\n",
    "y = data_final.цена"
   ]
  },
  {
   "cell_type": "code",
   "execution_count": null,
   "metadata": {},
   "outputs": [],
   "source": [
    "X_train, X_test, y_train, y_test = train_test_split(X, y, test_size=0.2, random_state=42)"
   ]
  },
  {
   "cell_type": "code",
   "execution_count": null,
   "metadata": {},
   "outputs": [],
   "source": [
    "floor_high = X_train['Высота потолков'].mean()\n",
    "X_train['Высота потолков'][X_train['Высота потолков'].isna()==True] = floor_high\n",
    "X_test['Высота потолков'][X_test['Высота потолков'].isna()==True] = floor_high"
   ]
  },
  {
   "cell_type": "code",
   "execution_count": null,
   "metadata": {},
   "outputs": [],
   "source": [
    "porch = X_train['Подъезды'].mean()\n",
    "X_train['Подъезды'][X_train['Подъезды'].isna()==True] = porch\n",
    "X_test['Подъезды'][X_test['Подъезды'].isna()==True] = porch"
   ]
  },
  {
   "cell_type": "code",
   "execution_count": null,
   "metadata": {},
   "outputs": [],
   "source": [
    "age = X_train['возраст'].mean()\n",
    "X_train['возраст'][X_train['возраст'].isna()==True] = age\n",
    "X_test['возраст'][X_test['возраст'].isna()==True] = age"
   ]
  },
  {
   "cell_type": "code",
   "execution_count": null,
   "metadata": {},
   "outputs": [],
   "source": [
    "X_train.columns"
   ]
  },
  {
   "cell_type": "code",
   "execution_count": null,
   "metadata": {},
   "outputs": [],
   "source": [
    "#X_train.isna().sum().sort_values(ascending=False) \n",
    "    #metro_auto_min          8675\n",
    "    #metro_walk_min          4139  drop))))"
   ]
  },
  {
   "cell_type": "code",
   "execution_count": null,
   "metadata": {},
   "outputs": [],
   "source": [
    "from sklearn.ensemble import RandomForestRegressor"
   ]
  },
  {
   "cell_type": "code",
   "execution_count": null,
   "metadata": {},
   "outputs": [],
   "source": [
    "RFR = RandomForestRegressor()"
   ]
  },
  {
   "cell_type": "code",
   "execution_count": null,
   "metadata": {},
   "outputs": [],
   "source": [
    "RFR.fit(X_train,y_train)"
   ]
  },
  {
   "cell_type": "code",
   "execution_count": null,
   "metadata": {},
   "outputs": [],
   "source": [
    "RFR.score(X_test,y_test)"
   ]
  },
  {
   "cell_type": "code",
   "execution_count": null,
   "metadata": {},
   "outputs": [],
   "source": []
  },
  {
   "cell_type": "code",
   "execution_count": null,
   "metadata": {},
   "outputs": [],
   "source": [
    "#Идеи:\n",
    "# 0) Создать отложенную выборку, на трейновой по кроссвалидации отобрать лучшую модель\n",
    "\n",
    "# 1) Заполнять наны на жилую, кухню средней пропорцией по трейну     ПРОСТО ДРОПНУЛ ИХ\n",
    "\n",
    "# 2) Заполнять наны потолков, подъездов средним по трейну  +\n",
    "#     data['Высота потолков'][data['Высота потолков'].isna()==True]=data['Высота потолков'].mean()\n",
    "    \n",
    "# 3) Дропнуть строки, где нет данных по площади комнат  +\n",
    "\n",
    "# 4) Создать фичу зависимости этажа в виде гиепрболы???\n",
    "\n",
    "# 5) Заполнять наны возраста средним по трейну  +"
   ]
  },
  {
   "cell_type": "markdown",
   "metadata": {},
   "source": [
    " "
   ]
  }
 ],
 "metadata": {
  "kernelspec": {
   "display_name": "Python 3",
   "language": "python",
   "name": "python3"
  },
  "language_info": {
   "codemirror_mode": {
    "name": "ipython",
    "version": 3
   },
   "file_extension": ".py",
   "mimetype": "text/x-python",
   "name": "python",
   "nbconvert_exporter": "python",
   "pygments_lexer": "ipython3",
   "version": "3.7.2"
  }
 },
 "nbformat": 4,
 "nbformat_minor": 2
}
