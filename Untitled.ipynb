{
 "cells": [
  {
   "cell_type": "markdown",
   "metadata": {},
   "source": [
    "# Подгрузка"
   ]
  },
  {
   "cell_type": "code",
   "execution_count": 1,
   "metadata": {},
   "outputs": [],
   "source": [
    "import pickle"
   ]
  },
  {
   "cell_type": "code",
   "execution_count": 2,
   "metadata": {},
   "outputs": [
    {
     "data": {
      "text/plain": [
       "['info_0_10000.pickle', 'info_60000_70000.pickle', 'info_70000.pickle']"
      ]
     },
     "execution_count": 2,
     "metadata": {},
     "output_type": "execute_result"
    }
   ],
   "source": [
    "import os\n",
    "\n",
    "path_to_directory = '/Users/fulyankin/Documents/massResearch_houses/data'\n",
    "files =  os.listdir(path_to_directory)\n",
    "\n",
    "files = [item for item in files if '.pickle' in item]\n",
    "files"
   ]
  },
  {
   "cell_type": "code",
   "execution_count": 3,
   "metadata": {},
   "outputs": [
    {
     "data": {
      "text/plain": [
       "'/Users/fulyankin/Documents/massResearch_houses'"
      ]
     },
     "execution_count": 3,
     "metadata": {},
     "output_type": "execute_result"
    }
   ],
   "source": [
    "pwd"
   ]
  },
  {
   "cell_type": "code",
   "execution_count": 5,
   "metadata": {},
   "outputs": [],
   "source": [
    "data_real = [ ]\n",
    "\n",
    "for file in files:\n",
    "    with open('data/' + file, 'rb') as f:\n",
    "        data_new = pickle.load(f)\n",
    "        data_real.extend(data_new)"
   ]
  },
  {
   "cell_type": "code",
   "execution_count": 7,
   "metadata": {},
   "outputs": [
    {
     "data": {
      "text/plain": [
       "{'Тип жилья': 'Вторичка',\n",
       " 'Площадь комнат': '21-14-11 м²',\n",
       " 'Санузел': '1 раздельный',\n",
       " 'Балкон/лоджия': '1 лоджия',\n",
       " 'Ремонт': 'Евроремонт',\n",
       " 'Вид из окон': 'Во двор',\n",
       " 'Год постройки': '2002',\n",
       " 'Тип дома': 'Монолитный',\n",
       " 'Тип перекрытий': 'Железобетонные',\n",
       " 'Подъезды': '5',\n",
       " 'Лифты': '2 пассажирских, 1 грузовой',\n",
       " 'Отопление': 'Центральное',\n",
       " 'Аварийность': 'Нет',\n",
       " 'Парковка': 'Подземная',\n",
       " 'Мусоропровод': 'Есть',\n",
       " 'цена': 23000000,\n",
       " 'описание': 'Очень уютная, красивая квартира, хороший ремонт, встроенная кухня, вся инфраструктура в шаговой доступности, полная стоимость в договоре. торг',\n",
       " 'Общая': '82\\xa0м²',\n",
       " 'Жилая': '46\\xa0м²',\n",
       " 'Кухня': '13\\xa0м²',\n",
       " 'Этаж': '11 из 19',\n",
       " 'Построен': '2002',\n",
       " 'адрес': 'Москва, СЗАО, р-н Щукино, Тепличный пер., 4',\n",
       " 'метро': ['Октябрьское поле ⋅  9 мин. пешком',\n",
       "  'Зорге ⋅  9 мин. пешком',\n",
       "  'Панфиловская ⋅  16 мин. пешком'],\n",
       " 'тайтл': '3-комн. квартира, 82 м²',\n",
       " 'lat': '55.789907',\n",
       " 'long': '37.496318',\n",
       " 'комментарий': None,\n",
       " 'href': 'https://www.cian.ru/sale/flat/200597045/'}"
      ]
     },
     "execution_count": 7,
     "metadata": {},
     "output_type": "execute_result"
    }
   ],
   "source": [
    "data_real[0]"
   ]
  },
  {
   "cell_type": "markdown",
   "metadata": {},
   "source": [
    "# EDA "
   ]
  },
  {
   "cell_type": "code",
   "execution_count": 8,
   "metadata": {},
   "outputs": [
    {
     "data": {
      "text/plain": [
       "(11837, 36)"
      ]
     },
     "execution_count": 8,
     "metadata": {},
     "output_type": "execute_result"
    }
   ],
   "source": [
    "import pandas as pd\n",
    "df = pd.DataFrame(data_real)\n",
    "df.shape"
   ]
  },
  {
   "cell_type": "code",
   "execution_count": 11,
   "metadata": {},
   "outputs": [
    {
     "data": {
      "text/html": [
       "<div>\n",
       "<style scoped>\n",
       "    .dataframe tbody tr th:only-of-type {\n",
       "        vertical-align: middle;\n",
       "    }\n",
       "\n",
       "    .dataframe tbody tr th {\n",
       "        vertical-align: top;\n",
       "    }\n",
       "\n",
       "    .dataframe thead th {\n",
       "        text-align: right;\n",
       "    }\n",
       "</style>\n",
       "<table border=\"1\" class=\"dataframe\">\n",
       "  <thead>\n",
       "    <tr style=\"text-align: right;\">\n",
       "      <th></th>\n",
       "      <th>href</th>\n",
       "      <th>lat</th>\n",
       "      <th>long</th>\n",
       "      <th>Аварийность</th>\n",
       "      <th>Балкон/лоджия</th>\n",
       "      <th>Вид из окон</th>\n",
       "      <th>Высота потолков</th>\n",
       "      <th>Газоснабжение</th>\n",
       "      <th>Год постройки</th>\n",
       "      <th>Жилая</th>\n",
       "      <th>...</th>\n",
       "      <th>Тип дома</th>\n",
       "      <th>Тип жилья</th>\n",
       "      <th>Тип перекрытий</th>\n",
       "      <th>Этаж</th>\n",
       "      <th>адрес</th>\n",
       "      <th>комментарий</th>\n",
       "      <th>метро</th>\n",
       "      <th>описание</th>\n",
       "      <th>тайтл</th>\n",
       "      <th>цена</th>\n",
       "    </tr>\n",
       "  </thead>\n",
       "  <tbody>\n",
       "    <tr>\n",
       "      <th>0</th>\n",
       "      <td>https://www.cian.ru/sale/flat/200597045/</td>\n",
       "      <td>55.789907</td>\n",
       "      <td>37.496318</td>\n",
       "      <td>Нет</td>\n",
       "      <td>1 лоджия</td>\n",
       "      <td>Во двор</td>\n",
       "      <td>NaN</td>\n",
       "      <td>NaN</td>\n",
       "      <td>2002</td>\n",
       "      <td>46 м²</td>\n",
       "      <td>...</td>\n",
       "      <td>Монолитный</td>\n",
       "      <td>Вторичка</td>\n",
       "      <td>Железобетонные</td>\n",
       "      <td>11 из 19</td>\n",
       "      <td>Москва, СЗАО, р-н Щукино, Тепличный пер., 4</td>\n",
       "      <td>None</td>\n",
       "      <td>[Октябрьское поле ⋅  9 мин. пешком, Зорге ⋅  9...</td>\n",
       "      <td>Очень уютная, красивая квартира, хороший ремон...</td>\n",
       "      <td>3-комн. квартира, 82 м²</td>\n",
       "      <td>23000000</td>\n",
       "    </tr>\n",
       "    <tr>\n",
       "      <th>1</th>\n",
       "      <td>https://www.cian.ru/sale/flat/226507726/</td>\n",
       "      <td>55.716037</td>\n",
       "      <td>37.503998</td>\n",
       "      <td>Нет</td>\n",
       "      <td>1 балкон</td>\n",
       "      <td>NaN</td>\n",
       "      <td>2,64 м</td>\n",
       "      <td>NaN</td>\n",
       "      <td>2017</td>\n",
       "      <td>NaN</td>\n",
       "      <td>...</td>\n",
       "      <td>Монолитный</td>\n",
       "      <td>Вторичка</td>\n",
       "      <td>Железобетонные</td>\n",
       "      <td>20 из 39</td>\n",
       "      <td>Москва, ЗАО, р-н Раменки, Минская ул., 2</td>\n",
       "      <td>None</td>\n",
       "      <td>[Минская ⋅  &lt;1 мин. на транспорте, Минская]</td>\n",
       "      <td>Продаю квартиру площадью 103,3 м2 в элитном ЖК...</td>\n",
       "      <td>2-комн. квартира, 103,3 м²</td>\n",
       "      <td>40000000</td>\n",
       "    </tr>\n",
       "  </tbody>\n",
       "</table>\n",
       "<p>2 rows × 36 columns</p>\n",
       "</div>"
      ],
      "text/plain": [
       "                                       href        lat       long Аварийность  \\\n",
       "0  https://www.cian.ru/sale/flat/200597045/  55.789907  37.496318         Нет   \n",
       "1  https://www.cian.ru/sale/flat/226507726/  55.716037  37.503998         Нет   \n",
       "\n",
       "  Балкон/лоджия Вид из окон Высота потолков Газоснабжение Год постройки  \\\n",
       "0      1 лоджия     Во двор             NaN           NaN          2002   \n",
       "1      1 балкон         NaN          2,64 м           NaN          2017   \n",
       "\n",
       "   Жилая  ...    Тип дома Тип жилья  Тип перекрытий      Этаж  \\\n",
       "0  46 м²  ...  Монолитный  Вторичка  Железобетонные  11 из 19   \n",
       "1    NaN  ...  Монолитный  Вторичка  Железобетонные  20 из 39   \n",
       "\n",
       "                                         адрес комментарий  \\\n",
       "0  Москва, СЗАО, р-н Щукино, Тепличный пер., 4        None   \n",
       "1     Москва, ЗАО, р-н Раменки, Минская ул., 2        None   \n",
       "\n",
       "                                               метро  \\\n",
       "0  [Октябрьское поле ⋅  9 мин. пешком, Зорге ⋅  9...   \n",
       "1        [Минская ⋅  <1 мин. на транспорте, Минская]   \n",
       "\n",
       "                                            описание  \\\n",
       "0  Очень уютная, красивая квартира, хороший ремон...   \n",
       "1  Продаю квартиру площадью 103,3 м2 в элитном ЖК...   \n",
       "\n",
       "                        тайтл      цена  \n",
       "0     3-комн. квартира, 82 м²  23000000  \n",
       "1  2-комн. квартира, 103,3 м²  40000000  \n",
       "\n",
       "[2 rows x 36 columns]"
      ]
     },
     "execution_count": 11,
     "metadata": {},
     "output_type": "execute_result"
    }
   ],
   "source": [
    "df.head(2) #.tail()"
   ]
  },
  {
   "cell_type": "code",
   "execution_count": 12,
   "metadata": {},
   "outputs": [
    {
     "name": "stdout",
     "output_type": "stream",
     "text": [
      "<class 'pandas.core.frame.DataFrame'>\n",
      "RangeIndex: 11837 entries, 0 to 11836\n",
      "Data columns (total 36 columns):\n",
      "href                  11837 non-null object\n",
      "lat                   11837 non-null object\n",
      "long                  11837 non-null object\n",
      "Аварийность           8311 non-null object\n",
      "Балкон/лоджия         7097 non-null object\n",
      "Вид из окон           8517 non-null object\n",
      "Высота потолков       6217 non-null object\n",
      "Газоснабжение         2538 non-null object\n",
      "Год постройки         8225 non-null object\n",
      "Жилая                 9725 non-null object\n",
      "Комнат в продажу      2 non-null object\n",
      "Кухня                 9636 non-null object\n",
      "Лифты                 11538 non-null object\n",
      "Мусоропровод          5324 non-null object\n",
      "Общая                 11837 non-null object\n",
      "Отделка               1425 non-null object\n",
      "Отопление             7595 non-null object\n",
      "Парковка              5490 non-null object\n",
      "Планировка            4527 non-null object\n",
      "Площадь комнат        7790 non-null object\n",
      "Подъезды              7934 non-null object\n",
      "Построен              6311 non-null object\n",
      "Ремонт                8452 non-null object\n",
      "Санузел               10432 non-null object\n",
      "Срок сдачи            2141 non-null object\n",
      "Строительная серия    2883 non-null object\n",
      "Тип дома              8763 non-null object\n",
      "Тип жилья             11837 non-null object\n",
      "Тип перекрытий        7475 non-null object\n",
      "Этаж                  11837 non-null object\n",
      "адрес                 11837 non-null object\n",
      "комментарий           154 non-null object\n",
      "метро                 11837 non-null object\n",
      "описание              11837 non-null object\n",
      "тайтл                 11837 non-null object\n",
      "цена                  11837 non-null int64\n",
      "dtypes: int64(1), object(35)\n",
      "memory usage: 3.3+ MB\n"
     ]
    }
   ],
   "source": [
    "df.info()"
   ]
  },
  {
   "cell_type": "code",
   "execution_count": 15,
   "metadata": {},
   "outputs": [
    {
     "data": {
      "text/plain": [
       "(11837, 36)"
      ]
     },
     "execution_count": 15,
     "metadata": {},
     "output_type": "execute_result"
    }
   ],
   "source": [
    "df.shape"
   ]
  },
  {
   "cell_type": "code",
   "execution_count": 41,
   "metadata": {},
   "outputs": [
    {
     "data": {
      "text/plain": [
       "href                  11837\n",
       "lat                   11837\n",
       "long                  11837\n",
       "Аварийность            8311\n",
       "Балкон/лоджия          7097\n",
       "Вид из окон            8517\n",
       "Высота потолков        6217\n",
       "Газоснабжение          2538\n",
       "Год постройки          8225\n",
       "Жилая                  9725\n",
       "Кухня                  9636\n",
       "Лифты                 11538\n",
       "Мусоропровод           5324\n",
       "Общая                 11837\n",
       "Отделка                1425\n",
       "Отопление              7595\n",
       "Парковка               5490\n",
       "Планировка             4527\n",
       "Площадь комнат         7790\n",
       "Подъезды               7934\n",
       "Построен               6311\n",
       "Ремонт                 8452\n",
       "Санузел               10432\n",
       "Срок сдачи             2141\n",
       "Строительная серия     2883\n",
       "Тип дома               8763\n",
       "Тип жилья             11837\n",
       "Тип перекрытий         7475\n",
       "Этаж                  11837\n",
       "адрес                 11837\n",
       "комментарий             154\n",
       "метро                 11837\n",
       "описание              11837\n",
       "тайтл                 11837\n",
       "цена                  11837\n",
       "dtype: int64"
      ]
     },
     "execution_count": 41,
     "metadata": {},
     "output_type": "execute_result"
    }
   ],
   "source": [
    "df.shape[0] - df.isnull().sum()"
   ]
  },
  {
   "cell_type": "code",
   "execution_count": 24,
   "metadata": {},
   "outputs": [
    {
     "data": {
      "image/png": "[encoded data removed]",
      "text/plain": [
       "<Figure size 432x288 with 1 Axes>"
      ]
     },
     "metadata": {
      "needs_background": "light"
     },
     "output_type": "display_data"
    }
   ],
   "source": [
    "df['цена'].hist(bins=50);"
   ]
  },
  {
   "cell_type": "code",
   "execution_count": 27,
   "metadata": {},
   "outputs": [
    {
     "data": {
      "text/html": [
       "<div>\n",
       "<style scoped>\n",
       "    .dataframe tbody tr th:only-of-type {\n",
       "        vertical-align: middle;\n",
       "    }\n",
       "\n",
       "    .dataframe tbody tr th {\n",
       "        vertical-align: top;\n",
       "    }\n",
       "\n",
       "    .dataframe thead th {\n",
       "        text-align: right;\n",
       "    }\n",
       "</style>\n",
       "<table border=\"1\" class=\"dataframe\">\n",
       "  <thead>\n",
       "    <tr style=\"text-align: right;\">\n",
       "      <th></th>\n",
       "      <th>href</th>\n",
       "      <th>lat</th>\n",
       "      <th>long</th>\n",
       "      <th>Аварийность</th>\n",
       "      <th>Балкон/лоджия</th>\n",
       "      <th>Вид из окон</th>\n",
       "      <th>Высота потолков</th>\n",
       "      <th>Газоснабжение</th>\n",
       "      <th>Год постройки</th>\n",
       "      <th>Жилая</th>\n",
       "      <th>...</th>\n",
       "      <th>Тип дома</th>\n",
       "      <th>Тип жилья</th>\n",
       "      <th>Тип перекрытий</th>\n",
       "      <th>Этаж</th>\n",
       "      <th>адрес</th>\n",
       "      <th>комментарий</th>\n",
       "      <th>метро</th>\n",
       "      <th>описание</th>\n",
       "      <th>тайтл</th>\n",
       "      <th>цена</th>\n",
       "    </tr>\n",
       "  </thead>\n",
       "  <tbody>\n",
       "    <tr>\n",
       "      <th>718</th>\n",
       "      <td>https://www.cian.ru/sale/flat/174282187/</td>\n",
       "      <td>55.760023</td>\n",
       "      <td>37.590776</td>\n",
       "      <td>Нет</td>\n",
       "      <td>4 балкона, 1 лоджия</td>\n",
       "      <td>На улицу и двор</td>\n",
       "      <td>NaN</td>\n",
       "      <td>NaN</td>\n",
       "      <td>2009</td>\n",
       "      <td>800 м²</td>\n",
       "      <td>...</td>\n",
       "      <td>Кирпичный</td>\n",
       "      <td>Вторичка Пентхаус</td>\n",
       "      <td>Смешанные</td>\n",
       "      <td>8 из 8</td>\n",
       "      <td>Москва, ЦАО, р-н Пресненский, Гранатный пер., 8С4</td>\n",
       "      <td>None</td>\n",
       "      <td>[Краснопресненская ⋅  14 мин. пешком, Тверская...</td>\n",
       "      <td>Объект   537011 Панорамный пентхаус, занимающи...</td>\n",
       "      <td>Многокомнатная квартира, 952 м²</td>\n",
       "      <td>2561513811</td>\n",
       "    </tr>\n",
       "    <tr>\n",
       "      <th>9285</th>\n",
       "      <td>https://www.cian.ru/sale/flat/211088596/</td>\n",
       "      <td>55.736468</td>\n",
       "      <td>37.598699</td>\n",
       "      <td>Нет</td>\n",
       "      <td>NaN</td>\n",
       "      <td>NaN</td>\n",
       "      <td>NaN</td>\n",
       "      <td>NaN</td>\n",
       "      <td>2009</td>\n",
       "      <td>NaN</td>\n",
       "      <td>...</td>\n",
       "      <td>Монолитный</td>\n",
       "      <td>Вторичка</td>\n",
       "      <td>NaN</td>\n",
       "      <td>4 из 4</td>\n",
       "      <td>Москва, ЦАО, р-н Хамовники, пер. Турчанинов, 2А</td>\n",
       "      <td>None</td>\n",
       "      <td>[Парк Культуры ⋅  2 мин. пешком]</td>\n",
       "      <td>Лот 433. Роскошный особняк в состоянии Shell a...</td>\n",
       "      <td>Многокомнатная квартира, 2 557,7 м²</td>\n",
       "      <td>2409048720</td>\n",
       "    </tr>\n",
       "  </tbody>\n",
       "</table>\n",
       "<p>2 rows × 36 columns</p>\n",
       "</div>"
      ],
      "text/plain": [
       "                                          href        lat       long  \\\n",
       "718   https://www.cian.ru/sale/flat/174282187/  55.760023  37.590776   \n",
       "9285  https://www.cian.ru/sale/flat/211088596/  55.736468  37.598699   \n",
       "\n",
       "     Аварийность        Балкон/лоджия      Вид из окон Высота потолков  \\\n",
       "718          Нет  4 балкона, 1 лоджия  На улицу и двор             NaN   \n",
       "9285         Нет                  NaN              NaN             NaN   \n",
       "\n",
       "     Газоснабжение Год постройки   Жилая  ...    Тип дома          Тип жилья  \\\n",
       "718            NaN          2009  800 м²  ...   Кирпичный  Вторичка Пентхаус   \n",
       "9285           NaN          2009     NaN  ...  Монолитный           Вторичка   \n",
       "\n",
       "     Тип перекрытий    Этаж  \\\n",
       "718       Смешанные  8 из 8   \n",
       "9285            NaN  4 из 4   \n",
       "\n",
       "                                                  адрес комментарий  \\\n",
       "718   Москва, ЦАО, р-н Пресненский, Гранатный пер., 8С4        None   \n",
       "9285    Москва, ЦАО, р-н Хамовники, пер. Турчанинов, 2А        None   \n",
       "\n",
       "                                                  метро  \\\n",
       "718   [Краснопресненская ⋅  14 мин. пешком, Тверская...   \n",
       "9285                   [Парк Культуры ⋅  2 мин. пешком]   \n",
       "\n",
       "                                               описание  \\\n",
       "718   Объект   537011 Панорамный пентхаус, занимающи...   \n",
       "9285  Лот 433. Роскошный особняк в состоянии Shell a...   \n",
       "\n",
       "                                    тайтл        цена  \n",
       "718       Многокомнатная квартира, 952 м²  2561513811  \n",
       "9285  Многокомнатная квартира, 2 557,7 м²  2409048720  \n",
       "\n",
       "[2 rows x 36 columns]"
      ]
     },
     "execution_count": 27,
     "metadata": {},
     "output_type": "execute_result"
    }
   ],
   "source": [
    "df[df['цена'] > 2e+9]"
   ]
  },
  {
   "cell_type": "code",
   "execution_count": 35,
   "metadata": {},
   "outputs": [
    {
     "data": {
      "image/png": "[encoded data removed]",
      "text/plain": [
       "<Figure size 432x288 with 1 Axes>"
      ]
     },
     "metadata": {
      "needs_background": "light"
     },
     "output_type": "display_data"
    }
   ],
   "source": [
    "import numpy as np\n",
    "df['цена'].apply(lambda w: np.log(w)).hist(bins=100);"
   ]
  },
  {
   "cell_type": "markdown",
   "metadata": {},
   "source": [
    "## Предобработка данных\n",
    "\n",
    "* Выкинуть переменную комнат в продажу"
   ]
  },
  {
   "cell_type": "code",
   "execution_count": 40,
   "metadata": {},
   "outputs": [],
   "source": [
    "df.drop('Комнат в продажу', axis=1, inplace=True)"
   ]
  },
  {
   "cell_type": "code",
   "execution_count": null,
   "metadata": {},
   "outputs": [],
   "source": []
  },
  {
   "cell_type": "code",
   "execution_count": null,
   "metadata": {},
   "outputs": [],
   "source": []
  },
  {
   "cell_type": "markdown",
   "metadata": {},
   "source": [
    "href                   0.000000\n",
    "lat                    0.000000\n",
    "long                   0.000000\n",
    "Аварийность           29.787953\n",
    "Балкон/лоджия         40.043930\n",
    "Вид из окон           28.047647\n",
    "Высота потолков       47.478246\n",
    "Газоснабжение         78.558756\n",
    "Год постройки         30.514488\n",
    "Жилая                 17.842359\n",
    "Кухня                 18.594238\n",
    "Лифты                  2.525978\n",
    "Мусоропровод          55.022387\n",
    "Общая                  0.000000\n",
    "Отделка               87.961477\n",
    "Отопление             35.836783\n",
    "Парковка              53.620005\n",
    "Планировка            61.755512\n",
    "Площадь комнат        34.189406\n",
    "Подъезды              32.972882\n",
    "Построен              46.684126\n",
    "Ремонт                28.596773\n",
    "Санузел               11.869562\n",
    "Срок сдачи            81.912647\n",
    "Строительная серия    75.644167\n",
    "Тип дома              25.969418\n",
    "Тип жилья              0.000000\n",
    "Тип перекрытий        36.850553\n",
    "Этаж                   0.000000\n",
    "адрес                  0.000000\n",
    "комментарий           98.698995\n",
    "метро                  0.000000\n",
    "описание               0.000000\n",
    "тайтл                  0.000000\n",
    "цена                   0.000000"
   ]
  },
  {
   "cell_type": "code",
   "execution_count": null,
   "metadata": {},
   "outputs": [],
   "source": []
  },
  {
   "cell_type": "code",
   "execution_count": null,
   "metadata": {},
   "outputs": [],
   "source": []
  },
  {
   "cell_type": "code",
   "execution_count": null,
   "metadata": {},
   "outputs": [],
   "source": []
  }
 ],
 "metadata": {
  "kernelspec": {
   "display_name": "Python 3",
   "language": "python",
   "name": "python3"
  },
  "language_info": {
   "codemirror_mode": {
    "name": "ipython",
    "version": 3
   },
   "file_extension": ".py",
   "mimetype": "text/x-python",
   "name": "python",
   "nbconvert_exporter": "python",
   "pygments_lexer": "ipython3",
   "version": "3.7.2"
  }
 },
 "nbformat": 4,
 "nbformat_minor": 2
}
